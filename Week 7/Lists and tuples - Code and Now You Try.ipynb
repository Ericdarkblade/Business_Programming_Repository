{
 "cells": [
  {
   "cell_type": "markdown",
   "metadata": {},
   "source": [
    "# Week 7 Code and Now You Try - Lists and Tuples\n",
    "## Create List, retrieve Items and loop through a list"
   ]
  },
  {
   "cell_type": "code",
   "execution_count": 14,
   "metadata": {},
   "outputs": [
    {
     "name": "stderr",
     "output_type": "stream",
     "text": [
      "C:\\Users\\ezmos\\AppData\\Local\\Temp\\ipykernel_16136\\2720815156.py:2: DeprecationWarning: Importing display from IPython.core.display is deprecated since IPython 7.14, please import from IPython display\n",
      "  from IPython.core.display import display, HTML\n"
     ]
    },
    {
     "data": {
      "text/html": [
       "<style>.container { width:100% !important; }</style>"
      ],
      "text/plain": [
       "<IPython.core.display.HTML object>"
      ]
     },
     "metadata": {},
     "output_type": "display_data"
    }
   ],
   "source": [
    "# This cell is for wide display and better use of screen space\n",
    "from IPython.core.display import display, HTML\n",
    "display(HTML(\"<style>.container { width:100% !important; }</style>\"))"
   ]
  },
  {
   "cell_type": "code",
   "execution_count": 15,
   "metadata": {},
   "outputs": [
    {
     "data": {
      "text/plain": [
       "[]"
      ]
     },
     "execution_count": 15,
     "metadata": {},
     "output_type": "execute_result"
    }
   ],
   "source": [
    "# Create an empty list and assign it to variable list0. Display it.\n",
    "list0 = []\n",
    "list0"
   ]
  },
  {
   "cell_type": "code",
   "execution_count": 16,
   "metadata": {},
   "outputs": [
    {
     "data": {
      "text/plain": [
       "[1, 2, 3]"
      ]
     },
     "execution_count": 16,
     "metadata": {},
     "output_type": "execute_result"
    }
   ],
   "source": [
    "# Create a list with values 1, 2, 3 and assign it to variable list1. Display it.\n",
    "list1 = [1, 2, 3]\n",
    "list1"
   ]
  },
  {
   "cell_type": "code",
   "execution_count": 17,
   "metadata": {},
   "outputs": [
    {
     "data": {
      "text/plain": [
       "['a', 'b', 'c']"
      ]
     },
     "execution_count": 17,
     "metadata": {},
     "output_type": "execute_result"
    }
   ],
   "source": [
    "# Create a list with string values 'a', 'b', 'c' and assign it to variable list2. Display it.\n",
    "list2 = \"a b c\".split(' ')\n",
    "list2"
   ]
  },
  {
   "cell_type": "code",
   "execution_count": 18,
   "metadata": {},
   "outputs": [
    {
     "data": {
      "text/plain": [
       "[1, 'a', 2.1, True]"
      ]
     },
     "execution_count": 18,
     "metadata": {},
     "output_type": "execute_result"
    }
   ],
   "source": [
    "# Create a list with values of different data types and assign it to variable list3. Display it.\n",
    "list3 = [1, 'a', 2.1, True]\n",
    "list3"
   ]
  },
  {
   "cell_type": "code",
   "execution_count": 19,
   "metadata": {},
   "outputs": [
    {
     "data": {
      "text/plain": [
       "[1, 2, 3, 4, 5]"
      ]
     },
     "execution_count": 19,
     "metadata": {},
     "output_type": "execute_result"
    }
   ],
   "source": [
    "# Use list() to convert a sequence of values to a list. Use range() to create an integer list of values 1, 2, 3, 4, 5\n",
    "list(range(1, 6))"
   ]
  },
  {
   "cell_type": "code",
   "execution_count": 20,
   "metadata": {},
   "outputs": [
    {
     "data": {
      "text/plain": [
       "[50, 45, 40, 35, 30, 25, 20, 15]"
      ]
     },
     "execution_count": 20,
     "metadata": {},
     "output_type": "execute_result"
    }
   ],
   "source": [
    "# Use list() and range() to create a list of integers [50, 45, 40, 35, 30, 25, 20, 15]\n",
    "list(range(50, 14, -5))"
   ]
  },
  {
   "cell_type": "code",
   "execution_count": 21,
   "metadata": {},
   "outputs": [
    {
     "data": {
      "text/plain": [
       "[1, 2, 3]"
      ]
     },
     "execution_count": 21,
     "metadata": {},
     "output_type": "execute_result"
    }
   ],
   "source": [
    "# Create a list with variables\n",
    "a, b, c = 1, 2, 3\n",
    "list_abc = [a, b, c]\n",
    "list_abc"
   ]
  },
  {
   "cell_type": "code",
   "execution_count": 22,
   "metadata": {},
   "outputs": [],
   "source": [
    "# Retrieve single element with list indexing\n",
    "num_list = [2, 4, 6, 8, 10]"
   ]
  },
  {
   "cell_type": "code",
   "execution_count": 23,
   "metadata": {},
   "outputs": [
    {
     "name": "stdout",
     "output_type": "stream",
     "text": [
      "2\n",
      "4\n",
      "10\n",
      "10\n",
      "2\n"
     ]
    }
   ],
   "source": [
    "# Get the elements in index 0, 1, 4, -1 and -5 respectively. You can use print() and display\n",
    "# all the values in the same cell or use 5 cels to get the result\n",
    "for i in [0, 1, 4, -1, -5]:\n",
    "    print(num_list[i])"
   ]
  },
  {
   "cell_type": "code",
   "execution_count": 24,
   "metadata": {},
   "outputs": [
    {
     "ename": "IndexError",
     "evalue": "list index out of range",
     "output_type": "error",
     "traceback": [
      "\u001b[1;31m---------------------------------------------------------------------------\u001b[0m",
      "\u001b[1;31mIndexError\u001b[0m                                Traceback (most recent call last)",
      "\u001b[1;32mc:\\Users\\ezmos\\OneDrive - Indiana University\\My Courses\\Fall 2023\\BUS-S 364\\Business_Programming_Repository\\Week 7\\Lists and tuples - Code and Now You Try.ipynb Cell 12\u001b[0m line \u001b[0;36m2\n\u001b[0;32m      <a href='vscode-notebook-cell:/c%3A/Users/ezmos/OneDrive%20-%20Indiana%20University/My%20Courses/Fall%202023/BUS-S%20364/Business_Programming_Repository/Week%207/Lists%20and%20tuples%20-%20Code%20and%20Now%20You%20Try.ipynb#X14sZmlsZQ%3D%3D?line=0'>1</a>\u001b[0m \u001b[39m# Get the value of index 5 from num_list. What do you get and why?\u001b[39;00m\n\u001b[1;32m----> <a href='vscode-notebook-cell:/c%3A/Users/ezmos/OneDrive%20-%20Indiana%20University/My%20Courses/Fall%202023/BUS-S%20364/Business_Programming_Repository/Week%207/Lists%20and%20tuples%20-%20Code%20and%20Now%20You%20Try.ipynb#X14sZmlsZQ%3D%3D?line=1'>2</a>\u001b[0m num_list[\u001b[39m5\u001b[39;49m]  \u001b[39m# This line should crash since it's out of bounds, yup out of bounds\u001b[39;00m\n",
      "\u001b[1;31mIndexError\u001b[0m: list index out of range"
     ]
    }
   ],
   "source": [
    "# Get the value of index 5 from num_list. What do you get and why?\n",
    "num_list[5]  # This line should crash since it's out of bounds, yup out of bounds"
   ]
  },
  {
   "cell_type": "code",
   "execution_count": null,
   "metadata": {},
   "outputs": [
    {
     "data": {
      "text/plain": [
       "5"
      ]
     },
     "execution_count": 19,
     "metadata": {},
     "output_type": "execute_result"
    }
   ],
   "source": [
    "# use len() function to get the length of num_list\n",
    "len(num_list)"
   ]
  },
  {
   "cell_type": "code",
   "execution_count": null,
   "metadata": {},
   "outputs": [
    {
     "data": {
      "text/plain": [
       "10"
      ]
     },
     "execution_count": 20,
     "metadata": {},
     "output_type": "execute_result"
    }
   ],
   "source": [
    "# Now use len() to get the largest index value and retrieve the element\n",
    "num_list[len(num_list)-1]"
   ]
  },
  {
   "cell_type": "code",
   "execution_count": null,
   "metadata": {},
   "outputs": [
    {
     "name": "stdout",
     "output_type": "stream",
     "text": [
      "[2, 4, 6]\n",
      "[2, 4, 6]\n"
     ]
    }
   ],
   "source": [
    "# Practice list slicing. Type out the code on the slide. The first 2 are typed out already.\n",
    "# Run each line and see what the result is.\n",
    "print(num_list[0:3])\n",
    "print(num_list[:3])\n",
    "\n",
    "# Understand the concept, but don't have the slides at this time."
   ]
  },
  {
   "cell_type": "code",
   "execution_count": null,
   "metadata": {},
   "outputs": [
    {
     "name": "stdout",
     "output_type": "stream",
     "text": [
      "0\n",
      "1\n",
      "4\n",
      "9\n",
      "16\n"
     ]
    }
   ],
   "source": [
    "# use for loop to iterate through a list [0, 1, 2, 3, 4] and print out the square of each value\n",
    "for value in [0, 1, 2, 3, 4]:\n",
    "    print(value**2)"
   ]
  },
  {
   "cell_type": "markdown",
   "metadata": {},
   "source": [
    "### Now You Try 1"
   ]
  },
  {
   "cell_type": "code",
   "execution_count": null,
   "metadata": {},
   "outputs": [
    {
     "data": {
      "text/plain": [
       "['IUB', 'IUPUI', 'IUS', 'IUK', 'IUE', 'IUSE', 'IUSB', 'IUN']"
      ]
     },
     "execution_count": 23,
     "metadata": {},
     "output_type": "execute_result"
    }
   ],
   "source": [
    "# Create a list with the following values: 'IUB', 'IUPUI', 'IUS', 'IUK', 'IUE', 'IUSE','IUSB', 'IUN'.\n",
    "# Save them in a list named 'campus'\n",
    "campus = ['IUB', 'IUPUI', 'IUS', 'IUK', 'IUE', 'IUSE', 'IUSB', 'IUN']\n",
    "campus"
   ]
  },
  {
   "cell_type": "code",
   "execution_count": null,
   "metadata": {},
   "outputs": [
    {
     "data": {
      "text/plain": [
       "'IUE'"
      ]
     },
     "execution_count": 24,
     "metadata": {},
     "output_type": "execute_result"
    }
   ],
   "source": [
    "# Use indexing to get IUE\n",
    "campus[4]"
   ]
  },
  {
   "cell_type": "code",
   "execution_count": null,
   "metadata": {},
   "outputs": [
    {
     "data": {
      "text/plain": [
       "'IUN'"
      ]
     },
     "execution_count": 25,
     "metadata": {},
     "output_type": "execute_result"
    }
   ],
   "source": [
    "# Use indexing and len() to get IUN\n",
    "campus[len(campus)-1]"
   ]
  },
  {
   "cell_type": "code",
   "execution_count": null,
   "metadata": {},
   "outputs": [
    {
     "data": {
      "text/plain": [
       "['IUB', 'IUS', 'IUE', 'IUSB']"
      ]
     },
     "execution_count": 26,
     "metadata": {},
     "output_type": "execute_result"
    }
   ],
   "source": [
    "# Use slicing to get every other campus so the result is ['IUB', 'IUS', 'IUE', 'IUSB']\n",
    "campus[::2]"
   ]
  },
  {
   "cell_type": "code",
   "execution_count": null,
   "metadata": {},
   "outputs": [
    {
     "data": {
      "text/plain": [
       "['IUS', 'IUK', 'IUE']"
      ]
     },
     "execution_count": 27,
     "metadata": {},
     "output_type": "execute_result"
    }
   ],
   "source": [
    "# Use slicing to get IUS, IUK and IUE so the result is ['IUS', 'IUK', 'IUE']\n",
    "campus[2:5]"
   ]
  },
  {
   "cell_type": "code",
   "execution_count": null,
   "metadata": {},
   "outputs": [
    {
     "data": {
      "text/plain": [
       "['IUN', 'IUSB', 'IUSE', 'IUE', 'IUK', 'IUS', 'IUPUI', 'IUB']"
      ]
     },
     "execution_count": 28,
     "metadata": {},
     "output_type": "execute_result"
    }
   ],
   "source": [
    "# Use slicing to reverse the order of the elements so the result is:\n",
    "# ['IUN', 'IUSB', 'IUSE', 'IUE', 'IUK', 'IUS', 'IUPUI', 'IUB']\n",
    "campus[::-1]"
   ]
  },
  {
   "cell_type": "code",
   "execution_count": null,
   "metadata": {},
   "outputs": [
    {
     "name": "stdout",
     "output_type": "stream",
     "text": [
      "Indiana University - IUB\n",
      "Indiana University - IUPUI\n",
      "Indiana University - IUS\n",
      "Indiana University - IUK\n",
      "Indiana University - IUE\n",
      "Indiana University - IUSE\n",
      "Indiana University - IUSB\n",
      "Indiana University - IUN\n"
     ]
    }
   ],
   "source": [
    "# Use for loop to iterate through the list to print out \"Indiana University -\" campus name\n",
    "# for example: \"Indiana University - IUB\", as the first printed line\n",
    "for campus_name in campus:\n",
    "    print(f\"Indiana University - {campus_name}\")"
   ]
  },
  {
   "cell_type": "code",
   "execution_count": null,
   "metadata": {},
   "outputs": [
    {
     "data": {
      "text/plain": [
       "[1, 3, 5, 7, 9, 11, 13, 15, 17, 19, 21, 23, 25]"
      ]
     },
     "execution_count": 31,
     "metadata": {},
     "output_type": "execute_result"
    }
   ],
   "source": [
    "# Create list of positive odd numbers less than 26 with range() and list()\n",
    "# The result should be: [1, 3, 5, 7, 9, 11, 13, 15, 17, 19, 21, 23, 25]\n",
    "\n",
    "list(range(1, 26, 2))"
   ]
  },
  {
   "cell_type": "markdown",
   "metadata": {},
   "source": [
    "## Insert, change and remove list items (Lists are mutable)"
   ]
  },
  {
   "cell_type": "code",
   "execution_count": null,
   "metadata": {},
   "outputs": [
    {
     "data": {
      "text/plain": [
       "[1, 4, 6, 8, 9]"
      ]
     },
     "execution_count": 66,
     "metadata": {},
     "output_type": "execute_result"
    }
   ],
   "source": [
    "# Redeclare the list. Change its first item to be 1 and last item to be 9\n",
    "# Display the list to conform\n",
    "num_list = [2, 4, 6, 8, 10]\n",
    "num_list = [1, 4, 6, 8, 9]\n",
    "num_list"
   ]
  },
  {
   "cell_type": "code",
   "execution_count": null,
   "metadata": {},
   "outputs": [
    {
     "data": {
      "text/plain": [
       "[1, 100, 8, 9]"
      ]
     },
     "execution_count": 67,
     "metadata": {},
     "output_type": "execute_result"
    }
   ],
   "source": [
    "# Use slicing to replace a segment of values into one element\n",
    "num_list[1:3] = [100]\n",
    "num_list"
   ]
  },
  {
   "cell_type": "code",
   "execution_count": null,
   "metadata": {},
   "outputs": [
    {
     "data": {
      "text/plain": [
       "[2, 100, 200, 8, 10]"
      ]
     },
     "execution_count": 68,
     "metadata": {},
     "output_type": "execute_result"
    }
   ],
   "source": [
    "# Use slicing to update multiple values\n",
    "num_list = [2, 4, 6, 8, 10]  # reset the list\n",
    "num_list[1:3] = [100, 200]\n",
    "num_list"
   ]
  },
  {
   "cell_type": "code",
   "execution_count": null,
   "metadata": {},
   "outputs": [
    {
     "data": {
      "text/plain": [
       "[2, 100, 200, 300, 400, 8, 10]"
      ]
     },
     "execution_count": 93,
     "metadata": {},
     "output_type": "execute_result"
    }
   ],
   "source": [
    "# Use slicing to update multiple values and expand the list\n",
    "num_list = [2, 4, 6, 8, 10]  # reset the list\n",
    "num_list[1:3] = [100, 200, 300, 400]\n",
    "num_list"
   ]
  },
  {
   "cell_type": "code",
   "execution_count": null,
   "metadata": {},
   "outputs": [
    {
     "data": {
      "text/plain": [
       "[2, 100, 200, 300, 400, 8, 10, 11]"
      ]
     },
     "execution_count": 94,
     "metadata": {},
     "output_type": "execute_result"
    }
   ],
   "source": [
    "# Add an element number 11 to the end of the list using append(). Don't care the index of the new value\n",
    "num_list.append(11)\n",
    "num_list"
   ]
  },
  {
   "cell_type": "code",
   "execution_count": null,
   "metadata": {},
   "outputs": [
    {
     "data": {
      "text/plain": [
       "[2, 100, 200, -1, 300, 400, 8, 10, 11]"
      ]
     },
     "execution_count": 95,
     "metadata": {},
     "output_type": "execute_result"
    }
   ],
   "source": [
    "# Insert an element value -1 to a specific index value 3 using insert(index, new_element)\n",
    "num_list.insert(3, -1)\n",
    "num_list"
   ]
  },
  {
   "cell_type": "code",
   "execution_count": null,
   "metadata": {},
   "outputs": [
    {
     "data": {
      "text/plain": [
       "[2, 100, 200, -1, 300, 400, 8, 10, 11, 1000]"
      ]
     },
     "execution_count": 96,
     "metadata": {},
     "output_type": "execute_result"
    }
   ],
   "source": [
    "# When the index is out of range, Python does not throw error the item is inserted to either end of the list\n",
    "# Insert value 1000 to index value of 100, show the content of the list\n",
    "\n",
    "num_list.insert(100, 1000)\n",
    "num_list"
   ]
  },
  {
   "cell_type": "code",
   "execution_count": null,
   "metadata": {},
   "outputs": [
    {
     "data": {
      "text/plain": [
       "[-1000, 2, 100, 200, -1, 300, 400, 8, 10, 11, 1000]"
      ]
     },
     "execution_count": 97,
     "metadata": {},
     "output_type": "execute_result"
    }
   ],
   "source": [
    "# Insert value -1000 to index value of -30, show the content of the list\n",
    "num_list.insert(-30, -1000)\n",
    "num_list"
   ]
  },
  {
   "cell_type": "markdown",
   "metadata": {},
   "source": [
    "Question: how are the 2 ways of adding elements to a Python list differ?\n",
    "- Note the arguments need to be passed in\n",
    "- Note the return value"
   ]
  },
  {
   "cell_type": "code",
   "execution_count": 29,
   "metadata": {},
   "outputs": [],
   "source": [
    "# Use remove() to remove the first occurance of an item. The item is the argument\n",
    "# Remove the element of -1 from num_list. Assign the returned value to return_remove\n",
    "# Print return_remove and display num_list\n",
    "num_list = [-1000, 2, 100, 200, -1, 300, 400, 8, 10, 11, 1000]  # Quick reset\n",
    "return_remove = num_list.remove(-1)\n",
    "return_remove"
   ]
  },
  {
   "cell_type": "code",
   "execution_count": 30,
   "metadata": {},
   "outputs": [
    {
     "ename": "ValueError",
     "evalue": "list.remove(x): x not in list",
     "output_type": "error",
     "traceback": [
      "\u001b[1;31m---------------------------------------------------------------------------\u001b[0m",
      "\u001b[1;31mValueError\u001b[0m                                Traceback (most recent call last)",
      "\u001b[1;32mc:\\Users\\ezmos\\OneDrive - Indiana University\\My Courses\\Fall 2023\\BUS-S 364\\Business_Programming_Repository\\Week 7\\Lists and tuples - Code and Now You Try.ipynb Cell 37\u001b[0m line \u001b[0;36m2\n\u001b[0;32m      <a href='vscode-notebook-cell:/c%3A/Users/ezmos/OneDrive%20-%20Indiana%20University/My%20Courses/Fall%202023/BUS-S%20364/Business_Programming_Repository/Week%207/Lists%20and%20tuples%20-%20Code%20and%20Now%20You%20Try.ipynb#X51sZmlsZQ%3D%3D?line=0'>1</a>\u001b[0m \u001b[39m# Now that -1 is removed, try to remove it again and see what happens\u001b[39;00m\n\u001b[1;32m----> <a href='vscode-notebook-cell:/c%3A/Users/ezmos/OneDrive%20-%20Indiana%20University/My%20Courses/Fall%202023/BUS-S%20364/Business_Programming_Repository/Week%207/Lists%20and%20tuples%20-%20Code%20and%20Now%20You%20Try.ipynb#X51sZmlsZQ%3D%3D?line=1'>2</a>\u001b[0m return_remove \u001b[39m=\u001b[39m num_list\u001b[39m.\u001b[39;49mremove(\u001b[39m-\u001b[39;49m\u001b[39m1\u001b[39;49m)\n\u001b[0;32m      <a href='vscode-notebook-cell:/c%3A/Users/ezmos/OneDrive%20-%20Indiana%20University/My%20Courses/Fall%202023/BUS-S%20364/Business_Programming_Repository/Week%207/Lists%20and%20tuples%20-%20Code%20and%20Now%20You%20Try.ipynb#X51sZmlsZQ%3D%3D?line=2'>3</a>\u001b[0m return_remove\n",
      "\u001b[1;31mValueError\u001b[0m: list.remove(x): x not in list"
     ]
    }
   ],
   "source": [
    "# Now that -1 is removed, try to remove it again and see what happens\n",
    "return_remove = num_list.remove(-1)\n",
    "return_remove"
   ]
  },
  {
   "cell_type": "code",
   "execution_count": 31,
   "metadata": {},
   "outputs": [
    {
     "data": {
      "text/plain": [
       "1000"
      ]
     },
     "execution_count": 31,
     "metadata": {},
     "output_type": "execute_result"
    }
   ],
   "source": [
    "# To remove an element at a particular index, regardless of its value, use pop()\n",
    "# Let's remove an element at index -1, save the return value to variable last_ele\n",
    "# Print out last_ele and the list\n",
    "\n",
    "last_ele = num_list.pop(-1)\n",
    "last_ele"
   ]
  },
  {
   "cell_type": "code",
   "execution_count": 32,
   "metadata": {},
   "outputs": [
    {
     "data": {
      "text/plain": [
       "11"
      ]
     },
     "execution_count": 32,
     "metadata": {},
     "output_type": "execute_result"
    }
   ],
   "source": [
    "# Use pop() without any argument to remove the value at the end of a list\n",
    "# Print out the popped element and the list\n",
    "num_list.pop()"
   ]
  },
  {
   "cell_type": "code",
   "execution_count": 33,
   "metadata": {},
   "outputs": [
    {
     "ename": "IndexError",
     "evalue": "pop index out of range",
     "output_type": "error",
     "traceback": [
      "\u001b[1;31m---------------------------------------------------------------------------\u001b[0m",
      "\u001b[1;31mIndexError\u001b[0m                                Traceback (most recent call last)",
      "\u001b[1;32mc:\\Users\\ezmos\\OneDrive - Indiana University\\My Courses\\Fall 2023\\BUS-S 364\\Business_Programming_Repository\\Week 7\\Lists and tuples - Code and Now You Try.ipynb Cell 40\u001b[0m line \u001b[0;36m2\n\u001b[0;32m      <a href='vscode-notebook-cell:/c%3A/Users/ezmos/OneDrive%20-%20Indiana%20University/My%20Courses/Fall%202023/BUS-S%20364/Business_Programming_Repository/Week%207/Lists%20and%20tuples%20-%20Code%20and%20Now%20You%20Try.ipynb#X54sZmlsZQ%3D%3D?line=0'>1</a>\u001b[0m \u001b[39m# Try to pop the element with index 100 in num_list. What happens?\u001b[39;00m\n\u001b[1;32m----> <a href='vscode-notebook-cell:/c%3A/Users/ezmos/OneDrive%20-%20Indiana%20University/My%20Courses/Fall%202023/BUS-S%20364/Business_Programming_Repository/Week%207/Lists%20and%20tuples%20-%20Code%20and%20Now%20You%20Try.ipynb#X54sZmlsZQ%3D%3D?line=1'>2</a>\u001b[0m num_list\u001b[39m.\u001b[39;49mpop(\u001b[39m100\u001b[39;49m)\n",
      "\u001b[1;31mIndexError\u001b[0m: pop index out of range"
     ]
    }
   ],
   "source": [
    "# Try to pop the element with index 100 in num_list. What happens?\n",
    "num_list.pop(100)"
   ]
  },
  {
   "cell_type": "code",
   "execution_count": 35,
   "metadata": {},
   "outputs": [
    {
     "data": {
      "text/plain": [
       "[100, 200, 300, 400, 8, 10]"
      ]
     },
     "execution_count": 35,
     "metadata": {},
     "output_type": "execute_result"
    }
   ],
   "source": [
    "# Use del[] to remove an item at a specific index. Do so with the index 0\n",
    "del num_list[0]\n",
    "num_list"
   ]
  },
  {
   "cell_type": "code",
   "execution_count": 36,
   "metadata": {},
   "outputs": [
    {
     "ename": "IndexError",
     "evalue": "list assignment index out of range",
     "output_type": "error",
     "traceback": [
      "\u001b[1;31m---------------------------------------------------------------------------\u001b[0m",
      "\u001b[1;31mIndexError\u001b[0m                                Traceback (most recent call last)",
      "\u001b[1;32mc:\\Users\\ezmos\\OneDrive - Indiana University\\My Courses\\Fall 2023\\BUS-S 364\\Business_Programming_Repository\\Week 7\\Lists and tuples - Code and Now You Try.ipynb Cell 42\u001b[0m line \u001b[0;36m2\n\u001b[0;32m      <a href='vscode-notebook-cell:/c%3A/Users/ezmos/OneDrive%20-%20Indiana%20University/My%20Courses/Fall%202023/BUS-S%20364/Business_Programming_Repository/Week%207/Lists%20and%20tuples%20-%20Code%20and%20Now%20You%20Try.ipynb#X56sZmlsZQ%3D%3D?line=0'>1</a>\u001b[0m \u001b[39m# Note what happens when using del with an nonexisting index. Try 55 as the index\u001b[39;00m\n\u001b[1;32m----> <a href='vscode-notebook-cell:/c%3A/Users/ezmos/OneDrive%20-%20Indiana%20University/My%20Courses/Fall%202023/BUS-S%20364/Business_Programming_Repository/Week%207/Lists%20and%20tuples%20-%20Code%20and%20Now%20You%20Try.ipynb#X56sZmlsZQ%3D%3D?line=1'>2</a>\u001b[0m \u001b[39mdel\u001b[39;00m num_list[\u001b[39m55\u001b[39;49m]\n",
      "\u001b[1;31mIndexError\u001b[0m: list assignment index out of range"
     ]
    }
   ],
   "source": [
    "# Note what happens when using del with an nonexisting index. Try 55 as the index\n",
    "del num_list[55]"
   ]
  },
  {
   "cell_type": "markdown",
   "metadata": {},
   "source": [
    "Question: how are the 3 ways of removing elements from a Python list differ?\n",
    "- Note the arguments need to be passed in\n",
    "- Note the return value"
   ]
  },
  {
   "cell_type": "markdown",
   "metadata": {},
   "source": [
    "### Form new lists with concatenation and repetition"
   ]
  },
  {
   "cell_type": "code",
   "execution_count": 37,
   "metadata": {},
   "outputs": [
    {
     "data": {
      "text/plain": [
       "[1, 3, 5, 7, 9, 2, 4, 6, 8, 10]"
      ]
     },
     "execution_count": 37,
     "metadata": {},
     "output_type": "execute_result"
    }
   ],
   "source": [
    "# Declare 2 lists\n",
    "num_list_1 = [1, 3, 5, 7, 9]\n",
    "num_list_2 = [2, 4, 6, 8, 10]\n",
    "# concatenation the 2 lists using operator: +. Save the result to variable num_list\n",
    "num_list = num_list_1 + num_list_2\n",
    "\n",
    "# Display num_list\n",
    "num_list"
   ]
  },
  {
   "cell_type": "code",
   "execution_count": 38,
   "metadata": {},
   "outputs": [
    {
     "data": {
      "text/plain": [
       "[1, 3, 5, 7, 9, 2, 4, 6, 8, 10]"
      ]
     },
     "execution_count": 38,
     "metadata": {},
     "output_type": "execute_result"
    }
   ],
   "source": [
    "# Augement operators work as well. Use += to add the elements of num_list_2 to num_list_1\n",
    "# Display num_list_1\n",
    "num_list_1 += num_list_2\n",
    "num_list_1"
   ]
  },
  {
   "cell_type": "code",
   "execution_count": 39,
   "metadata": {},
   "outputs": [
    {
     "name": "stdout",
     "output_type": "stream",
     "text": [
      "[0, 0, 0, 0, 0, 0, 0, 0, 0, 0]\n"
     ]
    }
   ],
   "source": [
    "# Use repetition operator: * to quickly create a list that contains 10 0s\n",
    "ten_zeros = [0] * 10\n",
    "print(ten_zeros)"
   ]
  },
  {
   "cell_type": "code",
   "execution_count": 40,
   "metadata": {},
   "outputs": [
    {
     "name": "stdout",
     "output_type": "stream",
     "text": [
      "['A', 'A', 'A', 'A', 'A', 'A', 'A', 'A', 'A', 'A', 'A', 'A', 'A', 'A', 'A']\n"
     ]
    }
   ],
   "source": [
    "# Create a list that contains 15 'A's using *\n",
    "fifteen_As = ['A'] * 15\n",
    "print(fifteen_As)"
   ]
  },
  {
   "cell_type": "code",
   "execution_count": 41,
   "metadata": {},
   "outputs": [
    {
     "data": {
      "text/plain": [
       "'Singing a song: Happy birthday!'"
      ]
     },
     "execution_count": 41,
     "metadata": {},
     "output_type": "execute_result"
    }
   ],
   "source": [
    "# The concatenation and repetition operators work for strings as well\n",
    "# Concatenate the following 2 strings with a space in between and print out the result\n",
    "string1 = 'Singing a song:'\n",
    "string2 = 'Happy birthday!'\n",
    "\n",
    "string1 + ' ' + string2"
   ]
  },
  {
   "cell_type": "code",
   "execution_count": 42,
   "metadata": {},
   "outputs": [
    {
     "data": {
      "text/plain": [
       "'Blah Blah Blah Blah Blah Blah Blah Blah Blah Blah '"
      ]
     },
     "execution_count": 42,
     "metadata": {},
     "output_type": "execute_result"
    }
   ],
   "source": [
    "# Create a string that repeat blah_str 10 times. Add a space in between the repetition\n",
    "blah_str = 'Blah'\n",
    "(blah_str + ' ') * 10"
   ]
  },
  {
   "cell_type": "markdown",
   "metadata": {},
   "source": [
    "### Other list operations "
   ]
  },
  {
   "cell_type": "code",
   "execution_count": 43,
   "metadata": {},
   "outputs": [
    {
     "name": "stdout",
     "output_type": "stream",
     "text": [
      "Yes\n"
     ]
    }
   ],
   "source": [
    "# Use in and not in to check whether an item is in a list\n",
    "# The result will be True or False\n",
    "num_list = [2, 4, 6, 8, 10]\n",
    "if 2 in num_list:\n",
    "    print('Yes')\n",
    "elif 2 not in num_list:\n",
    "    print('No')"
   ]
  },
  {
   "cell_type": "code",
   "execution_count": 44,
   "metadata": {},
   "outputs": [
    {
     "name": "stdout",
     "output_type": "stream",
     "text": [
      "False\n"
     ]
    }
   ],
   "source": [
    "# Check if variable a is in the list\n",
    "a = 1\n",
    "print(a in num_list)"
   ]
  },
  {
   "cell_type": "code",
   "execution_count": 45,
   "metadata": {},
   "outputs": [
    {
     "data": {
      "text/plain": [
       "3"
      ]
     },
     "execution_count": 45,
     "metadata": {},
     "output_type": "execute_result"
    }
   ],
   "source": [
    "# Use index() to get the index of an element. Note the argument is the element to be checked.\n",
    "# The index of he first matching item will be returned\n",
    "# If the item does not exists, an error will be raised\n",
    "# Get the index of element 8:\n",
    "\n",
    "num_list.index(8)"
   ]
  },
  {
   "cell_type": "code",
   "execution_count": 48,
   "metadata": {},
   "outputs": [
    {
     "ename": "ValueError",
     "evalue": "100 is not in list",
     "output_type": "error",
     "traceback": [
      "\u001b[1;31m---------------------------------------------------------------------------\u001b[0m",
      "\u001b[1;31mValueError\u001b[0m                                Traceback (most recent call last)",
      "\u001b[1;32mc:\\Users\\ezmos\\OneDrive - Indiana University\\My Courses\\Fall 2023\\BUS-S 364\\Business_Programming_Repository\\Week 7\\Lists and tuples - Code and Now You Try.ipynb Cell 55\u001b[0m line \u001b[0;36m2\n\u001b[0;32m      <a href='vscode-notebook-cell:/c%3A/Users/ezmos/OneDrive%20-%20Indiana%20University/My%20Courses/Fall%202023/BUS-S%20364/Business_Programming_Repository/Week%207/Lists%20and%20tuples%20-%20Code%20and%20Now%20You%20Try.ipynb#Y105sZmlsZQ%3D%3D?line=0'>1</a>\u001b[0m \u001b[39m# Get the index of element 100\u001b[39;00m\n\u001b[1;32m----> <a href='vscode-notebook-cell:/c%3A/Users/ezmos/OneDrive%20-%20Indiana%20University/My%20Courses/Fall%202023/BUS-S%20364/Business_Programming_Repository/Week%207/Lists%20and%20tuples%20-%20Code%20and%20Now%20You%20Try.ipynb#Y105sZmlsZQ%3D%3D?line=1'>2</a>\u001b[0m num_list\u001b[39m.\u001b[39;49mindex(\u001b[39m100\u001b[39;49m)\n",
      "\u001b[1;31mValueError\u001b[0m: 100 is not in list"
     ]
    }
   ],
   "source": [
    "# Get the index of element 100\n",
    "num_list.index(100)"
   ]
  },
  {
   "cell_type": "code",
   "execution_count": 54,
   "metadata": {},
   "outputs": [
    {
     "data": {
      "text/plain": [
       "[2, 4, 6, 8, 10, -5]"
      ]
     },
     "execution_count": 54,
     "metadata": {},
     "output_type": "execute_result"
    }
   ],
   "source": [
    "# Append -5 to the end of num_list. Display the elements in the list\n",
    "num_list += [-5]\n",
    "num_list"
   ]
  },
  {
   "cell_type": "code",
   "execution_count": 60,
   "metadata": {},
   "outputs": [
    {
     "data": {
      "text/plain": [
       "[-5, 2, 4, 6, 8, 10]"
      ]
     },
     "execution_count": 60,
     "metadata": {},
     "output_type": "execute_result"
    }
   ],
   "source": [
    "# sort() sort the items in num_list in ascending order and display the elements in the list\n",
    "num_list.sort()\n",
    "num_list"
   ]
  },
  {
   "cell_type": "code",
   "execution_count": 61,
   "metadata": {},
   "outputs": [
    {
     "data": {
      "text/plain": [
       "[10, 8, 6, 4, 2, -5]"
      ]
     },
     "execution_count": 61,
     "metadata": {},
     "output_type": "execute_result"
    }
   ],
   "source": [
    "# reverse() reverse the order of the items in num_list. Display the elements in the list\n",
    "num_list.reverse()\n",
    "num_list"
   ]
  },
  {
   "cell_type": "markdown",
   "metadata": {},
   "source": [
    "Question: What value does sort() and reverse() of list return respectively?\n",
    "\n",
    "None"
   ]
  },
  {
   "cell_type": "code",
   "execution_count": 63,
   "metadata": {},
   "outputs": [
    {
     "data": {
      "text/plain": [
       "(-5, 10)"
      ]
     },
     "execution_count": 63,
     "metadata": {},
     "output_type": "execute_result"
    }
   ],
   "source": [
    "# Get the min and max values num_list and print the result\n",
    "min(num_list), max(num_list)"
   ]
  },
  {
   "cell_type": "markdown",
   "metadata": {},
   "source": [
    "Question: What value does min() and max() of list return respectively?\n",
    "\n",
    "min value and max value"
   ]
  },
  {
   "cell_type": "code",
   "execution_count": 64,
   "metadata": {},
   "outputs": [
    {
     "data": {
      "text/plain": [
       "[]"
      ]
     },
     "execution_count": 64,
     "metadata": {},
     "output_type": "execute_result"
    }
   ],
   "source": [
    "# Use clear to remove all elements in a list. Do so for num_list and display it.\n",
    "num_list.clear()\n",
    "num_list"
   ]
  },
  {
   "cell_type": "code",
   "execution_count": 65,
   "metadata": {},
   "outputs": [
    {
     "data": {
      "text/plain": [
       "[0, 1, 2, 3, 4]"
      ]
     },
     "execution_count": 65,
     "metadata": {},
     "output_type": "execute_result"
    }
   ],
   "source": [
    "# Declare list1\n",
    "list1 = [0, 1, 2, 3, 4]\n",
    "# assign list1 to list2.\n",
    "list2 = list1\n",
    "# Display list2\n",
    "list2\n",
    "\n",
    "# Now, do we have 2 variables? do we have 2 lists?\n",
    "# Nope it's a reference"
   ]
  },
  {
   "cell_type": "code",
   "execution_count": 66,
   "metadata": {},
   "outputs": [
    {
     "name": "stdout",
     "output_type": "stream",
     "text": [
      "[-1, 1, 2, 3, 4]\n",
      "[-1, 1, 2, 3, 4]\n"
     ]
    }
   ],
   "source": [
    "# Check whether we have 2 lists by changing the first element of list2 to be -1\n",
    "# Print out both list1 and list2. Now do you think you have 1 or 2 lists?\n",
    "\n",
    "list2[0] = -1\n",
    "print(list1)\n",
    "print(list2)"
   ]
  },
  {
   "cell_type": "code",
   "execution_count": 67,
   "metadata": {},
   "outputs": [
    {
     "data": {
      "text/plain": [
       "[-1, 1, 2, 3, 4]"
      ]
     },
     "execution_count": 67,
     "metadata": {},
     "output_type": "execute_result"
    }
   ],
   "source": [
    "# Use the copy() to copy list1 and store the result to list3\n",
    "list3 = list1.copy()\n",
    "# Print out list3\n",
    "list3"
   ]
  },
  {
   "cell_type": "code",
   "execution_count": 69,
   "metadata": {},
   "outputs": [
    {
     "name": "stdout",
     "output_type": "stream",
     "text": [
      "[0, 1, 2, 3, 4]\n",
      "[0, 1, 2, 3, 4]\n",
      "[-1, 1, 2, 3, 4]\n"
     ]
    }
   ],
   "source": [
    "# Now assign 0 to the first element of list1. Print out list1, list2 and list3\n",
    "# Compare them. What differences do you see? Does this make sense?\n",
    "list1[0] = 0\n",
    "\n",
    "print(list1)\n",
    "print(list2)\n",
    "print(list3)\n",
    "\n",
    "# Yes this makes sense, love me some more data"
   ]
  },
  {
   "cell_type": "code",
   "execution_count": 70,
   "metadata": {},
   "outputs": [
    {
     "name": "stdout",
     "output_type": "stream",
     "text": [
      "[0, 1, 2, 3, 4]\n",
      "[-1, 1, 2, 3, 4]\n",
      "[0, 1, 2, 3, 4]\n"
     ]
    }
   ],
   "source": [
    "# Other ways to copy a list\n",
    "list1 = [0, 1, 2, 3, 4]\n",
    "list2 = []\n",
    "for item in list1:\n",
    "    list2.append(item)\n",
    "print(list2)\n",
    "list2[0] = -1\n",
    "print(list2)\n",
    "print(list1)"
   ]
  },
  {
   "cell_type": "code",
   "execution_count": 71,
   "metadata": {},
   "outputs": [
    {
     "name": "stdout",
     "output_type": "stream",
     "text": [
      "[0, 1, 2, 3, 4]\n",
      "[-1, 1, 2, 3, 4]\n",
      "[0, 1, 2, 3, 4]\n"
     ]
    }
   ],
   "source": [
    "list1 = [0, 1, 2, 3, 4]\n",
    "list2 = [] + list1\n",
    "print(list2)\n",
    "list2[0] = -1\n",
    "print(list2)\n",
    "print(list1)"
   ]
  },
  {
   "cell_type": "markdown",
   "metadata": {},
   "source": [
    "### Now You Try 2"
   ]
  },
  {
   "cell_type": "code",
   "execution_count": 73,
   "metadata": {},
   "outputs": [
    {
     "data": {
      "text/plain": [
       "['Amy', 'John', 'Mia', 'Kevin']"
      ]
     },
     "execution_count": 73,
     "metadata": {},
     "output_type": "execute_result"
    }
   ],
   "source": [
    "# Create a list with the variable name 'names': Amy, John, Mia, Kevin\n",
    "# Display names to be sure it is created properly\n",
    "names = 'Amy, John, Mia, Kevin'.split(', ')\n",
    "names"
   ]
  },
  {
   "cell_type": "code",
   "execution_count": 74,
   "metadata": {},
   "outputs": [
    {
     "data": {
      "text/plain": [
       "['Ella', 'John', 'Mia', 'Kevin']"
      ]
     },
     "execution_count": 74,
     "metadata": {},
     "output_type": "execute_result"
    }
   ],
   "source": [
    "# Change the first name to Ella, print the list to confirm\n",
    "names[0] = 'Ella'\n",
    "names"
   ]
  },
  {
   "cell_type": "code",
   "execution_count": 75,
   "metadata": {},
   "outputs": [
    {
     "data": {
      "text/plain": [
       "['Ella', 'John', 'Mia', 'Kevin', 'Emily', 'Kale']"
      ]
     },
     "execution_count": 75,
     "metadata": {},
     "output_type": "execute_result"
    }
   ],
   "source": [
    "# Add Emily and Kale by appending them to the end of the list. Print the list\n",
    "names += ['Emily', 'Kale']\n",
    "names"
   ]
  },
  {
   "cell_type": "code",
   "execution_count": 76,
   "metadata": {},
   "outputs": [
    {
     "data": {
      "text/plain": [
       "['Ella', 'John', 'Mia', 'Kevin', 'Emily', 'Kale', 'Ruby', 'Drew']"
      ]
     },
     "execution_count": 76,
     "metadata": {},
     "output_type": "execute_result"
    }
   ],
   "source": [
    "# Use list concatenation to add ['Ruby', \"Drew\"] to the end of names. Display the result\n",
    "# Don't store the result to names. Just display the result of concatenation\n",
    "\n",
    "names + ['Ruby', \"Drew\"]"
   ]
  },
  {
   "cell_type": "code",
   "execution_count": 77,
   "metadata": {},
   "outputs": [],
   "source": [
    "# Remove Kevin using remove(). Print the list\n",
    "names.remove('Kevin')"
   ]
  },
  {
   "cell_type": "code",
   "execution_count": 80,
   "metadata": {},
   "outputs": [
    {
     "data": {
      "text/plain": [
       "['Ella', 'John', 'Mia', 'Emily', 'Adam', 'Adam', 'Kale']"
      ]
     },
     "execution_count": 80,
     "metadata": {},
     "output_type": "execute_result"
    }
   ],
   "source": [
    "# Insert Adam as the 4th name using insert(). Print the list\n",
    "names.insert(4, 'Adam')\n",
    "names"
   ]
  },
  {
   "cell_type": "code",
   "execution_count": 84,
   "metadata": {},
   "outputs": [
    {
     "data": {
      "text/plain": [
       "['Mia', 'Kale', 'John', 'Emily', 'Ella', 'Adam', 'Adam']"
      ]
     },
     "execution_count": 84,
     "metadata": {},
     "output_type": "execute_result"
    }
   ],
   "source": [
    "# Sort the list in reversed order and Print it\n",
    "names.sort(reverse=True)\n",
    "names"
   ]
  },
  {
   "cell_type": "code",
   "execution_count": 85,
   "metadata": {},
   "outputs": [
    {
     "data": {
      "text/plain": [
       "'Cannot find Dylan'"
      ]
     },
     "execution_count": 85,
     "metadata": {},
     "output_type": "execute_result"
    }
   ],
   "source": [
    "# Check if 'Dylan' is in the list, if so print \"found!\" otherwise 'Cannot find Dylan'\n",
    "'found!' if 'Dylan' in names else 'Cannot find Dylan' #I love ternary operators"
   ]
  },
  {
   "cell_type": "markdown",
   "metadata": {},
   "source": [
    "### List and string"
   ]
  },
  {
   "cell_type": "code",
   "execution_count": 86,
   "metadata": {},
   "outputs": [
    {
     "data": {
      "text/plain": [
       "['The', 'Road', 'Not', 'Taken']"
      ]
     },
     "execution_count": 86,
     "metadata": {},
     "output_type": "execute_result"
    }
   ],
   "source": [
    "# Using split() to turn the string into a list of words using space as the seperator\n",
    "#HEHE I've been doing this.\n",
    "poem = 'The Road Not Taken'.split()\n",
    "poem"
   ]
  },
  {
   "cell_type": "code",
   "execution_count": 87,
   "metadata": {},
   "outputs": [
    {
     "data": {
      "text/plain": [
       "['Two roads diverged in a yellow wood',\n",
       " ' And sorry I could not travel both',\n",
       " ' And be one traveler',\n",
       " ' long I stoodAnd looked down one as far as I could',\n",
       " ' To where it bent in the undergrowth;']"
      ]
     },
     "execution_count": 87,
     "metadata": {},
     "output_type": "execute_result"
    }
   ],
   "source": [
    "# Using split() to turn the string into a list of sentences using comma as the seperator\n",
    "poem2 = 'Two roads diverged in a yellow wood, And sorry I could not travel both, And be one traveler, long I stood'\\\n",
    "    'And looked down one as far as I could, To where it bent in the undergrowth;'.split(\n",
    "        ',')\n",
    "poem2"
   ]
  },
  {
   "cell_type": "code",
   "execution_count": 88,
   "metadata": {},
   "outputs": [
    {
     "data": {
      "text/plain": [
       "'A good book is a wonderful world'"
      ]
     },
     "execution_count": 88,
     "metadata": {},
     "output_type": "execute_result"
    }
   ],
   "source": [
    "# Join the words in the list into a sentence. Note the the delimiter should be a space.\n",
    "word_list = ['A', 'good', 'book', 'is', 'a', 'wonderful', 'world']\n",
    "' '.join(word_list)"
   ]
  },
  {
   "cell_type": "code",
   "execution_count": 89,
   "metadata": {},
   "outputs": [
    {
     "data": {
      "text/plain": [
       "'A|good|book|is|a|wonderful|world'"
      ]
     },
     "execution_count": 89,
     "metadata": {},
     "output_type": "execute_result"
    }
   ],
   "source": [
    "# Join the words in word_list in to a sentence. This time use | as the delimiter\n",
    "'|'.join(word_list)"
   ]
  },
  {
   "cell_type": "code",
   "execution_count": 90,
   "metadata": {},
   "outputs": [
    {
     "data": {
      "text/plain": [
       "'1275 E. 10th Street Bloomington IN 47405'"
      ]
     },
     "execution_count": 90,
     "metadata": {},
     "output_type": "execute_result"
    }
   ],
   "source": [
    "# The following example joins strings in a list into a string of address\n",
    "address_info = ['1275',  'E. 10th Street', 'Bloomington', 'IN', '47405']\n",
    "address = \" \".join(address_info)\n",
    "address"
   ]
  },
  {
   "cell_type": "markdown",
   "metadata": {},
   "source": [
    "### Now You Try 3"
   ]
  },
  {
   "cell_type": "code",
   "execution_count": 92,
   "metadata": {},
   "outputs": [
    {
     "data": {
      "text/plain": [
       "\"Your time is limited, so don't waste it living someone else's life.        Don't be trapped by dogma – which is living with the results of         other people's thinking.\""
      ]
     },
     "execution_count": 92,
     "metadata": {},
     "output_type": "execute_result"
    }
   ],
   "source": [
    "# This is the string we used last week\n",
    "quote = 'Your time is limited, so don\\'t waste it living someone else\\'s life.\\\n",
    "        Don\\'t be trapped by dogma – which is living with the results of \\\n",
    "        other people\\'s thinking.'\n",
    "quote"
   ]
  },
  {
   "cell_type": "code",
   "execution_count": 94,
   "metadata": {},
   "outputs": [
    {
     "data": {
      "text/plain": [
       "\"Your time is limited, so don't waste it living someone else's life. Don't be trapped by dogma – which is living with the results of other people's thinking.\""
      ]
     },
     "execution_count": 94,
     "metadata": {},
     "output_type": "execute_result"
    }
   ],
   "source": [
    "# Use string split() and join() to get rid of the extra spaces?\n",
    "# Step 1, use split() to create a list of words assigned to a variable words\n",
    "words = quote.split()\n",
    "# Step 2: use join() to put the words together, seperated by a space\n",
    "' '.join(words)"
   ]
  },
  {
   "cell_type": "code",
   "execution_count": 96,
   "metadata": {},
   "outputs": [
    {
     "data": {
      "text/plain": [
       "[\"Your time is limited, so don't waste it living someone else's life\",\n",
       " \"        Don't be trapped by dogma – which is living with the results of         other people's thinking\",\n",
       " '']"
      ]
     },
     "execution_count": 96,
     "metadata": {},
     "output_type": "execute_result"
    }
   ],
   "source": [
    "# Split the quote into a list of sentences and save to the variable 'sentences'\n",
    "# print the list out so you can see what they look like\n",
    "\n",
    "sentences = quote.split('.')\n",
    "sentences"
   ]
  },
  {
   "cell_type": "code",
   "execution_count": 98,
   "metadata": {},
   "outputs": [
    {
     "name": "stdout",
     "output_type": "stream",
     "text": [
      "Your time is limited, so don't waste it living someone else's life\n",
      "Don't be trapped by dogma – which is living with the results of other people's thinking\n"
     ]
    }
   ],
   "source": [
    "# You can see that some sentences have spaces. Some items are empty strings from\n",
    "# the result above. Iterate through the list and print out the sentence if it is\n",
    "# not an empty string after remove the extra spaces from the sentence\n",
    "\n",
    "# Step 1: use for loop to iterate through the variable sentences\n",
    "\n",
    "# Step 2: inside the loop, check whether each sentence is an empty string\n",
    "\n",
    "# Step 3: If not, use split() and join() to remove the spaces\n",
    "\n",
    "# Step 4: Print out each sentence\n",
    "\n",
    "for sentence in sentences:\n",
    "    if sentence:\n",
    "        print(' '.join(sentence.split()))"
   ]
  },
  {
   "cell_type": "markdown",
   "metadata": {},
   "source": [
    "### Two-dimentional list (nested list)"
   ]
  },
  {
   "cell_type": "code",
   "execution_count": 99,
   "metadata": {},
   "outputs": [
    {
     "data": {
      "text/plain": [
       "[[3, 1, 4], [1, 5, 9]]"
      ]
     },
     "execution_count": 99,
     "metadata": {},
     "output_type": "execute_result"
    }
   ],
   "source": [
    "two_dim_list = [[3, 1, 4], [1, 5, 9]]\n",
    "two_dim_list"
   ]
  },
  {
   "cell_type": "code",
   "execution_count": 100,
   "metadata": {},
   "outputs": [
    {
     "data": {
      "text/plain": [
       "[3, 1, 4]"
      ]
     },
     "execution_count": 100,
     "metadata": {},
     "output_type": "execute_result"
    }
   ],
   "source": [
    "# Get the first inner list from two_dim_list\n",
    "two_dim_list[0]"
   ]
  },
  {
   "cell_type": "code",
   "execution_count": 101,
   "metadata": {},
   "outputs": [
    {
     "data": {
      "text/plain": [
       "3"
      ]
     },
     "execution_count": 101,
     "metadata": {},
     "output_type": "execute_result"
    }
   ],
   "source": [
    "# Get the first element in the first inner list. What cell is it if two_dim_list represents a table?\n",
    "two_dim_list[0][0]"
   ]
  },
  {
   "cell_type": "code",
   "execution_count": 102,
   "metadata": {},
   "outputs": [
    {
     "data": {
      "text/plain": [
       "[1, 5]"
      ]
     },
     "execution_count": 102,
     "metadata": {},
     "output_type": "execute_result"
    }
   ],
   "source": [
    "# Get the first 2 element in the second inner list\n",
    "two_dim_list[1][0:2]"
   ]
  },
  {
   "cell_type": "code",
   "execution_count": 103,
   "metadata": {},
   "outputs": [
    {
     "name": "stdout",
     "output_type": "stream",
     "text": [
      "3\n",
      "1\n",
      "4\n",
      "1\n",
      "5\n",
      "9\n"
     ]
    }
   ],
   "source": [
    "# Iterate through two_dim_list using nested loops. Print out each element. The result should be values in a column\n",
    "for row in two_dim_list:\n",
    "    for value in row:\n",
    "        print(value)"
   ]
  },
  {
   "cell_type": "code",
   "execution_count": 105,
   "metadata": {},
   "outputs": [
    {
     "name": "stdout",
     "output_type": "stream",
     "text": [
      "3 1 4 \n",
      "1 5 9 \n"
     ]
    }
   ],
   "source": [
    "# Iterate through two_dim_list using nested loops. Print out the values in 2 rows with 3 value each.\n",
    "# This is optional but fun to trial out\n",
    "\n",
    "for row in two_dim_list:\n",
    "    for value in row:\n",
    "        print(value, end=' ')\n",
    "    print()\n",
    "#Is this what you wanted?"
   ]
  },
  {
   "cell_type": "markdown",
   "metadata": {},
   "source": [
    "### Now You Try 4"
   ]
  },
  {
   "cell_type": "code",
   "execution_count": 106,
   "metadata": {},
   "outputs": [],
   "source": [
    "# Create a function named \"get_commission()\". It takes sales_list that contains sale revenues\n",
    "# as the argument. In the function, calcuate commission, which is 20% of sales. Store all\n",
    "# commissions in a list named \"commissions\" and return it.\n",
    "\n",
    "# The function is started for you here:\n",
    "def get_commission(sales_list):\n",
    "    # create an empty list for commission\n",
    "    commissions = []\n",
    "    # Use a for loop to iterate through sales_list\n",
    "    # Inside the for loop, calcuate commission and add it to the commission list\n",
    "    for sale in sales_list:\n",
    "        commissions.append(.2 * sale)\n",
    "    # after the loop is over, return the list with commissions\n",
    "    return commissions"
   ]
  },
  {
   "cell_type": "code",
   "execution_count": 107,
   "metadata": {},
   "outputs": [
    {
     "data": {
      "text/plain": [
       "[16.0, 7.0, 12.0, 9.0, 20.0]"
      ]
     },
     "execution_count": 107,
     "metadata": {},
     "output_type": "execute_result"
    }
   ],
   "source": [
    "# A sales revenue list is created below\n",
    "sales = [80, 35, 60, 45, 100]\n",
    "# Call the function to generate commissions and print the commissions\n",
    "\n",
    "get_commission(sales)"
   ]
  },
  {
   "cell_type": "code",
   "execution_count": 114,
   "metadata": {},
   "outputs": [],
   "source": [
    "# Create a function named \"get_numbers()\". It takes a string as an argument. Returns a list\n",
    "# that contains all the numbers in the string as a list. If no numbers are found, return an\n",
    "# empty string.\n",
    "\n",
    "# start the function. Make sure it takes one parameter\n",
    "\n",
    "# In the function, split the string into a list of words.\n",
    "\n",
    "# Create an empty list for numbers that might be in the string\n",
    "\n",
    "# Use a for loop to go through each word,\n",
    "# check if the word is a number. If so, add it to the list.\n",
    "\n",
    "# When the loop is over, return the list\n",
    "\n",
    "# Faster soluton:\n",
    "import re\n",
    "\n",
    "\n",
    "def get_numbers(string):\n",
    "    return re.findall('\\\\d+', string)"
   ]
  },
  {
   "cell_type": "code",
   "execution_count": 115,
   "metadata": {},
   "outputs": [
    {
     "data": {
      "text/plain": [
       "['65', '3']"
      ]
     },
     "execution_count": 115,
     "metadata": {},
     "output_type": "execute_result"
    }
   ],
   "source": [
    "# This is a string to test your function\n",
    "a_str = '65 year’s old with 3 adult children'\n",
    "# Call your function using this string as the argument\n",
    "get_numbers(a_str)"
   ]
  },
  {
   "cell_type": "markdown",
   "metadata": {},
   "source": [
    "# Tuple"
   ]
  },
  {
   "cell_type": "code",
   "execution_count": 116,
   "metadata": {},
   "outputs": [
    {
     "name": "stdout",
     "output_type": "stream",
     "text": [
      "[1]\n",
      "1\n",
      "(1,)\n"
     ]
    }
   ],
   "source": [
    "# Execute the code below and see the difference between a list, a tuple and a scalar (a simple number)\n",
    "is_a_list = [1]\n",
    "print(is_a_list)\n",
    "not_a_tuple = (1)\n",
    "print(not_a_tuple)\n",
    "is_a_tuple = (1,)\n",
    "print(is_a_tuple)"
   ]
  },
  {
   "cell_type": "code",
   "execution_count": 118,
   "metadata": {},
   "outputs": [],
   "source": [
    "# Multiple return values are passed back as a list\n",
    "# The function below returns 2 values in a tuple\n",
    "def get_stats(all_sales):\n",
    "    total = 0\n",
    "    for item in all_sales:\n",
    "        total += item\n",
    "    average = total/len(all_sales)\n",
    "    return total, average\n",
    "    # The function is almost finished for you. Add the last line to return total and average as a tuple"
   ]
  },
  {
   "cell_type": "code",
   "execution_count": 121,
   "metadata": {},
   "outputs": [
    {
     "name": "stdout",
     "output_type": "stream",
     "text": [
      "(378.2, 75.64)\n"
     ]
    },
    {
     "ename": "TypeError",
     "evalue": "'tuple' object does not support item assignment",
     "output_type": "error",
     "traceback": [
      "\u001b[1;31m---------------------------------------------------------------------------\u001b[0m",
      "\u001b[1;31mTypeError\u001b[0m                                 Traceback (most recent call last)",
      "\u001b[1;32mc:\\Users\\ezmos\\OneDrive - Indiana University\\My Courses\\Fall 2023\\BUS-S 364\\Business_Programming_Repository\\Week 7\\Lists and tuples - Code and Now You Try.ipynb Cell 104\u001b[0m line \u001b[0;36m8\n\u001b[0;32m      <a href='vscode-notebook-cell:/c%3A/Users/ezmos/OneDrive%20-%20Indiana%20University/My%20Courses/Fall%202023/BUS-S%20364/Business_Programming_Repository/Week%207/Lists%20and%20tuples%20-%20Code%20and%20Now%20You%20Try.ipynb#Y205sZmlsZQ%3D%3D?line=5'>6</a>\u001b[0m \u001b[39mprint\u001b[39m(stats)\n\u001b[0;32m      <a href='vscode-notebook-cell:/c%3A/Users/ezmos/OneDrive%20-%20Indiana%20University/My%20Courses/Fall%202023/BUS-S%20364/Business_Programming_Repository/Week%207/Lists%20and%20tuples%20-%20Code%20and%20Now%20You%20Try.ipynb#Y205sZmlsZQ%3D%3D?line=6'>7</a>\u001b[0m \u001b[39m# Try to change the first value of stats to 100. See what happens\u001b[39;00m\n\u001b[1;32m----> <a href='vscode-notebook-cell:/c%3A/Users/ezmos/OneDrive%20-%20Indiana%20University/My%20Courses/Fall%202023/BUS-S%20364/Business_Programming_Repository/Week%207/Lists%20and%20tuples%20-%20Code%20and%20Now%20You%20Try.ipynb#Y205sZmlsZQ%3D%3D?line=7'>8</a>\u001b[0m stats[\u001b[39m0\u001b[39;49m] \u001b[39m=\u001b[39m \u001b[39m100\u001b[39m  \u001b[39m# this line is going to cry\u001b[39;00m\n",
      "\u001b[1;31mTypeError\u001b[0m: 'tuple' object does not support item assignment"
     ]
    }
   ],
   "source": [
    "# Call the function with the following sales list. Assign the return value to variable stats\n",
    "sales = [89.4, 78.5, 56, 91, 63.3]\n",
    "stats = get_stats(sales)\n",
    "\n",
    "# Print out stats\n",
    "print(stats)\n",
    "# Try to change the first value of stats to 100. See what happens\n",
    "stats[0] = 100  # this line is going to cry"
   ]
  },
  {
   "cell_type": "markdown",
   "metadata": {},
   "source": [
    "### Now You Try 5"
   ]
  },
  {
   "cell_type": "code",
   "execution_count": 122,
   "metadata": {},
   "outputs": [],
   "source": [
    "# Create a function min_max that takes a list as an argument. The parameter could have\n",
    "# any appropriate name. Return the min and max item of the list as a tuple\n",
    "\n",
    "def min_max(list):\n",
    "    return min(list), max(list)"
   ]
  },
  {
   "cell_type": "code",
   "execution_count": 123,
   "metadata": {},
   "outputs": [
    {
     "data": {
      "text/plain": [
       "(39, 98)"
      ]
     },
     "execution_count": 123,
     "metadata": {},
     "output_type": "execute_result"
    }
   ],
   "source": [
    "# Call the function using the following list named list1\n",
    "# display the result\n",
    "list1 = [98, 56, 44, 87, 66, 39]\n",
    "\n",
    "min_max(list1)"
   ]
  }
 ],
 "metadata": {
  "kernelspec": {
   "display_name": "Python 3",
   "language": "python",
   "name": "python3"
  },
  "language_info": {
   "codemirror_mode": {
    "name": "ipython",
    "version": 3
   },
   "file_extension": ".py",
   "mimetype": "text/x-python",
   "name": "python",
   "nbconvert_exporter": "python",
   "pygments_lexer": "ipython3",
   "version": "3.11.4"
  }
 },
 "nbformat": 4,
 "nbformat_minor": 4
}
