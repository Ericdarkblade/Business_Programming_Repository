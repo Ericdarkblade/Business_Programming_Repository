{
 "cells": [
  {
   "cell_type": "markdown",
   "metadata": {},
   "source": [
    "# Week 7 Code and Now You Try - Lists and Tuples\n",
    "## Create List, retrieve Items and loop through a list"
   ]
  },
  {
   "cell_type": "code",
   "execution_count": null,
   "metadata": {},
   "outputs": [],
   "source": [
    "# This cell is for wide display and better use of screen space\n",
    "from IPython.core.display import display, HTML\n",
    "display(HTML(\"<style>.container { width:100% !important; }</style>\"))"
   ]
  },
  {
   "cell_type": "code",
   "execution_count": 2,
   "metadata": {},
   "outputs": [],
   "source": [
    "# Create an empty list and assign it to variable list0. Display it.\n"
   ]
  },
  {
   "cell_type": "code",
   "execution_count": 3,
   "metadata": {},
   "outputs": [],
   "source": [
    "# Create a list with values 1, 2, 3 and assign it to variable list1. Display it.\n"
   ]
  },
  {
   "cell_type": "code",
   "execution_count": 4,
   "metadata": {},
   "outputs": [],
   "source": [
    "# Create a list with string values 'a', 'b', 'c' and assign it to variable list2. Display it.\n"
   ]
  },
  {
   "cell_type": "code",
   "execution_count": 5,
   "metadata": {},
   "outputs": [],
   "source": [
    "# Create a list with values of different data types and assign it to variable list3. Display it.\n"
   ]
  },
  {
   "cell_type": "code",
   "execution_count": 6,
   "metadata": {},
   "outputs": [],
   "source": [
    "# Use list() to convert a sequence of values to a list. Use range() to create an integer list of values 1, 2, 3, 4, 5\n"
   ]
  },
  {
   "cell_type": "code",
   "execution_count": 7,
   "metadata": {},
   "outputs": [],
   "source": [
    "# Use list() and range() to create a list of integers [50, 45, 40, 35, 30, 25, 20, 15]\n"
   ]
  },
  {
   "cell_type": "code",
   "execution_count": 5,
   "metadata": {},
   "outputs": [
    {
     "data": {
      "text/plain": [
       "[1, 2, 3]"
      ]
     },
     "execution_count": 5,
     "metadata": {},
     "output_type": "execute_result"
    }
   ],
   "source": [
    "# Create a list with variables\n",
    "a, b, c = 1, 2, 3\n",
    "list_abc = [a, b, c]\n",
    "list_abc"
   ]
  },
  {
   "cell_type": "code",
   "execution_count": null,
   "metadata": {},
   "outputs": [],
   "source": [
    "# Retrieve single element with list indexing\n",
    "num_list = [2, 4, 6, 8, 10]"
   ]
  },
  {
   "cell_type": "code",
   "execution_count": 8,
   "metadata": {},
   "outputs": [],
   "source": [
    "# Get the elements in index 0, 1, 4, -1 and -5 respectively. You can use print() and display\n",
    "# all the values in the same cell or use 5 cels to get the result\n"
   ]
  },
  {
   "cell_type": "code",
   "execution_count": 9,
   "metadata": {},
   "outputs": [],
   "source": [
    "# Get the value of index 5 from num_list. What do you get and why?\n"
   ]
  },
  {
   "cell_type": "code",
   "execution_count": null,
   "metadata": {},
   "outputs": [],
   "source": [
    "# use len() function to get the length of num_list\n"
   ]
  },
  {
   "cell_type": "code",
   "execution_count": 10,
   "metadata": {},
   "outputs": [],
   "source": [
    "# Now use len() to get the largest index value and retrieve the element\n"
   ]
  },
  {
   "cell_type": "code",
   "execution_count": null,
   "metadata": {},
   "outputs": [],
   "source": [
    "# Practice list slicing. Type out the code on the slide. The first 2 are typed out already.\n",
    "# Run each line and see what the result is.\n",
    "print(num_list[0:3])\n",
    "print(num_list[:3])\n",
    "\n",
    "\n"
   ]
  },
  {
   "cell_type": "code",
   "execution_count": 11,
   "metadata": {},
   "outputs": [],
   "source": [
    "# use for loop to iterate through a list [0, 1, 2, 3, 4] and print out the square of each value\n"
   ]
  },
  {
   "cell_type": "markdown",
   "metadata": {},
   "source": [
    "### Now You Try 1"
   ]
  },
  {
   "cell_type": "code",
   "execution_count": 12,
   "metadata": {},
   "outputs": [],
   "source": [
    "# Create a list with the following values: 'IUB', 'IUPUI', 'IUS', 'IUK', 'IUE', 'IUSE','IUSB', 'IUN'. \n",
    "# Save them in a list named 'campus'\n"
   ]
  },
  {
   "cell_type": "code",
   "execution_count": 13,
   "metadata": {},
   "outputs": [],
   "source": [
    "# Use indexing to get IUE\n"
   ]
  },
  {
   "cell_type": "code",
   "execution_count": null,
   "metadata": {},
   "outputs": [],
   "source": [
    "# Use indexing and len() to get IUN\n"
   ]
  },
  {
   "cell_type": "code",
   "execution_count": 14,
   "metadata": {},
   "outputs": [],
   "source": [
    "# Use slicing to get every other campus so the result is ['IUB', 'IUS', 'IUE', 'IUSB']\n"
   ]
  },
  {
   "cell_type": "code",
   "execution_count": 15,
   "metadata": {},
   "outputs": [],
   "source": [
    "# Use slicing to get IUS, IUK and IUE so the result is ['IUS', 'IUK', 'IUE']\n"
   ]
  },
  {
   "cell_type": "code",
   "execution_count": 16,
   "metadata": {},
   "outputs": [],
   "source": [
    "# Use slicing to reverse the order of the elements so the result is:\n",
    "# ['IUN', 'IUSB', 'IUSE', 'IUE', 'IUK', 'IUS', 'IUPUI', 'IUB']\n"
   ]
  },
  {
   "cell_type": "code",
   "execution_count": 17,
   "metadata": {},
   "outputs": [],
   "source": [
    "# Use for loop to iterate through the list to print out \"Indiana University -\" campus name\n",
    "# for example: \"Indiana University - IUB\", as the first printed line\n"
   ]
  },
  {
   "cell_type": "code",
   "execution_count": 18,
   "metadata": {},
   "outputs": [],
   "source": [
    "# Create list of positive odd numbers less than 26 with range() and list()\n",
    "# The result should be: [1, 3, 5, 7, 9, 11, 13, 15, 17, 19, 21, 23, 25]\n"
   ]
  },
  {
   "cell_type": "markdown",
   "metadata": {},
   "source": [
    "## Insert, change and remove list items (Lists are mutable)"
   ]
  },
  {
   "cell_type": "code",
   "execution_count": 20,
   "metadata": {},
   "outputs": [],
   "source": [
    "# Redeclare the list. Change its first item to be 1 and last item to be 9\n",
    "# Display the list to conform\n",
    "num_list = [2, 4, 6, 8, 10]\n"
   ]
  },
  {
   "cell_type": "code",
   "execution_count": 19,
   "metadata": {},
   "outputs": [],
   "source": [
    "# Use slicing to replace a segment of values into one element\n",
    "num_list[1:3] = [100]\n",
    "num_list"
   ]
  },
  {
   "cell_type": "code",
   "execution_count": 10,
   "metadata": {},
   "outputs": [
    {
     "data": {
      "text/plain": [
       "[2, 100, 200, 8, 10]"
      ]
     },
     "execution_count": 10,
     "metadata": {},
     "output_type": "execute_result"
    }
   ],
   "source": [
    "# Use slicing to update multiple values\n",
    "num_list = [2, 4, 6, 8, 10] # reset the list\n",
    "num_list[1:3] = [100, 200]\n",
    "num_list"
   ]
  },
  {
   "cell_type": "code",
   "execution_count": 11,
   "metadata": {},
   "outputs": [
    {
     "data": {
      "text/plain": [
       "[2, 100, 200, 300, 400, 8, 10]"
      ]
     },
     "execution_count": 11,
     "metadata": {},
     "output_type": "execute_result"
    }
   ],
   "source": [
    "# Use slicing to update multiple values and expand the list\n",
    "num_list = [2, 4, 6, 8, 10] # reset the list\n",
    "num_list[1:3] = [100, 200, 300, 400]\n",
    "num_list"
   ]
  },
  {
   "cell_type": "code",
   "execution_count": 12,
   "metadata": {},
   "outputs": [
    {
     "data": {
      "text/plain": [
       "[2, 100, 200, 300, 400, 8, 10, 11]"
      ]
     },
     "execution_count": 12,
     "metadata": {},
     "output_type": "execute_result"
    }
   ],
   "source": [
    "# Add an element number 11 to the end of the list using append(). Don't care the index of the new value\n",
    "num_list.append(11)\n",
    "num_list"
   ]
  },
  {
   "cell_type": "code",
   "execution_count": 21,
   "metadata": {},
   "outputs": [],
   "source": [
    "# Insert an element value -1 to a specific index value 3 using insert(index, new_element)\n"
   ]
  },
  {
   "cell_type": "code",
   "execution_count": 22,
   "metadata": {},
   "outputs": [],
   "source": [
    "# When the index is out of range, Python does not throw error the item is inserted to either end of the list\n",
    "# Insert value 1000 to index value of 100, show the content of the list\n"
   ]
  },
  {
   "cell_type": "code",
   "execution_count": 23,
   "metadata": {},
   "outputs": [],
   "source": [
    "# Insert value -1000 to index value of -30, show the content of the list\n"
   ]
  },
  {
   "cell_type": "markdown",
   "metadata": {},
   "source": [
    "Question: how are the 2 ways of adding elements to a Python list differ?\n",
    "- Note the arguments need to be passed in\n",
    "- Note the return value"
   ]
  },
  {
   "cell_type": "code",
   "execution_count": 24,
   "metadata": {},
   "outputs": [],
   "source": [
    "# Use remove() to remove the first occurance of an item. The item is the argument\n",
    "# Remove the element of -1 from num_list. Assign the returned value to return_remove\n",
    "# Print return_remove and display num_list \n"
   ]
  },
  {
   "cell_type": "code",
   "execution_count": 25,
   "metadata": {},
   "outputs": [],
   "source": [
    "# Now that -1 is removed, try to remove it again and see what happens\n"
   ]
  },
  {
   "cell_type": "code",
   "execution_count": 26,
   "metadata": {},
   "outputs": [],
   "source": [
    "# To remove an element at a particular index, regardless of its value, use pop()\n",
    "# Let's remove an element at index -1, save the return value to variable last_ele\n",
    "# Print out last_ele and the list\n"
   ]
  },
  {
   "cell_type": "code",
   "execution_count": 27,
   "metadata": {},
   "outputs": [],
   "source": [
    "# Use pop() without any argument to remove the value at the end of a list\n",
    "# Print out the popped element and the list\n"
   ]
  },
  {
   "cell_type": "code",
   "execution_count": 28,
   "metadata": {},
   "outputs": [],
   "source": [
    "# Try to pop the element with index 100 in num_list. What happens?\n"
   ]
  },
  {
   "cell_type": "code",
   "execution_count": 29,
   "metadata": {},
   "outputs": [],
   "source": [
    "# Use del[] to remove an item at a specific index. Do so with the index 0\n"
   ]
  },
  {
   "cell_type": "code",
   "execution_count": 30,
   "metadata": {},
   "outputs": [],
   "source": [
    "# Note what happens when using del with an nonexisting index. Try 55 as the index\n"
   ]
  },
  {
   "cell_type": "markdown",
   "metadata": {},
   "source": [
    "Question: how are the 3 ways of removing elements from a Python list differ?\n",
    "- Note the arguments need to be passed in\n",
    "- Note the return value"
   ]
  },
  {
   "cell_type": "markdown",
   "metadata": {},
   "source": [
    "### Form new lists with concatenation and repetition"
   ]
  },
  {
   "cell_type": "code",
   "execution_count": 31,
   "metadata": {},
   "outputs": [],
   "source": [
    "# Declare 2 lists\n",
    "num_list_1 = [1, 3, 5, 7, 9]\n",
    "num_list_2 = [2, 4, 6, 8, 10]\n",
    "# concatenation the 2 lists using operator: +. Save the result to variable num_list\n",
    "\n",
    "# Display num_list\n"
   ]
  },
  {
   "cell_type": "code",
   "execution_count": 32,
   "metadata": {},
   "outputs": [],
   "source": [
    "# Augement operators work as well. Use += to add the elements of num_list_2 to num_list_1\n",
    "# Display num_list_1\n"
   ]
  },
  {
   "cell_type": "code",
   "execution_count": 25,
   "metadata": {},
   "outputs": [
    {
     "name": "stdout",
     "output_type": "stream",
     "text": [
      "[0, 0, 0, 0, 0, 0, 0, 0, 0, 0]\n"
     ]
    }
   ],
   "source": [
    "# Use repetition operator: * to quickly create a list that contains 10 0s\n",
    "ten_zeros = [0] * 10\n",
    "print(ten_zeros)"
   ]
  },
  {
   "cell_type": "code",
   "execution_count": 26,
   "metadata": {},
   "outputs": [
    {
     "name": "stdout",
     "output_type": "stream",
     "text": [
      "['A', 'A', 'A', 'A', 'A', 'A', 'A', 'A', 'A', 'A', 'A', 'A', 'A', 'A', 'A']\n"
     ]
    }
   ],
   "source": [
    "# Create a list that contains 15 'A's using *\n",
    "fifteen_As = ['A'] * 15\n",
    "print(fifteen_As)"
   ]
  },
  {
   "cell_type": "code",
   "execution_count": 33,
   "metadata": {},
   "outputs": [],
   "source": [
    "# The concatenation and repetition operators work for strings as well\n",
    "# Concatenate the following 2 strings with a space in between and print out the result\n",
    "string1 = 'Singing a song:'\n",
    "string2 = 'Happy birthday!'\n"
   ]
  },
  {
   "cell_type": "code",
   "execution_count": 34,
   "metadata": {},
   "outputs": [],
   "source": [
    "# Create a string that repeat blah_str 10 times. Add a space in between the repetition\n",
    "blah_str = 'Blah'\n"
   ]
  },
  {
   "cell_type": "markdown",
   "metadata": {},
   "source": [
    "### Other list operations "
   ]
  },
  {
   "cell_type": "code",
   "execution_count": 30,
   "metadata": {},
   "outputs": [
    {
     "name": "stdout",
     "output_type": "stream",
     "text": [
      "Yes\n"
     ]
    }
   ],
   "source": [
    "# Use in and not in to check whether an item is in a list\n",
    "# The result will be True or False\n",
    "num_list = [2, 4, 6, 8, 10]\n",
    "if 2 in num_list:\n",
    "    print('Yes')\n",
    "elif 2 not in num_list:\n",
    "    print('No')"
   ]
  },
  {
   "cell_type": "code",
   "execution_count": 31,
   "metadata": {},
   "outputs": [
    {
     "name": "stdout",
     "output_type": "stream",
     "text": [
      "False\n"
     ]
    }
   ],
   "source": [
    "# Check if variable a is in the list\n",
    "a = 1\n",
    "print(a in num_list)"
   ]
  },
  {
   "cell_type": "code",
   "execution_count": 35,
   "metadata": {},
   "outputs": [],
   "source": [
    "# Use index() to get the index of an element. Note the argument is the element to be checked.\n",
    "# The index of he first matching item will be returned\n",
    "# If the item does not exists, an error will be raised\n",
    "# Get the index of element 8:\n"
   ]
  },
  {
   "cell_type": "code",
   "execution_count": 36,
   "metadata": {},
   "outputs": [],
   "source": [
    "# Get the index of element 100\n"
   ]
  },
  {
   "cell_type": "code",
   "execution_count": 37,
   "metadata": {},
   "outputs": [],
   "source": [
    "# Append -5 to the end of num_list. Display the elements in the list\n"
   ]
  },
  {
   "cell_type": "code",
   "execution_count": 38,
   "metadata": {},
   "outputs": [],
   "source": [
    "# sort() sort the items in num_list in ascending order and display the elements in the list\n"
   ]
  },
  {
   "cell_type": "code",
   "execution_count": 39,
   "metadata": {},
   "outputs": [],
   "source": [
    "# reverse() reverse the order of the items in num_list. Display the elements in the list\n"
   ]
  },
  {
   "cell_type": "markdown",
   "metadata": {},
   "source": [
    "Question: What value does sort() and reverse() of list return respectively?"
   ]
  },
  {
   "cell_type": "code",
   "execution_count": 40,
   "metadata": {},
   "outputs": [],
   "source": [
    "# Get the min and max values num_list and print the result\n"
   ]
  },
  {
   "cell_type": "markdown",
   "metadata": {},
   "source": [
    "Question: What value does min() and max() of list return respectively?"
   ]
  },
  {
   "cell_type": "code",
   "execution_count": 55,
   "metadata": {},
   "outputs": [
    {
     "data": {
      "text/plain": [
       "[]"
      ]
     },
     "execution_count": 55,
     "metadata": {},
     "output_type": "execute_result"
    }
   ],
   "source": [
    "# Use clear to remove all elements in a list. Do so for num_list and display it.\n",
    "num_list.clear()\n",
    "num_list"
   ]
  },
  {
   "cell_type": "code",
   "execution_count": 41,
   "metadata": {},
   "outputs": [],
   "source": [
    "# Declare list1\n",
    "list1 = [0, 1, 2, 3, 4]\n",
    "# assign list1 to list2. \n",
    "\n",
    "# Display list2\n",
    "\n",
    "# Now, do we have 2 variables? do we have 2 lists?"
   ]
  },
  {
   "cell_type": "code",
   "execution_count": 42,
   "metadata": {},
   "outputs": [],
   "source": [
    "# Check whether we have 2 lists by changing the first element of list2 to be -1\n",
    "# Print out both list1 and list2. Now do you think you have 1 or 2 lists?\n"
   ]
  },
  {
   "cell_type": "code",
   "execution_count": 43,
   "metadata": {},
   "outputs": [],
   "source": [
    "# Use the copy() to copy list1 and store the result to list3\n",
    "\n",
    "# Print out list3\n"
   ]
  },
  {
   "cell_type": "code",
   "execution_count": 44,
   "metadata": {},
   "outputs": [],
   "source": [
    "# Now assign 0 to the first element of list1. Print out list1, list2 and list3\n",
    "# Compare them. What differences do you see? Does this make sense?\n"
   ]
  },
  {
   "cell_type": "code",
   "execution_count": 60,
   "metadata": {},
   "outputs": [
    {
     "name": "stdout",
     "output_type": "stream",
     "text": [
      "[0, 1, 2, 3, 4]\n",
      "[-1, 1, 2, 3, 4]\n",
      "[0, 1, 2, 3, 4]\n"
     ]
    }
   ],
   "source": [
    "# Other ways to copy a list\n",
    "list1 = [0, 1, 2, 3, 4]\n",
    "list2 = []\n",
    "for item in list1:\n",
    "    list2.append(item)\n",
    "print(list2)\n",
    "list2[0] = -1\n",
    "print(list2)\n",
    "print(list1)"
   ]
  },
  {
   "cell_type": "code",
   "execution_count": 61,
   "metadata": {},
   "outputs": [
    {
     "name": "stdout",
     "output_type": "stream",
     "text": [
      "[0, 1, 2, 3, 4]\n",
      "[-1, 1, 2, 3, 4]\n",
      "[0, 1, 2, 3, 4]\n"
     ]
    }
   ],
   "source": [
    "list1 = [0, 1, 2, 3, 4]\n",
    "list2 = [] + list1\n",
    "print(list2)\n",
    "list2[0] = -1\n",
    "print(list2)\n",
    "print(list1)"
   ]
  },
  {
   "cell_type": "markdown",
   "metadata": {},
   "source": [
    "### Now You Try 2"
   ]
  },
  {
   "cell_type": "code",
   "execution_count": 45,
   "metadata": {},
   "outputs": [],
   "source": [
    "# Create a list with the variable name 'names': Amy, John, Mia, Kevin\n",
    "# Display names to be sure it is created properly\n"
   ]
  },
  {
   "cell_type": "code",
   "execution_count": 46,
   "metadata": {},
   "outputs": [],
   "source": [
    "# Change the first name to Ella, print the list to confirm\n"
   ]
  },
  {
   "cell_type": "code",
   "execution_count": 47,
   "metadata": {},
   "outputs": [],
   "source": [
    "# Add Emily and Kale by appending them to the end of the list. Print the list\n"
   ]
  },
  {
   "cell_type": "code",
   "execution_count": 48,
   "metadata": {},
   "outputs": [],
   "source": [
    "# Use list concatenation to add ['Ruby', \"Drew\"] to the end of names. Display the result\n",
    "# Don't store the result to names. Just display the result of concatenation\n"
   ]
  },
  {
   "cell_type": "code",
   "execution_count": 49,
   "metadata": {},
   "outputs": [],
   "source": [
    "# Remove Kevin using remove(). Print the list\n"
   ]
  },
  {
   "cell_type": "code",
   "execution_count": 50,
   "metadata": {},
   "outputs": [],
   "source": [
    "# Insert Adam as the 4th name using insert(). Print the list\n"
   ]
  },
  {
   "cell_type": "code",
   "execution_count": 51,
   "metadata": {},
   "outputs": [],
   "source": [
    "# Sort the list in reversed order and Print it\n"
   ]
  },
  {
   "cell_type": "code",
   "execution_count": 52,
   "metadata": {},
   "outputs": [],
   "source": [
    "# Check if 'Dylan' is in the list, if so print \"found!\" otherwise 'Cannot find Dylan'\n"
   ]
  },
  {
   "cell_type": "markdown",
   "metadata": {},
   "source": [
    "### List and string"
   ]
  },
  {
   "cell_type": "code",
   "execution_count": 53,
   "metadata": {},
   "outputs": [],
   "source": [
    "# Using split() to turn the string into a list of words using space as the seperator\n",
    "poem = 'The Road Not Taken'\n"
   ]
  },
  {
   "cell_type": "code",
   "execution_count": 54,
   "metadata": {},
   "outputs": [],
   "source": [
    "# Using split() to turn the string into a list of sentences using comma as the seperator\n",
    "poem2 = 'Two roads diverged in a yellow wood, And sorry I could not travel both, And be one traveler, long I stood'\\\n",
    "'And looked down one as far as I could, To where it bent in the undergrowth;'\n"
   ]
  },
  {
   "cell_type": "code",
   "execution_count": 55,
   "metadata": {},
   "outputs": [],
   "source": [
    "# Join the words in the list into a sentence. Note the the delimiter should be a space.\n",
    "word_list = ['A', 'good', 'book', 'is', 'a', 'wonderful', 'world']\n"
   ]
  },
  {
   "cell_type": "code",
   "execution_count": 56,
   "metadata": {},
   "outputs": [],
   "source": [
    "# Join the words in word_list in to a sentence. This time use | as the delimiter\n"
   ]
  },
  {
   "cell_type": "code",
   "execution_count": 86,
   "metadata": {},
   "outputs": [
    {
     "data": {
      "text/plain": [
       "'1275 E. 10th Street Bloomington IN 47405'"
      ]
     },
     "execution_count": 86,
     "metadata": {},
     "output_type": "execute_result"
    }
   ],
   "source": [
    "# The following example joins strings in a list into a string of address\n",
    "address_info = ['1275',  'E. 10th Street', 'Bloomington', 'IN', '47405']\n",
    "address=\" \".join(address_info)\n",
    "address"
   ]
  },
  {
   "cell_type": "markdown",
   "metadata": {},
   "source": [
    "### Now You Try 3"
   ]
  },
  {
   "cell_type": "code",
   "execution_count": 34,
   "metadata": {},
   "outputs": [
    {
     "data": {
      "text/plain": [
       "\"Your time is limited, so don't waste it living someone else's life.        Don't be trapped by dogma – which is living with the results of         other people's thinking.\""
      ]
     },
     "execution_count": 34,
     "metadata": {},
     "output_type": "execute_result"
    }
   ],
   "source": [
    "# This is the string we used last week\n",
    "quote = 'Your time is limited, so don\\'t waste it living someone else\\'s life.\\\n",
    "        Don\\'t be trapped by dogma – which is living with the results of \\\n",
    "        other people\\'s thinking.'\n",
    "quote"
   ]
  },
  {
   "cell_type": "code",
   "execution_count": 57,
   "metadata": {},
   "outputs": [],
   "source": [
    "# Use string split() and join() to get rid of the extra spaces?\n",
    "# Step 1, use split() to create a list of words assigned to a variable words\n",
    "\n",
    "# Step 2: use join() to put the words together, seperated by a space\n"
   ]
  },
  {
   "cell_type": "code",
   "execution_count": 58,
   "metadata": {},
   "outputs": [],
   "source": [
    "# Split the quote into a list of sentences and save to the variable 'sentences'\n",
    "# print the list out so you can see what they look like\n"
   ]
  },
  {
   "cell_type": "code",
   "execution_count": 59,
   "metadata": {},
   "outputs": [],
   "source": [
    "# You can see that some sentences have spaces. Some items are empty strings from \n",
    "# the result above. Iterate through the list and print out the sentence if it is \n",
    "# not an empty string after remove the extra spaces from the sentence\n",
    "\n",
    "# Step 1: use for loop to iterate through the variable sentences\n",
    "\n",
    "# Step 2: inside the loop, check whether each sentence is an empty string\n",
    "\n",
    "# Step 3: If not, use split() and join() to remove the spaces\n",
    "\n",
    "# Step 4: Print out each sentence\n"
   ]
  },
  {
   "cell_type": "markdown",
   "metadata": {},
   "source": [
    "### Two-dimentional list (nested list)"
   ]
  },
  {
   "cell_type": "code",
   "execution_count": 39,
   "metadata": {},
   "outputs": [
    {
     "data": {
      "text/plain": [
       "[[3, 1, 4], [1, 5, 9]]"
      ]
     },
     "execution_count": 39,
     "metadata": {},
     "output_type": "execute_result"
    }
   ],
   "source": [
    "two_dim_list = [[3, 1, 4], [1, 5, 9]]\n",
    "two_dim_list"
   ]
  },
  {
   "cell_type": "code",
   "execution_count": 60,
   "metadata": {},
   "outputs": [],
   "source": [
    "# Get the first inner list from two_dim_list\n"
   ]
  },
  {
   "cell_type": "code",
   "execution_count": 61,
   "metadata": {},
   "outputs": [],
   "source": [
    "# Get the first element in the first inner list. What cell is it if two_dim_list represents a table?\n"
   ]
  },
  {
   "cell_type": "code",
   "execution_count": 62,
   "metadata": {},
   "outputs": [],
   "source": [
    "# Get the first 2 element in the second inner list\n"
   ]
  },
  {
   "cell_type": "code",
   "execution_count": 63,
   "metadata": {},
   "outputs": [],
   "source": [
    "# Iterate through two_dim_list using nested loops. Print out each element. The result should be values in a column\n"
   ]
  },
  {
   "cell_type": "code",
   "execution_count": 64,
   "metadata": {},
   "outputs": [],
   "source": [
    "# Iterate through two_dim_list using nested loops. Print out the values in 2 rows with 3 value each.\n",
    "# This is optional but fun to trial out\n"
   ]
  },
  {
   "cell_type": "markdown",
   "metadata": {},
   "source": [
    "### Now You Try 4"
   ]
  },
  {
   "cell_type": "code",
   "execution_count": null,
   "metadata": {},
   "outputs": [],
   "source": [
    "# Create a function named \"get_commission()\". It takes sales_list that contains sale revenues \n",
    "# as the argument. In the function, calcuate commission, which is 20% of sales. Store all\n",
    "# commissions in a list named \"commissions\" and return it.\n",
    "\n",
    "# The function is started for you here:\n",
    "def get_commission(sales_list):\n",
    "    # create an empty list for commission\n",
    "\n",
    "    # Use a for loop to iterate through sales_list\n",
    "    # Inside the for loop, calcuate commission and add it to the commission list\n",
    "\n",
    "    # after the loop is over, return the list with commissions\n",
    "    "
   ]
  },
  {
   "cell_type": "code",
   "execution_count": 65,
   "metadata": {},
   "outputs": [],
   "source": [
    "# A sales revenue list is created below    \n",
    "sales = [80, 35, 60, 45, 100]\n",
    "# Call the function to generate commissions and print the commissions\n"
   ]
  },
  {
   "cell_type": "code",
   "execution_count": null,
   "metadata": {},
   "outputs": [],
   "source": [
    "# Create a function named \"get_numbers()\". It takes a string as an argument. Returns a list\n",
    "# that contains all the numbers in the string as a list. If no numbers are found, return an \n",
    "# empty string.\n",
    "\n",
    "# start the function. Make sure it takes one parameter\n",
    "\n",
    "# In the function, split the string into a list of words. \n",
    "\n",
    "# Create an empty list for numbers that might be in the string\n",
    "\n",
    "# Use a for loop to go through each word, \n",
    "# check if the word is a number. If so, add it to the list.\n",
    "\n",
    "\n",
    "# When the loop is over, return the list\n"
   ]
  },
  {
   "cell_type": "code",
   "execution_count": 66,
   "metadata": {},
   "outputs": [],
   "source": [
    "# This is a string to test your function\n",
    "a_str = '65 year’s old with 3 adult children'\n",
    "# Call your function using this string as the argument\n"
   ]
  },
  {
   "cell_type": "markdown",
   "metadata": {},
   "source": [
    "# Tuple"
   ]
  },
  {
   "cell_type": "code",
   "execution_count": 82,
   "metadata": {},
   "outputs": [
    {
     "name": "stdout",
     "output_type": "stream",
     "text": [
      "[1]\n",
      "1\n",
      "(1,)\n"
     ]
    }
   ],
   "source": [
    "# Execute the code below and see the difference between a list, a tuple and a scalar (a simple number)\n",
    "is_a_list = [1]\n",
    "print(is_a_list)\n",
    "not_a_tuple=(1)\n",
    "print(not_a_tuple)\n",
    "is_a_tuple=(1,)\n",
    "print(is_a_tuple)"
   ]
  },
  {
   "cell_type": "code",
   "execution_count": 44,
   "metadata": {},
   "outputs": [],
   "source": [
    "# Multiple return values are passed back as a list\n",
    "# The function below returns 2 values in a tuple\n",
    "def get_stats(all_sales):\n",
    "    total = 0\n",
    "    for item in all_sales:\n",
    "        total+=item\n",
    "    average = total/len(all_sales)\n",
    "    # The function is almost finished for you. Add the last line to return total and average as a tuple\n"
   ]
  },
  {
   "cell_type": "code",
   "execution_count": 67,
   "metadata": {},
   "outputs": [],
   "source": [
    "# Call the function with the following sales list. Assign the return value to variable stats\n",
    "sales = [89.4, 78.5, 56, 91, 63.3]\n",
    "\n",
    "# Print out stats\n",
    "\n",
    "# Try to change the first value of stats to 100. See what happens\n"
   ]
  },
  {
   "cell_type": "markdown",
   "metadata": {},
   "source": [
    "### Now You Try 5"
   ]
  },
  {
   "cell_type": "code",
   "execution_count": 5,
   "metadata": {},
   "outputs": [],
   "source": [
    "# Create a function min_max that takes a list as an argument. The parameter could have \n",
    "# any appropriate name. Return the min and max item of the list as a tuple\n"
   ]
  },
  {
   "cell_type": "code",
   "execution_count": 68,
   "metadata": {},
   "outputs": [],
   "source": [
    "# Call the function using the following list named list1\n",
    "# display the result\n",
    "list1 = [98, 56, 44, 87, 66, 39]\n"
   ]
  }
 ],
 "metadata": {
  "kernelspec": {
   "display_name": "Python 3",
   "language": "python",
   "name": "python3"
  },
  "language_info": {
   "codemirror_mode": {
    "name": "ipython",
    "version": 3
   },
   "file_extension": ".py",
   "mimetype": "text/x-python",
   "name": "python",
   "nbconvert_exporter": "python",
   "pygments_lexer": "ipython3",
   "version": "3.8.8"
  }
 },
 "nbformat": 4,
 "nbformat_minor": 4
}
