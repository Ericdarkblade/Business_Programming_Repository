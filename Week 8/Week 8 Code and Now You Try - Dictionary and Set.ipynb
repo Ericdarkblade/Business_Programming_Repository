{
 "cells": [
  {
   "cell_type": "markdown",
   "metadata": {},
   "source": [
    "# Week 8 Code and Now You Try - Dictionaries and Sets\n",
    "\n",
    "## Dictionaries\n",
    "\n",
    "### Basics of a dictionary\n"
   ]
  },
  {
   "cell_type": "code",
   "execution_count": 1,
   "metadata": {},
   "outputs": [
    {
     "name": "stderr",
     "output_type": "stream",
     "text": [
      "C:\\Users\\ezmos\\AppData\\Local\\Temp\\ipykernel_32320\\2720815156.py:2: DeprecationWarning: Importing display from IPython.core.display is deprecated since IPython 7.14, please import from IPython display\n",
      "  from IPython.core.display import display, HTML\n"
     ]
    },
    {
     "data": {
      "text/html": [
       "<style>.container { width:100% !important; }</style>"
      ],
      "text/plain": [
       "<IPython.core.display.HTML object>"
      ]
     },
     "metadata": {},
     "output_type": "display_data"
    }
   ],
   "source": [
    "# This cell is for wide display and better use of screen space\n",
    "from IPython.core.display import display, HTML\n",
    "display(HTML(\"<style>.container { width:100% !important; }</style>\"))"
   ]
  },
  {
   "cell_type": "code",
   "execution_count": 2,
   "metadata": {},
   "outputs": [
    {
     "data": {
      "text/plain": [
       "{'Chris': '555-1111', 'Katie': '555-2222', 'Jack': '555-3333'}"
      ]
     },
     "execution_count": 2,
     "metadata": {},
     "output_type": "execute_result"
    }
   ],
   "source": [
    "# Create a dictionary by directly adding values to it\n",
    "phonebook = {'Chris': '555-1111', \n",
    "             'Katie': '555-2222', \n",
    "             'Jack': '555-3333'}\n",
    "phonebook"
   ]
  },
  {
   "cell_type": "code",
   "execution_count": 3,
   "metadata": {},
   "outputs": [],
   "source": [
    "# Creata a dictionary 'languages' with the following key value pairs: \n",
    "# China: Chinese, US: English, France: French\n",
    "# Disply the dictionary\n",
    "languages = {\"China\": \"Chinese\", \"US\": \"English\", \"France\": \"French\"}"
   ]
  },
  {
   "cell_type": "code",
   "execution_count": 4,
   "metadata": {},
   "outputs": [
    {
     "data": {
      "text/plain": [
       "{}"
      ]
     },
     "execution_count": 4,
     "metadata": {},
     "output_type": "execute_result"
    }
   ],
   "source": [
    "# Create an empty dictionary with a pair of {}. Display it.\n",
    "empty_dict = {}\n",
    "empty_dict"
   ]
  },
  {
   "cell_type": "code",
   "execution_count": 5,
   "metadata": {},
   "outputs": [
    {
     "data": {
      "text/plain": [
       "{'id1': [0, 1], 'id2': [2, 3]}"
      ]
     },
     "execution_count": 5,
     "metadata": {},
     "output_type": "execute_result"
    }
   ],
   "source": [
    "# Lists can be values in a dictionary\n",
    "dict1 = {'id1': [0, 1], \n",
    "          'id2': [2, 3]}\n",
    "dict1"
   ]
  },
  {
   "cell_type": "code",
   "execution_count": 6,
   "metadata": {},
   "outputs": [
    {
     "ename": "TypeError",
     "evalue": "unhashable type: 'list'",
     "output_type": "error",
     "traceback": [
      "\u001b[1;31m---------------------------------------------------------------------------\u001b[0m",
      "\u001b[1;31mTypeError\u001b[0m                                 Traceback (most recent call last)",
      "\u001b[1;32mc:\\Users\\ezmos\\OneDrive - Indiana University\\My Courses\\Fall 2023\\BUS-S 364\\Business_Programming_Repository\\Week 8\\Week 8 Code and Now You Try - Dictionary and Set.ipynb Cell 7\u001b[0m line \u001b[0;36m3\n\u001b[0;32m      <a href='vscode-notebook-cell:/c%3A/Users/ezmos/OneDrive%20-%20Indiana%20University/My%20Courses/Fall%202023/BUS-S%20364/Business_Programming_Repository/Week%208/Week%208%20Code%20and%20Now%20You%20Try%20-%20Dictionary%20and%20Set.ipynb#W6sZmlsZQ%3D%3D?line=0'>1</a>\u001b[0m \u001b[39m# Keys cannot be mutable. For example, lists cannot be used as keys\u001b[39;00m\n\u001b[0;32m      <a href='vscode-notebook-cell:/c%3A/Users/ezmos/OneDrive%20-%20Indiana%20University/My%20Courses/Fall%202023/BUS-S%20364/Business_Programming_Repository/Week%208/Week%208%20Code%20and%20Now%20You%20Try%20-%20Dictionary%20and%20Set.ipynb#W6sZmlsZQ%3D%3D?line=1'>2</a>\u001b[0m \u001b[39m# Execute the code and see what you get\u001b[39;00m\n\u001b[1;32m----> <a href='vscode-notebook-cell:/c%3A/Users/ezmos/OneDrive%20-%20Indiana%20University/My%20Courses/Fall%202023/BUS-S%20364/Business_Programming_Repository/Week%208/Week%208%20Code%20and%20Now%20You%20Try%20-%20Dictionary%20and%20Set.ipynb#W6sZmlsZQ%3D%3D?line=2'>3</a>\u001b[0m dict2 \u001b[39m=\u001b[39m {[\u001b[39m0\u001b[39m, \u001b[39m1\u001b[39m]: \u001b[39m'\u001b[39m\u001b[39mid1\u001b[39m\u001b[39m'\u001b[39m, [\u001b[39m2\u001b[39m, \u001b[39m3\u001b[39m]: \u001b[39m'\u001b[39m\u001b[39mid2\u001b[39m\u001b[39m'\u001b[39m}\n",
      "\u001b[1;31mTypeError\u001b[0m: unhashable type: 'list'"
     ]
    }
   ],
   "source": [
    "# Keys cannot be mutable. For example, lists cannot be used as keys\n",
    "# Execute the code and see what you get\n",
    "dict2 = {[0, 1]: 'id1', [2, 3]: 'id2'} "
   ]
  },
  {
   "cell_type": "code",
   "execution_count": 7,
   "metadata": {},
   "outputs": [
    {
     "data": {
      "text/plain": [
       "{(0, 1): 'id1', (2, 3): 'id2'}"
      ]
     },
     "execution_count": 7,
     "metadata": {},
     "output_type": "execute_result"
    }
   ],
   "source": [
    "# Can tuples be keys of a dictionary? It is not a good practice to do so though\n",
    "dict2 = {(0, 1): 'id1', (2, 3): 'id2'} \n",
    "dict2"
   ]
  },
  {
   "cell_type": "code",
   "execution_count": 8,
   "metadata": {},
   "outputs": [
    {
     "name": "stdout",
     "output_type": "stream",
     "text": [
      "{1: 'c'}\n"
     ]
    }
   ],
   "source": [
    "# Keys cannot be duplicate. Execute the code below, what do you get?\n",
    "dict3 = {1: 'a', 1: 'b', 1: 'c'}\n",
    "print(dict3)"
   ]
  },
  {
   "cell_type": "code",
   "execution_count": 9,
   "metadata": {},
   "outputs": [
    {
     "name": "stdout",
     "output_type": "stream",
     "text": [
      "{1: 'a', 2: 'a', 3: 'a'}\n"
     ]
    }
   ],
   "source": [
    "# Execute the following code. What conclusion do you draw?\n",
    "dict4 = {1: 'a', 2: 'a', 3: 'a'}\n",
    "print(dict4)"
   ]
  },
  {
   "cell_type": "code",
   "execution_count": 10,
   "metadata": {},
   "outputs": [
    {
     "data": {
      "text/plain": [
       "{'A': [1, 2, 3], 2: 'A string', 5.5: (True, False)}"
      ]
     },
     "execution_count": 10,
     "metadata": {},
     "output_type": "execute_result"
    }
   ],
   "source": [
    "# Both the keys and values can have different data types\n",
    "# It is not a good practice to use keys of different types though\n",
    "# Execute the code below and see what you get.\n",
    "dict5 = {\"A\": [1, 2, 3], 2: \"A string\", 5.5: (True, False)}\n",
    "dict5"
   ]
  },
  {
   "cell_type": "code",
   "execution_count": 11,
   "metadata": {},
   "outputs": [
    {
     "data": {
      "text/plain": [
       "3"
      ]
     },
     "execution_count": 11,
     "metadata": {},
     "output_type": "execute_result"
    }
   ],
   "source": [
    "# Get the number of elements in phonebook using len()\n",
    "len(phonebook)"
   ]
  },
  {
   "cell_type": "code",
   "execution_count": 12,
   "metadata": {},
   "outputs": [
    {
     "data": {
      "text/plain": [
       "0"
      ]
     },
     "execution_count": 12,
     "metadata": {},
     "output_type": "execute_result"
    }
   ],
   "source": [
    "# Create an empty dictionary using dict() and get its length\n",
    "len(dict())"
   ]
  },
  {
   "cell_type": "code",
   "execution_count": 14,
   "metadata": {},
   "outputs": [
    {
     "data": {
      "text/plain": [
       "{'China': 'Chinese', 'US': 'English', 'France': 'French'}"
      ]
     },
     "execution_count": 14,
     "metadata": {},
     "output_type": "execute_result"
    }
   ],
   "source": [
    "# Duplicate a dictionary using copy(). Create a variable 'language2' by copying language\n",
    "# Display language2\n",
    "language2 = languages.copy()\n",
    "language2"
   ]
  },
  {
   "cell_type": "markdown",
   "metadata": {},
   "source": [
    "### Retrieving values from a dictionary\n"
   ]
  },
  {
   "cell_type": "code",
   "execution_count": 15,
   "metadata": {},
   "outputs": [
    {
     "data": {
      "text/plain": [
       "{'Chris': '555-1111', 'Katie': '555-2222', 'Jack': '555-3333'}"
      ]
     },
     "execution_count": 15,
     "metadata": {},
     "output_type": "execute_result"
    }
   ],
   "source": [
    "# Display phonebook dictionary created above\n",
    "phonebook"
   ]
  },
  {
   "cell_type": "code",
   "execution_count": 17,
   "metadata": {},
   "outputs": [
    {
     "data": {
      "text/plain": [
       "'555-1111'"
      ]
     },
     "execution_count": 17,
     "metadata": {},
     "output_type": "execute_result"
    }
   ],
   "source": [
    "# Get the phone number of Chris using the index operator []\n",
    "phonebook['Chris']"
   ]
  },
  {
   "cell_type": "code",
   "execution_count": 20,
   "metadata": {},
   "outputs": [
    {
     "ename": "KeyError",
     "evalue": "'Lily'",
     "output_type": "error",
     "traceback": [
      "\u001b[1;31m---------------------------------------------------------------------------\u001b[0m",
      "\u001b[1;31mKeyError\u001b[0m                                  Traceback (most recent call last)",
      "\u001b[1;32mc:\\Users\\ezmos\\OneDrive - Indiana University\\My Courses\\Fall 2023\\BUS-S 364\\Business_Programming_Repository\\Week 8\\Week 8 Code and Now You Try - Dictionary and Set.ipynb Cell 18\u001b[0m line \u001b[0;36m2\n\u001b[0;32m      <a href='vscode-notebook-cell:/c%3A/Users/ezmos/OneDrive%20-%20Indiana%20University/My%20Courses/Fall%202023/BUS-S%20364/Business_Programming_Repository/Week%208/Week%208%20Code%20and%20Now%20You%20Try%20-%20Dictionary%20and%20Set.ipynb#X23sZmlsZQ%3D%3D?line=0'>1</a>\u001b[0m \u001b[39m# Lily's number is not stored in the phonebook, let's try to retrieve her number and see what happens\u001b[39;00m\n\u001b[1;32m----> <a href='vscode-notebook-cell:/c%3A/Users/ezmos/OneDrive%20-%20Indiana%20University/My%20Courses/Fall%202023/BUS-S%20364/Business_Programming_Repository/Week%208/Week%208%20Code%20and%20Now%20You%20Try%20-%20Dictionary%20and%20Set.ipynb#X23sZmlsZQ%3D%3D?line=1'>2</a>\u001b[0m phonebook[\u001b[39m'\u001b[39m\u001b[39mLily\u001b[39m\u001b[39m'\u001b[39m]\n",
      "\u001b[1;31mKeyError\u001b[0m: 'Lily'"
     ]
    }
   ],
   "source": [
    "# Lily's number is not stored in the phonebook, let's try to retrieve her number and see what happens\n",
    "phonebook['Lily']\n"
   ]
  },
  {
   "cell_type": "code",
   "execution_count": 21,
   "metadata": {},
   "outputs": [
    {
     "name": "stdout",
     "output_type": "stream",
     "text": [
      "Lily is not in the phonebook\n"
     ]
    }
   ],
   "source": [
    "# Write a if statement to check whether Lily is in the phonebook before trying to retrieve her number\n",
    "# Use in and print a proper message if Lily is not in the phonebook. Otherwise, print her number\n",
    "print(phonebook['Lily'] if 'Lily' in phonebook else 'Lily is not in the phonebook')"
   ]
  },
  {
   "cell_type": "code",
   "execution_count": 22,
   "metadata": {},
   "outputs": [
    {
     "name": "stdout",
     "output_type": "stream",
     "text": [
      "Chris 555-1111\n",
      "Katie 555-2222\n",
      "Lily is not in the phonebook!\n"
     ]
    }
   ],
   "source": [
    "# Store keys in a list and iterate through the keys to retrieve values\n",
    "phonebook = {'Chris': '555-1111', \n",
    "             'Katie': '555-2222', \n",
    "             'Jack': '555-3333'}\n",
    "name_list = ['Chris', 'Katie', 'Lily']\n",
    "for name in name_list:\n",
    "    if name in phonebook:\n",
    "        print(name, phonebook[name])\n",
    "    else:\n",
    "        print(name, 'is not in the phonebook!')"
   ]
  },
  {
   "cell_type": "code",
   "execution_count": 23,
   "metadata": {},
   "outputs": [
    {
     "data": {
      "text/plain": [
       "'555-1111'"
      ]
     },
     "execution_count": 23,
     "metadata": {},
     "output_type": "execute_result"
    }
   ],
   "source": [
    "# Use get(key, default) to retrieve values of keys. It prevents key errors by setting a default value\n",
    "# Use get() to retrieve Chris's number. Use \"The key is not found\" as the default value\n",
    "phonebook.get('Chris','The key is not found')"
   ]
  },
  {
   "cell_type": "code",
   "execution_count": 24,
   "metadata": {},
   "outputs": [
    {
     "data": {
      "text/plain": [
       "'The key is not found'"
      ]
     },
     "execution_count": 24,
     "metadata": {},
     "output_type": "execute_result"
    }
   ],
   "source": [
    "# Use get() to find Lily's number. Use \"The key is not found\" as the default value\n",
    "phonebook.get('Lily','The key is not found')"
   ]
  },
  {
   "cell_type": "markdown",
   "metadata": {},
   "source": [
    "### Update, add or remove values\n"
   ]
  },
  {
   "cell_type": "code",
   "execution_count": 25,
   "metadata": {},
   "outputs": [
    {
     "data": {
      "text/plain": [
       "{'Chris': '555-1111', 'Katie': '555-2222', 'Jack': '555-3333'}"
      ]
     },
     "execution_count": 25,
     "metadata": {},
     "output_type": "execute_result"
    }
   ],
   "source": [
    "# Display the content of the phonebook again\n",
    "phonebook"
   ]
  },
  {
   "cell_type": "code",
   "execution_count": 27,
   "metadata": {},
   "outputs": [
    {
     "data": {
      "text/plain": [
       "{'Chris': '555-1111',\n",
       " 'Katie': '555-2222',\n",
       " 'Jack': '555-3333',\n",
       " 'Bill': '555-4444'}"
      ]
     },
     "execution_count": 27,
     "metadata": {},
     "output_type": "execute_result"
    }
   ],
   "source": [
    "# Add Bill with number \"555-4444\" to the phonebook and display the phonebook. Did you see Bill added?\n",
    "phonebook[\"Bill\"] = \"555-4444\"\n",
    "phonebook"
   ]
  },
  {
   "cell_type": "code",
   "execution_count": 29,
   "metadata": {},
   "outputs": [
    {
     "data": {
      "text/plain": [
       "{'Chris': '555-1111',\n",
       " 'Katie': '555-2222',\n",
       " 'Jack': '555-0000',\n",
       " 'Bill': '555-4444'}"
      ]
     },
     "execution_count": 29,
     "metadata": {},
     "output_type": "execute_result"
    }
   ],
   "source": [
    "# Jack's number is in the phonebook but let's update it to 555-0000. Display the phonebook\n",
    "phonebook['Jack'] = \"555-0000\"\n",
    "phonebook"
   ]
  },
  {
   "cell_type": "code",
   "execution_count": 30,
   "metadata": {
    "scrolled": true
   },
   "outputs": [
    {
     "data": {
      "text/plain": [
       "{'Chris': '555-1111',\n",
       " 'Katie': '555-2222',\n",
       " 'Jack': '555-0000',\n",
       " 'Bill': '555-4444'}"
      ]
     },
     "execution_count": 30,
     "metadata": {},
     "output_type": "execute_result"
    }
   ],
   "source": [
    "# Just like list, assign phonebook to another variable does not create a new dictionary.\n",
    "# Assign phonebook to a new variable named phone_bk. Display phone_bk\n",
    "phone_bk = phonebook\n",
    "phone_bk"
   ]
  },
  {
   "cell_type": "code",
   "execution_count": 34,
   "metadata": {},
   "outputs": [
    {
     "name": "stdout",
     "output_type": "stream",
     "text": [
      "{'Katie': '555-2222', 'Jack': '555-0000', 'Bill': '555-4444', 'Chris': '22222'}\n",
      "{'Katie': '555-2222', 'Jack': '555-0000', 'Bill': '555-4444', 'Chris': '22222'}\n"
     ]
    }
   ],
   "source": [
    "# Change Chris's number in phone_bk to 22222. Dsiplay both phonebook and phone_bk\n",
    "phone_bk['Chris'] = '22222'\n",
    "print(phone_bk)\n",
    "print(phonebook)"
   ]
  },
  {
   "cell_type": "code",
   "execution_count": 35,
   "metadata": {},
   "outputs": [
    {
     "data": {
      "text/plain": [
       "{'Katie': '555-2222', 'Jack': '555-0000', 'Bill': '555-4444'}"
      ]
     },
     "execution_count": 35,
     "metadata": {},
     "output_type": "execute_result"
    }
   ],
   "source": [
    "# Delete Chris's number using del and display phonebook\n",
    "del phonebook['Chris']\n",
    "phonebook"
   ]
  },
  {
   "cell_type": "code",
   "execution_count": 36,
   "metadata": {},
   "outputs": [
    {
     "ename": "KeyError",
     "evalue": "'Lily'",
     "output_type": "error",
     "traceback": [
      "\u001b[1;31m---------------------------------------------------------------------------\u001b[0m",
      "\u001b[1;31mKeyError\u001b[0m                                  Traceback (most recent call last)",
      "\u001b[1;32mc:\\Users\\ezmos\\OneDrive - Indiana University\\My Courses\\Fall 2023\\BUS-S 364\\Business_Programming_Repository\\Week 8\\Week 8 Code and Now You Try - Dictionary and Set.ipynb Cell 30\u001b[0m line \u001b[0;36m2\n\u001b[0;32m      <a href='vscode-notebook-cell:/c%3A/Users/ezmos/OneDrive%20-%20Indiana%20University/My%20Courses/Fall%202023/BUS-S%20364/Business_Programming_Repository/Week%208/Week%208%20Code%20and%20Now%20You%20Try%20-%20Dictionary%20and%20Set.ipynb#X41sZmlsZQ%3D%3D?line=0'>1</a>\u001b[0m \u001b[39m# Try to use del to delete Lily's number and see what happens\u001b[39;00m\n\u001b[1;32m----> <a href='vscode-notebook-cell:/c%3A/Users/ezmos/OneDrive%20-%20Indiana%20University/My%20Courses/Fall%202023/BUS-S%20364/Business_Programming_Repository/Week%208/Week%208%20Code%20and%20Now%20You%20Try%20-%20Dictionary%20and%20Set.ipynb#X41sZmlsZQ%3D%3D?line=1'>2</a>\u001b[0m \u001b[39mdel\u001b[39;00m phonebook[\u001b[39m'\u001b[39m\u001b[39mLily\u001b[39m\u001b[39m'\u001b[39m]\n",
      "\u001b[1;31mKeyError\u001b[0m: 'Lily'"
     ]
    }
   ],
   "source": [
    "# Try to use del to delete Lily's number and see what happens\n",
    "del phonebook['Lily']"
   ]
  },
  {
   "cell_type": "code",
   "execution_count": 37,
   "metadata": {},
   "outputs": [],
   "source": [
    "# Use if statement and in to try the deletion of Lily's number\n",
    "if 'Lily' in phonebook:\n",
    "    del phonebook['Lily']"
   ]
  },
  {
   "cell_type": "code",
   "execution_count": 38,
   "metadata": {},
   "outputs": [],
   "source": [
    "# Use pop() to remove Bill from the phonebook. Save the returned value in variable bill_phone. Display\n",
    "# both bill_phone and the phonebook. What conclusion can you draw?\n",
    "\n",
    "bill_phone = phonebook.pop('Bill')\n"
   ]
  },
  {
   "cell_type": "code",
   "execution_count": 41,
   "metadata": {},
   "outputs": [
    {
     "ename": "KeyError",
     "evalue": "'Lilly'",
     "output_type": "error",
     "traceback": [
      "\u001b[1;31m---------------------------------------------------------------------------\u001b[0m",
      "\u001b[1;31mKeyError\u001b[0m                                  Traceback (most recent call last)",
      "\u001b[1;32mc:\\Users\\ezmos\\OneDrive - Indiana University\\My Courses\\Fall 2023\\BUS-S 364\\Business_Programming_Repository\\Week 8\\Week 8 Code and Now You Try - Dictionary and Set.ipynb Cell 33\u001b[0m line \u001b[0;36m2\n\u001b[0;32m      <a href='vscode-notebook-cell:/c%3A/Users/ezmos/OneDrive%20-%20Indiana%20University/My%20Courses/Fall%202023/BUS-S%20364/Business_Programming_Repository/Week%208/Week%208%20Code%20and%20Now%20You%20Try%20-%20Dictionary%20and%20Set.ipynb#X44sZmlsZQ%3D%3D?line=0'>1</a>\u001b[0m \u001b[39m# Let's try to pop Lily and see what happens.\u001b[39;00m\n\u001b[1;32m----> <a href='vscode-notebook-cell:/c%3A/Users/ezmos/OneDrive%20-%20Indiana%20University/My%20Courses/Fall%202023/BUS-S%20364/Business_Programming_Repository/Week%208/Week%208%20Code%20and%20Now%20You%20Try%20-%20Dictionary%20and%20Set.ipynb#X44sZmlsZQ%3D%3D?line=1'>2</a>\u001b[0m phonebook\u001b[39m.\u001b[39mpop(\u001b[39m'\u001b[39m\u001b[39mLilly\u001b[39m\u001b[39m'\u001b[39m)\n",
      "\u001b[1;31mKeyError\u001b[0m: 'Lilly'"
     ]
    }
   ],
   "source": [
    "# Let's try to pop Lily and see what happens.\n",
    "phonebook.pop('Lilly')"
   ]
  },
  {
   "cell_type": "code",
   "execution_count": 42,
   "metadata": {},
   "outputs": [
    {
     "data": {
      "text/plain": [
       "{'Katie': '555-2222', 'Jack': '555-0000', 'Helen': '123-4566'}"
      ]
     },
     "execution_count": 42,
     "metadata": {},
     "output_type": "execute_result"
    }
   ],
   "source": [
    "# Add a new item: Helen with phone number 123-4567 in phonebook. Display phonebook\n",
    "phonebook['Helen'] = '123-4566'\n",
    "phonebook"
   ]
  },
  {
   "cell_type": "code",
   "execution_count": 43,
   "metadata": {},
   "outputs": [
    {
     "ename": "TypeError",
     "evalue": "pop expected at least 1 argument, got 0",
     "output_type": "error",
     "traceback": [
      "\u001b[1;31m---------------------------------------------------------------------------\u001b[0m",
      "\u001b[1;31mTypeError\u001b[0m                                 Traceback (most recent call last)",
      "\u001b[1;32mc:\\Users\\ezmos\\OneDrive - Indiana University\\My Courses\\Fall 2023\\BUS-S 364\\Business_Programming_Repository\\Week 8\\Week 8 Code and Now You Try - Dictionary and Set.ipynb Cell 35\u001b[0m line \u001b[0;36m2\n\u001b[0;32m      <a href='vscode-notebook-cell:/c%3A/Users/ezmos/OneDrive%20-%20Indiana%20University/My%20Courses/Fall%202023/BUS-S%20364/Business_Programming_Repository/Week%208/Week%208%20Code%20and%20Now%20You%20Try%20-%20Dictionary%20and%20Set.ipynb#X46sZmlsZQ%3D%3D?line=0'>1</a>\u001b[0m \u001b[39m# See whether using pop() without any argument can return Helen's number. What do you get?\u001b[39;00m\n\u001b[1;32m----> <a href='vscode-notebook-cell:/c%3A/Users/ezmos/OneDrive%20-%20Indiana%20University/My%20Courses/Fall%202023/BUS-S%20364/Business_Programming_Repository/Week%208/Week%208%20Code%20and%20Now%20You%20Try%20-%20Dictionary%20and%20Set.ipynb#X46sZmlsZQ%3D%3D?line=1'>2</a>\u001b[0m phonebook\u001b[39m.\u001b[39mpop()\n",
      "\u001b[1;31mTypeError\u001b[0m: pop expected at least 1 argument, got 0"
     ]
    }
   ],
   "source": [
    "# See whether using pop() without any argument can return Helen's number. What do you get?\n",
    "phonebook.pop()"
   ]
  },
  {
   "cell_type": "code",
   "execution_count": 45,
   "metadata": {},
   "outputs": [
    {
     "data": {
      "text/plain": [
       "('Helen', '123-4566')"
      ]
     },
     "execution_count": 45,
     "metadata": {},
     "output_type": "execute_result"
    }
   ],
   "source": [
    "# Use popitem() to remove the last item inserted. Save the result to variable last_item and display\n",
    "# both last_item and phonebook\n",
    "last_item = phonebook.popitem()\n",
    "last_item"
   ]
  },
  {
   "cell_type": "code",
   "execution_count": 46,
   "metadata": {},
   "outputs": [
    {
     "ename": "KeyError",
     "evalue": "'popitem(): dictionary is empty'",
     "output_type": "error",
     "traceback": [
      "\u001b[1;31m---------------------------------------------------------------------------\u001b[0m",
      "\u001b[1;31mKeyError\u001b[0m                                  Traceback (most recent call last)",
      "\u001b[1;32mc:\\Users\\ezmos\\OneDrive - Indiana University\\My Courses\\Fall 2023\\BUS-S 364\\Business_Programming_Repository\\Week 8\\Week 8 Code and Now You Try - Dictionary and Set.ipynb Cell 37\u001b[0m line \u001b[0;36m2\n\u001b[0;32m      <a href='vscode-notebook-cell:/c%3A/Users/ezmos/OneDrive%20-%20Indiana%20University/My%20Courses/Fall%202023/BUS-S%20364/Business_Programming_Repository/Week%208/Week%208%20Code%20and%20Now%20You%20Try%20-%20Dictionary%20and%20Set.ipynb#X51sZmlsZQ%3D%3D?line=0'>1</a>\u001b[0m \u001b[39m# We have created an empty dictionary empty_dict before. Let's see what happens if popitem() is used on it.\u001b[39;00m\n\u001b[1;32m----> <a href='vscode-notebook-cell:/c%3A/Users/ezmos/OneDrive%20-%20Indiana%20University/My%20Courses/Fall%202023/BUS-S%20364/Business_Programming_Repository/Week%208/Week%208%20Code%20and%20Now%20You%20Try%20-%20Dictionary%20and%20Set.ipynb#X51sZmlsZQ%3D%3D?line=1'>2</a>\u001b[0m empty_dict\u001b[39m.\u001b[39mpopitem()\n",
      "\u001b[1;31mKeyError\u001b[0m: 'popitem(): dictionary is empty'"
     ]
    }
   ],
   "source": [
    "# We have created an empty dictionary empty_dict before. Let's see what happens if popitem() is used on it.\n",
    "empty_dict.popitem()"
   ]
  },
  {
   "cell_type": "code",
   "execution_count": 47,
   "metadata": {},
   "outputs": [
    {
     "data": {
      "text/plain": [
       "{}"
      ]
     },
     "execution_count": 47,
     "metadata": {},
     "output_type": "execute_result"
    }
   ],
   "source": [
    "# Use clear() to remove all items in phonebook and display phonebook\n",
    "phonebook.clear()\n",
    "phonebook"
   ]
  },
  {
   "cell_type": "code",
   "execution_count": 48,
   "metadata": {},
   "outputs": [],
   "source": [
    "# Can clear() be used on empty_dict? Will we get an error?\n",
    "empty_dict.clear()"
   ]
  },
  {
   "cell_type": "markdown",
   "metadata": {},
   "source": [
    "### Now you try 1\n"
   ]
  },
  {
   "cell_type": "code",
   "execution_count": 49,
   "metadata": {},
   "outputs": [],
   "source": [
    "# create a dictionary named 'plato' with the following values. Copy and paste will speed things up:\n",
    "# name: Plato, country: Ancient Greece, YOB: -427, \n",
    "# teacher: Socrates, student: 'Aristotle'\n",
    "# print the dictionary plato to make sure it is created properly.\n"
   ]
  },
  {
   "cell_type": "code",
   "execution_count": 31,
   "metadata": {},
   "outputs": [],
   "source": [
    "# Find how many items are there in the dictionary\n"
   ]
  },
  {
   "cell_type": "code",
   "execution_count": 32,
   "metadata": {},
   "outputs": [],
   "source": [
    "# Who is Platos teacher? Use the [] to find out\n"
   ]
  },
  {
   "cell_type": "code",
   "execution_count": 33,
   "metadata": {},
   "outputs": [],
   "source": [
    "# Use get() to find his teacher. Set the default value to an appropriate message\n"
   ]
  },
  {
   "cell_type": "code",
   "execution_count": 34,
   "metadata": {},
   "outputs": [],
   "source": [
    "# Check whether the dictionary has the information about Plato’s spouse, \n",
    "# if so, print it. If not, print out a proper message. Use get() or in\n"
   ]
  },
  {
   "cell_type": "code",
   "execution_count": 35,
   "metadata": {},
   "outputs": [],
   "source": [
    "# Change Plato’s birth year to B.C. 428 and print out the dict to confirm\n"
   ]
  },
  {
   "cell_type": "code",
   "execution_count": 36,
   "metadata": {},
   "outputs": [],
   "source": [
    "# Add Plato’s work to the dictionary. Use “work” as key and the following \n",
    "# values as the value of work: Apology, Phaedo, Republic, Symposium\n",
    "# Include all the work into a list before adding it to the dictionary\n",
    "# Display the dictionary\n",
    "\n"
   ]
  },
  {
   "cell_type": "markdown",
   "metadata": {},
   "source": [
    "### Iterate Through a Dictionary with for loop\n"
   ]
  },
  {
   "cell_type": "code",
   "execution_count": null,
   "metadata": {},
   "outputs": [],
   "source": [
    "# recreate phonebook to ensure the values are expected\n",
    "phonebook = {'Chris': '555-1111', \n",
    "             'Katie': '555-2222', \n",
    "             'Jack': '555-3333'}"
   ]
  },
  {
   "cell_type": "code",
   "execution_count": 20,
   "metadata": {},
   "outputs": [
    {
     "name": "stdout",
     "output_type": "stream",
     "text": [
      "Chris\n",
      "Chris : 555-1111\n",
      "Katie\n",
      "Katie : 555-2222\n",
      "Jack\n",
      "Jack : 555-3333\n"
     ]
    }
   ],
   "source": [
    "# Iterate through the phonebook using for loop. By default, the target variable will be the key\n",
    "for key in phonebook:\n",
    "    print(key)\n",
    "    print(key, \":\", phonebook[key])"
   ]
  },
  {
   "cell_type": "code",
   "execution_count": 37,
   "metadata": {},
   "outputs": [],
   "source": [
    "# keys() will return keys of the dictionary\n"
   ]
  },
  {
   "cell_type": "code",
   "execution_count": 38,
   "metadata": {},
   "outputs": [],
   "source": [
    "# Use for loop again to iterate through the keys using keys() explicitly\n"
   ]
  },
  {
   "cell_type": "code",
   "execution_count": 39,
   "metadata": {},
   "outputs": [],
   "source": [
    "# values() will return values of the dictionary. What does the return value look like?\n"
   ]
  },
  {
   "cell_type": "code",
   "execution_count": 40,
   "metadata": {},
   "outputs": [],
   "source": [
    "# Use for loop to iterate through all the values\n"
   ]
  },
  {
   "cell_type": "code",
   "execution_count": 41,
   "metadata": {},
   "outputs": [],
   "source": [
    "# items() return both keys and values. Study the returned value. What is the data type?\n"
   ]
  },
  {
   "cell_type": "code",
   "execution_count": 42,
   "metadata": {},
   "outputs": [],
   "source": [
    "# Use for loop to iterate through and print each item\n"
   ]
  },
  {
   "cell_type": "code",
   "execution_count": 43,
   "metadata": {},
   "outputs": [],
   "source": [
    "# Use 2 target variables in the for loop to unpack the values in each item\n",
    "# Print out the result\n"
   ]
  },
  {
   "cell_type": "markdown",
   "metadata": {},
   "source": [
    "### Now You Try 2\n"
   ]
  },
  {
   "cell_type": "code",
   "execution_count": 44,
   "metadata": {},
   "outputs": [],
   "source": [
    "# Iterate through the dictionary 'plato' using keys() and print out all the\n",
    "# elements in the format: key is value. For example: name is Plato, etc.\n"
   ]
  },
  {
   "cell_type": "code",
   "execution_count": 45,
   "metadata": {},
   "outputs": [],
   "source": [
    "# Iterate through the dictionary using items() and print out all the\n",
    "# elements in the format: key - value. For example: name - Plato, etc.\n",
    "# You can use either 2 target variables or 1 target variable but access key and value in it\n",
    "\n"
   ]
  },
  {
   "cell_type": "markdown",
   "metadata": {},
   "source": [
    "### Nested Dictionary\n"
   ]
  },
  {
   "cell_type": "code",
   "execution_count": 25,
   "metadata": {},
   "outputs": [
    {
     "data": {
      "text/plain": [
       "{'Amy': {'major': 'Finance', 'age': 19},\n",
       " 'John': {'major': 'Accounting', 'age': 22},\n",
       " 'Sarah': {'major': 'Marketing', 'age': 20}}"
      ]
     },
     "execution_count": 25,
     "metadata": {},
     "output_type": "execute_result"
    }
   ],
   "source": [
    "# Create a nested dictionary where the values are dictionaries\n",
    "students = {'Amy':{'major':'Finance','age':19}, \n",
    "            'John': {'major': 'Accounting', 'age': 22}, \n",
    "            'Sarah': {'major': 'Marketing', 'age': 20}} \n",
    "students"
   ]
  },
  {
   "cell_type": "code",
   "execution_count": 46,
   "metadata": {},
   "outputs": [],
   "source": [
    "# Retrieve values associated with student Amy\n"
   ]
  },
  {
   "cell_type": "code",
   "execution_count": 47,
   "metadata": {},
   "outputs": [],
   "source": [
    "# Retrieve Amy's major\n"
   ]
  },
  {
   "cell_type": "code",
   "execution_count": 48,
   "metadata": {},
   "outputs": [],
   "source": [
    "# Change John's age to 80 and print out the dictionary\n"
   ]
  },
  {
   "cell_type": "code",
   "execution_count": 49,
   "metadata": {},
   "outputs": [],
   "source": [
    "# Iterate through the dictionary using nested for loops\n"
   ]
  },
  {
   "cell_type": "markdown",
   "metadata": {},
   "source": [
    "### Now You Try 3\n"
   ]
  },
  {
   "cell_type": "code",
   "execution_count": 35,
   "metadata": {},
   "outputs": [
    {
     "data": {
      "text/plain": [
       "{'Amy': {'major': 'Finance', 'age': 19, 'Gender': 'Female'},\n",
       " 'John': {'major': 'Accounting', 'age': 22, 'Gender': 'Male'},\n",
       " 'Sarah': {'major': 'Marketing', 'age': 20, 'Gender': 'Female'}}"
      ]
     },
     "execution_count": 35,
     "metadata": {},
     "output_type": "execute_result"
    }
   ],
   "source": [
    "# For the dictionary 'students' above, add gender to each student. Do this one student at a time\n",
    "# Amy and Sarah: Female, John: male. dictionary students after the change \n"
   ]
  },
  {
   "cell_type": "code",
   "execution_count": 50,
   "metadata": {},
   "outputs": [],
   "source": [
    "# Use keys() to print out all the keys in 'students'\n"
   ]
  },
  {
   "cell_type": "code",
   "execution_count": 34,
   "metadata": {},
   "outputs": [
    {
     "data": {
      "text/plain": [
       "dict_values([{'major': 'Finance', 'age': 19}, {'major': 'Accounting', 'age': 22}, {'major': 'Marketing', 'age': 20}])"
      ]
     },
     "execution_count": 34,
     "metadata": {},
     "output_type": "execute_result"
    }
   ],
   "source": [
    "# Use values() to print out all the values in 'students'\n"
   ]
  },
  {
   "cell_type": "code",
   "execution_count": 51,
   "metadata": {},
   "outputs": [],
   "source": [
    "# iterate through 'students' to print out all the ages as in the format of Amy 19, etc. Each student in their own line\n"
   ]
  },
  {
   "cell_type": "code",
   "execution_count": 27,
   "metadata": {},
   "outputs": [
    {
     "data": {
      "text/plain": [
       "'\\nWriting programs (or programming) is a very creative and rewarding activity.  You can write programs \\nfor many reasons ranging from making your living to solving a difficult data analysis problem to having \\nfun to helping someone else solve a problem.  This book assumes that everyone needs to know how to \\nprogram and that once you know how to program, you will figure out what you want to do with your newfound skills.\\n'"
      ]
     },
     "execution_count": 27,
     "metadata": {},
     "output_type": "execute_result"
    }
   ],
   "source": [
    "# Counting words. Count the number of times each word appears and save in a dictionary counts\n",
    "text = '''\n",
    "Writing programs (or programming) is a very creative and rewarding activity.  You can write programs \n",
    "for many reasons ranging from making your living to solving a difficult data analysis problem to having \n",
    "fun to helping someone else solve a problem.  This book assumes that everyone needs to know how to \n",
    "program and that once you know how to program, you will figure out what you want to do with your newfound skills.\n",
    "'''\n",
    "text"
   ]
  },
  {
   "cell_type": "code",
   "execution_count": 52,
   "metadata": {},
   "outputs": [],
   "source": [
    "# Step 1: remove \"(\" and \")\" from the text since they are not words\n",
    "# save the result in 'clean_text'. You can use replace()\n",
    "\n",
    "# Step 2: split clean_text into a list of words assigned to word_list\n",
    "\n",
    "\n",
    "# Step 3: create an empty dictionary 'word_count_dict'. \n",
    "\n",
    "# Step 4: Use for loop to iterate through word_list\n",
    "\n",
    "# Inside the loop, check whether the word exist in the dictionary. \n",
    "# If so, add 1 to its existing value. \n",
    "# If not, add a new item: the word is the key and the value is 1 \n",
    "    \n",
    "    \n",
    "# Print word_count_dict outside of the loop\n"
   ]
  },
  {
   "cell_type": "code",
   "execution_count": 53,
   "metadata": {},
   "outputs": [],
   "source": [
    "# What is the max number of times a word appeared? Use max(). Save result to variable max_word\n"
   ]
  },
  {
   "cell_type": "code",
   "execution_count": 54,
   "metadata": {},
   "outputs": [],
   "source": [
    "# What is the word that appears the most number of times? Use a for loop to retrieve the word\n",
    "# max(word_count_dict, key=word_count_dict.get)\n",
    "\n",
    "\n"
   ]
  },
  {
   "cell_type": "markdown",
   "metadata": {},
   "source": [
    "## Sets\n",
    "\n",
    "### Set basics\n"
   ]
  },
  {
   "cell_type": "code",
   "execution_count": 10,
   "metadata": {},
   "outputs": [
    {
     "data": {
      "text/plain": [
       "dict"
      ]
     },
     "execution_count": 10,
     "metadata": {},
     "output_type": "execute_result"
    }
   ],
   "source": [
    "# This cannot create an empty set\n",
    "set1 = {}\n",
    "type(set1)"
   ]
  },
  {
   "cell_type": "code",
   "execution_count": 11,
   "metadata": {},
   "outputs": [
    {
     "data": {
      "text/plain": [
       "set()"
      ]
     },
     "execution_count": 11,
     "metadata": {},
     "output_type": "execute_result"
    }
   ],
   "source": [
    "# This create an empty set\n",
    "set1 = set()\n",
    "set1"
   ]
  },
  {
   "cell_type": "code",
   "execution_count": 12,
   "metadata": {},
   "outputs": [
    {
     "data": {
      "text/plain": [
       "{1, 2, 3}"
      ]
     },
     "execution_count": 12,
     "metadata": {},
     "output_type": "execute_result"
    }
   ],
   "source": [
    "# To create a set, you must pass an iterable as an argument. Create a set based on a list\n",
    "# Note that duplicates are removed\n",
    "list1 = [1, 1, 2, 3]\n",
    "set1 = set(list1)\n",
    "set1"
   ]
  },
  {
   "cell_type": "code",
   "execution_count": 13,
   "metadata": {},
   "outputs": [
    {
     "data": {
      "text/plain": [
       "{1, 2, 3, 4}"
      ]
     },
     "execution_count": 13,
     "metadata": {},
     "output_type": "execute_result"
    }
   ],
   "source": [
    "# A set can be created by directly pass in values in {}\n",
    "set2 = {1, 2, 3, 4, 4}\n",
    "set2"
   ]
  },
  {
   "cell_type": "code",
   "execution_count": 55,
   "metadata": {},
   "outputs": [],
   "source": [
    "# Note the behevior when a string is passed in to set()\n",
    "set2 = set(\"Happy new year!\")\n",
    "set2"
   ]
  },
  {
   "cell_type": "code",
   "execution_count": 56,
   "metadata": {},
   "outputs": [],
   "source": [
    "# in can be used to check the membership of a set. Check if \"Happy\" is in set2\n"
   ]
  },
  {
   "cell_type": "code",
   "execution_count": 16,
   "metadata": {},
   "outputs": [
    {
     "data": {
      "text/plain": [
       "{'!', 'Happy', 'new', 'year'}"
      ]
     },
     "execution_count": 16,
     "metadata": {},
     "output_type": "execute_result"
    }
   ],
   "source": [
    "# To create a set with actual strings, pass them in as a list. Note that the order is not preserved\n",
    "set3 = set(['Happy', 'new', 'year', '!'])\n",
    "set3"
   ]
  },
  {
   "cell_type": "code",
   "execution_count": 44,
   "metadata": {},
   "outputs": [
    {
     "data": {
      "text/plain": [
       "{'!', 'Happy', 'new', 'year'}"
      ]
     },
     "execution_count": 44,
     "metadata": {},
     "output_type": "execute_result"
    }
   ],
   "source": [
    "# The set can be created using {} directly also \n",
    "{'Happy', 'new', 'year', '!'}"
   ]
  },
  {
   "cell_type": "code",
   "execution_count": 58,
   "metadata": {},
   "outputs": [],
   "source": [
    "# A set cannot contain mutable elements. Try to create a set out of sets created above\n",
    "set4 = {set1, set2, set3}\n",
    "# set4 = set([set1, set2, set3])"
   ]
  },
  {
   "cell_type": "code",
   "execution_count": 59,
   "metadata": {},
   "outputs": [],
   "source": [
    "# Use len() to get number of element in set1\n"
   ]
  },
  {
   "cell_type": "code",
   "execution_count": 60,
   "metadata": {
    "scrolled": true
   },
   "outputs": [],
   "source": [
    "# Use len() to get number of element in set2\n"
   ]
  },
  {
   "cell_type": "code",
   "execution_count": 61,
   "metadata": {},
   "outputs": [],
   "source": [
    "# Use for loop to iterate through set3\n",
    "\n"
   ]
  },
  {
   "cell_type": "code",
   "execution_count": null,
   "metadata": {},
   "outputs": [],
   "source": [
    "# use in to check whether an element is in a set.\n"
   ]
  },
  {
   "cell_type": "code",
   "execution_count": 62,
   "metadata": {},
   "outputs": [],
   "source": [
    "# Add a single element to a set using add(). Let's add 1 to set2 and show set2\n",
    "\n"
   ]
  },
  {
   "cell_type": "code",
   "execution_count": 63,
   "metadata": {},
   "outputs": [],
   "source": [
    "# Add multiple elements to a set using update(). Add 'Health', 'Peace', \"Happy\"\n",
    "# to set3 and display the result\n",
    "\n"
   ]
  },
  {
   "cell_type": "code",
   "execution_count": null,
   "metadata": {},
   "outputs": [],
   "source": [
    "# Create 2 more sets. \n",
    "set4 = {\"a\", \"b\" , \"c\"}\n",
    "set5 = {1, 2, 3}"
   ]
  },
  {
   "cell_type": "code",
   "execution_count": 45,
   "metadata": {},
   "outputs": [
    {
     "data": {
      "text/plain": [
       "{1, 2, 3, 4}"
      ]
     },
     "execution_count": 45,
     "metadata": {},
     "output_type": "execute_result"
    }
   ],
   "source": [
    "# Add value 4 to set5 and display set5\n",
    "set5.add(4)\n",
    "set5"
   ]
  },
  {
   "cell_type": "code",
   "execution_count": 64,
   "metadata": {},
   "outputs": [],
   "source": [
    "# Use update() to add the content of set5 to set4, display set4\n",
    "\n"
   ]
  },
  {
   "cell_type": "code",
   "execution_count": 65,
   "metadata": {},
   "outputs": [],
   "source": [
    "# Use remove() to remove a specific element. Remove 1 from set4\n",
    "\n"
   ]
  },
  {
   "cell_type": "code",
   "execution_count": 66,
   "metadata": {},
   "outputs": [],
   "source": [
    "# Let's try to remove 1 again now that we know it is gone and see what will happen\n"
   ]
  },
  {
   "cell_type": "code",
   "execution_count": 67,
   "metadata": {},
   "outputs": [],
   "source": [
    "# discard() works as remove(), let's see how it behaves when trying to remove an item not in it.\n",
    "# Display set4\n"
   ]
  },
  {
   "cell_type": "code",
   "execution_count": 69,
   "metadata": {},
   "outputs": [],
   "source": [
    "# clear() removes all the elements. Clear set4 and display it\n",
    "\n"
   ]
  },
  {
   "cell_type": "markdown",
   "metadata": {},
   "source": [
    "### Now You Try 4\n"
   ]
  },
  {
   "cell_type": "code",
   "execution_count": 70,
   "metadata": {},
   "outputs": [],
   "source": [
    "# Create a set of the sales order status named 'status': 'Pending Approval', 'Pending Fulfillment', \n",
    "# 'Pending Billing', 'Billed', 'Closed’. Display it\n",
    "\n"
   ]
  },
  {
   "cell_type": "code",
   "execution_count": 71,
   "metadata": {},
   "outputs": [],
   "source": [
    "# Add a status: 'Partially Fulfilled’ to the set. Display the set\n",
    "\n"
   ]
  },
  {
   "cell_type": "code",
   "execution_count": 72,
   "metadata": {},
   "outputs": [],
   "source": [
    "# Get the number of items in the set\n"
   ]
  },
  {
   "cell_type": "code",
   "execution_count": 73,
   "metadata": {},
   "outputs": [],
   "source": [
    "# Use discard() to remove 'Billed'. Display status\n",
    "\n"
   ]
  },
  {
   "cell_type": "markdown",
   "metadata": {},
   "source": [
    "### Union, intersection and difference - Set specific operations\n"
   ]
  },
  {
   "cell_type": "code",
   "execution_count": 58,
   "metadata": {},
   "outputs": [],
   "source": [
    "# Declare 2 set variables\n",
    "set_1 = {1, 2, 3, 4}\n",
    "set_2 = {3, 4, 5, 6}"
   ]
  },
  {
   "cell_type": "code",
   "execution_count": 74,
   "metadata": {},
   "outputs": [],
   "source": [
    "# union finds all elements in at least one set. Save the result to set_3 using union()\n",
    "# save the result to set_4 using |. Display set_3 and set_4\n",
    "\n"
   ]
  },
  {
   "cell_type": "code",
   "execution_count": 75,
   "metadata": {},
   "outputs": [],
   "source": [
    "# intersection finds all elements appear in all sets involved. Save the result to set_3 using intersection()\n",
    "# save the result to set_4 using &. Display set_3 and set_4\n",
    "\n"
   ]
  },
  {
   "cell_type": "code",
   "execution_count": 76,
   "metadata": {},
   "outputs": [],
   "source": [
    "# difference finds elements in the first set but not in the second. Order matters for this operation.\n",
    "# Try to call difference() using different orders and use - with different orders.\n",
    "\n"
   ]
  },
  {
   "cell_type": "code",
   "execution_count": 60,
   "metadata": {},
   "outputs": [
    {
     "data": {
      "text/plain": [
       "{1, 2, 5, 6}"
      ]
     },
     "execution_count": 60,
     "metadata": {},
     "output_type": "execute_result"
    }
   ],
   "source": [
    "# symmetric_difference() finds all elements that are not in common of the two sets.\n",
    "# Try to call symmetric_difference(). Note order does not matter\n",
    "# set_1.symmetric_difference(set_2)\n",
    "set_2.symmetric_difference(set_1)"
   ]
  },
  {
   "cell_type": "code",
   "execution_count": 61,
   "metadata": {},
   "outputs": [
    {
     "data": {
      "text/plain": [
       "{1, 2, 5, 6}"
      ]
     },
     "execution_count": 61,
     "metadata": {},
     "output_type": "execute_result"
    }
   ],
   "source": [
    "# use ^ for symmetric difference\n",
    "set_1^set_2"
   ]
  },
  {
   "cell_type": "code",
   "execution_count": 78,
   "metadata": {},
   "outputs": [],
   "source": [
    "# subset: a set is its own subset. Use <= to check set_1\n"
   ]
  },
  {
   "cell_type": "code",
   "execution_count": 77,
   "metadata": {},
   "outputs": [],
   "source": [
    "# superset: a set is its own superset. Use >= to check set_1\n"
   ]
  },
  {
   "cell_type": "code",
   "execution_count": 63,
   "metadata": {},
   "outputs": [],
   "source": [
    "# recreate 3 sets\n",
    "set_1 = {1, 2, 3, 4}\n",
    "set_2 = {3, 4, 5, 6}\n",
    "set_3 = {5, 6}"
   ]
  },
  {
   "cell_type": "code",
   "execution_count": 79,
   "metadata": {},
   "outputs": [],
   "source": [
    "# Check whether set_3 is the subset of set_2 using <=\n"
   ]
  },
  {
   "cell_type": "code",
   "execution_count": 80,
   "metadata": {},
   "outputs": [],
   "source": [
    "# Check whether set_1 is the superset of set_3 using >=\n"
   ]
  },
  {
   "cell_type": "markdown",
   "metadata": {},
   "source": [
    "### Now You Try 5\n"
   ]
  },
  {
   "cell_type": "code",
   "execution_count": 66,
   "metadata": {},
   "outputs": [
    {
     "data": {
      "text/plain": [
       "{'Billed',\n",
       " 'Closed',\n",
       " 'Pending Approval',\n",
       " 'Pending Billing',\n",
       " 'Pending Fulfillment'}"
      ]
     },
     "execution_count": 66,
     "metadata": {},
     "output_type": "execute_result"
    }
   ],
   "source": [
    "# recreate status as a set here\n",
    "status = {'Pending Approval', 'Pending Fulfillment', 'Pending Billing', 'Billed', 'Closed'}\n",
    "status"
   ]
  },
  {
   "cell_type": "code",
   "execution_count": 81,
   "metadata": {},
   "outputs": [],
   "source": [
    "# Create another set named status2 with: 'Pending Billing', 'Billed' and 'Cancelled’\n",
    "# display status2\n"
   ]
  },
  {
   "cell_type": "code",
   "execution_count": 82,
   "metadata": {},
   "outputs": [],
   "source": [
    "# Get union of status and status2 and set it to variable new_status. Display it\n"
   ]
  },
  {
   "cell_type": "code",
   "execution_count": 83,
   "metadata": {},
   "outputs": [],
   "source": [
    "# Get the intersection of the 2 sets. Display it\n"
   ]
  },
  {
   "cell_type": "code",
   "execution_count": 84,
   "metadata": {},
   "outputs": [],
   "source": [
    "# Get the difference of the 2 sets status and status2 (both ways)\n",
    "\n"
   ]
  },
  {
   "cell_type": "code",
   "execution_count": 85,
   "metadata": {},
   "outputs": [],
   "source": [
    "# Get the symmetric difference of the 2 sets\n"
   ]
  },
  {
   "cell_type": "code",
   "execution_count": 86,
   "metadata": {},
   "outputs": [],
   "source": [
    "# Check if new_status is a superset of status\n"
   ]
  },
  {
   "cell_type": "code",
   "execution_count": 87,
   "metadata": {},
   "outputs": [],
   "source": [
    "# Iterate through status and print out all the items\n"
   ]
  }
 ],
 "metadata": {
  "kernelspec": {
   "display_name": "Python 3",
   "language": "python",
   "name": "python3"
  },
  "language_info": {
   "codemirror_mode": {
    "name": "ipython",
    "version": 3
   },
   "file_extension": ".py",
   "mimetype": "text/x-python",
   "name": "python",
   "nbconvert_exporter": "python",
   "pygments_lexer": "ipython3",
   "version": "3.11.3"
  }
 },
 "nbformat": 4,
 "nbformat_minor": 4
}
