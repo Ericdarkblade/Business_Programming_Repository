{
 "cells": [
  {
   "cell_type": "markdown",
   "metadata": {},
   "source": [
    "# Coding Exercise 4\n",
    "\n",
    "<font color='green'><b>\n",
    "Before start working on the coding exercise, you should review the PPT and Now You Try. Understanding the basics will save you a lot of time and make the coding experience more enjoyable. It is very difficult, if not impossible to complete the work without understanding the basics.  \n",
    " </b></font>\n",
    "\n",
    "<font color='red'><b>\n",
    "After you complete the assignment, before submission, restart the kernel and re-execute the code. This is to reset all the variables and ensure the execution order will be the same as that in the grader. It is very important to do this for every assignment before submission.\n",
    "\n",
    "- Don't add/remove any cell in the notebook for the autograder to work. Don't remove any existing code (importing libraries, for example) in the provided template.\n",
    "- Follow the instruction closely. For example, use the exact same file names (to read from or write to) in the instruction. If you download a file more than once, your computer will add numbers to the file name. You should remove the numbers to make sure the file name is not altered.\n",
    "- All or part of your output must be exactly like the provided examples (follow the instruction of each question).\n",
    "- If you are using any packages or libraries not provided in the template, you MUST import them to every cell using the libraries.(You should not need any for this exercise)\n",
    "- Ask for clarification for anything unclear.</b></font>\n"
   ]
  },
  {
   "cell_type": "markdown",
   "metadata": {},
   "source": [
    "## Problem 1 - Create a function that returns 2 values as a tuple\n",
    "\n",
    "Create a function named <B>\"analyze_list\"</B> which has one parameter <B>\"my_list\"</B>. The function should generate 2 lists:\n",
    "\n",
    "- one that contains all the unique items\n",
    "- one that contains all the items that have duplicate items in the list. When creating this list, only add an item once. In other words, It should not contain duplicate items\n",
    "\n",
    "If the list passed in does not have unique items or duplicate items, the corresponding list should be empty. In any case, two values shoud be **returned by the function**.\n",
    "\n",
    "Call the function and pass in some lists for testing purpose. Some test cases are provided below:\n",
    "\n",
    "1. If you call the function with this list as its argument: <pre>[2, 3, \"9\", 2, 0, 1, '9']</pre> you should get this result: <pre>([3, 0, 1], [2, '9'\\])</pre>\n",
    "2. If you call the function with this list as its argument: <pre>[1, 2, 3, 4, 5]</pre> you should get this result: <pre>([1, 2, 3, 4, 5], [])</pre>\n"
   ]
  },
  {
   "cell_type": "code",
   "execution_count": 108,
   "metadata": {},
   "outputs": [],
   "source": [
    "# Write your code to create the function here\n",
    "\n",
    "def analyze_list(my_list: list) -> tuple[list, list]:\n",
    "    item_set: set[object] = set()\n",
    "    uniques: set[object] = set()\n",
    "    duplicates: set[object] = set()\n",
    "    for item in my_list:  # O(N)\n",
    "        if item in uniques:  # O(1)\n",
    "            uniques.remove(item)  # O(1)\n",
    "            duplicates.add(item)  # O(1)\n",
    "        elif item in duplicates:  # O(1)\n",
    "            continue\n",
    "        else:  # O(1)\n",
    "            uniques.add(item)  # O(1)\n",
    "    # idk the conversion, this is either O(1) or O(n)\n",
    "    return (list(uniques), list(duplicates))\n",
    "# Algorithm is either O(N) or O(2N)\n",
    "# If I were to use a dictionary where I count the number of entries, I would then have to iterate through every key value pair in the dictionary to seperate the lists. Which would be slower."
   ]
  },
  {
   "cell_type": "code",
   "execution_count": 109,
   "metadata": {},
   "outputs": [
    {
     "data": {
      "text/plain": [
       "([0, 1, 3], ['9', 2])"
      ]
     },
     "execution_count": 109,
     "metadata": {},
     "output_type": "execute_result"
    }
   ],
   "source": [
    "# Call your function with list1 created below.\n",
    "list1 = [2, 3, \"9\", 2, 0, 1, '9']\n",
    "analyze_list(list1)\n",
    "\n",
    "# Output is in a different order, but this is faster, so I'm keeping it this way.\n",
    "# Time complexity would be O(n)"
   ]
  },
  {
   "cell_type": "code",
   "execution_count": 110,
   "metadata": {},
   "outputs": [
    {
     "data": {
      "text/plain": [
       "([1, 2, 3, 4, 5], [])"
      ]
     },
     "execution_count": 110,
     "metadata": {},
     "output_type": "execute_result"
    }
   ],
   "source": [
    "# Call your function with list2 created below:\n",
    "list2 = [1, 2, 3, 4, 5]\n",
    "analyze_list(list2)"
   ]
  },
  {
   "cell_type": "markdown",
   "metadata": {},
   "source": [
    "## Problem 2 - Work with a dictionary\n",
    "\n",
    "### Don't forget to close the file after you are done with it\n",
    "\n",
    "In the mbox-short.txt file, some from email addresses are followed by date and time when the email was sent and some are not. Now, find all the lines starting with \"From\" (the case must match), check whether the line has weekday infromation. Find out how many emails were sent for each weekday and save the information in a dictionary named 'count_dict'. For the lines (starting with From) that do not have weekday information, count them into the \"Unknown\" category in the dictionary.\n",
    "\n",
    "At the end of the program, outside the loop, first print out the dictionary. Then print out the result in a sorted fashion including the weekdays that no email was recorded. **Don't print anything in the loop**. You can use any way to ensure that weekdays not in the dictionary to be printed. For example, you can create a list that contain all weekdays. The program should print out the following exactly:\n",
    "\n",
    "<pre>\n",
    "{'Sat': 1, 'Unknown': 27, 'Fri': 20, 'Thu': 6}\n",
    "Mon : 0\n",
    "Tues : 0\n",
    "Wed : 0\n",
    "Thu : 6\n",
    "Fri : 20\n",
    "Sat : 1\n",
    "Sun : 0\n",
    "Unknown : 27\n",
    "</pre>\n"
   ]
  },
  {
   "cell_type": "code",
   "execution_count": 111,
   "metadata": {},
   "outputs": [
    {
     "name": "stdout",
     "output_type": "stream",
     "text": [
      "{'Wed', 'Sat', 'Mon', 'Fri', 'Thu', 'Tues', 'Sun'}\n",
      "{'Mon': 0, 'Tues': 0, 'Wed': 0, 'Thu': 6, 'Fri': 20, 'Sat': 1, 'Sun': 0, 'Unknown': 27}\n",
      "Mon: 0\n",
      "Tues: 0\n",
      "Wed: 0\n",
      "Thu: 6\n",
      "Fri: 20\n",
      "Sat: 1\n",
      "Sun: 0\n",
      "Unknown: 27\n"
     ]
    }
   ],
   "source": [
    "# Write your code below. All code should be in this cell\n",
    "weekdays_count: dict[str, int] = {\n",
    "    'Mon': 0,\n",
    "    'Tues': 0,\n",
    "    'Wed': 0,\n",
    "    'Thu': 0,\n",
    "    'Fri': 0,\n",
    "    'Sat': 0,\n",
    "    'Sun': 0,\n",
    "    'Unknown': 0\n",
    "}\n",
    "# Want to hash days, don't want 'unknown messing anything up.\n",
    "weekdays = set(weekdays_count.keys())\n",
    "weekdays.remove('Unknown')\n",
    "print(weekdays)\n",
    "with open('mbox-short.txt', 'r') as mbox:\n",
    "    raw_lines = mbox.readlines()\n",
    "    known: int = 0\n",
    "    from_lines: int = 0\n",
    "    for line in raw_lines:\n",
    "        if not line.startswith('From'):\n",
    "            continue\n",
    "        from_lines += 1\n",
    "        for day in weekdays:\n",
    "            if f'{day}' in line:\n",
    "                weekdays_count[day] += 1\n",
    "                known += 1\n",
    "                break\n",
    "    weekdays_count['Unknown'] = from_lines - known\n",
    "\n",
    "print(weekdays_count)\n",
    "# Only is ordered b/c dictionary is hard coded.\n",
    "for day, count in weekdays_count.items():\n",
    "    print(f\"{day}: {count}\")"
   ]
  }
 ],
 "metadata": {
  "kernelspec": {
   "display_name": "Python 3",
   "language": "python",
   "name": "python3"
  },
  "language_info": {
   "codemirror_mode": {
    "name": "ipython",
    "version": 3
   },
   "file_extension": ".py",
   "mimetype": "text/x-python",
   "name": "python",
   "nbconvert_exporter": "python",
   "pygments_lexer": "ipython3",
   "version": "3.11.4"
  }
 },
 "nbformat": 4,
 "nbformat_minor": 4
}
