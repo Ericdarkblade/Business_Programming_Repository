{
 "cells": [
  {
   "cell_type": "markdown",
   "metadata": {},
   "source": [
    "# Week 1 Code and Now You Try\n"
   ]
  },
  {
   "cell_type": "code",
   "execution_count": 19,
   "metadata": {},
   "outputs": [
    {
     "name": "stderr",
     "output_type": "stream",
     "text": [
      "C:\\Users\\ezmos\\AppData\\Local\\Temp\\ipykernel_17944\\2720815156.py:2: DeprecationWarning: Importing display from IPython.core.display is deprecated since IPython 7.14, please import from IPython display\n",
      "  from IPython.core.display import display, HTML\n"
     ]
    },
    {
     "data": {
      "text/html": [
       "<style>.container { width:100% !important; }</style>"
      ],
      "text/plain": [
       "<IPython.core.display.HTML object>"
      ]
     },
     "metadata": {},
     "output_type": "display_data"
    }
   ],
   "source": [
    "# This cell is for wide display and better use of screen space\n",
    "from IPython.core.display import display, HTML\n",
    "display(HTML(\"<style>.container { width:100% !important; }</style>\"))"
   ]
  },
  {
   "cell_type": "markdown",
   "metadata": {},
   "source": [
    "## Variables\n"
   ]
  },
  {
   "cell_type": "code",
   "execution_count": 20,
   "metadata": {},
   "outputs": [
    {
     "name": "stdout",
     "output_type": "stream",
     "text": [
      "Hello World!\n"
     ]
    }
   ],
   "source": [
    "print('Hello World!')"
   ]
  },
  {
   "cell_type": "code",
   "execution_count": 21,
   "metadata": {},
   "outputs": [
    {
     "name": "stdout",
     "output_type": "stream",
     "text": [
      "Eric\n"
     ]
    }
   ],
   "source": [
    "name = \"Eric\"\n",
    "print(name)"
   ]
  },
  {
   "cell_type": "code",
   "execution_count": null,
   "metadata": {},
   "outputs": [],
   "source": []
  },
  {
   "cell_type": "markdown",
   "metadata": {},
   "source": [
    "- Now Add a new cell below\n",
    "- Record your name as I do in the cell below. Store it in a variable \"name\" as I do below\n",
    "- Print out your name in the variable\n"
   ]
  },
  {
   "cell_type": "markdown",
   "metadata": {},
   "source": [
    "### Now you try 1\n"
   ]
  },
  {
   "cell_type": "code",
   "execution_count": 22,
   "metadata": {},
   "outputs": [
    {
     "name": "stdout",
     "output_type": "stream",
     "text": [
      "20\n"
     ]
    }
   ],
   "source": [
    "# In this cell, create an variable named score1 and assign value 20 to it. Print it out\n",
    "score1 = 20\n",
    "print(score1)"
   ]
  },
  {
   "cell_type": "code",
   "execution_count": 23,
   "metadata": {},
   "outputs": [
    {
     "name": "stdout",
     "output_type": "stream",
     "text": [
      "50\n"
     ]
    }
   ],
   "source": [
    "# assign 50 to score1 and print it out. What did you get and why?\n",
    "score1 = 50\n",
    "print(score1)"
   ]
  },
  {
   "cell_type": "code",
   "execution_count": 24,
   "metadata": {},
   "outputs": [
    {
     "name": "stdout",
     "output_type": "stream",
     "text": [
      "50\n"
     ]
    },
    {
     "data": {
      "text/plain": [
       "'\\nOutput should = 50 because the variable {score1} has been reassigned to the value 50\\n(Assuming sequential flow from top down cells)\\n'"
      ]
     },
     "execution_count": 24,
     "metadata": {},
     "output_type": "execute_result"
    }
   ],
   "source": [
    "# In this cell, print out Score1 (note the letter cases). What do you get and why?\n",
    "print(score1)\n",
    "\n",
    "'''\n",
    "Output should = 50 because the variable {score1} has been reassigned to the value 50\n",
    "(Assuming sequential flow from top down cells)\n",
    "'''"
   ]
  },
  {
   "cell_type": "markdown",
   "metadata": {},
   "source": [
    "## Statements, Operators and Expressions\n"
   ]
  },
  {
   "cell_type": "code",
   "execution_count": 25,
   "metadata": {},
   "outputs": [
    {
     "name": "stdout",
     "output_type": "stream",
     "text": [
      "30000\n"
     ]
    },
    {
     "data": {
      "text/plain": [
       "'\\nOutput of {x} should be 30000 b/c 30000 is assigned to x at the end of the call stack.\\n'"
      ]
     },
     "execution_count": 25,
     "metadata": {},
     "output_type": "execute_result"
    }
   ],
   "source": [
    "# Assign 2 to variable x\n",
    "\n",
    "# Add 2 to variable x and assign it back to x\n",
    "\n",
    "# think what the value x should contain now. Print out x\n",
    "\n",
    "x = 0.6\n",
    "\n",
    "x = 30000\n",
    "\n",
    "print(x)\n",
    "\n",
    "'''\n",
    "Output of {x} should be 30000 b/c 30000 is assigned to x at the end of the call stack.\n",
    "'''"
   ]
  },
  {
   "cell_type": "code",
   "execution_count": 26,
   "metadata": {},
   "outputs": [
    {
     "data": {
      "text/plain": [
       "0.9359999999999999"
      ]
     },
     "execution_count": 26,
     "metadata": {},
     "output_type": "execute_result"
    }
   ],
   "source": [
    "x = 0.6\n",
    "x = 3.9 * x * (1 - x)\n",
    "x"
   ]
  },
  {
   "cell_type": "code",
   "execution_count": 27,
   "metadata": {},
   "outputs": [],
   "source": [
    "# Subtraction\n",
    "# assign 2 to variable a\n",
    "\n",
    "# subtract 5 from variable a and assign the result back to a\n",
    "\n",
    "# print out a. Is it what you expect?\n",
    "\n",
    "a = 8\n",
    "a = 3\n",
    "a -= 5"
   ]
  },
  {
   "cell_type": "code",
   "execution_count": 28,
   "metadata": {},
   "outputs": [
    {
     "data": {
      "text/plain": [
       "5280"
      ]
     },
     "execution_count": 28,
     "metadata": {},
     "output_type": "execute_result"
    }
   ],
   "source": [
    "# Multiplication\n",
    "# assign 440 multiplied by 12 to variable b\n",
    "\n",
    "# print out b. Is it what you expect?\n",
    "b = 440 * 12\n",
    "b"
   ]
  },
  {
   "cell_type": "code",
   "execution_count": 29,
   "metadata": {},
   "outputs": [
    {
     "data": {
      "text/plain": [
       "5.28"
      ]
     },
     "execution_count": 29,
     "metadata": {},
     "output_type": "execute_result"
    }
   ],
   "source": [
    "# Division\n",
    "# assign b divided by 1000 to variable c\n",
    "\n",
    "# print out c. Is it what you expect?\n",
    "\n",
    "c = b / 1000\n",
    "c"
   ]
  },
  {
   "cell_type": "code",
   "execution_count": 30,
   "metadata": {},
   "outputs": [
    {
     "name": "stdout",
     "output_type": "stream",
     "text": [
      "5\n"
     ]
    }
   ],
   "source": [
    "# Floor division or integer division\n",
    "# execute the following code. Check out the result. How is it different from the previous one?\n",
    "print(b // 1000)"
   ]
  },
  {
   "cell_type": "code",
   "execution_count": 31,
   "metadata": {},
   "outputs": [
    {
     "data": {
      "text/plain": [
       "2"
      ]
     },
     "execution_count": 31,
     "metadata": {},
     "output_type": "execute_result"
    }
   ],
   "source": [
    "# Modulo or remainder\n",
    "# Get the remainder of 5 divided by 3. Save it to variable d\n",
    "\n",
    "# print out d. Is it what you expect?\n",
    "\n",
    "d = 5 % 3\n",
    "d"
   ]
  },
  {
   "cell_type": "code",
   "execution_count": 32,
   "metadata": {},
   "outputs": [
    {
     "name": "stdout",
     "output_type": "stream",
     "text": [
      "1024\n"
     ]
    }
   ],
   "source": [
    "# power\n",
    "# print 2 to the power of 10\n",
    "\n",
    "print(2**10)"
   ]
  },
  {
   "cell_type": "markdown",
   "metadata": {},
   "source": [
    "### Now you try 2\n"
   ]
  },
  {
   "cell_type": "code",
   "execution_count": 33,
   "metadata": {},
   "outputs": [
    {
     "name": "stdout",
     "output_type": "stream",
     "text": [
      "10\n"
     ]
    }
   ],
   "source": [
    "# Get the remainder of number 877759 divided by 23. Print it out\n",
    "print(877759 % 23)"
   ]
  },
  {
   "cell_type": "code",
   "execution_count": 34,
   "metadata": {},
   "outputs": [
    {
     "data": {
      "text/plain": [
       "1.8571428571428572"
      ]
     },
     "execution_count": 34,
     "metadata": {},
     "output_type": "execute_result"
    }
   ],
   "source": [
    "# write a statement to assign the result of adding 5 to 2 to the power of 3 and divide\n",
    "# the addition result by 7 to variable x. Print out the result\n",
    "\n",
    "x = (5 + 2 ** 3)/7\n",
    "x"
   ]
  },
  {
   "cell_type": "code",
   "execution_count": 35,
   "metadata": {},
   "outputs": [
    {
     "name": "stdout",
     "output_type": "stream",
     "text": [
      "10/3: 3.3333333333333335\n",
      "10//3: 3\n"
     ]
    }
   ],
   "source": [
    "# Divide 10 by 3 using both regular division and floor division.\n",
    "# Print out the result and note the difference\n",
    "print(f\"10/3: {10/3}\")\n",
    "print(f\"10//3: {10//3}\")"
   ]
  },
  {
   "cell_type": "code",
   "execution_count": 36,
   "metadata": {},
   "outputs": [
    {
     "name": "stdout",
     "output_type": "stream",
     "text": [
      "1 + 1 = 2\n",
      "'1' +'1' = 11\n",
      "11 > 2 is True\n",
      "\"11\" > \"2\" is False\n"
     ]
    },
    {
     "ename": "TypeError",
     "evalue": "can't multiply sequence by non-int of type 'str'",
     "output_type": "error",
     "traceback": [
      "\u001b[1;31m---------------------------------------------------------------------------\u001b[0m",
      "\u001b[1;31mTypeError\u001b[0m                                 Traceback (most recent call last)",
      "Cell \u001b[1;32mIn[36], line 6\u001b[0m\n\u001b[0;32m      4\u001b[0m \u001b[39mprint\u001b[39m(\u001b[39m'\u001b[39m\u001b[39m11 > 2 is\u001b[39m\u001b[39m'\u001b[39m, \u001b[39m11\u001b[39m \u001b[39m>\u001b[39m \u001b[39m2\u001b[39m)\n\u001b[0;32m      5\u001b[0m \u001b[39mprint\u001b[39m(\u001b[39m'\u001b[39m\u001b[39m\"\u001b[39m\u001b[39m11\u001b[39m\u001b[39m\"\u001b[39m\u001b[39m > \u001b[39m\u001b[39m\"\u001b[39m\u001b[39m2\u001b[39m\u001b[39m\"\u001b[39m\u001b[39m is\u001b[39m\u001b[39m'\u001b[39m, \u001b[39m\"\u001b[39m\u001b[39m11\u001b[39m\u001b[39m\"\u001b[39m \u001b[39m>\u001b[39m \u001b[39m\"\u001b[39m\u001b[39m2\u001b[39m\u001b[39m\"\u001b[39m)\n\u001b[1;32m----> 6\u001b[0m \u001b[39mprint\u001b[39m(\u001b[39m\"\u001b[39m\u001b[39m1\u001b[39m\u001b[39m\"\u001b[39m \u001b[39m*\u001b[39m \u001b[39m\"\u001b[39m\u001b[39m2\u001b[39m\u001b[39m\"\u001b[39m)\n",
      "\u001b[1;31mTypeError\u001b[0m: can't multiply sequence by non-int of type 'str'"
     ]
    }
   ],
   "source": [
    "# Execute this code cell and think about what you get\n",
    "print('1 + 1 =', 1 + 1)\n",
    "print(\"'1' +'1' =\", '1' + '1')\n",
    "print('11 > 2 is', 11 > 2)\n",
    "print('\"11\" > \"2\" is', \"11\" > \"2\")\n",
    "print(\"1\" * \"2\")  # error, because you can't multipy two strings together."
   ]
  },
  {
   "cell_type": "markdown",
   "metadata": {},
   "source": [
    "## Data Types\n"
   ]
  },
  {
   "cell_type": "code",
   "execution_count": null,
   "metadata": {},
   "outputs": [
    {
     "name": "stdout",
     "output_type": "stream",
     "text": [
      "5\n",
      "hello there\n"
     ]
    },
    {
     "ename": "TypeError",
     "evalue": "can only concatenate str (not \"int\") to str",
     "output_type": "error",
     "traceback": [
      "\u001b[1;31m---------------------------------------------------------------------------\u001b[0m",
      "\u001b[1;31mTypeError\u001b[0m                                 Traceback (most recent call last)",
      "Cell \u001b[1;32mIn[19], line 5\u001b[0m\n\u001b[0;32m      3\u001b[0m eee \u001b[39m=\u001b[39m \u001b[39m'\u001b[39m\u001b[39mhello \u001b[39m\u001b[39m'\u001b[39m \u001b[39m+\u001b[39m \u001b[39m'\u001b[39m\u001b[39mthere\u001b[39m\u001b[39m'\u001b[39m\n\u001b[0;32m      4\u001b[0m \u001b[39mprint\u001b[39m(eee)\n\u001b[1;32m----> 5\u001b[0m eee \u001b[39m=\u001b[39m eee \u001b[39m+\u001b[39m \u001b[39m1\u001b[39m\n",
      "\u001b[1;31mTypeError\u001b[0m: can only concatenate str (not \"int\") to str"
     ]
    }
   ],
   "source": [
    "ddd = 1 + 4\n",
    "print(ddd)\n",
    "eee = 'hello ' + 'there'\n",
    "print(eee)\n",
    "eee = eee + 1  # again you can't add a string to an int, it does not concatinate"
   ]
  },
  {
   "cell_type": "code",
   "execution_count": null,
   "metadata": {},
   "outputs": [
    {
     "name": "stdout",
     "output_type": "stream",
     "text": [
      "<class 'str'>\n"
     ]
    }
   ],
   "source": [
    "# type() can be used to detect the type of a variable or literal\n",
    "# Get type of variable eee and print it out\n",
    "\n",
    "print(type(eee))"
   ]
  },
  {
   "cell_type": "code",
   "execution_count": null,
   "metadata": {},
   "outputs": [
    {
     "data": {
      "text/plain": [
       "int"
      ]
     },
     "execution_count": 21,
     "metadata": {},
     "output_type": "execute_result"
    }
   ],
   "source": [
    "# Get type of literal 1 and print\n",
    "\n",
    "type(1)"
   ]
  },
  {
   "cell_type": "code",
   "execution_count": null,
   "metadata": {},
   "outputs": [
    {
     "data": {
      "text/plain": [
       "float"
      ]
     },
     "execution_count": 22,
     "metadata": {},
     "output_type": "execute_result"
    }
   ],
   "source": [
    "# Get type of literal 10.67 and print\n",
    "\n",
    "type(10.67)"
   ]
  },
  {
   "cell_type": "code",
   "execution_count": null,
   "metadata": {},
   "outputs": [
    {
     "data": {
      "text/plain": [
       "bool"
      ]
     },
     "execution_count": 23,
     "metadata": {},
     "output_type": "execute_result"
    }
   ],
   "source": [
    "# Get type of boolean literal False\n",
    "\n",
    "type(False)"
   ]
  },
  {
   "cell_type": "code",
   "execution_count": null,
   "metadata": {},
   "outputs": [
    {
     "data": {
      "text/plain": [
       "1.9"
      ]
     },
     "execution_count": 24,
     "metadata": {},
     "output_type": "execute_result"
    }
   ],
   "source": [
    "# Excute the following code. What is the type of the result? Any thoughts?\n",
    "1 + 0.9\n",
    "\n",
    "# The output should be a floating point value because .9 is a decimal value"
   ]
  },
  {
   "cell_type": "markdown",
   "metadata": {},
   "source": [
    "### Type Conversion\n"
   ]
  },
  {
   "cell_type": "code",
   "execution_count": null,
   "metadata": {},
   "outputs": [
    {
     "data": {
      "text/plain": [
       "1"
      ]
     },
     "execution_count": 25,
     "metadata": {},
     "output_type": "execute_result"
    }
   ],
   "source": [
    "# convert 1.4 to an integer using int(). What do you get? what is your thoughts?\n",
    "\n",
    "int(1.4)\n",
    "\n",
    "# Output is 1, because bits past the decimal have been truncated"
   ]
  },
  {
   "cell_type": "code",
   "execution_count": null,
   "metadata": {},
   "outputs": [
    {
     "name": "stdout",
     "output_type": "stream",
     "text": [
      "int(False): 0\n",
      "int(True): 1"
     ]
    }
   ],
   "source": [
    "# convert True and Falso to integer. What do you get?\n",
    "\n",
    "\n",
    "# output should be 0 or 1 for false or true, respectively\n",
    "\n",
    "print(f\"int(False): {int(False)}\\nint(True): {int(True)}\", end='')"
   ]
  },
  {
   "cell_type": "code",
   "execution_count": null,
   "metadata": {},
   "outputs": [
    {
     "data": {
      "text/plain": [
       "100"
      ]
     },
     "execution_count": 28,
     "metadata": {},
     "output_type": "execute_result"
    }
   ],
   "source": [
    "# convert string \"100\" to an integer. What do you get?\n",
    "int(\"100\")\n",
    "\n",
    "# output is the integer value 100"
   ]
  },
  {
   "cell_type": "code",
   "execution_count": null,
   "metadata": {},
   "outputs": [
    {
     "ename": "ValueError",
     "evalue": "invalid literal for int() with base 10: 'One hundred'",
     "output_type": "error",
     "traceback": [
      "\u001b[1;31m---------------------------------------------------------------------------\u001b[0m",
      "\u001b[1;31mValueError\u001b[0m                                Traceback (most recent call last)",
      "Cell \u001b[1;32mIn[29], line 5\u001b[0m\n\u001b[0;32m      1\u001b[0m \u001b[39m# convert string \"One hundred\" to an integer. What do you get?\u001b[39;00m\n\u001b[0;32m      2\u001b[0m \n\u001b[0;32m      3\u001b[0m \u001b[39m#Output should be an error, or will be the summation of char values.\u001b[39;00m\n\u001b[1;32m----> 5\u001b[0m \u001b[39mint\u001b[39m(\u001b[39m\"\u001b[39m\u001b[39mOne hundred\u001b[39m\u001b[39m\"\u001b[39m)\n",
      "\u001b[1;31mValueError\u001b[0m: invalid literal for int() with base 10: 'One hundred'"
     ]
    }
   ],
   "source": [
    "# convert string \"One hundred\" to an integer. What do you get?\n",
    "\n",
    "# Output should be an error, or will be the summation of char values.\n",
    "\n",
    "int(\"One hundred\")"
   ]
  },
  {
   "cell_type": "code",
   "execution_count": null,
   "metadata": {},
   "outputs": [
    {
     "data": {
      "text/plain": [
       "99.0"
      ]
     },
     "execution_count": 30,
     "metadata": {},
     "output_type": "execute_result"
    }
   ],
   "source": [
    "# convert integer 99 to a float using float()\n",
    "\n",
    "float(99)"
   ]
  },
  {
   "cell_type": "code",
   "execution_count": null,
   "metadata": {},
   "outputs": [
    {
     "data": {
      "text/plain": [
       "199.0"
      ]
     },
     "execution_count": 31,
     "metadata": {},
     "output_type": "execute_result"
    }
   ],
   "source": [
    "# Convert 99 to a float and add 100 to it. Print out the result. What do you get?\n",
    "\n",
    "float(99) + 100\n",
    "\n",
    "# Output is 199.0 which is a float b/c float + int = float"
   ]
  },
  {
   "cell_type": "code",
   "execution_count": null,
   "metadata": {},
   "outputs": [
    {
     "data": {
      "text/plain": [
       "151.99"
      ]
     },
     "execution_count": 32,
     "metadata": {},
     "output_type": "execute_result"
    }
   ],
   "source": [
    "# print out 101.99 add 50. What should you get? Does the result make sense? What do you learn?\n",
    "\n",
    "101.99 + 50\n",
    "\n",
    "# output is a float for the same reasons above"
   ]
  },
  {
   "cell_type": "code",
   "execution_count": null,
   "metadata": {},
   "outputs": [
    {
     "data": {
      "text/plain": [
       "3.14"
      ]
     },
     "execution_count": 33,
     "metadata": {},
     "output_type": "execute_result"
    }
   ],
   "source": [
    "# Convert string \"3.14\" to a float\n",
    "\n",
    "float(\"3.14\")"
   ]
  },
  {
   "cell_type": "code",
   "execution_count": null,
   "metadata": {},
   "outputs": [
    {
     "ename": "NameError",
     "evalue": "name 'pi' is not defined",
     "output_type": "error",
     "traceback": [
      "\u001b[1;31m---------------------------------------------------------------------------\u001b[0m",
      "\u001b[1;31mNameError\u001b[0m                                 Traceback (most recent call last)",
      "Cell \u001b[1;32mIn[34], line 3\u001b[0m\n\u001b[0;32m      1\u001b[0m \u001b[39m# Convert string 'pi' to a float. What do you get?\u001b[39;00m\n\u001b[1;32m----> 3\u001b[0m \u001b[39mfloat\u001b[39m(pi)\n",
      "\u001b[1;31mNameError\u001b[0m: name 'pi' is not defined"
     ]
    }
   ],
   "source": [
    "# Convert string 'pi' to a float. What do you get?\n",
    "\n",
    "float(pi)\n",
    "\n",
    "# Output should be an error b/c can not convert alphanumerical characters to an int or float"
   ]
  },
  {
   "cell_type": "markdown",
   "metadata": {},
   "source": [
    "### Use input() to read from keyboard\n",
    "\n",
    "Note that when calling input(), Jupyter notebook will be waiting for your answer. If you don’t provide any answer, the notebook will not respond to other commands.\n"
   ]
  },
  {
   "cell_type": "code",
   "execution_count": null,
   "metadata": {},
   "outputs": [
    {
     "name": "stdout",
     "output_type": "stream",
     "text": [
      "Your name is Eric\n"
     ]
    }
   ],
   "source": [
    "# Follow my lead to observe how input() works. Note how to make the display formatted better.\n",
    "# Ask the user \"What is your name:\" using input()\n",
    "# I will make changes. Take notes on the nuances\n",
    "\n",
    "input_name = input(\"What is your name?\")\n",
    "print(f\"Your name is {input_name}\")"
   ]
  },
  {
   "cell_type": "code",
   "execution_count": null,
   "metadata": {},
   "outputs": [
    {
     "data": {
      "text/plain": [
       "str"
      ]
     },
     "execution_count": 36,
     "metadata": {},
     "output_type": "execute_result"
    }
   ],
   "source": [
    "# Get the type of variable name:\n",
    "\n",
    "type(name)"
   ]
  },
  {
   "cell_type": "code",
   "execution_count": null,
   "metadata": {},
   "outputs": [
    {
     "name": "stdout",
     "output_type": "stream",
     "text": [
      "age = 20\n"
     ]
    },
    {
     "data": {
      "text/plain": [
       "str"
      ]
     },
     "execution_count": 41,
     "metadata": {},
     "output_type": "execute_result"
    }
   ],
   "source": [
    "# Ask for age and store it in the variable named age\n",
    "# print out type of age. Are you surprised?\n",
    "\n",
    "age = input(\"What is your age?\")\n",
    "print(f\"age = {age}\")\n",
    "\n",
    "type(age)\n",
    "\n",
    "# output should be a str b/c that is the return value of the input function"
   ]
  },
  {
   "cell_type": "code",
   "execution_count": null,
   "metadata": {},
   "outputs": [
    {
     "name": "stdout",
     "output_type": "stream",
     "text": [
      "age = 20\n"
     ]
    },
    {
     "data": {
      "text/plain": [
       "int"
      ]
     },
     "execution_count": 42,
     "metadata": {},
     "output_type": "execute_result"
    }
   ],
   "source": [
    "# Ask for age again, this time, convert it to int before save it to 'age' variable.\n",
    "# print out the type of age\n",
    "\n",
    "\n",
    "age = int(input(\"What is your age?\"))\n",
    "print(f\"age = {age}\")\n",
    "\n",
    "type(age)"
   ]
  },
  {
   "cell_type": "markdown",
   "metadata": {},
   "source": [
    "### print() function explained\n"
   ]
  },
  {
   "cell_type": "code",
   "execution_count": null,
   "metadata": {},
   "outputs": [
    {
     "name": "stdout",
     "output_type": "stream",
     "text": [
      "1\n",
      "10.5\n",
      "abc\n",
      "True\n"
     ]
    }
   ],
   "source": [
    "# you can print a single value of different types.\n",
    "print(1)\n",
    "print(10.5)\n",
    "print(\"abc\")\n",
    "print(True)"
   ]
  },
  {
   "cell_type": "code",
   "execution_count": null,
   "metadata": {},
   "outputs": [
    {
     "name": "stdout",
     "output_type": "stream",
     "text": [
      "IU has 8 campuses\n"
     ]
    }
   ],
   "source": [
    "# multiple values can be printed by passing them as arguments\n",
    "print('IU has', 8, 'campuses')"
   ]
  },
  {
   "cell_type": "code",
   "execution_count": null,
   "metadata": {},
   "outputs": [
    {
     "name": "stdout",
     "output_type": "stream",
     "text": [
      "IU has 8 campuses\n"
     ]
    }
   ],
   "source": [
    "# You can convert all values to be strings, concatenate them then pass to print()\n",
    "print('IU has '+str(8)+' campuses')"
   ]
  },
  {
   "cell_type": "code",
   "execution_count": null,
   "metadata": {},
   "outputs": [
    {
     "ename": "TypeError",
     "evalue": "can only concatenate str (not \"int\") to str",
     "output_type": "error",
     "traceback": [
      "\u001b[1;31m---------------------------------------------------------------------------\u001b[0m",
      "\u001b[1;31mTypeError\u001b[0m                                 Traceback (most recent call last)",
      "Cell \u001b[1;32mIn[46], line 1\u001b[0m\n\u001b[1;32m----> 1\u001b[0m \u001b[39mprint\u001b[39m(\u001b[39m'\u001b[39m\u001b[39mIU has \u001b[39m\u001b[39m'\u001b[39m\u001b[39m+\u001b[39m\u001b[39m8\u001b[39m\u001b[39m+\u001b[39m\u001b[39m'\u001b[39m\u001b[39m campuses\u001b[39m\u001b[39m'\u001b[39m)\n",
      "\u001b[1;31mTypeError\u001b[0m: can only concatenate str (not \"int\") to str"
     ]
    }
   ],
   "source": [
    "print('IU has '+8+' campuses')"
   ]
  },
  {
   "cell_type": "markdown",
   "metadata": {},
   "source": [
    "### Now you try 3\n"
   ]
  },
  {
   "cell_type": "code",
   "execution_count": null,
   "metadata": {},
   "outputs": [],
   "source": [
    "# Create a variable my_int with value 10, a variable my_float with value 5.46\n",
    "my_int = 10\n",
    "my_float = 5.46"
   ]
  },
  {
   "cell_type": "code",
   "execution_count": null,
   "metadata": {},
   "outputs": [
    {
     "name": "stdout",
     "output_type": "stream",
     "text": [
      "<class 'int'>\n",
      "<class 'float'>\n"
     ]
    }
   ],
   "source": [
    "# print out the data type of these two variables\n",
    "print(type(my_int))\n",
    "print(type(my_float))"
   ]
  },
  {
   "cell_type": "code",
   "execution_count": null,
   "metadata": {},
   "outputs": [
    {
     "data": {
      "text/plain": [
       "True"
      ]
     },
     "execution_count": 50,
     "metadata": {},
     "output_type": "execute_result"
    }
   ],
   "source": [
    "# Create a variable my_bool. Assign the value of whether my_int is greater than 9. Print it\n",
    "my_bool = my_int > 9\n",
    "my_bool"
   ]
  },
  {
   "cell_type": "code",
   "execution_count": null,
   "metadata": {},
   "outputs": [
    {
     "data": {
      "text/plain": [
       "'IU'"
      ]
     },
     "execution_count": 51,
     "metadata": {},
     "output_type": "execute_result"
    }
   ],
   "source": [
    "# Create a string variable named my_str with value 'IU'. Print it\n",
    "my_str = 'IU'\n",
    "my_str"
   ]
  },
  {
   "cell_type": "code",
   "execution_count": null,
   "metadata": {},
   "outputs": [
    {
     "ename": "TypeError",
     "evalue": "can only concatenate str (not \"int\") to str",
     "output_type": "error",
     "traceback": [
      "\u001b[1;31m---------------------------------------------------------------------------\u001b[0m",
      "\u001b[1;31mTypeError\u001b[0m                                 Traceback (most recent call last)",
      "Cell \u001b[1;32mIn[52], line 2\u001b[0m\n\u001b[0;32m      1\u001b[0m \u001b[39m# Add 5 to my_int \u001b[39;00m\n\u001b[1;32m----> 2\u001b[0m my_str \u001b[39m+\u001b[39m \u001b[39m5\u001b[39m\n",
      "\u001b[1;31mTypeError\u001b[0m: can only concatenate str (not \"int\") to str"
     ]
    }
   ],
   "source": [
    "# Add 5 to my_int\n",
    "my_str + 5"
   ]
  },
  {
   "cell_type": "code",
   "execution_count": null,
   "metadata": {},
   "outputs": [
    {
     "data": {
      "text/plain": [
       "'IU47405'"
      ]
     },
     "execution_count": 53,
     "metadata": {},
     "output_type": "execute_result"
    }
   ],
   "source": [
    "# Add '47405' to my_str. What do you get?\n",
    "\n",
    "my_str + '47405'"
   ]
  },
  {
   "cell_type": "code",
   "execution_count": null,
   "metadata": {},
   "outputs": [
    {
     "ename": "TypeError",
     "evalue": "can only concatenate str (not \"int\") to str",
     "output_type": "error",
     "traceback": [
      "\u001b[1;31m---------------------------------------------------------------------------\u001b[0m",
      "\u001b[1;31mTypeError\u001b[0m                                 Traceback (most recent call last)",
      "Cell \u001b[1;32mIn[54], line 3\u001b[0m\n\u001b[0;32m      1\u001b[0m \u001b[39m# Add my_int to my_str. What do you get?\u001b[39;00m\n\u001b[1;32m----> 3\u001b[0m my_str \u001b[39m+\u001b[39m my_int\n",
      "\u001b[1;31mTypeError\u001b[0m: can only concatenate str (not \"int\") to str"
     ]
    }
   ],
   "source": [
    "# Add my_int to my_str. What do you get?\n",
    "\n",
    "my_str + my_int\n",
    "\n",
    "# Output is an error b/c invalid type addition operation"
   ]
  },
  {
   "cell_type": "code",
   "execution_count": null,
   "metadata": {},
   "outputs": [
    {
     "data": {
      "text/plain": [
       "10.0"
      ]
     },
     "execution_count": 55,
     "metadata": {},
     "output_type": "execute_result"
    }
   ],
   "source": [
    "# Convert my_int to float using float(). Do you see the difference?\n",
    "\n",
    "float(my_int)\n",
    "\n",
    "# Output is a float"
   ]
  },
  {
   "cell_type": "code",
   "execution_count": null,
   "metadata": {},
   "outputs": [
    {
     "data": {
      "text/plain": [
       "'10'"
      ]
     },
     "execution_count": 56,
     "metadata": {},
     "output_type": "execute_result"
    }
   ],
   "source": [
    "# Convert my_int to string using str()\n",
    "\n",
    "str(my_int)"
   ]
  },
  {
   "cell_type": "code",
   "execution_count": null,
   "metadata": {},
   "outputs": [
    {
     "ename": "ValueError",
     "evalue": "invalid literal for int() with base 10: 'IU'",
     "output_type": "error",
     "traceback": [
      "\u001b[1;31m---------------------------------------------------------------------------\u001b[0m",
      "\u001b[1;31mValueError\u001b[0m                                Traceback (most recent call last)",
      "Cell \u001b[1;32mIn[57], line 3\u001b[0m\n\u001b[0;32m      1\u001b[0m \u001b[39m# Convert my_str to int using int(). What do you get?\u001b[39;00m\n\u001b[1;32m----> 3\u001b[0m \u001b[39mint\u001b[39m(my_str)\n",
      "\u001b[1;31mValueError\u001b[0m: invalid literal for int() with base 10: 'IU'"
     ]
    }
   ],
   "source": [
    "# Convert my_str to int using int(). What do you get?\n",
    "\n",
    "int(my_str)\n",
    "\n",
    "# Error b/c alphabetic characters can't be converted to numeric values"
   ]
  },
  {
   "cell_type": "code",
   "execution_count": null,
   "metadata": {},
   "outputs": [
    {
     "data": {
      "text/plain": [
       "5"
      ]
     },
     "execution_count": 58,
     "metadata": {},
     "output_type": "execute_result"
    }
   ],
   "source": [
    "# Convert my_float to int using int(). Can you succeed? Do you lose anything?\n",
    "# Should you do it?\n",
    "\n",
    "int(my_float)\n",
    "\n",
    "# Lose values past decimal\n",
    "# Should be done when attempting to access an index"
   ]
  },
  {
   "cell_type": "code",
   "execution_count": null,
   "metadata": {},
   "outputs": [
    {
     "data": {
      "text/plain": [
       "200000"
      ]
     },
     "execution_count": 59,
     "metadata": {},
     "output_type": "execute_result"
    }
   ],
   "source": [
    "# Ask the user to enter their salary in thousands. Convert it to an integer and save to variable\n",
    "# my_salary. Print out my_salary multiplied by 1000\n",
    "\n",
    "my_salary = input(\"Please enter your salary in units of (1000).\")\n",
    "int(my_salary.strip()) * 1000"
   ]
  },
  {
   "cell_type": "markdown",
   "metadata": {},
   "source": [
    "## Conditional Flow\n",
    "\n",
    "Order code is executed\n"
   ]
  },
  {
   "cell_type": "markdown",
   "metadata": {},
   "source": [
    "### Logical Expressions\n"
   ]
  },
  {
   "cell_type": "code",
   "execution_count": null,
   "metadata": {},
   "outputs": [
    {
     "data": {
      "text/plain": [
       "True"
      ]
     },
     "execution_count": 60,
     "metadata": {},
     "output_type": "execute_result"
    }
   ],
   "source": [
    "# Check out the comparison operators\n",
    "x = 12\n",
    "y = 3.7\n",
    "# print out the values of x > y\n",
    "\n",
    "x > y"
   ]
  },
  {
   "cell_type": "code",
   "execution_count": null,
   "metadata": {},
   "outputs": [
    {
     "data": {
      "text/plain": [
       "False"
      ]
     },
     "execution_count": 61,
     "metadata": {},
     "output_type": "execute_result"
    }
   ],
   "source": [
    "# print out the values of x < y\n",
    "x < y"
   ]
  },
  {
   "cell_type": "code",
   "execution_count": null,
   "metadata": {},
   "outputs": [
    {
     "data": {
      "text/plain": [
       "True"
      ]
     },
     "execution_count": 62,
     "metadata": {},
     "output_type": "execute_result"
    }
   ],
   "source": [
    "# print out the values of x != y\n",
    "\n",
    "x != y"
   ]
  },
  {
   "cell_type": "code",
   "execution_count": null,
   "metadata": {},
   "outputs": [
    {
     "data": {
      "text/plain": [
       "False"
      ]
     },
     "execution_count": 63,
     "metadata": {},
     "output_type": "execute_result"
    }
   ],
   "source": [
    "# print out the values of x == y\n",
    "x == y"
   ]
  },
  {
   "cell_type": "code",
   "execution_count": null,
   "metadata": {},
   "outputs": [
    {
     "ename": "SyntaxError",
     "evalue": "cannot assign to literal here. Maybe you meant '==' instead of '='? (2316373172.py, line 2)",
     "output_type": "error",
     "traceback": [
      "\u001b[1;36m  Cell \u001b[1;32mIn[64], line 2\u001b[1;36m\u001b[0m\n\u001b[1;33m    5 = 2\u001b[0m\n\u001b[1;37m    ^\u001b[0m\n\u001b[1;31mSyntaxError\u001b[0m\u001b[1;31m:\u001b[0m cannot assign to literal here. Maybe you meant '==' instead of '='?\n"
     ]
    }
   ],
   "source": [
    "# execute the following to see the error message. Why?\n",
    "5 = 2\n",
    "\n",
    "#5 is not a variable that can be assigned, this is not a boolean operation"
   ]
  },
  {
   "cell_type": "markdown",
   "metadata": {},
   "source": [
    "### if statement syntax\n"
   ]
  },
  {
   "cell_type": "code",
   "execution_count": null,
   "metadata": {},
   "outputs": [
    {
     "name": "stdout",
     "output_type": "stream",
     "text": [
      "x = 12\n",
      "y = 3.7\n",
      "x does not equal to y\n",
      "x = 12\n",
      "y = 12\n",
      "x equals to y\n"
     ]
    }
   ],
   "source": [
    "# This is an example of how to write a if statement. study it\n",
    "# and execute the code below. Do you get what you expect?\n",
    "# now set y = 12 before the if statement and execute the code again.\n",
    "\n",
    "print(f\"x = {x}\")\n",
    "print(f\"y = {y}\")\n",
    "if x == y:\n",
    "    print('x equals to y')\n",
    "else:\n",
    "    print('x does not equal to y')\n",
    "\n",
    "y = 12\n",
    "print(f\"x = {x}\")\n",
    "print(f\"y = {y}\")\n",
    "if x == y:\n",
    "    print('x equals to y')\n",
    "else:\n",
    "    print('x does not equal to y')"
   ]
  },
  {
   "cell_type": "code",
   "execution_count": null,
   "metadata": {},
   "outputs": [
    {
     "ename": "IndentationError",
     "evalue": "expected an indented block after 'if' statement on line 3 (3579059746.py, line 4)",
     "output_type": "error",
     "traceback": [
      "\u001b[1;36m  Cell \u001b[1;32mIn[69], line 4\u001b[1;36m\u001b[0m\n\u001b[1;33m    print('x equals to y')\u001b[0m\n\u001b[1;37m    ^\u001b[0m\n\u001b[1;31mIndentationError\u001b[0m\u001b[1;31m:\u001b[0m expected an indented block after 'if' statement on line 3\n"
     ]
    }
   ],
   "source": [
    "# Now execute the following code. What error did you get?\n",
    "# Can you fix it?\n",
    "if x == y:\n",
    "print('x equals to y')\n",
    "else:\n",
    "print('x does not equal to y')\n",
    "\n",
    "#Indentation error b/c python does not like using brackets"
   ]
  },
  {
   "cell_type": "code",
   "execution_count": null,
   "metadata": {},
   "outputs": [
    {
     "name": "stdout",
     "output_type": "stream",
     "text": [
      "x equals to y\n"
     ]
    }
   ],
   "source": [
    "# Now execute the following code. What error did you get?\n",
    "# Can you fix it?\n",
    "if x == y:\n",
    "    print('x equals to y')\n",
    "else:\n",
    "    print('x does not equal to y')\n",
    "\n",
    "# Colon required before indented statements"
   ]
  },
  {
   "cell_type": "markdown",
   "metadata": {},
   "source": [
    "### Simple if-else statement\n"
   ]
  },
  {
   "cell_type": "code",
   "execution_count": null,
   "metadata": {},
   "outputs": [
    {
     "name": "stdout",
     "output_type": "stream",
     "text": [
      "temp = 120\n",
      "It is warm outside!\n",
      "No need to bring a coat\n",
      "Let's head out for a walk.\n"
     ]
    }
   ],
   "source": [
    "# Follow me to write code for checking temperature and make choices\n",
    "# Ask what the temprature is now. Conver the input to int and save to variable 'temp'\n",
    "\n",
    "# If temp is less than 60, print out two lines: 'It is cold outside' and 'Let's bring a coat'.\n",
    "\n",
    "# Otherwise, print out 2 different lines: 'It is warm outside!' and 'No need to bring a coat'.\n",
    "\n",
    "# Finally, no matter what temperature it is, print out 'Heading out for a walk'\n",
    "\n",
    "temp = int(input(\"What is the temperature right now\").strip())\n",
    "print(f\"temp = {temp}\")\n",
    "if temp < 60:\n",
    "    print('It is cold outside\\nLet\\'s bring a coat')\n",
    "else:\n",
    "    print('It is warm outside!\\nNo need to bring a coat')\n",
    "\n",
    "print(\"Let's head out for a walk.\")"
   ]
  },
  {
   "cell_type": "markdown",
   "metadata": {},
   "source": [
    "### Now You Try 4\n"
   ]
  },
  {
   "cell_type": "code",
   "execution_count": null,
   "metadata": {},
   "outputs": [
    {
     "name": "stdout",
     "output_type": "stream",
     "text": [
      "Good Day!\n",
      "Several more hours to go.\n",
      "Goodbye\n"
     ]
    }
   ],
   "source": [
    "# Ask \"What time is it now?\" using input(). Convert it to integer using int()\n",
    "# save the result to a variable time. Write a if statement. Check:\n",
    "# if time is less than 18, print out first 'Good day!'. Then print out 'Several more hours to go'\n",
    "# Otherwise, print out first 'Good evening!'. Then print out 'Relax now'\n",
    "# Print out \"Goodbye\" no matter what time it is.\n",
    "\n",
    "\n",
    "time = int(input(\"What time is it right now?\").strip())\n",
    "\n",
    "if time < 18:\n",
    "    print(\"Good Day!\\nSeveral more hours to go.\")\n",
    "else:\n",
    "    print(\"Good eventing!\\nRelax Now.\")\n",
    "print(\"Goodbye\")"
   ]
  },
  {
   "cell_type": "markdown",
   "metadata": {},
   "source": [
    "### Nested if statement\n",
    "\n",
    "Determine if someone qualifies for a loan, they must meet two conditions:\n",
    "\n",
    "1. Must earn at least $30,000/year\n",
    "1. Must have been employed for at least two years\n",
    "\n",
    "Check the first condition, if it is true, check second condition. Print out relevant feedback\n"
   ]
  },
  {
   "cell_type": "code",
   "execution_count": 40,
   "metadata": {},
   "outputs": [
    {
     "name": "stdout",
     "output_type": "stream",
     "text": [
      "Unfortuantely, you do not have enough experience.\n"
     ]
    }
   ],
   "source": [
    "# Declare 2 variables to hold the salary and years worked\n",
    "salary = 40000\n",
    "years_on_job = 1.5\n",
    "# Check if salary is at least $30,000\n",
    "\n",
    "# check if working experience is at least 2 years\n",
    "\n",
    "# print out proper feedback\n",
    "\n",
    "# if years worked are not two or more, print out another feedback\n",
    "\n",
    "\n",
    "# if salary is not 30000 or more, print proper feedback\n",
    "\n",
    "if salary >= 30000:\n",
    "    if years_on_job >= 2:\n",
    "        print(\"Congratulations, you qualify for a loan!\")\n",
    "    else:\n",
    "        print(\"Unfortuantely, you do not have enough experience.\")\n",
    "else:\n",
    "    if years_on_job >= 2:\n",
    "        print(\"Unfortuantely, your salary is inssuficient.\")\n",
    "    else:\n",
    "        print(\"Unfortuantely, your salary and experience are inssuficient\")"
   ]
  },
  {
   "cell_type": "markdown",
   "metadata": {},
   "source": [
    "### if elif else\n",
    "\n",
    "This can be used to replace nested if and make the code more readable\n"
   ]
  },
  {
   "cell_type": "code",
   "execution_count": 41,
   "metadata": {},
   "outputs": [
    {
     "name": "stdout",
     "output_type": "stream",
     "text": [
      "Unfortuantely, you do not have enough experience.\n"
     ]
    }
   ],
   "source": [
    "# Rewrite code of nested if statement above with if-elif-else\n",
    "\n",
    "if salary >= 30000 and years_on_job >= 2:\n",
    "    print(\"Congratulations, you qualify for a loan!\")\n",
    "elif salary < 30000 and years_on_job < 2:\n",
    "    print(\"Unfortuantely, your salary and experience are inssuficient\")\n",
    "elif salary >= 30000:\n",
    "    print(\"Unfortuantely, you do not have enough experience.\")\n",
    "else:\n",
    "    print(\"Unfortuantely, your salary is inssuficient.\")"
   ]
  },
  {
   "cell_type": "markdown",
   "metadata": {},
   "source": [
    "### Complex Logical Expression\n",
    "\n",
    "Use and, or, not with () to create complex logical expression consists of multiple simple conditions\n"
   ]
  },
  {
   "cell_type": "code",
   "execution_count": 42,
   "metadata": {},
   "outputs": [
    {
     "name": "stdout",
     "output_type": "stream",
     "text": [
      "Unfortuantely, you do not have enough experience.\n"
     ]
    }
   ],
   "source": [
    "# Use the salary variable above, create a complex condition of salary is not lower than 30000 and\n",
    "# working experience is not lower than 2 years. Print out the result\n",
    "\n",
    "\n",
    "# I did this logic above\n",
    "# I'm just going to function wrap this for these prompts\n",
    "\n",
    "def loan_qualification_check(salary, years_on_job):\n",
    "    if salary >= 30000 and years_on_job >= 2:\n",
    "        print(\"Congratulations, you qualify for a loan!\")\n",
    "    elif salary < 30000 and years_on_job < 2:\n",
    "        print(\"Unfortuantely, your salary and experience are inssuficient\")\n",
    "    elif salary >= 30000:\n",
    "        print(\"Unfortuantely, you do not have enough experience.\")\n",
    "    else:\n",
    "        print(\"Unfortuantely, your salary is inssuficient.\")\n",
    "\n",
    "\n",
    "loan_qualification_check(salary, years_on_job)"
   ]
  },
  {
   "cell_type": "code",
   "execution_count": 43,
   "metadata": {},
   "outputs": [
    {
     "name": "stdout",
     "output_type": "stream",
     "text": [
      "Unfortuantely, you do not have enough experience.\n"
     ]
    }
   ],
   "source": [
    "# Use the salary variable above, create a complex condition of salary is lower than 30000 or\n",
    "# working experience is lower than 2 years. Print out the result\n",
    "\n",
    "\n",
    "# Already demonstrated proficiency I hope.\n",
    "loan_qualification_check(salary, years_on_job)"
   ]
  },
  {
   "cell_type": "code",
   "execution_count": 44,
   "metadata": {},
   "outputs": [
    {
     "name": "stdout",
     "output_type": "stream",
     "text": [
      "You have sufficient funds\n"
     ]
    }
   ],
   "source": [
    "# Use the salary variable above, create a complex condition of salary is not lower than 30000\n",
    "# using not. Print out the result\n",
    "\n",
    "if not (salary < 30000):\n",
    "    print(\"You have sufficient funds\")"
   ]
  },
  {
   "cell_type": "code",
   "execution_count": 45,
   "metadata": {},
   "outputs": [
    {
     "name": "stdout",
     "output_type": "stream",
     "text": [
      "Unfortuantely, you do not have enough experience.\n"
     ]
    }
   ],
   "source": [
    "# Rewrite the above if statement of loan application using logical operators 'and', 'or', 'not'\n",
    "\n",
    "loan_qualification_check(salary, years_on_job)"
   ]
  },
  {
   "cell_type": "markdown",
   "metadata": {},
   "source": [
    "### Now You Try 5\n"
   ]
  },
  {
   "cell_type": "code",
   "execution_count": 46,
   "metadata": {},
   "outputs": [
    {
     "name": "stdout",
     "output_type": "stream",
     "text": [
      "Unfortuantely, you do not have enough experience.\n"
     ]
    }
   ],
   "source": [
    "# Rewrite the code to check whether one is qualified for loan using a complex logical condition with \"or\"\n",
    "loan_qualification_check(salary, years_on_job)"
   ]
  },
  {
   "cell_type": "code",
   "execution_count": 48,
   "metadata": {},
   "outputs": [
    {
     "name": "stdout",
     "output_type": "stream",
     "text": [
      "A\n"
     ]
    }
   ],
   "source": [
    "# Write code to convert point grade to letter grade with the rules:\n",
    "# If not less than 90, “A”\n",
    "# Otherwise, if not less than 80, display “B”\n",
    "# Otherwise, if not less than 70, display “C”\n",
    "# Otherwise, if not less than 60, display “D”\n",
    "# Otherwise, display “F”\n",
    "# Use input() to ask for a score between 0 and 100\n",
    "\n",
    "\n",
    "score = int(input(\"Please input your score (0-100).\").strip())\n",
    "\n",
    "\n",
    "def get_letter_grade(score):\n",
    "    if not (score < 90):\n",
    "        return \"A\"\n",
    "    elif not (score < 80):\n",
    "        return \"B\"\n",
    "    elif not (score < 70):\n",
    "        return \"C\"\n",
    "    elif not (score < 60):\n",
    "        return \"D\"\n",
    "    else:\n",
    "        return \"F\"\n",
    "\n",
    "\n",
    "print(get_letter_grade(score))"
   ]
  }
 ],
 "metadata": {
  "kernelspec": {
   "display_name": "Python 3",
   "language": "python",
   "name": "python3"
  },
  "language_info": {
   "codemirror_mode": {
    "name": "ipython",
    "version": 3
   },
   "file_extension": ".py",
   "mimetype": "text/x-python",
   "name": "python",
   "nbconvert_exporter": "python",
   "pygments_lexer": "ipython3",
   "version": "3.11.3"
  }
 },
 "nbformat": 4,
 "nbformat_minor": 4
}
