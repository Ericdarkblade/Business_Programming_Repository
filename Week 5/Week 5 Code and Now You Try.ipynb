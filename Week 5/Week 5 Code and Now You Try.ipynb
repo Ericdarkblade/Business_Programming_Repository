{
 "cells": [
  {
   "cell_type": "markdown",
   "metadata": {},
   "source": [
    "# Week 5 Code and Now You Try - Functions and File IO"
   ]
  },
  {
   "cell_type": "code",
   "execution_count": 25,
   "metadata": {},
   "outputs": [
    {
     "name": "stderr",
     "output_type": "stream",
     "text": [
      "C:\\Users\\ezmos\\AppData\\Local\\Temp\\ipykernel_38768\\2720815156.py:2: DeprecationWarning: Importing display from IPython.core.display is deprecated since IPython 7.14, please import from IPython display\n",
      "  from IPython.core.display import display, HTML\n"
     ]
    },
    {
     "data": {
      "text/html": [
       "<style>.container { width:100% !important; }</style>"
      ],
      "text/plain": [
       "<IPython.core.display.HTML object>"
      ]
     },
     "metadata": {},
     "output_type": "display_data"
    }
   ],
   "source": [
    "# This cell is for wide display and better use of screen space\n",
    "from IPython.core.display import display, HTML\n",
    "display(HTML(\"<style>.container { width:100% !important; }</style>\"))"
   ]
  },
  {
   "cell_type": "markdown",
   "metadata": {},
   "source": [
    "## Simple Function - no arguments and no return values"
   ]
  },
  {
   "cell_type": "code",
   "execution_count": 26,
   "metadata": {},
   "outputs": [
    {
     "name": "stdout",
     "output_type": "stream",
     "text": [
      "Hello\n",
      "\n",
      "Hello World"
     ]
    }
   ],
   "source": [
    "# Recall how print() function is used\n",
    "# 1. print the string \"Hello\"\n",
    "# 2. print an empty line\n",
    "# 3 print \"Hello World\" by passing Hello and World as 2 different arguments\n",
    "# What can you summarize from the different use of the same function?\n",
    "\n",
    "print(\"Hello\")\n",
    "print()\n",
    "print(\"Hello\", end=\"\")\n",
    "print(\" World\", end=\"\")\n",
    "\n",
    "# Print has optional parameters? i'm  guessing this is the desired concept."
   ]
  },
  {
   "cell_type": "code",
   "execution_count": 27,
   "metadata": {},
   "outputs": [],
   "source": [
    "# Define a simple function with no arguments and no return values\n",
    "# A function must be first defined before be called\n",
    "\n",
    "def simple_function():\n",
    "    print(\"This is a simple function that has no return statement\")"
   ]
  },
  {
   "cell_type": "code",
   "execution_count": 28,
   "metadata": {},
   "outputs": [
    {
     "name": "stdout",
     "output_type": "stream",
     "text": [
      "This is a simple function that has no return statement\n",
      "Simple_function outputs: None\n"
     ]
    }
   ],
   "source": [
    "# Let's call/invoke (use) the function now that it is defined\n",
    "# After it is executed, study the output and see what is execution order\n",
    "\n",
    "# When simple function gets called the print statement is made and the function returns none\n",
    "print(f\"Simple_function outputs: {simple_function()}\")"
   ]
  },
  {
   "cell_type": "markdown",
   "metadata": {},
   "source": [
    "### Now You Try 1"
   ]
  },
  {
   "cell_type": "code",
   "execution_count": 29,
   "metadata": {},
   "outputs": [],
   "source": [
    "# Write a function that get the modulo of 578 divided by 19.\n",
    "# Print out the result. Name it modulo_19\n",
    "\n",
    "def modulo_19():\n",
    "    return 578 % 19"
   ]
  },
  {
   "cell_type": "code",
   "execution_count": 30,
   "metadata": {},
   "outputs": [
    {
     "data": {
      "text/plain": [
       "8"
      ]
     },
     "execution_count": 30,
     "metadata": {},
     "output_type": "execute_result"
    }
   ],
   "source": [
    "# Call the function\n",
    "modulo_19()"
   ]
  },
  {
   "cell_type": "markdown",
   "metadata": {},
   "source": [
    "## Functions with Arguments and Parameters"
   ]
  },
  {
   "cell_type": "code",
   "execution_count": 50,
   "metadata": {},
   "outputs": [],
   "source": [
    "# Let's create a function with 2 parameters that asks for 2 arguments\n",
    "\n",
    "def record_score(person=\"Anybody\", score=0):\n",
    "    print(f\"{person} scored {score}\")"
   ]
  },
  {
   "cell_type": "code",
   "execution_count": 32,
   "metadata": {},
   "outputs": [
    {
     "name": "stdout",
     "output_type": "stream",
     "text": [
      "Jill scored 4\n"
     ]
    }
   ],
   "source": [
    "# Let's call the function with two arguments: \"Jill\" and 4\n",
    "# study the result, how does the arguments get used in the function\n",
    "\n",
    "record_score(\"Jill\", 4)"
   ]
  },
  {
   "cell_type": "code",
   "execution_count": 33,
   "metadata": {},
   "outputs": [
    {
     "name": "stdout",
     "output_type": "stream",
     "text": [
      "Abby scored 10\n"
     ]
    }
   ],
   "source": [
    "# How can you announce that Abby scored 10?\n",
    "\n",
    "record_score(\"Abby\", 10)"
   ]
  },
  {
   "cell_type": "markdown",
   "metadata": {},
   "source": [
    "### Now You Try 2"
   ]
  },
  {
   "cell_type": "code",
   "execution_count": 34,
   "metadata": {},
   "outputs": [],
   "source": [
    "# Write a function that get the modulo of any integer passed in as an argument divided by 19.\n",
    "# Print out the result. Name it modulo_19_2\n",
    "\n",
    "def modulo_19_2(input_value):\n",
    "    return input_value % 19"
   ]
  },
  {
   "cell_type": "code",
   "execution_count": 35,
   "metadata": {
    "scrolled": true
   },
   "outputs": [
    {
     "name": "stdout",
     "output_type": "stream",
     "text": [
      "6\n",
      "4\n"
     ]
    }
   ],
   "source": [
    "# Call the function with argument 9886 and 1087 respectively\n",
    "print(modulo_19_2(9886))\n",
    "print(modulo_19_2(1087))"
   ]
  },
  {
   "cell_type": "markdown",
   "metadata": {},
   "source": [
    "### Passing Multiple Arguments"
   ]
  },
  {
   "cell_type": "code",
   "execution_count": 36,
   "metadata": {},
   "outputs": [],
   "source": [
    "# Let's write a function that subtract parameter num1 by num2 and print out the result\n",
    "def subtract(num1, num2):\n",
    "    print(num1 - num2)"
   ]
  },
  {
   "cell_type": "code",
   "execution_count": 37,
   "metadata": {},
   "outputs": [
    {
     "name": "stdout",
     "output_type": "stream",
     "text": [
      "-33\n"
     ]
    }
   ],
   "source": [
    "# Call the function by passing in 12 and 45 in this order\n",
    "subtract(12, 45)"
   ]
  },
  {
   "cell_type": "code",
   "execution_count": 38,
   "metadata": {},
   "outputs": [
    {
     "name": "stdout",
     "output_type": "stream",
     "text": [
      "33\n"
     ]
    }
   ],
   "source": [
    "# Call the function by passing in 45 and 12 in this order. How are ther results different?\n",
    "# What does this tell you?\n",
    "subtract(45, 12)\n",
    "\n",
    "\n",
    "# Magnitude is the same, the vector is not"
   ]
  },
  {
   "cell_type": "code",
   "execution_count": 39,
   "metadata": {},
   "outputs": [
    {
     "name": "stdout",
     "output_type": "stream",
     "text": [
      "-22\n"
     ]
    }
   ],
   "source": [
    "# Let's call the function using the arguments \"1\" and \"23\". What did you get and why?\n",
    "subtract(1, 23)\n",
    "\n",
    "# -22 = 1 - 23"
   ]
  },
  {
   "cell_type": "code",
   "execution_count": 40,
   "metadata": {},
   "outputs": [
    {
     "name": "stdout",
     "output_type": "stream",
     "text": [
      "99 scored 3\n"
     ]
    }
   ],
   "source": [
    "# Let's call the function record_score using the arguments 99 and 3 in that order. What did you get and why?\n",
    "record_score(99, 3)"
   ]
  },
  {
   "cell_type": "markdown",
   "metadata": {},
   "source": [
    "### Now You Try 3 - write functions with multiple parameters"
   ]
  },
  {
   "cell_type": "code",
   "execution_count": 41,
   "metadata": {},
   "outputs": [],
   "source": [
    "# Write a function that takes 2 arguments: friend and repetition. Name\n",
    "# the function get_attention. In this function, write a for loop to concatenate (+)\n",
    "# friend the “repetition” number of times. Print out the result after the loop is over.\n",
    "# When you call the function with arguments \"Mary\" and 3, the output should be Mary, Mary, Mary,\n",
    "\n",
    "\n",
    "def get_attention(friend, repetition):\n",
    "    print((friend + ', ') * repetition)  # string multiplication is a for loop"
   ]
  },
  {
   "cell_type": "code",
   "execution_count": 42,
   "metadata": {},
   "outputs": [
    {
     "name": "stdout",
     "output_type": "stream",
     "text": [
      "Mary, Mary, Mary, \n"
     ]
    }
   ],
   "source": [
    "# call the function get_attention() by passing arguments: \"Mary\" and 3 in this order\n",
    "# The result should be Mary, Mary, Mary,\n",
    "\n",
    "get_attention(\"Mary\", 3)"
   ]
  },
  {
   "cell_type": "code",
   "execution_count": 43,
   "metadata": {},
   "outputs": [
    {
     "ename": "TypeError",
     "evalue": "unsupported operand type(s) for +: 'int' and 'str'",
     "output_type": "error",
     "traceback": [
      "\u001b[1;31m---------------------------------------------------------------------------\u001b[0m",
      "\u001b[1;31mTypeError\u001b[0m                                 Traceback (most recent call last)",
      "\u001b[1;32mc:\\Users\\ezmos\\OneDrive - Indiana University\\My Courses\\Fall 2023\\BUS-S 364\\Business_Programming_Repository\\Week 5\\Week 5 Code and Now You Try.ipynb Cell 26\u001b[0m line \u001b[0;36m4\n\u001b[0;32m      <a href='vscode-notebook-cell:/c%3A/Users/ezmos/OneDrive%20-%20Indiana%20University/My%20Courses/Fall%202023/BUS-S%20364/Business_Programming_Repository/Week%205/Week%205%20Code%20and%20Now%20You%20Try.ipynb#X34sZmlsZQ%3D%3D?line=0'>1</a>\u001b[0m \u001b[39m# Try to call the function get_attention() by passing arguments: 3 and \"Mary\" in this order\u001b[39;00m\n\u001b[0;32m      <a href='vscode-notebook-cell:/c%3A/Users/ezmos/OneDrive%20-%20Indiana%20University/My%20Courses/Fall%202023/BUS-S%20364/Business_Programming_Repository/Week%205/Week%205%20Code%20and%20Now%20You%20Try.ipynb#X34sZmlsZQ%3D%3D?line=1'>2</a>\u001b[0m \u001b[39m# What do you get and why?\u001b[39;00m\n\u001b[1;32m----> <a href='vscode-notebook-cell:/c%3A/Users/ezmos/OneDrive%20-%20Indiana%20University/My%20Courses/Fall%202023/BUS-S%20364/Business_Programming_Repository/Week%205/Week%205%20Code%20and%20Now%20You%20Try.ipynb#X34sZmlsZQ%3D%3D?line=3'>4</a>\u001b[0m get_attention(\u001b[39m3\u001b[39m, \u001b[39m\"\u001b[39m\u001b[39mMary\u001b[39m\u001b[39m\"\u001b[39m)\n",
      "\u001b[1;32mc:\\Users\\ezmos\\OneDrive - Indiana University\\My Courses\\Fall 2023\\BUS-S 364\\Business_Programming_Repository\\Week 5\\Week 5 Code and Now You Try.ipynb Cell 26\u001b[0m line \u001b[0;36m8\n\u001b[0;32m      <a href='vscode-notebook-cell:/c%3A/Users/ezmos/OneDrive%20-%20Indiana%20University/My%20Courses/Fall%202023/BUS-S%20364/Business_Programming_Repository/Week%205/Week%205%20Code%20and%20Now%20You%20Try.ipynb#X34sZmlsZQ%3D%3D?line=6'>7</a>\u001b[0m \u001b[39mdef\u001b[39;00m \u001b[39mget_attention\u001b[39m(friend, repetition):\n\u001b[1;32m----> <a href='vscode-notebook-cell:/c%3A/Users/ezmos/OneDrive%20-%20Indiana%20University/My%20Courses/Fall%202023/BUS-S%20364/Business_Programming_Repository/Week%205/Week%205%20Code%20and%20Now%20You%20Try.ipynb#X34sZmlsZQ%3D%3D?line=7'>8</a>\u001b[0m     \u001b[39mprint\u001b[39m((friend \u001b[39m+\u001b[39m \u001b[39m'\u001b[39m\u001b[39m, \u001b[39m\u001b[39m'\u001b[39m) \u001b[39m*\u001b[39m repetition)\n",
      "\u001b[1;31mTypeError\u001b[0m: unsupported operand type(s) for +: 'int' and 'str'"
     ]
    }
   ],
   "source": [
    "# Try to call the function get_attention() by passing arguments: 3 and \"Mary\" in this order\n",
    "# What do you get and why?\n",
    "\n",
    "get_attention(3, \"Mary\")\n",
    "\n",
    "# Error recieved, because \"Mary\" is a string and not an integer"
   ]
  },
  {
   "cell_type": "markdown",
   "metadata": {},
   "source": [
    "### Call the function with keyword arguments\n",
    "In the parentheses you should use this format: parameter1 = argument1, parameter2 = argument2, etc."
   ]
  },
  {
   "cell_type": "code",
   "execution_count": null,
   "metadata": {},
   "outputs": [
    {
     "name": "stdout",
     "output_type": "stream",
     "text": [
      "Nishant, Nishant, Nishant, Nishant, Nishant, Nishant, Nishant, Nishant, Nishant, Nishant, Nishant, Nishant, Nishant, Nishant, Nishant, Nishant, Nishant, Nishant, Nishant, Nishant, \n"
     ]
    }
   ],
   "source": [
    "# Call the function get_attention by passing keyward arguments\n",
    "\n",
    "get_attention(friend=\"Nishant\", repetition=20)"
   ]
  },
  {
   "cell_type": "code",
   "execution_count": null,
   "metadata": {},
   "outputs": [],
   "source": [
    "# Call the function get_attention by passing keyward arguments with reversed order\n",
    "# What can you conclude?\n",
    "\n",
    "get_attention(repetition=20, friend=\"Nishant\")"
   ]
  },
  {
   "cell_type": "markdown",
   "metadata": {},
   "source": [
    "###  Write functions with default argument values\n",
    "The parameter should be set as parameter=default_value "
   ]
  },
  {
   "cell_type": "code",
   "execution_count": null,
   "metadata": {},
   "outputs": [],
   "source": [
    "# Set the default value of parameter score to be 0 for the function record_score() we defined before\n",
    "\n",
    "# Went above to declaration and made change"
   ]
  },
  {
   "cell_type": "code",
   "execution_count": null,
   "metadata": {},
   "outputs": [
    {
     "name": "stdout",
     "output_type": "stream",
     "text": [
      "John scored 9\n"
     ]
    }
   ],
   "source": [
    "# Call record_score() with arguments \"John\" and 9 passed in\n",
    "\n",
    "record_score(\"John\", 9)"
   ]
  },
  {
   "cell_type": "code",
   "execution_count": null,
   "metadata": {},
   "outputs": [
    {
     "name": "stdout",
     "output_type": "stream",
     "text": [
      "John scored 9\n"
     ]
    }
   ],
   "source": [
    "# Call record_score() with arguments \"John\" and 9 passed in keyword arguments\n",
    "record_score(person=\"John\", score=9)"
   ]
  },
  {
   "cell_type": "code",
   "execution_count": null,
   "metadata": {},
   "outputs": [
    {
     "name": "stdout",
     "output_type": "stream",
     "text": [
      "John scored 0\n"
     ]
    }
   ],
   "source": [
    "# Call record_score() with arguments \"John\" only\n",
    "\n",
    "record_score(\"John\")"
   ]
  },
  {
   "cell_type": "code",
   "execution_count": 44,
   "metadata": {},
   "outputs": [
    {
     "name": "stdout",
     "output_type": "stream",
     "text": [
      "John scored 0\n"
     ]
    }
   ],
   "source": [
    "# Call record_score() with arguments \"John\" only as a keyword argument\n",
    "\n",
    "record_score(person=\"John\")"
   ]
  },
  {
   "cell_type": "markdown",
   "metadata": {},
   "source": [
    "### Now You Try 4\n"
   ]
  },
  {
   "cell_type": "code",
   "execution_count": 46,
   "metadata": {},
   "outputs": [],
   "source": [
    "# Modify modulo_19_2 you write before by setting the default value of the\n",
    "# parameter to 0. If no argument is passed in, the function will not throw\n",
    "# an error, instead, the value of 0 % 19 will be printed. Name it modulo_19_3\n",
    "\n",
    "\n",
    "def modulo_19_3(input_value=0):\n",
    "    return input_value % 19"
   ]
  },
  {
   "cell_type": "code",
   "execution_count": 47,
   "metadata": {},
   "outputs": [
    {
     "data": {
      "text/plain": [
       "0"
      ]
     },
     "execution_count": 47,
     "metadata": {},
     "output_type": "execute_result"
    }
   ],
   "source": [
    "# Call the function without any argument\n",
    "\n",
    "modulo_19_3()"
   ]
  },
  {
   "cell_type": "code",
   "execution_count": 49,
   "metadata": {},
   "outputs": [
    {
     "data": {
      "text/plain": [
       "6"
      ]
     },
     "execution_count": 49,
     "metadata": {},
     "output_type": "execute_result"
    }
   ],
   "source": [
    "# Call the function with argument value 9886\n",
    "\n",
    "modulo_19_3(9886)"
   ]
  },
  {
   "cell_type": "code",
   "execution_count": 51,
   "metadata": {},
   "outputs": [
    {
     "name": "stdout",
     "output_type": "stream",
     "text": [
      "Anybody scored 0\n"
     ]
    }
   ],
   "source": [
    "# Give the name parameter of the record_score() function a default value of \"Anybody\"\n",
    "record_score()"
   ]
  },
  {
   "cell_type": "code",
   "execution_count": 52,
   "metadata": {},
   "outputs": [
    {
     "name": "stdout",
     "output_type": "stream",
     "text": [
      "Anybody scored 0\n"
     ]
    }
   ],
   "source": [
    "# Call the function record_score() without passing any argument\n",
    "record_score()"
   ]
  },
  {
   "cell_type": "markdown",
   "metadata": {},
   "source": [
    "## Functions with return values"
   ]
  },
  {
   "cell_type": "code",
   "execution_count": 53,
   "metadata": {},
   "outputs": [
    {
     "name": "stdout",
     "output_type": "stream",
     "text": [
      "jeff\n"
     ]
    }
   ],
   "source": [
    "# Let's compare the difference between input() and print()\n",
    "# Use input() to ask for your name and save it to a variable input_name\n",
    "# Display the value stored in variable input_name using print(nput_name)\n",
    "\n",
    "input_name = input(\"Please give me your name.\")\n",
    "print(input_name)"
   ]
  },
  {
   "cell_type": "code",
   "execution_count": 55,
   "metadata": {},
   "outputs": [
    {
     "name": "stdout",
     "output_type": "stream",
     "text": [
      "Eric\n",
      "None\n"
     ]
    }
   ],
   "source": [
    "# Use print() to print out your name (or any name) and save the result to a variable print_name\n",
    "# Display the value stored in print_name using print(print_name)\n",
    "# Think about the difference between the two types of functions\n",
    "\n",
    "print_name = print(\"Eric\")\n",
    "\n",
    "print(print_name)"
   ]
  },
  {
   "cell_type": "code",
   "execution_count": 56,
   "metadata": {},
   "outputs": [
    {
     "name": "stdout",
     "output_type": "stream",
     "text": [
      "0\n"
     ]
    }
   ],
   "source": [
    "# all functions we have written above are void functions\n",
    "# print out the return value of modulo_19_3() we created above\n",
    "\n",
    "print(modulo_19_3())"
   ]
  },
  {
   "cell_type": "code",
   "execution_count": 58,
   "metadata": {},
   "outputs": [
    {
     "name": "stdout",
     "output_type": "stream",
     "text": [
      "I am here\n"
     ]
    }
   ],
   "source": [
    "# Write a simple function greet() that takes no argument and returns string \"Hello\"\n",
    "# After the function is created, write a print function to display \"I am here\"\n",
    "\n",
    "def greet():\n",
    "    return \"Hello\"\n",
    "\n",
    "\n",
    "print(\"I am here\")"
   ]
  },
  {
   "cell_type": "code",
   "execution_count": 60,
   "metadata": {},
   "outputs": [
    {
     "data": {
      "text/plain": [
       "'Hello'"
      ]
     },
     "execution_count": 60,
     "metadata": {},
     "output_type": "execute_result"
    }
   ],
   "source": [
    "# Call the greet() function to see the return value\n",
    "\n",
    "greet()"
   ]
  },
  {
   "cell_type": "code",
   "execution_count": 65,
   "metadata": {},
   "outputs": [
    {
     "data": {
      "text/plain": [
       "'Hello'"
      ]
     },
     "execution_count": 65,
     "metadata": {},
     "output_type": "execute_result"
    }
   ],
   "source": [
    "# Now greet \"Glenn\" and \"Sally\" respectively by called the greet() function twice\n",
    "\n",
    "greet()\n",
    "\n",
    "greet()"
   ]
  },
  {
   "cell_type": "code",
   "execution_count": 69,
   "metadata": {},
   "outputs": [
    {
     "data": {
      "text/plain": [
       "'Hello'"
      ]
     },
     "execution_count": 69,
     "metadata": {},
     "output_type": "execute_result"
    }
   ],
   "source": [
    "# Now save the return value of greet() to a variable greeting_word and greet \"Glenn\" and \"Sally\"\n",
    "# Call the function only once. Do you get why return the value is useful?\n",
    "\n",
    "greeting_word = greet()\n",
    "\n",
    "greeting_word\n",
    "\n",
    "# Yes I understand"
   ]
  },
  {
   "cell_type": "code",
   "execution_count": 70,
   "metadata": {},
   "outputs": [
    {
     "name": "stdout",
     "output_type": "stream",
     "text": [
      "Hello\n",
      "Hola\n",
      "Bonjour\n"
     ]
    }
   ],
   "source": [
    "# Here we have another greet() function that is void\n",
    "def greet(lang):\n",
    "    if lang == 'es':\n",
    "        print('Hola')\n",
    "    elif lang == 'fr':\n",
    "        print('Bonjour')\n",
    "    else:\n",
    "        print('Hello')\n",
    "\n",
    "\n",
    "greet('en')\n",
    "greet('es')\n",
    "greet('fr')"
   ]
  },
  {
   "cell_type": "code",
   "execution_count": 71,
   "metadata": {},
   "outputs": [],
   "source": [
    "# Rewrite the function above as a value returning function that returns the proper greeting in the\n",
    "# Specified language\n",
    "\n",
    "def greet(lang):\n",
    "    if lang == 'es':\n",
    "        return 'Hola'\n",
    "    elif lang == 'fr':\n",
    "        return 'Bonjour'\n",
    "    else:\n",
    "        return 'Hello'"
   ]
  },
  {
   "cell_type": "code",
   "execution_count": 72,
   "metadata": {},
   "outputs": [
    {
     "data": {
      "text/plain": [
       "'Bonjour'"
      ]
     },
     "execution_count": 72,
     "metadata": {},
     "output_type": "execute_result"
    }
   ],
   "source": [
    "# Call the greet() function by passing in the 3 different languages to greet Glenn\n",
    "\n",
    "greet('en')\n",
    "greet('es')\n",
    "greet('fr')"
   ]
  },
  {
   "cell_type": "markdown",
   "metadata": {},
   "source": [
    "### Now You Try 5"
   ]
  },
  {
   "cell_type": "code",
   "execution_count": 73,
   "metadata": {},
   "outputs": [
    {
     "name": "stdout",
     "output_type": "stream",
     "text": [
      "6\n"
     ]
    }
   ],
   "source": [
    "# Write a function that gets the modulo of any integer passed in as\n",
    "# an argument divided by 19. Return the result. Name it modulo_19_4\n",
    "# Call the function with values 9886, assign the returned value to a\n",
    "# variable x and print out x\n",
    "\n",
    "def modulo_19_4(input_value=0):\n",
    "    return input_value % 19\n",
    "\n",
    "\n",
    "x = modulo_19_4(9886)\n",
    "print(x)"
   ]
  },
  {
   "cell_type": "code",
   "execution_count": 74,
   "metadata": {},
   "outputs": [],
   "source": [
    "# Write a function give_me_5 that takes a parameter 'name' and return a string\n",
    "# \"Give me five name!\"\". For example, when you call give_me_5 with \"Amanda\"\n",
    "# You get a returned value of \"Give me five Amanda!\"\n",
    "# Write your function here\n",
    "\n",
    "def give_me_5(name):\n",
    "    return f\"Give me five {name}!\""
   ]
  },
  {
   "cell_type": "code",
   "execution_count": 75,
   "metadata": {},
   "outputs": [
    {
     "data": {
      "text/plain": [
       "'Give me five Kevin!'"
      ]
     },
     "execution_count": 75,
     "metadata": {},
     "output_type": "execute_result"
    }
   ],
   "source": [
    "# Call the function with Keven, save the returned value in variable kevin_5 and print out kevin_5\n",
    "kevin_5 = give_me_5(\"Kevin\")\n",
    "kevin_5"
   ]
  },
  {
   "cell_type": "markdown",
   "metadata": {},
   "source": [
    "## Common errors when using functions"
   ]
  },
  {
   "cell_type": "code",
   "execution_count": 77,
   "metadata": {},
   "outputs": [
    {
     "data": {
      "text/plain": [
       "<function __main__.modulo_19_4(input_value=0)>"
      ]
     },
     "execution_count": 77,
     "metadata": {},
     "output_type": "execute_result"
    }
   ],
   "source": [
    "# Calling a fucntion without (). No errors.\n",
    "modulo_19_4"
   ]
  },
  {
   "cell_type": "code",
   "execution_count": null,
   "metadata": {},
   "outputs": [
    {
     "ename": "TypeError",
     "evalue": "modulo_19_4() missing 1 required positional argument: 'num'",
     "output_type": "error",
     "traceback": [
      "\u001b[1;31m---------------------------------------------------------------------------\u001b[0m",
      "\u001b[1;31mTypeError\u001b[0m                                 Traceback (most recent call last)",
      "\u001b[1;32m<ipython-input-9-c6affeb1d349>\u001b[0m in \u001b[0;36m<module>\u001b[1;34m\u001b[0m\n\u001b[0;32m      1\u001b[0m \u001b[1;31m# Calling a function without passing all needed arguments\u001b[0m\u001b[1;33m\u001b[0m\u001b[1;33m\u001b[0m\u001b[1;33m\u001b[0m\u001b[0m\n\u001b[1;32m----> 2\u001b[1;33m \u001b[0mmodulo_19_4\u001b[0m\u001b[1;33m(\u001b[0m\u001b[1;33m)\u001b[0m\u001b[1;33m\u001b[0m\u001b[1;33m\u001b[0m\u001b[0m\n\u001b[0m",
      "\u001b[1;31mTypeError\u001b[0m: modulo_19_4() missing 1 required positional argument: 'num'"
     ]
    }
   ],
   "source": [
    "# Calling a function without passing all needed arguments\n",
    "modulo_19_4()"
   ]
  },
  {
   "cell_type": "code",
   "execution_count": 79,
   "metadata": {},
   "outputs": [
    {
     "name": "stdout",
     "output_type": "stream",
     "text": [
      "Anybody scored 0\n"
     ]
    }
   ],
   "source": [
    "# calling a function without the correct number of functions\n",
    "record_score()"
   ]
  },
  {
   "cell_type": "markdown",
   "metadata": {},
   "source": [
    "## Import standard libraries"
   ]
  },
  {
   "cell_type": "code",
   "execution_count": 84,
   "metadata": {},
   "outputs": [
    {
     "ename": "NameError",
     "evalue": "name 'sqrt' is not defined",
     "output_type": "error",
     "traceback": [
      "\u001b[1;31m---------------------------------------------------------------------------\u001b[0m",
      "\u001b[1;31mNameError\u001b[0m                                 Traceback (most recent call last)",
      "\u001b[1;32mc:\\Users\\ezmos\\OneDrive - Indiana University\\My Courses\\Fall 2023\\BUS-S 364\\Business_Programming_Repository\\Week 5\\Week 5 Code and Now You Try.ipynb Cell 62\u001b[0m line \u001b[0;36m3\n\u001b[0;32m      <a href='vscode-notebook-cell:/c%3A/Users/ezmos/OneDrive%20-%20Indiana%20University/My%20Courses/Fall%202023/BUS-S%20364/Business_Programming_Repository/Week%205/Week%205%20Code%20and%20Now%20You%20Try.ipynb#Y115sZmlsZQ%3D%3D?line=0'>1</a>\u001b[0m \u001b[39m# use sqrt() to calculate the square root of number 90. What do you get?\u001b[39;00m\n\u001b[1;32m----> <a href='vscode-notebook-cell:/c%3A/Users/ezmos/OneDrive%20-%20Indiana%20University/My%20Courses/Fall%202023/BUS-S%20364/Business_Programming_Repository/Week%205/Week%205%20Code%20and%20Now%20You%20Try.ipynb#Y115sZmlsZQ%3D%3D?line=2'>3</a>\u001b[0m sqrt(\u001b[39m90\u001b[39m)\n",
      "\u001b[1;31mNameError\u001b[0m: name 'sqrt' is not defined"
     ]
    }
   ],
   "source": [
    "# use sqrt() to calculate the square root of number 90. What do you get?\n",
    "\n",
    "sqrt(90)\n",
    "\n",
    "# Error because the method wasn't imported...."
   ]
  },
  {
   "cell_type": "code",
   "execution_count": 82,
   "metadata": {},
   "outputs": [],
   "source": [
    "# import library math\n",
    "\n",
    "import math"
   ]
  },
  {
   "cell_type": "code",
   "execution_count": 85,
   "metadata": {},
   "outputs": [
    {
     "data": {
      "text/plain": [
       "9.486832980505138"
      ]
     },
     "execution_count": 85,
     "metadata": {},
     "output_type": "execute_result"
    }
   ],
   "source": [
    "# use math.sqrt() to calculate the square root of number 90. What do you get?\n",
    "# use sqrt() again, do you get the result? Why?\n",
    "\n",
    "math.sqrt(90)\n",
    "\n",
    "# math.sqrt works because math is imported and so we can access the sqrt method through math.\n",
    "\n",
    "# sqrt isn't going to work because we didn't import the sqrt method or define our own"
   ]
  },
  {
   "cell_type": "code",
   "execution_count": 86,
   "metadata": {},
   "outputs": [
    {
     "name": "stdout",
     "output_type": "stream",
     "text": [
      "Help on built-in module math:\n",
      "\n",
      "NAME\n",
      "    math\n",
      "\n",
      "DESCRIPTION\n",
      "    This module provides access to the mathematical functions\n",
      "    defined by the C standard.\n",
      "\n",
      "FUNCTIONS\n",
      "    acos(x, /)\n",
      "        Return the arc cosine (measured in radians) of x.\n",
      "        \n",
      "        The result is between 0 and pi.\n",
      "    \n",
      "    acosh(x, /)\n",
      "        Return the inverse hyperbolic cosine of x.\n",
      "    \n",
      "    asin(x, /)\n",
      "        Return the arc sine (measured in radians) of x.\n",
      "        \n",
      "        The result is between -pi/2 and pi/2.\n",
      "    \n",
      "    asinh(x, /)\n",
      "        Return the inverse hyperbolic sine of x.\n",
      "    \n",
      "    atan(x, /)\n",
      "        Return the arc tangent (measured in radians) of x.\n",
      "        \n",
      "        The result is between -pi/2 and pi/2.\n",
      "    \n",
      "    atan2(y, x, /)\n",
      "        Return the arc tangent (measured in radians) of y/x.\n",
      "        \n",
      "        Unlike atan(y/x), the signs of both x and y are considered.\n",
      "    \n",
      "    atanh(x, /)\n",
      "        Return the inverse hyperbolic tangent of x.\n",
      "    \n",
      "    cbrt(x, /)\n",
      "        Return the cube root of x.\n",
      "    \n",
      "    ceil(x, /)\n",
      "        Return the ceiling of x as an Integral.\n",
      "        \n",
      "        This is the smallest integer >= x.\n",
      "    \n",
      "    comb(n, k, /)\n",
      "        Number of ways to choose k items from n items without repetition and without order.\n",
      "        \n",
      "        Evaluates to n! / (k! * (n - k)!) when k <= n and evaluates\n",
      "        to zero when k > n.\n",
      "        \n",
      "        Also called the binomial coefficient because it is equivalent\n",
      "        to the coefficient of k-th term in polynomial expansion of the\n",
      "        expression (1 + x)**n.\n",
      "        \n",
      "        Raises TypeError if either of the arguments are not integers.\n",
      "        Raises ValueError if either of the arguments are negative.\n",
      "    \n",
      "    copysign(x, y, /)\n",
      "        Return a float with the magnitude (absolute value) of x but the sign of y.\n",
      "        \n",
      "        On platforms that support signed zeros, copysign(1.0, -0.0)\n",
      "        returns -1.0.\n",
      "    \n",
      "    cos(x, /)\n",
      "        Return the cosine of x (measured in radians).\n",
      "    \n",
      "    cosh(x, /)\n",
      "        Return the hyperbolic cosine of x.\n",
      "    \n",
      "    degrees(x, /)\n",
      "        Convert angle x from radians to degrees.\n",
      "    \n",
      "    dist(p, q, /)\n",
      "        Return the Euclidean distance between two points p and q.\n",
      "        \n",
      "        The points should be specified as sequences (or iterables) of\n",
      "        coordinates.  Both inputs must have the same dimension.\n",
      "        \n",
      "        Roughly equivalent to:\n",
      "            sqrt(sum((px - qx) ** 2.0 for px, qx in zip(p, q)))\n",
      "    \n",
      "    erf(x, /)\n",
      "        Error function at x.\n",
      "    \n",
      "    erfc(x, /)\n",
      "        Complementary error function at x.\n",
      "    \n",
      "    exp(x, /)\n",
      "        Return e raised to the power of x.\n",
      "    \n",
      "    exp2(x, /)\n",
      "        Return 2 raised to the power of x.\n",
      "    \n",
      "    expm1(x, /)\n",
      "        Return exp(x)-1.\n",
      "        \n",
      "        This function avoids the loss of precision involved in the direct evaluation of exp(x)-1 for small x.\n",
      "    \n",
      "    fabs(x, /)\n",
      "        Return the absolute value of the float x.\n",
      "    \n",
      "    factorial(n, /)\n",
      "        Find n!.\n",
      "        \n",
      "        Raise a ValueError if x is negative or non-integral.\n",
      "    \n",
      "    floor(x, /)\n",
      "        Return the floor of x as an Integral.\n",
      "        \n",
      "        This is the largest integer <= x.\n",
      "    \n",
      "    fmod(x, y, /)\n",
      "        Return fmod(x, y), according to platform C.\n",
      "        \n",
      "        x % y may differ.\n",
      "    \n",
      "    frexp(x, /)\n",
      "        Return the mantissa and exponent of x, as pair (m, e).\n",
      "        \n",
      "        m is a float and e is an int, such that x = m * 2.**e.\n",
      "        If x is 0, m and e are both 0.  Else 0.5 <= abs(m) < 1.0.\n",
      "    \n",
      "    fsum(seq, /)\n",
      "        Return an accurate floating point sum of values in the iterable seq.\n",
      "        \n",
      "        Assumes IEEE-754 floating point arithmetic.\n",
      "    \n",
      "    gamma(x, /)\n",
      "        Gamma function at x.\n",
      "    \n",
      "    gcd(*integers)\n",
      "        Greatest Common Divisor.\n",
      "    \n",
      "    hypot(...)\n",
      "        hypot(*coordinates) -> value\n",
      "        \n",
      "        Multidimensional Euclidean distance from the origin to a point.\n",
      "        \n",
      "        Roughly equivalent to:\n",
      "            sqrt(sum(x**2 for x in coordinates))\n",
      "        \n",
      "        For a two dimensional point (x, y), gives the hypotenuse\n",
      "        using the Pythagorean theorem:  sqrt(x*x + y*y).\n",
      "        \n",
      "        For example, the hypotenuse of a 3/4/5 right triangle is:\n",
      "        \n",
      "            >>> hypot(3.0, 4.0)\n",
      "            5.0\n",
      "    \n",
      "    isclose(a, b, *, rel_tol=1e-09, abs_tol=0.0)\n",
      "        Determine whether two floating point numbers are close in value.\n",
      "        \n",
      "          rel_tol\n",
      "            maximum difference for being considered \"close\", relative to the\n",
      "            magnitude of the input values\n",
      "          abs_tol\n",
      "            maximum difference for being considered \"close\", regardless of the\n",
      "            magnitude of the input values\n",
      "        \n",
      "        Return True if a is close in value to b, and False otherwise.\n",
      "        \n",
      "        For the values to be considered close, the difference between them\n",
      "        must be smaller than at least one of the tolerances.\n",
      "        \n",
      "        -inf, inf and NaN behave similarly to the IEEE 754 Standard.  That\n",
      "        is, NaN is not close to anything, even itself.  inf and -inf are\n",
      "        only close to themselves.\n",
      "    \n",
      "    isfinite(x, /)\n",
      "        Return True if x is neither an infinity nor a NaN, and False otherwise.\n",
      "    \n",
      "    isinf(x, /)\n",
      "        Return True if x is a positive or negative infinity, and False otherwise.\n",
      "    \n",
      "    isnan(x, /)\n",
      "        Return True if x is a NaN (not a number), and False otherwise.\n",
      "    \n",
      "    isqrt(n, /)\n",
      "        Return the integer part of the square root of the input.\n",
      "    \n",
      "    lcm(*integers)\n",
      "        Least Common Multiple.\n",
      "    \n",
      "    ldexp(x, i, /)\n",
      "        Return x * (2**i).\n",
      "        \n",
      "        This is essentially the inverse of frexp().\n",
      "    \n",
      "    lgamma(x, /)\n",
      "        Natural logarithm of absolute value of Gamma function at x.\n",
      "    \n",
      "    log(...)\n",
      "        log(x, [base=math.e])\n",
      "        Return the logarithm of x to the given base.\n",
      "        \n",
      "        If the base not specified, returns the natural logarithm (base e) of x.\n",
      "    \n",
      "    log10(x, /)\n",
      "        Return the base 10 logarithm of x.\n",
      "    \n",
      "    log1p(x, /)\n",
      "        Return the natural logarithm of 1+x (base e).\n",
      "        \n",
      "        The result is computed in a way which is accurate for x near zero.\n",
      "    \n",
      "    log2(x, /)\n",
      "        Return the base 2 logarithm of x.\n",
      "    \n",
      "    modf(x, /)\n",
      "        Return the fractional and integer parts of x.\n",
      "        \n",
      "        Both results carry the sign of x and are floats.\n",
      "    \n",
      "    nextafter(x, y, /)\n",
      "        Return the next floating-point value after x towards y.\n",
      "    \n",
      "    perm(n, k=None, /)\n",
      "        Number of ways to choose k items from n items without repetition and with order.\n",
      "        \n",
      "        Evaluates to n! / (n - k)! when k <= n and evaluates\n",
      "        to zero when k > n.\n",
      "        \n",
      "        If k is not specified or is None, then k defaults to n\n",
      "        and the function returns n!.\n",
      "        \n",
      "        Raises TypeError if either of the arguments are not integers.\n",
      "        Raises ValueError if either of the arguments are negative.\n",
      "    \n",
      "    pow(x, y, /)\n",
      "        Return x**y (x to the power of y).\n",
      "    \n",
      "    prod(iterable, /, *, start=1)\n",
      "        Calculate the product of all the elements in the input iterable.\n",
      "        \n",
      "        The default start value for the product is 1.\n",
      "        \n",
      "        When the iterable is empty, return the start value.  This function is\n",
      "        intended specifically for use with numeric values and may reject\n",
      "        non-numeric types.\n",
      "    \n",
      "    radians(x, /)\n",
      "        Convert angle x from degrees to radians.\n",
      "    \n",
      "    remainder(x, y, /)\n",
      "        Difference between x and the closest integer multiple of y.\n",
      "        \n",
      "        Return x - n*y where n*y is the closest integer multiple of y.\n",
      "        In the case where x is exactly halfway between two multiples of\n",
      "        y, the nearest even value of n is used. The result is always exact.\n",
      "    \n",
      "    sin(x, /)\n",
      "        Return the sine of x (measured in radians).\n",
      "    \n",
      "    sinh(x, /)\n",
      "        Return the hyperbolic sine of x.\n",
      "    \n",
      "    sqrt(x, /)\n",
      "        Return the square root of x.\n",
      "    \n",
      "    tan(x, /)\n",
      "        Return the tangent of x (measured in radians).\n",
      "    \n",
      "    tanh(x, /)\n",
      "        Return the hyperbolic tangent of x.\n",
      "    \n",
      "    trunc(x, /)\n",
      "        Truncates the Real x to the nearest Integral toward 0.\n",
      "        \n",
      "        Uses the __trunc__ magic method.\n",
      "    \n",
      "    ulp(x, /)\n",
      "        Return the value of the least significant bit of the float x.\n",
      "\n",
      "DATA\n",
      "    e = 2.718281828459045\n",
      "    inf = inf\n",
      "    nan = nan\n",
      "    pi = 3.141592653589793\n",
      "    tau = 6.283185307179586\n",
      "\n",
      "FILE\n",
      "    (built-in)\n",
      "\n",
      "\n"
     ]
    }
   ],
   "source": [
    "# Use help(math) to see all the function collected in math module\n",
    "\n",
    "help(math)"
   ]
  },
  {
   "cell_type": "code",
   "execution_count": 87,
   "metadata": {},
   "outputs": [
    {
     "data": {
      "text/plain": [
       "9.486832980505138"
      ]
     },
     "execution_count": 87,
     "metadata": {},
     "output_type": "execute_result"
    }
   ],
   "source": [
    "# Import a module with an alias. Now call the sqrt() function\n",
    "\n",
    "from math import sqrt\n",
    "sqrt(90)"
   ]
  },
  {
   "cell_type": "code",
   "execution_count": 91,
   "metadata": {},
   "outputs": [],
   "source": [
    "# Another way to import specific functions or all functions without the need to call them using dot notation\n",
    "\n",
    "from math import *"
   ]
  },
  {
   "cell_type": "code",
   "execution_count": 95,
   "metadata": {},
   "outputs": [
    {
     "data": {
      "text/plain": [
       "6.708203932499369"
      ]
     },
     "execution_count": 95,
     "metadata": {},
     "output_type": "execute_result"
    }
   ],
   "source": [
    "# now call sqrt() directly to get the square root of 45\n",
    "\n",
    "sqrt(45)"
   ]
  },
  {
   "cell_type": "markdown",
   "metadata": {},
   "source": [
    "## File IO\n",
    "### Read from a file"
   ]
  },
  {
   "cell_type": "code",
   "execution_count": 97,
   "metadata": {},
   "outputs": [
    {
     "ename": "FileNotFoundError",
     "evalue": "[Errno 2] No such file or directory: 'read.txt'",
     "output_type": "error",
     "traceback": [
      "\u001b[1;31m---------------------------------------------------------------------------\u001b[0m",
      "\u001b[1;31mFileNotFoundError\u001b[0m                         Traceback (most recent call last)",
      "\u001b[1;32mc:\\Users\\ezmos\\OneDrive - Indiana University\\My Courses\\Fall 2023\\BUS-S 364\\Business_Programming_Repository\\Week 5\\Week 5 Code and Now You Try.ipynb Cell 70\u001b[0m line \u001b[0;36m4\n\u001b[0;32m      <a href='vscode-notebook-cell:/c%3A/Users/ezmos/OneDrive%20-%20Indiana%20University/My%20Courses/Fall%202023/BUS-S%20364/Business_Programming_Repository/Week%205/Week%205%20Code%20and%20Now%20You%20Try.ipynb#Y126sZmlsZQ%3D%3D?line=0'>1</a>\u001b[0m \u001b[39m# Execute the following line of code\u001b[39;00m\n\u001b[0;32m      <a href='vscode-notebook-cell:/c%3A/Users/ezmos/OneDrive%20-%20Indiana%20University/My%20Courses/Fall%202023/BUS-S%20364/Business_Programming_Repository/Week%205/Week%205%20Code%20and%20Now%20You%20Try.ipynb#Y126sZmlsZQ%3D%3D?line=1'>2</a>\u001b[0m \u001b[39m# Take a look at the file folder containing your Jupyter notebook\u001b[39;00m\n\u001b[0;32m      <a href='vscode-notebook-cell:/c%3A/Users/ezmos/OneDrive%20-%20Indiana%20University/My%20Courses/Fall%202023/BUS-S%20364/Business_Programming_Repository/Week%205/Week%205%20Code%20and%20Now%20You%20Try.ipynb#Y126sZmlsZQ%3D%3D?line=2'>3</a>\u001b[0m \u001b[39m# Open the file, what do you get? Try to delete the file. What do you get?\u001b[39;00m\n\u001b[1;32m----> <a href='vscode-notebook-cell:/c%3A/Users/ezmos/OneDrive%20-%20Indiana%20University/My%20Courses/Fall%202023/BUS-S%20364/Business_Programming_Repository/Week%205/Week%205%20Code%20and%20Now%20You%20Try.ipynb#Y126sZmlsZQ%3D%3D?line=3'>4</a>\u001b[0m read_file \u001b[39m=\u001b[39m \u001b[39mopen\u001b[39m(\u001b[39m'\u001b[39m\u001b[39mread.txt\u001b[39m\u001b[39m'\u001b[39m)\n",
      "File \u001b[1;32mc:\\Users\\ezmos\\anaconda3\\Lib\\site-packages\\IPython\\core\\interactiveshell.py:284\u001b[0m, in \u001b[0;36m_modified_open\u001b[1;34m(file, *args, **kwargs)\u001b[0m\n\u001b[0;32m    277\u001b[0m \u001b[39mif\u001b[39;00m file \u001b[39min\u001b[39;00m {\u001b[39m0\u001b[39m, \u001b[39m1\u001b[39m, \u001b[39m2\u001b[39m}:\n\u001b[0;32m    278\u001b[0m     \u001b[39mraise\u001b[39;00m \u001b[39mValueError\u001b[39;00m(\n\u001b[0;32m    279\u001b[0m         \u001b[39mf\u001b[39m\u001b[39m\"\u001b[39m\u001b[39mIPython won\u001b[39m\u001b[39m'\u001b[39m\u001b[39mt let you open fd=\u001b[39m\u001b[39m{\u001b[39;00mfile\u001b[39m}\u001b[39;00m\u001b[39m by default \u001b[39m\u001b[39m\"\u001b[39m\n\u001b[0;32m    280\u001b[0m         \u001b[39m\"\u001b[39m\u001b[39mas it is likely to crash IPython. If you know what you are doing, \u001b[39m\u001b[39m\"\u001b[39m\n\u001b[0;32m    281\u001b[0m         \u001b[39m\"\u001b[39m\u001b[39myou can use builtins\u001b[39m\u001b[39m'\u001b[39m\u001b[39m open.\u001b[39m\u001b[39m\"\u001b[39m\n\u001b[0;32m    282\u001b[0m     )\n\u001b[1;32m--> 284\u001b[0m \u001b[39mreturn\u001b[39;00m io_open(file, \u001b[39m*\u001b[39margs, \u001b[39m*\u001b[39m\u001b[39m*\u001b[39mkwargs)\n",
      "\u001b[1;31mFileNotFoundError\u001b[0m: [Errno 2] No such file or directory: 'read.txt'"
     ]
    }
   ],
   "source": [
    "# Execute the following line of code\n",
    "# Take a look at the file folder containing your Jupyter notebook\n",
    "# Open the file, what do you get? Try to delete the file. What do you get?\n",
    "read_file = open('read.txt')\n",
    "\n",
    "# doesn't work because read.txt is not within the same directory"
   ]
  },
  {
   "cell_type": "code",
   "execution_count": 98,
   "metadata": {},
   "outputs": [],
   "source": [
    "# Execute the following line of code\n",
    "\n",
    "# Try to delete the file again. Can you delete it now?\n",
    "\n",
    "# Line of code is missing, I'm assuming you opened either poem or road and did not close the file.\n",
    "# Window would throw an error when attempting to delete the file because it would be opened by the python kernel"
   ]
  },
  {
   "cell_type": "code",
   "execution_count": 100,
   "metadata": {},
   "outputs": [
    {
     "data": {
      "text/plain": [
       "'The first day of Christmas,\\nMy true love sent to me\\nA partridge in a pear tree.\\n\\nThe second day of Christmas,\\nMy true love sent to me\\nTwo turtle doves, and\\nA partridge in a pear tree.\\n\\nThe third day of Christmas,\\nMy true love sent to me\\nThree French hens,\\nTwo turtle doves, and\\nA partridge in a pear tree.\\n\\nThe fourth day of Christmas,\\nMy true love sent to me\\nFour colly birds,\\nThree French hens,\\nTwo turtle doves, and\\nA partridge in a pear tree.\\n\\nThe fifth day of Christmas,\\nMy true love sent to me\\nFive gold rings,\\nFour colly birds,\\nThree French hens,\\nTwo turtle doves, and\\nA partridge in a pear tree.\\n\\nThe sixth day of Christmas,\\nMy true love sent to me\\nSix geese a-laying,\\nFive gold rings,\\nFour colly birds,\\nThree French hens,\\nTwo turtle doves, and\\nA partridge in a pear tree.\\n\\nThe seventh day of Christmas,\\nMy true love sent to me\\nSeven swans a-swimming,\\nSix geese a-laying,\\nFive gold rings,\\nFour colly birds,\\nThree French hens,\\nTwo turtle doves, and\\nA partridge in a pear tree.\\n\\nThe eighth day of Christmas,\\nMy true love sent to me\\nEight maids a-milking,\\nSeven swans a-swimming,\\nSix geese a-laying,\\nFive gold rings,\\nFour colly birds,\\nThree French hens,\\nTwo turtle doves, and\\nA partridge in a pear tree.\\n\\nThe ninth day of Christmas,\\nMy true love sent to me\\nNine drummers drumming,\\nEight maids a-milking,\\nSeven swans a-swimming,\\nSix geese a-laying,\\nFive gold rings,\\nFour colly birds,\\nThree French hens,\\nTwo turtle doves, and\\nA partridge in a pear tree.\\n\\nThe tenth day of Christmas,\\nMy true love sent to me\\nTen pipers piping,\\nNine drummers drumming,\\nEight maids a-milking,\\nSeven swans a-swimming,\\nSix geese a-laying,\\nFive gold rings,\\nFour colly birds,\\nThree French hens,\\nTwo turtle doves, and\\nA partridge in a pear tree.\\n\\nThe eleventh day of Christmas\\nMy true love sent to me\\nEleven ladies dancing,\\nTen pipers piping,\\nNine drummers drumming,\\nEight maids a-milking,\\nSeven swans a-swimming,\\nSix geese a-laying,\\nFive gold rings,\\nFour colly birds,\\nThree French hens,\\nTwo turtle doves, and\\nA partridge in a pear tree.\\n\\nThe twelfth day of Christmas\\nMy true love sent to me\\nTwelve fiddlers fiddling,\\nEleven ladies dancing,\\nTen pipers piping,\\nNine drummers drumming,\\nEight maids a-milking,\\nSeven swans a-swimming,\\nSix geese a-laying,\\nFive gold rings,\\nFour colly birds,\\nThree French hens,\\nTwo turtle doves, and\\nA partridge in a pear tree.'"
      ]
     },
     "execution_count": 100,
     "metadata": {},
     "output_type": "execute_result"
    }
   ],
   "source": [
    "# Make sure you have downloaded the file in the same folder before executing the code.\n",
    "# Default mode = 'r', use shift+tab to double-check the open() function.\n",
    "\n",
    "# Read all the content using read() method and save it to a variable named content\n",
    "\n",
    "# Display the result. Open the poem.txt file and compare. Note the \"\\n\"\n",
    "read_file = open('poem.txt')\n",
    "\n",
    "read_file.read()"
   ]
  },
  {
   "cell_type": "code",
   "execution_count": 101,
   "metadata": {},
   "outputs": [
    {
     "data": {
      "text/plain": [
       "''"
      ]
     },
     "execution_count": 101,
     "metadata": {},
     "output_type": "execute_result"
    }
   ],
   "source": [
    "# Call read() again on the file. What do you get and why?\n",
    "\n",
    "read_file.read()\n",
    "\n",
    "# Empty string b/c we read the whole file already."
   ]
  },
  {
   "cell_type": "code",
   "execution_count": 106,
   "metadata": {
    "code_folding": []
   },
   "outputs": [
    {
     "data": {
      "text/plain": [
       "['The first day of Christmas,\\n',\n",
       " 'My true love sent to me\\n',\n",
       " 'A partridge in a pear tree.\\n',\n",
       " '\\n',\n",
       " 'The second day of Christmas,\\n',\n",
       " 'My true love sent to me\\n',\n",
       " 'Two turtle doves, and\\n',\n",
       " 'A partridge in a pear tree.\\n',\n",
       " '\\n',\n",
       " 'The third day of Christmas,\\n',\n",
       " 'My true love sent to me\\n',\n",
       " 'Three French hens,\\n',\n",
       " 'Two turtle doves, and\\n',\n",
       " 'A partridge in a pear tree.\\n',\n",
       " '\\n',\n",
       " 'The fourth day of Christmas,\\n',\n",
       " 'My true love sent to me\\n',\n",
       " 'Four colly birds,\\n',\n",
       " 'Three French hens,\\n',\n",
       " 'Two turtle doves, and\\n',\n",
       " 'A partridge in a pear tree.\\n',\n",
       " '\\n',\n",
       " 'The fifth day of Christmas,\\n',\n",
       " 'My true love sent to me\\n',\n",
       " 'Five gold rings,\\n',\n",
       " 'Four colly birds,\\n',\n",
       " 'Three French hens,\\n',\n",
       " 'Two turtle doves, and\\n',\n",
       " 'A partridge in a pear tree.\\n',\n",
       " '\\n',\n",
       " 'The sixth day of Christmas,\\n',\n",
       " 'My true love sent to me\\n',\n",
       " 'Six geese a-laying,\\n',\n",
       " 'Five gold rings,\\n',\n",
       " 'Four colly birds,\\n',\n",
       " 'Three French hens,\\n',\n",
       " 'Two turtle doves, and\\n',\n",
       " 'A partridge in a pear tree.\\n',\n",
       " '\\n',\n",
       " 'The seventh day of Christmas,\\n',\n",
       " 'My true love sent to me\\n',\n",
       " 'Seven swans a-swimming,\\n',\n",
       " 'Six geese a-laying,\\n',\n",
       " 'Five gold rings,\\n',\n",
       " 'Four colly birds,\\n',\n",
       " 'Three French hens,\\n',\n",
       " 'Two turtle doves, and\\n',\n",
       " 'A partridge in a pear tree.\\n',\n",
       " '\\n',\n",
       " 'The eighth day of Christmas,\\n',\n",
       " 'My true love sent to me\\n',\n",
       " 'Eight maids a-milking,\\n',\n",
       " 'Seven swans a-swimming,\\n',\n",
       " 'Six geese a-laying,\\n',\n",
       " 'Five gold rings,\\n',\n",
       " 'Four colly birds,\\n',\n",
       " 'Three French hens,\\n',\n",
       " 'Two turtle doves, and\\n',\n",
       " 'A partridge in a pear tree.\\n',\n",
       " '\\n',\n",
       " 'The ninth day of Christmas,\\n',\n",
       " 'My true love sent to me\\n',\n",
       " 'Nine drummers drumming,\\n',\n",
       " 'Eight maids a-milking,\\n',\n",
       " 'Seven swans a-swimming,\\n',\n",
       " 'Six geese a-laying,\\n',\n",
       " 'Five gold rings,\\n',\n",
       " 'Four colly birds,\\n',\n",
       " 'Three French hens,\\n',\n",
       " 'Two turtle doves, and\\n',\n",
       " 'A partridge in a pear tree.\\n',\n",
       " '\\n',\n",
       " 'The tenth day of Christmas,\\n',\n",
       " 'My true love sent to me\\n',\n",
       " 'Ten pipers piping,\\n',\n",
       " 'Nine drummers drumming,\\n',\n",
       " 'Eight maids a-milking,\\n',\n",
       " 'Seven swans a-swimming,\\n',\n",
       " 'Six geese a-laying,\\n',\n",
       " 'Five gold rings,\\n',\n",
       " 'Four colly birds,\\n',\n",
       " 'Three French hens,\\n',\n",
       " 'Two turtle doves, and\\n',\n",
       " 'A partridge in a pear tree.\\n',\n",
       " '\\n',\n",
       " 'The eleventh day of Christmas\\n',\n",
       " 'My true love sent to me\\n',\n",
       " 'Eleven ladies dancing,\\n',\n",
       " 'Ten pipers piping,\\n',\n",
       " 'Nine drummers drumming,\\n',\n",
       " 'Eight maids a-milking,\\n',\n",
       " 'Seven swans a-swimming,\\n',\n",
       " 'Six geese a-laying,\\n',\n",
       " 'Five gold rings,\\n',\n",
       " 'Four colly birds,\\n',\n",
       " 'Three French hens,\\n',\n",
       " 'Two turtle doves, and\\n',\n",
       " 'A partridge in a pear tree.\\n',\n",
       " '\\n',\n",
       " 'The twelfth day of Christmas\\n',\n",
       " 'My true love sent to me\\n',\n",
       " 'Twelve fiddlers fiddling,\\n',\n",
       " 'Eleven ladies dancing,\\n',\n",
       " 'Ten pipers piping,\\n',\n",
       " 'Nine drummers drumming,\\n',\n",
       " 'Eight maids a-milking,\\n',\n",
       " 'Seven swans a-swimming,\\n',\n",
       " 'Six geese a-laying,\\n',\n",
       " 'Five gold rings,\\n',\n",
       " 'Four colly birds,\\n',\n",
       " 'Three French hens,\\n',\n",
       " 'Two turtle doves, and\\n',\n",
       " 'A partridge in a pear tree.']"
      ]
     },
     "execution_count": 106,
     "metadata": {},
     "output_type": "execute_result"
    }
   ],
   "source": [
    "# How to read the file again?\n",
    "# Need to close the file first\n",
    "read_file.close()\n",
    "# reopen the file\n",
    "read_file = open('poem.txt')\n",
    "# Read one line at a time this time.\n",
    "\n",
    "read_file.readlines()\n",
    "\n",
    "# if you want a single line use .readline()"
   ]
  },
  {
   "cell_type": "code",
   "execution_count": 108,
   "metadata": {},
   "outputs": [
    {
     "name": "stdout",
     "output_type": "stream",
     "text": [
      "The first day of Christmas,\n",
      "\n",
      "My true love sent to me\n",
      "\n",
      "A partridge in a pear tree.\n",
      "\n",
      "\n",
      "\n",
      "The second day of Christmas,\n",
      "\n",
      "My true love sent to me\n",
      "\n",
      "Two turtle doves, and\n",
      "\n",
      "A partridge in a pear tree.\n",
      "\n",
      "\n",
      "\n",
      "The third day of Christmas,\n",
      "\n",
      "My true love sent to me\n",
      "\n",
      "Three French hens,\n",
      "\n",
      "Two turtle doves, and\n",
      "\n",
      "A partridge in a pear tree.\n",
      "\n",
      "\n",
      "\n",
      "The fourth day of Christmas,\n",
      "\n",
      "My true love sent to me\n",
      "\n",
      "Four colly birds,\n",
      "\n",
      "Three French hens,\n",
      "\n",
      "Two turtle doves, and\n",
      "\n",
      "A partridge in a pear tree.\n",
      "\n",
      "\n",
      "\n",
      "The fifth day of Christmas,\n",
      "\n",
      "My true love sent to me\n",
      "\n",
      "Five gold rings,\n",
      "\n",
      "Four colly birds,\n",
      "\n",
      "Three French hens,\n",
      "\n",
      "Two turtle doves, and\n",
      "\n",
      "A partridge in a pear tree.\n",
      "\n",
      "\n",
      "\n",
      "The sixth day of Christmas,\n",
      "\n",
      "My true love sent to me\n",
      "\n",
      "Six geese a-laying,\n",
      "\n",
      "Five gold rings,\n",
      "\n",
      "Four colly birds,\n",
      "\n",
      "Three French hens,\n",
      "\n",
      "Two turtle doves, and\n",
      "\n",
      "A partridge in a pear tree.\n",
      "\n",
      "\n",
      "\n",
      "The seventh day of Christmas,\n",
      "\n",
      "My true love sent to me\n",
      "\n",
      "Seven swans a-swimming,\n",
      "\n",
      "Six geese a-laying,\n",
      "\n",
      "Five gold rings,\n",
      "\n",
      "Four colly birds,\n",
      "\n",
      "Three French hens,\n",
      "\n",
      "Two turtle doves, and\n",
      "\n",
      "A partridge in a pear tree.\n",
      "\n",
      "\n",
      "\n",
      "The eighth day of Christmas,\n",
      "\n",
      "My true love sent to me\n",
      "\n",
      "Eight maids a-milking,\n",
      "\n",
      "Seven swans a-swimming,\n",
      "\n",
      "Six geese a-laying,\n",
      "\n",
      "Five gold rings,\n",
      "\n",
      "Four colly birds,\n",
      "\n",
      "Three French hens,\n",
      "\n",
      "Two turtle doves, and\n",
      "\n",
      "A partridge in a pear tree.\n",
      "\n",
      "\n",
      "\n",
      "The ninth day of Christmas,\n",
      "\n",
      "My true love sent to me\n",
      "\n",
      "Nine drummers drumming,\n",
      "\n",
      "Eight maids a-milking,\n",
      "\n",
      "Seven swans a-swimming,\n",
      "\n",
      "Six geese a-laying,\n",
      "\n",
      "Five gold rings,\n",
      "\n",
      "Four colly birds,\n",
      "\n",
      "Three French hens,\n",
      "\n",
      "Two turtle doves, and\n",
      "\n",
      "A partridge in a pear tree.\n",
      "\n",
      "\n",
      "\n",
      "The tenth day of Christmas,\n",
      "\n",
      "My true love sent to me\n",
      "\n",
      "Ten pipers piping,\n",
      "\n",
      "Nine drummers drumming,\n",
      "\n",
      "Eight maids a-milking,\n",
      "\n",
      "Seven swans a-swimming,\n",
      "\n",
      "Six geese a-laying,\n",
      "\n",
      "Five gold rings,\n",
      "\n",
      "Four colly birds,\n",
      "\n",
      "Three French hens,\n",
      "\n",
      "Two turtle doves, and\n",
      "\n",
      "A partridge in a pear tree.\n",
      "\n",
      "\n",
      "\n",
      "The eleventh day of Christmas\n",
      "\n",
      "My true love sent to me\n",
      "\n",
      "Eleven ladies dancing,\n",
      "\n",
      "Ten pipers piping,\n",
      "\n",
      "Nine drummers drumming,\n",
      "\n",
      "Eight maids a-milking,\n",
      "\n",
      "Seven swans a-swimming,\n",
      "\n",
      "Six geese a-laying,\n",
      "\n",
      "Five gold rings,\n",
      "\n",
      "Four colly birds,\n",
      "\n",
      "Three French hens,\n",
      "\n",
      "Two turtle doves, and\n",
      "\n",
      "A partridge in a pear tree.\n",
      "\n",
      "\n",
      "\n",
      "The twelfth day of Christmas\n",
      "\n",
      "My true love sent to me\n",
      "\n",
      "Twelve fiddlers fiddling,\n",
      "\n",
      "Eleven ladies dancing,\n",
      "\n",
      "Ten pipers piping,\n",
      "\n",
      "Nine drummers drumming,\n",
      "\n",
      "Eight maids a-milking,\n",
      "\n",
      "Seven swans a-swimming,\n",
      "\n",
      "Six geese a-laying,\n",
      "\n",
      "Five gold rings,\n",
      "\n",
      "Four colly birds,\n",
      "\n",
      "Three French hens,\n",
      "\n",
      "Two turtle doves, and\n",
      "\n",
      "A partridge in a pear tree.\n"
     ]
    }
   ],
   "source": [
    "# Close the file again and open it again\n",
    "\n",
    "# read through every line and print the line out using for loop.\n",
    "# What is the difference using the for loop this way\n",
    "\n",
    "with open(\"poem.txt\") as poem:\n",
    "    # This is possible because poem is iterable (god I love iterators)\n",
    "    for line in poem:  # Could also do poem.readlines(), could also do a while line != ''\n",
    "        print(line)\n",
    "# remember to close the file after you are done"
   ]
  },
  {
   "cell_type": "markdown",
   "metadata": {},
   "source": [
    "### Now You Try 6"
   ]
  },
  {
   "cell_type": "code",
   "execution_count": 113,
   "metadata": {},
   "outputs": [
    {
     "name": "stdout",
     "output_type": "stream",
     "text": [
      "Two roads diverged in a yellow wood,\n",
      "And sorry I could not travel both\n",
      "And be one traveler, long I stood\n",
      "And looked down one as far as I could\n",
      "To where it bent in the undergrowth;\n",
      "Then took the other, as just as fair,\n",
      "And having perhaps the better claim,\n",
      "Because it was grassy and wanted wear;\n",
      "Though as for that the passing there\n",
      "Had worn them really about the same,\n",
      "And both that morning equally lay\n",
      "In leaves no step had trodden black.\n",
      "Oh, I kept the first for another day!\n",
      "Yet knowing how way leads on to way,\n",
      "I doubted if I should ever come back.\n",
      "I shall be telling this with a sigh\n",
      "Somewhere ages and ages hence:\n",
      "Two roads diverged in a wood, and I-\n",
      "I took the one less traveled by,\n",
      "And that has made all the difference.\n",
      "23\n"
     ]
    }
   ],
   "source": [
    "# Read the file \"the_road_not_taken.txt\" (can be downloaded from Canvas). Print out each line without any extra spaces.\n",
    "# Count the number of lines existing in the poem. Print out the total number of lines in the poem. Remember you need\n",
    "# a accumulator variable to count.\n",
    "\n",
    "with open(\"the_road_not_taken.txt\") as road:\n",
    "    lines = 0\n",
    "    for line in road:\n",
    "        lines += 1\n",
    "        print(line if line != '\\n' else '', end='')\n",
    "\n",
    "    print('\\n' + str(lines))"
   ]
  },
  {
   "cell_type": "markdown",
   "metadata": {},
   "source": [
    "### Write to a file"
   ]
  },
  {
   "cell_type": "code",
   "execution_count": 119,
   "metadata": {},
   "outputs": [
    {
     "name": "stdout",
     "output_type": "stream",
     "text": [
      "\n"
     ]
    }
   ],
   "source": [
    "# Open a file named \"write_file\" in \"w\" mode and save it to variable write_file\n",
    "# Go to the file folder to find the file and open it. What is in it?\n",
    "\n",
    "with open(\"written_file.txt\", 'w') as write_file:\n",
    "    print()  # Exists for the compilder to not cry\n",
    "\n",
    "# Empty new file"
   ]
  },
  {
   "cell_type": "code",
   "execution_count": 120,
   "metadata": {},
   "outputs": [],
   "source": [
    "# Close the file in the file system, Write string \"123\" to the file using write()\n",
    "\n",
    "with open(\"written_file.txt\", 'w') as write_file:\n",
    "    write_file.write(\"123\")"
   ]
  },
  {
   "cell_type": "code",
   "execution_count": 121,
   "metadata": {},
   "outputs": [],
   "source": [
    "# set a variable num to be 456. Write it. What did you get\n",
    "\n",
    "num = 456\n",
    "\n",
    "with open(\"written_file.txt\", 'w') as write_file:\n",
    "    write_file.write(str(num))\n",
    "\n",
    "# File was overwritten"
   ]
  },
  {
   "cell_type": "code",
   "execution_count": null,
   "metadata": {},
   "outputs": [],
   "source": [
    "# Fix the error to write num to the file\n",
    "\n",
    "# Oh whoops already did that, had to convert it to a string"
   ]
  },
  {
   "cell_type": "code",
   "execution_count": 122,
   "metadata": {},
   "outputs": [],
   "source": [
    "# close the file and open it in the file system to check what have been written in\n",
    "\n",
    "# Again the file was overwritten"
   ]
  },
  {
   "cell_type": "code",
   "execution_count": 124,
   "metadata": {},
   "outputs": [],
   "source": [
    "# Open the file again to variable write_file, write the following lines:\n",
    "# 1. \"The second time to write to the file\\n\"\n",
    "# 2. \"Previous content has been overwritten\\n\"\n",
    "# in the 'w' mode, the existing content of the file will be overwritten\n",
    "\n",
    "with open(\"written_file.txt\", 'w') as write_file:\n",
    "    write_file.write(\"The second time to write to the file\\n\")\n",
    "    write_file.write(\"Previous content has been overwritten\\n\")\n",
    "\n",
    "# Close the file and take a look at the content in the file system. Then close it."
   ]
  },
  {
   "cell_type": "code",
   "execution_count": 125,
   "metadata": {
    "code_folding": []
   },
   "outputs": [],
   "source": [
    "# Open the file again to variable write_file in \"a\" mode, write the following lines:\n",
    "# 1. The third time to write to the file\\n\"\n",
    "# 2. \"The content entered in the second time will stay in append mode\\n\"\n",
    "# in the 'a' mode, you can append new content to the existing file\n",
    "\n",
    "with open(\"written_file.txt\", 'a') as write_file:\n",
    "    write_file.write(\"The third time to write to the file\\n\")\n",
    "    write_file.write(\"Previous content has been overwritten\\n\")\n",
    "\n",
    "# Close the file and take a look at the content in the file system. Then close it."
   ]
  },
  {
   "cell_type": "markdown",
   "metadata": {},
   "source": [
    "### Now You Try 7"
   ]
  },
  {
   "cell_type": "code",
   "execution_count": 127,
   "metadata": {},
   "outputs": [],
   "source": [
    "# Can you write to the above file \"write.txt\" the following:\n",
    "#        \"The fourth line written\"\n",
    "#        \"They are all in seperate lines\"\n",
    "# Make sure they are all in seperate lines and has a tab space before them\n",
    "# Open the file to double check that this is done properly\n",
    "\n",
    "with open(\"write.txt\", 'w') as write_file:\n",
    "    write_file.write(\"\\tThe fourth line written\\n\")\n",
    "    write_file.write(\"\\tThey are all in seperate lines\\n\")"
   ]
  },
  {
   "cell_type": "markdown",
   "metadata": {},
   "source": [
    "### Exception Handling with File Operation"
   ]
  },
  {
   "cell_type": "code",
   "execution_count": null,
   "metadata": {},
   "outputs": [
    {
     "ename": "FileNotFoundError",
     "evalue": "[Errno 2] No such file or directory: 'nonexist.txt'",
     "output_type": "error",
     "traceback": [
      "\u001b[1;31m---------------------------------------------------------------------------\u001b[0m",
      "\u001b[1;31mFileNotFoundError\u001b[0m                         Traceback (most recent call last)",
      "\u001b[1;32m<ipython-input-70-0ca1d274e594>\u001b[0m in \u001b[0;36m<module>\u001b[1;34m\u001b[0m\n\u001b[0;32m      1\u001b[0m \u001b[1;31m# FileNoteFoundError will be thrown trying to open a file not in the folder\u001b[0m\u001b[1;33m\u001b[0m\u001b[1;33m\u001b[0m\u001b[1;33m\u001b[0m\u001b[0m\n\u001b[1;32m----> 2\u001b[1;33m \u001b[0mopen\u001b[0m\u001b[1;33m(\u001b[0m\u001b[1;34m'nonexist.txt'\u001b[0m\u001b[1;33m,\u001b[0m \u001b[1;34m'r'\u001b[0m\u001b[1;33m)\u001b[0m\u001b[1;33m\u001b[0m\u001b[1;33m\u001b[0m\u001b[0m\n\u001b[0m",
      "\u001b[1;31mFileNotFoundError\u001b[0m: [Errno 2] No such file or directory: 'nonexist.txt'"
     ]
    }
   ],
   "source": [
    "# FileNoteFoundError will be thrown trying to open a file not in the folder\n",
    "open('nonexist.txt', 'r')"
   ]
  },
  {
   "cell_type": "code",
   "execution_count": 128,
   "metadata": {},
   "outputs": [
    {
     "name": "stdout",
     "output_type": "stream",
     "text": [
      "Invalid file path was entered\n"
     ]
    }
   ],
   "source": [
    "# Use try ... except to handle possible file name errors especially when file name is entered by user.\n",
    "# Study the following code and decide where to insert try and except\n",
    "\n",
    "try:\n",
    "    file_path = input(\"Enter file path\")\n",
    "    test_file = open(file_path)\n",
    "    print(test_file.read())\n",
    "    test_file.close()\n",
    "except FileNotFoundError:\n",
    "    print(\"Invalid file path was entered\")"
   ]
  },
  {
   "cell_type": "markdown",
   "metadata": {},
   "source": [
    "### Now You Try 8"
   ]
  },
  {
   "cell_type": "code",
   "execution_count": 130,
   "metadata": {},
   "outputs": [],
   "source": [
    "# Use the \"w\" mode of open() to add a file named 'test.txt' to the\n",
    "# current folder. Write the following to the file in separate lines\n",
    "\n",
    "# S364 - Python Programming\n",
    "# Week 4 - Functions and File IO\n",
    "with open('test.txt', 'w') as writer:\n",
    "    writer.write(\"S364 - Python Programming\\n\")\n",
    "    writer.write(\"Week 4 - Functions and File IO\\n\")\n",
    "# close the file. Open it on your computer the see if code works"
   ]
  },
  {
   "cell_type": "code",
   "execution_count": 132,
   "metadata": {},
   "outputs": [],
   "source": [
    "# Use the \"a\" mode to open the file 'test.txt' in the current folder\n",
    "# Append the following to the end of the file in separate lines\n",
    "# Use open(filename, mode) to work on the file\n",
    "\n",
    "# When mode = 'r', file is in read only mode\n",
    "# When mode = 'w', file is in write mode\n",
    "# When mode = 'a', file is in append mode\n",
    "\n",
    "# close the file. Open it on your computer the see if code works\n",
    "\n",
    "# trouble-shooting: if the file is open, it needs to be closed and reopened to see the change.\n",
    "# Use double quotes to allow single quotes inside the string\n",
    "\n",
    "with open('test.txt', 'a') as test_append:\n",
    "    test_append.write(\"When mode = 'r', file is in read only mode\\n\")\n",
    "    test_append.write(\"When mode = 'w', file is in write mode\\n\")\n",
    "    test_append.write(\"When mode = 'a', file is in append mode\\n\")"
   ]
  },
  {
   "cell_type": "code",
   "execution_count": 134,
   "metadata": {},
   "outputs": [
    {
     "name": "stdout",
     "output_type": "stream",
     "text": [
      "A file not found exception was thrown, please input a valid file path.\n"
     ]
    }
   ],
   "source": [
    "# Ask the user the enter the file path and open the file in 'r' mode\n",
    "# Use for loop to iterate through the file and print out each line\n",
    "# Use try/except to handle possible incorrect file path entered\n",
    "\n",
    "try:\n",
    "    file_path = input(\"Please enter in the file path: \")\n",
    "    with open(file_path) as file:\n",
    "        for line in file:\n",
    "            print(line)\n",
    "except FileNotFoundError:\n",
    "    print(\"A file not found exception was thrown, please input a valid file path.\")"
   ]
  }
 ],
 "metadata": {
  "kernelspec": {
   "display_name": "Python 3",
   "language": "python",
   "name": "python3"
  },
  "language_info": {
   "codemirror_mode": {
    "name": "ipython",
    "version": 3
   },
   "file_extension": ".py",
   "mimetype": "text/x-python",
   "name": "python",
   "nbconvert_exporter": "python",
   "pygments_lexer": "ipython3",
   "version": "3.11.3"
  }
 },
 "nbformat": 4,
 "nbformat_minor": 4
}
