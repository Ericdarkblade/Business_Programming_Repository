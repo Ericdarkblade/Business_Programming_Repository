{
 "cells": [
  {
   "cell_type": "markdown",
   "metadata": {},
   "source": [
    "# Pandas - Intro"
   ]
  },
  {
   "cell_type": "code",
   "execution_count": 1,
   "metadata": {},
   "outputs": [
    {
     "data": {
      "text/html": [
       "<style>.container { width:100% !important; }</style>"
      ],
      "text/plain": [
       "<IPython.core.display.HTML object>"
      ]
     },
     "metadata": {},
     "output_type": "display_data"
    }
   ],
   "source": [
    "from IPython.core.display import display, HTML\n",
    "display(HTML(\"<style>.container { width:100% !important; }</style>\"))\n",
    "import numpy as np\n",
    "import pandas as pd\n",
    "# set pandas to display all the columns\n",
    "pd.set_option(\"display.max.columns\", None)\n",
    "# make sure the decimal places are only 2\n",
    "pd.set_option(\"display.precision\", 2)"
   ]
  },
  {
   "cell_type": "markdown",
   "metadata": {},
   "source": [
    "## Pandas Series\n",
    "### Create a series"
   ]
  },
  {
   "cell_type": "code",
   "execution_count": 1,
   "metadata": {},
   "outputs": [],
   "source": [
    "# Create a series from a list [9, 3, 45, 2] using pd.Series(). Save it in s1 and display s1\n"
   ]
  },
  {
   "cell_type": "code",
   "execution_count": 2,
   "metadata": {},
   "outputs": [],
   "source": [
    "# Create a series from a list [3.4, -5, 7.12, 4] and specify the index as ['a', 'b', 'c', 'd']\n",
    "# Save it in s2 and display it. Note how the display is different\n"
   ]
  },
  {
   "cell_type": "code",
   "execution_count": 3,
   "metadata": {},
   "outputs": [],
   "source": [
    "# Create a series with a dictionary created below. Save it in s3 and display it\n",
    "data = {'Ohio': 35000, 'Texas': 71000, 'Oregon': 16000, 'Utah': 5000}\n"
   ]
  },
  {
   "cell_type": "markdown",
   "metadata": {},
   "source": [
    "### Series Attributes"
   ]
  },
  {
   "cell_type": "code",
   "execution_count": 4,
   "metadata": {},
   "outputs": [],
   "source": [
    "#index is an important attribute of a series. Get it with .index\n",
    "# Get index of s1. Guess what type it is?\n"
   ]
  },
  {
   "cell_type": "code",
   "execution_count": 5,
   "metadata": {},
   "outputs": [],
   "source": [
    "# Get index for s2. Note how it is different from that of s1. \n"
   ]
  },
  {
   "cell_type": "code",
   "execution_count": 6,
   "metadata": {},
   "outputs": [],
   "source": [
    "# Get index for s3. Do you have some idea of index now?\n"
   ]
  },
  {
   "cell_type": "code",
   "execution_count": 7,
   "metadata": {},
   "outputs": [],
   "source": [
    "# values is an important attribute of a series, get it with .values\n",
    "# Get the values of s1. What data type is it?\n"
   ]
  },
  {
   "cell_type": "code",
   "execution_count": 8,
   "metadata": {},
   "outputs": [],
   "source": [
    "# Get the values of s2\n"
   ]
  },
  {
   "cell_type": "code",
   "execution_count": 9,
   "metadata": {},
   "outputs": [],
   "source": [
    "# Get the values of s3\n"
   ]
  },
  {
   "cell_type": "markdown",
   "metadata": {},
   "source": [
    "### Access and update elements in series \n",
    "indexing, slicing and boolean indexing are all available"
   ]
  },
  {
   "cell_type": "code",
   "execution_count": 10,
   "metadata": {},
   "outputs": [],
   "source": [
    "# Use indexing to get the element with index 2 in s1\n"
   ]
  },
  {
   "cell_type": "code",
   "execution_count": 11,
   "metadata": {},
   "outputs": [],
   "source": [
    "# Use slicing to get the first 2 elements in s1. What is the type of the result?\n"
   ]
  },
  {
   "cell_type": "code",
   "execution_count": 12,
   "metadata": {},
   "outputs": [],
   "source": [
    "# Use indexing to get the element with index 0 in s2\n"
   ]
  },
  {
   "cell_type": "code",
   "execution_count": 13,
   "metadata": {},
   "outputs": [],
   "source": [
    "# Get the value of index 'Texas' in s3\n"
   ]
  },
  {
   "cell_type": "code",
   "execution_count": 14,
   "metadata": {},
   "outputs": [],
   "source": [
    "# To get more than one values using indexing, place the index values in a list and pass the list to  []\n",
    "# Try to get the values for index 'Utah' and 'Ohio' in s3\n"
   ]
  },
  {
   "cell_type": "code",
   "execution_count": 15,
   "metadata": {},
   "outputs": [],
   "source": [
    "# Use slicing to get elements from index 'Ohio' to 'Oregon' in s3. What is the type of the result?\n",
    "# How is slicing using index different than slicing a python list?\n"
   ]
  },
  {
   "cell_type": "code",
   "execution_count": 16,
   "metadata": {},
   "outputs": [],
   "source": [
    "# Slice using implicit positional integer. Silce from 0 to 2 in s3 and see what you get\n"
   ]
  },
  {
   "cell_type": "code",
   "execution_count": 17,
   "metadata": {},
   "outputs": [],
   "source": [
    "# Boolean indexing is helpful to query data. Use it to get all values greater than 0 in s2\n"
   ]
  },
  {
   "cell_type": "code",
   "execution_count": 18,
   "metadata": {},
   "outputs": [],
   "source": [
    "# Use boolean indexing to get all values greater than 10000 and smaller than 40000 in s3\n"
   ]
  },
  {
   "cell_type": "code",
   "execution_count": 19,
   "metadata": {},
   "outputs": [],
   "source": [
    "# Boolean indexing can be used to change values in a series. Set all values in s3 that \n",
    "# is greater than 10000 and smaller than 40000 to be 10. Display s3\n"
   ]
  },
  {
   "cell_type": "code",
   "execution_count": 20,
   "metadata": {},
   "outputs": [],
   "source": [
    "# Slicing can be used to change values in a series as well. Set all values from 'Ohio' to 'Texas'\n",
    "# to be 'Unknown' and display s3\n"
   ]
  },
  {
   "cell_type": "markdown",
   "metadata": {},
   "source": [
    "### Now You Try 1"
   ]
  },
  {
   "cell_type": "code",
   "execution_count": 21,
   "metadata": {},
   "outputs": [],
   "source": [
    "# Create a Pandas series named 's_range' by passing range() result as data. \n",
    "# range() should start at 10, end at 20 with step 2. Display it\n"
   ]
  },
  {
   "cell_type": "code",
   "execution_count": 22,
   "metadata": {},
   "outputs": [],
   "source": [
    "# Get the 3rd to 5th values of 's_range'\n"
   ]
  },
  {
   "cell_type": "code",
   "execution_count": 23,
   "metadata": {},
   "outputs": [],
   "source": [
    "# Create a series 's_array' by passing an array generated randomly with values\n",
    "# between 0 and 1. Use strings 'a', 'b', 'c', 'd' and 'e' as index. Display it\n"
   ]
  },
  {
   "cell_type": "code",
   "execution_count": 24,
   "metadata": {},
   "outputs": [],
   "source": [
    "# Get values in s_array with index 'a' and 'd' in one line of code\n"
   ]
  },
  {
   "cell_type": "code",
   "execution_count": 25,
   "metadata": {},
   "outputs": [],
   "source": [
    "# Get values by slicing from 'b' to 'd'. Display the result\n"
   ]
  },
  {
   "cell_type": "code",
   "execution_count": 26,
   "metadata": {},
   "outputs": [
    {
     "data": {
      "text/plain": [
       "{'Christine': 34, 'Emily': 15, 'Andrew': 20, 'Ella': 13}"
      ]
     },
     "execution_count": 26,
     "metadata": {},
     "output_type": "execute_result"
    }
   ],
   "source": [
    "# Create a dictionary 'books' with the following values: \n",
    "# 'Christine':34, 'Emily':15, 'Andrew':20, 'Ella':13. Display it\n",
    "books = {'Christine':34, 'Emily':15, 'Andrew':20, 'Ella':13}\n",
    "books"
   ]
  },
  {
   "cell_type": "code",
   "execution_count": 27,
   "metadata": {},
   "outputs": [],
   "source": [
    "# Create series with 'books'. name it 's_dict' and display it.\n"
   ]
  },
  {
   "cell_type": "code",
   "execution_count": 28,
   "metadata": {},
   "outputs": [],
   "source": [
    "# Who have read more than 30 books? Use Boolean indexing to get the answer\n"
   ]
  },
  {
   "cell_type": "markdown",
   "metadata": {},
   "source": [
    "## Pandas DataFrame"
   ]
  },
  {
   "cell_type": "code",
   "execution_count": 29,
   "metadata": {},
   "outputs": [
    {
     "ename": "NameError",
     "evalue": "name 'np' is not defined",
     "output_type": "error",
     "traceback": [
      "\u001b[1;31m---------------------------------------------------------------------------\u001b[0m",
      "\u001b[1;31mNameError\u001b[0m                                 Traceback (most recent call last)",
      "\u001b[1;32m<ipython-input-29-edc0a6768f10>\u001b[0m in \u001b[0;36m<module>\u001b[1;34m\u001b[0m\n\u001b[0;32m      1\u001b[0m \u001b[1;31m# Missing value in pandas is represented with np.nan\u001b[0m\u001b[1;33m\u001b[0m\u001b[1;33m\u001b[0m\u001b[1;33m\u001b[0m\u001b[0m\n\u001b[1;32m----> 2\u001b[1;33m \u001b[0mnp\u001b[0m\u001b[1;33m.\u001b[0m\u001b[0mnan\u001b[0m\u001b[1;33m\u001b[0m\u001b[1;33m\u001b[0m\u001b[0m\n\u001b[0m",
      "\u001b[1;31mNameError\u001b[0m: name 'np' is not defined"
     ]
    }
   ],
   "source": [
    "# Missing value in pandas is represented with np.nan\n",
    "np.nan"
   ]
  },
  {
   "cell_type": "code",
   "execution_count": null,
   "metadata": {},
   "outputs": [],
   "source": [
    "# np.nan is a float if you check its data type. Even if there are missing values, you can still do calculation\n"
   ]
  },
  {
   "cell_type": "code",
   "execution_count": null,
   "metadata": {},
   "outputs": [],
   "source": [
    "# Use pd.isnull() or pd.isna() to check whether a value is np.nan\n",
    "pd.isnull(np.nan)"
   ]
  },
  {
   "cell_type": "markdown",
   "metadata": {},
   "source": [
    "## Load Data into a DataFrame"
   ]
  },
  {
   "cell_type": "code",
   "execution_count": null,
   "metadata": {},
   "outputs": [],
   "source": [
    "# Use pd.read_csv() to read data in from a .csv file. Save the data file in the same folder \n",
    "# of the notebook to use the file name only as the argument\n",
    "\n",
    "# display the dataframe using display(). don't use print()\n"
   ]
  },
  {
   "cell_type": "code",
   "execution_count": null,
   "metadata": {},
   "outputs": [],
   "source": [
    "# get the type of the dataframe\n"
   ]
  },
  {
   "cell_type": "markdown",
   "metadata": {},
   "source": [
    "## Important DataFrame Attributes and Methods\n",
    "- head(): the method displays the top 5 rows of the dataframe\n",
    "- head(n): the method displays the top n rows of the dataframe\n",
    "- tail(): the method displays the bottom 5 rows of the dataframe\n",
    "- tail(n): the method displays the bottom n rows of the dataframe\n",
    "- sample(n): the method displays the random n rows of the dataframe\n",
    "- shape: the attribute returning in a tuple number of rows and columns in the dataframe: (#rows, #columns)\n",
    "- columns: the attribute returning the column index of the dataframe\n",
    "- index: the attribute returning the row index of the dataframe\n",
    "- info(): the method returns comprehensive info about a dataframe"
   ]
  },
  {
   "cell_type": "code",
   "execution_count": null,
   "metadata": {},
   "outputs": [],
   "source": [
    "# display the top five rows of data. Use display() function for a dataframe to get better formatted table\n"
   ]
  },
  {
   "cell_type": "code",
   "execution_count": null,
   "metadata": {},
   "outputs": [],
   "source": [
    "# Also display the top 10 rows of the dataframe\n"
   ]
  },
  {
   "cell_type": "code",
   "execution_count": null,
   "metadata": {},
   "outputs": [],
   "source": [
    "# Display to bottom 10 rows\n"
   ]
  },
  {
   "cell_type": "code",
   "execution_count": null,
   "metadata": {},
   "outputs": [],
   "source": [
    "# Display a random sample of 10 rows in the table\n"
   ]
  },
  {
   "cell_type": "code",
   "execution_count": null,
   "metadata": {},
   "outputs": [],
   "source": [
    "# Use shape atrribute to get the number of rows and columns of the dataframe\n"
   ]
  },
  {
   "cell_type": "code",
   "execution_count": null,
   "metadata": {},
   "outputs": [],
   "source": [
    "# get the columns attribute of the dataframe\n"
   ]
  },
  {
   "cell_type": "code",
   "execution_count": null,
   "metadata": {},
   "outputs": [],
   "source": [
    "# Get the index number. This works like in list\n"
   ]
  },
  {
   "cell_type": "code",
   "execution_count": null,
   "metadata": {},
   "outputs": [],
   "source": [
    "# Get the last row of the data\n"
   ]
  },
  {
   "cell_type": "code",
   "execution_count": null,
   "metadata": {},
   "outputs": [],
   "source": [
    "# Use info() method for a lot of information of the dataset: data types and number of existing values\n",
    "# data types, etc. object type usually means text values\n"
   ]
  },
  {
   "cell_type": "markdown",
   "metadata": {},
   "source": [
    "## Columns (Series) \n",
    "### Get columns from a dataframe: if [ ] is used, one series is returned. if [[ ]] is used, a smaller dataframe is returned"
   ]
  },
  {
   "cell_type": "code",
   "execution_count": null,
   "metadata": {},
   "outputs": [],
   "source": [
    "# Get a single column as a series by placing the column name in []\n",
    "# Get 'Siblings/Spouses Aboard' as a series\n"
   ]
  },
  {
   "cell_type": "code",
   "execution_count": null,
   "metadata": {},
   "outputs": [],
   "source": [
    "# Get multiple columns from a dataframe by passing column names as a list to []\n",
    "# Get 'Survived' and 'Pclass'\n"
   ]
  },
  {
   "cell_type": "markdown",
   "metadata": {},
   "source": [
    "### Get statistics of a column\n",
    "- count(), max(), min(), mean(), std(), median(), skew(), quantile(), nlargest(n), etc.\n",
    "- describe(): get the most popular statistics of a column"
   ]
  },
  {
   "cell_type": "code",
   "execution_count": null,
   "metadata": {
    "code_folding": []
   },
   "outputs": [],
   "source": [
    "# Practice get the statistics of Age column\n"
   ]
  },
  {
   "cell_type": "code",
   "execution_count": null,
   "metadata": {},
   "outputs": [],
   "source": [
    "# Get the statistics of column Age using describe() method \n",
    "# What statistics are provided?\n"
   ]
  },
  {
   "cell_type": "code",
   "execution_count": null,
   "metadata": {},
   "outputs": [],
   "source": [
    "# Get the statistics of column Sex using describe() method. \n",
    "# What statistics are returned?\n"
   ]
  },
  {
   "cell_type": "markdown",
   "metadata": {},
   "source": [
    "### Get overall statistics of the dataframe with describe()\n",
    "- Use describe() only will get all statistics of numeric columns\n",
    "- Use describe(include='O') will get statistics of all non-numerical columns"
   ]
  },
  {
   "cell_type": "code",
   "execution_count": null,
   "metadata": {
    "scrolled": true
   },
   "outputs": [],
   "source": [
    "# Get statistics of numeric columns\n"
   ]
  },
  {
   "cell_type": "code",
   "execution_count": null,
   "metadata": {
    "scrolled": true
   },
   "outputs": [],
   "source": [
    "# Get statistics of non-numerical columns\n"
   ]
  },
  {
   "cell_type": "markdown",
   "metadata": {},
   "source": [
    "### Use unique() and value_counts()\n",
    "- unique() can be used on only one column (series)\n",
    "- value_counts() can be used on a series or a dataframe. The returned value is a combination of unique values and their frequencies\n",
    "    - value_counts(normalized=True) returns the % of each unique value "
   ]
  },
  {
   "cell_type": "code",
   "execution_count": null,
   "metadata": {},
   "outputs": [],
   "source": [
    "# Get the unique values in column Sex\n"
   ]
  },
  {
   "cell_type": "code",
   "execution_count": null,
   "metadata": {},
   "outputs": [],
   "source": [
    "# use value_counts() to get the number of rows with different values in Survived\n"
   ]
  },
  {
   "cell_type": "code",
   "execution_count": null,
   "metadata": {},
   "outputs": [],
   "source": [
    "# Add normalized = True as the keyword argument to get the % of survived vs. not survived\n"
   ]
  },
  {
   "cell_type": "code",
   "execution_count": null,
   "metadata": {},
   "outputs": [],
   "source": [
    "# Get the number of rows for each unique value in 'Siblings/Spouses Aboard'\n"
   ]
  },
  {
   "cell_type": "code",
   "execution_count": null,
   "metadata": {},
   "outputs": [],
   "source": [
    "# Use value_counts() to get the unique combination of Sex and Survived and the frequencies\n"
   ]
  },
  {
   "cell_type": "markdown",
   "metadata": {},
   "source": [
    "### Add or Remove a Column\n",
    "- To add a column, put the column name in [] following the dataframe name and assign a value to it\n",
    "- To drop a row or a column, use drop() method. By default, a row will be dropped\n",
    "    - To drop a column, add the argument axis=1\n",
    "    - To drop one row or one column, place the index in []\n",
    "    - To drop more than one row or column, place the list of indexes in []\n",
    "    - By default, the drop change is not done on the dataframe itself. To make the drop permanent, add the argument inplace=True"
   ]
  },
  {
   "cell_type": "code",
   "execution_count": null,
   "metadata": {},
   "outputs": [],
   "source": [
    "# Add a column 'Country' and assign the value 'UK' to it. Display the top 5 rows to confirm the addition of the column\n"
   ]
  },
  {
   "cell_type": "code",
   "execution_count": null,
   "metadata": {},
   "outputs": [],
   "source": [
    "# Add another column 'Temp' and assign the age of each passenger plus 10 to it\n",
    "# Display the top 5 rows to confirm the addition of the column\n"
   ]
  },
  {
   "cell_type": "code",
   "execution_count": null,
   "metadata": {},
   "outputs": [],
   "source": [
    "# Use drop() method to drop the Temp column and display the top five rows using head(). The methods can be linked\n"
   ]
  },
  {
   "cell_type": "code",
   "execution_count": null,
   "metadata": {},
   "outputs": [],
   "source": [
    "# Drop both 'Temp' and 'Country' and make the drop permanent. Display the top five rows to confirm the drop\n"
   ]
  },
  {
   "cell_type": "markdown",
   "metadata": {},
   "source": [
    "## Sort Dataframe\n",
    "- By index using sort_index(). By default, the sort is done on row indexes. \n",
    "- By values using sort_values(). By default, the sort is done on values in a column. \n",
    "    - Use By = column_name to set the column or columns to be sorted by\n",
    "- To have the sort done on column index or values in a row, set axis = 1\n",
    "- Use the argument ascending=False to have the values in descending order\n",
    "- Set inplace=True to preserve the order of the sort result"
   ]
  },
  {
   "cell_type": "code",
   "execution_count": null,
   "metadata": {},
   "outputs": [],
   "source": [
    "# Sort the dataframe by index in descending order. Display the top 5 rows\n"
   ]
  },
  {
   "cell_type": "code",
   "execution_count": null,
   "metadata": {},
   "outputs": [],
   "source": [
    "# Sort the dataframe by values of column headers. Display the top 5 rows\n"
   ]
  },
  {
   "cell_type": "code",
   "execution_count": null,
   "metadata": {},
   "outputs": [],
   "source": [
    "# Sort the dataframe by values in Survived. Display the top 5 rows\n"
   ]
  },
  {
   "cell_type": "code",
   "execution_count": null,
   "metadata": {
    "scrolled": true
   },
   "outputs": [],
   "source": [
    "# Sort the dataframe by values in Survived and age. Display the top 5 rows\n"
   ]
  },
  {
   "cell_type": "markdown",
   "metadata": {},
   "source": [
    "### Now Your Try 2"
   ]
  },
  {
   "cell_type": "code",
   "execution_count": null,
   "metadata": {},
   "outputs": [],
   "source": [
    "# Get all the information of the titanic dataframe.\n"
   ]
  },
  {
   "cell_type": "code",
   "execution_count": null,
   "metadata": {},
   "outputs": [],
   "source": [
    "# Get the bottom 7 rows of the dataframe. Use display() to show the result\n"
   ]
  },
  {
   "cell_type": "code",
   "execution_count": null,
   "metadata": {},
   "outputs": [],
   "source": [
    "# Get the column 'Name'\n"
   ]
  },
  {
   "cell_type": "code",
   "execution_count": null,
   "metadata": {},
   "outputs": [],
   "source": [
    "# Get columns 'Age' and 'Fare'\n"
   ]
  },
  {
   "cell_type": "code",
   "execution_count": null,
   "metadata": {},
   "outputs": [],
   "source": [
    "# Get all statistics of the column Fare using describe()\n"
   ]
  },
  {
   "cell_type": "code",
   "execution_count": null,
   "metadata": {},
   "outputs": [],
   "source": [
    "# What is the number of passengers in each cabin class?\n"
   ]
  },
  {
   "cell_type": "code",
   "execution_count": null,
   "metadata": {},
   "outputs": [],
   "source": [
    "# Add a column named Year with value 1912. Display the top 5 rows to confirm the addition\n"
   ]
  },
  {
   "cell_type": "code",
   "execution_count": null,
   "metadata": {},
   "outputs": [],
   "source": [
    "# Remove the column Year using the method drop() with proper axis and inplace keyword\n",
    "# argument. Display the top 5 rows to confirm it is dropped\n"
   ]
  },
  {
   "cell_type": "code",
   "execution_count": null,
   "metadata": {},
   "outputs": [],
   "source": [
    "# Sort dataframe by Fare in descending order. Display the top 5 rows.\n"
   ]
  },
  {
   "cell_type": "markdown",
   "metadata": {},
   "source": [
    "## Turn a Column into an Index\n",
    "- Use set_index(column_name) to turn a column into an index"
   ]
  },
  {
   "cell_type": "code",
   "execution_count": null,
   "metadata": {},
   "outputs": [],
   "source": [
    "# Currently, the row index is a RangeIndex. Create a new dataframe using 'Name' column\n",
    "# as the (row) index using set_index(). Name the new dataframe 'titanic_df2' and display the top 5 rows\n",
    "# Note the Name is now the row index\n"
   ]
  },
  {
   "cell_type": "code",
   "execution_count": null,
   "metadata": {},
   "outputs": [],
   "source": [
    "# Display index of titanic_df2\n"
   ]
  },
  {
   "cell_type": "markdown",
   "metadata": {},
   "source": [
    "## Access rows or subsets of a dataframe\n",
    "To get a row or a set of rows, use the following two ways:\n",
    "1. Use loc[], it takes index as its arguments\n",
    "1. Use iloc[], it takes positional numbers (integers starting with 0) as its arguments\n",
    "1. Both indexing and slicing can be used inside loc[] and iloc[]"
   ]
  },
  {
   "cell_type": "markdown",
   "metadata": {},
   "source": [
    "### Access rows using iloc and loc operator"
   ]
  },
  {
   "cell_type": "code",
   "execution_count": null,
   "metadata": {},
   "outputs": [],
   "source": [
    "# Use loc[] to Get the first passenger 'Mr. Owen Harris Braund'. Note his name is the index\n",
    "# What is the data type of the result? How to get only the age of the passenger?\n"
   ]
  },
  {
   "cell_type": "code",
   "execution_count": null,
   "metadata": {},
   "outputs": [],
   "source": [
    "# Use iloc[] to get the info of the same passenger\n"
   ]
  },
  {
   "cell_type": "code",
   "execution_count": null,
   "metadata": {},
   "outputs": [],
   "source": [
    "# Use slicing in loc[] to get passengers from 'Mr. Owen Harris Braund' to 'Mr. William Henry Allen'\n",
    "# What is the data type of the result?\n"
   ]
  },
  {
   "cell_type": "code",
   "execution_count": null,
   "metadata": {},
   "outputs": [],
   "source": [
    "# Use slicing in iloc[] to the get the top 5 passengers. The result should be the same as above\n"
   ]
  },
  {
   "cell_type": "markdown",
   "metadata": {},
   "source": [
    "### Access a subset of rows and columns\n",
    "To get a set of selected rows and columns, again use loc[] and iloc[]:\n",
    "1. In loc[] and iloc[], the row index and column index are seperated by comma\n",
    "1. Both indexing and slicing can be used inside loc[] and iloc[]"
   ]
  },
  {
   "cell_type": "code",
   "execution_count": null,
   "metadata": {},
   "outputs": [],
   "source": [
    "# Use loc[] to get Fare paid by 'Mr. Owen Harris Braund'\n"
   ]
  },
  {
   "cell_type": "code",
   "execution_count": null,
   "metadata": {},
   "outputs": [],
   "source": [
    "# Get the same info using iloc[]\n"
   ]
  },
  {
   "cell_type": "code",
   "execution_count": null,
   "metadata": {},
   "outputs": [],
   "source": [
    "# Use loc[] to get fares paid by the top 5 passengers from 'Mr. Owen Harris Braund' to 'Mr. William Henry Allen'\n"
   ]
  },
  {
   "cell_type": "code",
   "execution_count": null,
   "metadata": {},
   "outputs": [],
   "source": [
    "# Use loc[] to get columns from Sex to Fare of the top 5 passengers from 'Mr. Owen Harris Braund' to 'Mr. William Henry Allen'\n"
   ]
  },
  {
   "cell_type": "code",
   "execution_count": null,
   "metadata": {},
   "outputs": [],
   "source": [
    "# Get the same information with iloc[]\n"
   ]
  },
  {
   "cell_type": "code",
   "execution_count": null,
   "metadata": {},
   "outputs": [],
   "source": [
    "# Get arbitrary rows and columns using loc[]. Get 'Sex' and 'Fare' of 'Mr. Owen Harris Braund' and'Mr. William Henry Allen'\n"
   ]
  },
  {
   "cell_type": "code",
   "execution_count": null,
   "metadata": {},
   "outputs": [],
   "source": [
    "# access arbitrary rows and columns like above using iloc[]\n"
   ]
  },
  {
   "cell_type": "markdown",
   "metadata": {},
   "source": [
    "### Now Your Try 4"
   ]
  },
  {
   "cell_type": "code",
   "execution_count": null,
   "metadata": {},
   "outputs": [],
   "source": [
    "# Get the 3rd row of titanic_df2 using both loc[] and iloc[]. To see what you have in titanic_df2,\n",
    "# Add a cell to display the top five rows of it before you start working on it.\n"
   ]
  },
  {
   "cell_type": "code",
   "execution_count": null,
   "metadata": {},
   "outputs": [],
   "source": [
    "# Get row 10 to 15 but only columns Survived and Pclass. Use iloc[] is easier. \n",
    "# 1. Use iloc to slice positional integer for both rows and columns\n",
    "# 2. Use iloc to select the rows, then select the columns name with [] based on the result\n"
   ]
  },
  {
   "cell_type": "markdown",
   "metadata": {},
   "source": [
    "## Query or Filter the DataFrame\n",
    "Similary to ndarray Boolean Indexing"
   ]
  },
  {
   "cell_type": "code",
   "execution_count": null,
   "metadata": {},
   "outputs": [],
   "source": [
    "# Get all female passengers. The column to use is Sex and display the result\n"
   ]
  },
  {
   "cell_type": "code",
   "execution_count": null,
   "metadata": {},
   "outputs": [],
   "source": [
    "# Get all female passengers older than 40. Use 2 conditions\n"
   ]
  },
  {
   "cell_type": "code",
   "execution_count": null,
   "metadata": {},
   "outputs": [],
   "source": [
    "#Get all passengers older than 70 or younger than 10 not survived. Use both and, or. Don't forget ()\n"
   ]
  },
  {
   "cell_type": "markdown",
   "metadata": {},
   "source": [
    "### Retrieve largest or smallest values - idxmax() and idxmin()\n",
    "- The index of the largest value in a column is returned from idxmax()\n",
    "- The index of the smallest value in a column is returned from idxmin()\n",
    "- If idxmax() or idxmin() are used on a dataframe, the indexes of the largest and smallest values are all returned\n",
    "- The index can then be used in loc[] to get row back"
   ]
  },
  {
   "cell_type": "code",
   "execution_count": null,
   "metadata": {},
   "outputs": [],
   "source": [
    "# Use idxmax() to get the oldest passenger? and the one who paid the highest fare\n",
    "# titanic_df2['Age'].idxmax()\n"
   ]
  },
  {
   "cell_type": "code",
   "execution_count": null,
   "metadata": {},
   "outputs": [],
   "source": [
    "# Use idxmax() to get the indexes if the oldest passenger and the one who paid the highest fare\n",
    "# in one line of code\n"
   ]
  },
  {
   "cell_type": "code",
   "execution_count": null,
   "metadata": {},
   "outputs": [],
   "source": [
    "# Place the index in loc[] to get all the information about the oldest passenger\n"
   ]
  },
  {
   "cell_type": "code",
   "execution_count": null,
   "metadata": {},
   "outputs": [],
   "source": [
    "# Place the indexes in loc[] to get all the information about the oldest passenger\n",
    "# and the one who paid the highest fair\n"
   ]
  },
  {
   "cell_type": "code",
   "execution_count": null,
   "metadata": {},
   "outputs": [],
   "source": [
    "# Use idxmin() to get all the information about the youngest passenger\n"
   ]
  },
  {
   "cell_type": "markdown",
   "metadata": {},
   "source": [
    "### Now You Try 5"
   ]
  },
  {
   "cell_type": "code",
   "execution_count": null,
   "metadata": {},
   "outputs": [],
   "source": [
    "# Use titanic_df2, get all male passengers in the 2nd class and survived. Display the result\n"
   ]
  },
  {
   "cell_type": "code",
   "execution_count": null,
   "metadata": {},
   "outputs": [],
   "source": [
    "# Use titanic_df2, get all passengers old than 70 or younger than 10 not \n",
    "# survived? Save the result to 'temp_df'. Display the result.\n"
   ]
  },
  {
   "cell_type": "code",
   "execution_count": null,
   "metadata": {},
   "outputs": [],
   "source": [
    "# from temp_df, get all information of the passenger who paid the most expensive fare\n"
   ]
  }
 ],
 "metadata": {
  "kernelspec": {
   "display_name": "Python 3",
   "language": "python",
   "name": "python3"
  },
  "language_info": {
   "codemirror_mode": {
    "name": "ipython",
    "version": 3
   },
   "file_extension": ".py",
   "mimetype": "text/x-python",
   "name": "python",
   "nbconvert_exporter": "python",
   "pygments_lexer": "ipython3",
   "version": "3.8.8"
  }
 },
 "nbformat": 4,
 "nbformat_minor": 2
}
