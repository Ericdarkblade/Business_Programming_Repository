{
 "cells": [
  {
   "cell_type": "markdown",
   "source": [
    "# My First Python Jupyter notebook"
   ],
   "metadata": {
    "collapsed": false,
    "pycharm": {
     "name": "#%% md\n"
    }
   }
  },
  {
   "cell_type": "markdown",
   "source": [
    "# Purpose of Using Jupyter Notebook\n",
    "\n",
    "*The Following is written down from the lecture slides live*\n",
    "\n",
    "1. Code editing, executing\n",
    "1. Documentation: Text math formulas, images, videos\n",
    "1. Communication and reproduction"
   ],
   "metadata": {
    "collapsed": false,
    "pycharm": {
     "name": "#%% md\n"
    }
   }
  },
  {
   "cell_type": "markdown",
   "source": [
    "# Types of Cells\n",
    "\n",
    "* Markdown Cells\n",
    "* Code Cells"
   ],
   "metadata": {
    "collapsed": false,
    "pycharm": {
     "name": "#%% md\n"
    }
   }
  },
  {
   "cell_type": "markdown",
   "source": [
    "# Important Operations\n",
    "\n",
    "* Cells can be created with shift + enter (in edit mode) or entering command mode -> A [for above] or B [for below]\n",
    "* ctrl + enter will perform a computation of the cell and shift-enter will computer the cell and create a new cell"
   ],
   "metadata": {
    "collapsed": false,
    "pycharm": {
     "name": "#%% md\n"
    }
   }
  },
  {
   "cell_type": "markdown",
   "source": [
    "# Code Cell Execution\n",
    "\n",
    "1. Executing a single cell\n",
    "    * press ctrl + enter on a cell.\n",
    "1. Execute multiple cells\n",
    "    * Select Run All cells from the menu (or run above current or below current)\n",
    "    * You can also select a range of cells by clicking on one cell, and shift clicking the second cell, then you can hit ctrl + enter\n",
    "1. When executing multiple cells, the default order is (top to bottom)\n"
   ],
   "metadata": {
    "collapsed": false,
    "pycharm": {
     "name": "#%% md\n"
    }
   }
  },
  {
   "cell_type": "code",
   "execution_count": 2,
   "outputs": [
    {
     "data": {
      "text/plain": "216.70000000000002"
     },
     "execution_count": 2,
     "metadata": {},
     "output_type": "execute_result"
    }
   ],
   "source": [
    "12 + 23 * 8.9"
   ],
   "metadata": {
    "collapsed": false,
    "pycharm": {
     "name": "#%%\n"
    }
   }
  },
  {
   "cell_type": "code",
   "execution_count": 3,
   "outputs": [
    {
     "name": "stdout",
     "output_type": "stream",
     "text": [
      "My favorite song is:\n",
      "all this metal\n",
      "\tby Shiro SAGISU\n"
     ]
    }
   ],
   "source": [
    "favorite_song = \"all this metal\"\n",
    "artist = \"Shiro SAGISU\"\n",
    "\n",
    "print(f\"My favorite song is:\\n{favorite_song}\\n\\tby {artist}\")"
   ],
   "metadata": {
    "collapsed": false,
    "pycharm": {
     "name": "#%%\n"
    }
   }
  },
  {
   "cell_type": "markdown",
   "source": [
    "### I'm just going to be playing a bit below here."
   ],
   "metadata": {
    "collapsed": false,
    "pycharm": {
     "name": "#%% md\n"
    }
   }
  },
  {
   "cell_type": "markdown",
   "source": [
    "# [What are the odds this link works?](https://github.com/Ericdarkblade/Business_Programming_Repository/blob/master/Week%201/Week%201.ipynb)\n",
    "\n",
    "Well this just came out two hours ago\n",
    "\n",
    "Markdown Image Cheat:\n",
    "\n",
    "[![IMAGE_ALT](https://img.youtube.com/vi/8ofsE7xiGho/0.jpg)](https://www.youtube.com/watch?v=8ofsE7xiGho)\n",
    "\n",
    "YouTube HTML Embed Test (Doesn't work in pycharm, may work on GitHub)\n",
    "\n",
    "<iframe width=\"1527\" height=\"529\" src=\"https://www.youtube.com/embed/8ofsE7xiGho\" title=\"Microsoft Excel just got Python\" frameborder=\"0\" allow=\"accelerometer; autoplay; clipboard-write; encrypted-media; gyroscope; picture-in-picture; web-share\" allowfullscreen></iframe>"
   ],
   "metadata": {
    "collapsed": false,
    "pycharm": {
     "name": "#%% md\n"
    }
   }
  }
 ],
 "metadata": {
  "kernelspec": {
   "display_name": "Python 3",
   "language": "python",
   "name": "python3"
  },
  "language_info": {
   "codemirror_mode": {
    "name": "ipython",
    "version": 2
   },
   "file_extension": ".py",
   "mimetype": "text/x-python",
   "name": "python",
   "nbconvert_exporter": "python",
   "pygments_lexer": "ipython2",
   "version": "2.7.6"
  }
 },
 "nbformat": 4,
 "nbformat_minor": 0
}