{
 "cells": [
  {
   "cell_type": "markdown",
   "id": "950f9ffc",
   "metadata": {},
   "source": [
    "# Which Pot the Stone is Under?\n",
    "\n",
    "Inspired by programmers sharing their code. Thank you!\n",
    "If you can complete this without any error, you get a pass to drop the lowest score of Now You Try.\n"
   ]
  },
  {
   "cell_type": "code",
   "execution_count": 9,
   "id": "fd4d0ff7",
   "metadata": {},
   "outputs": [
    {
     "name": "stdout",
     "output_type": "stream",
     "text": [
      " you have =  120 gold now\n",
      "  \\_1_/  \\_2_/  \\_3_/  \n",
      "It is under pot  3\n",
      "OH NO! I'm sorry., you lost (120) gold\n",
      "Your total went from (120) -> 0\n",
      "@@@@@@@@@@@@@@@@@@@@@@@@@@@@@@@@@@@@@@@@@@@@@@@@@@\n",
      "@                                                @\n",
      "@              Now You have 0 Gold               @\n",
      "@                   Game Over!                   @\n",
      "@                                                @\n",
      "@@@@@@@@@@@@@@@@@@@@@@@@@@@@@@@@@@@@@@@@@@@@@@@@@@\n"
     ]
    }
   ],
   "source": [
    "import random\n",
    "total = 120\n",
    "game = \"Y\"\n",
    "\n",
    "while (game == \"Y\"):\n",
    "    print(\" you have = \", total, \"gold now\")\n",
    "    bet = int(input(\"how much do you bet ? : \").strip())\n",
    "    #########################################################################################\n",
    "    # Write an inner while loop that keeps asking how much to bet until a value smaller than total is given\n",
    "    # When the inner loop is over, the bet variable has an int <= total\n",
    "    # --------------- Your code below. Insert lines as needed --------------------------\n",
    "    while bet > total:\n",
    "        # May need to replace line and not tell what the total is.\n",
    "        bet = int(input(\n",
    "            f\"Your bet was too high.\\nPlease bet up to {total} gold.\\nHow much would you like to bet? : \").strip())\n",
    "    previous_total = total\n",
    "    total -= bet  # Money was not taken away\n",
    "    # --------------------- End of your first blank -----------------------------------\n",
    "    print(\"\"\"  \\_1_/  \\_2_/  \\_3_/  \"\"\")\n",
    "    guess = int(input(\"Which of the 3 pot is the stone in [1-3]? : \").strip())\n",
    "    #########################################################################################\n",
    "    # Write an inner loop that keeps asking until an integer smaller than 3 is given. When the loop is over\n",
    "    # the guess variable should have 1, 2, or 3\n",
    "    # --------------- Your code below. Insert lines as needed --------------------------\n",
    "    while guess > 3 or guess < 1:\n",
    "        guess = int(\n",
    "            input(f\"Your guess ({guess}) falls out of the bounds [1-3].\\nWhich of the 3 pot is the stone in [1-3]? : \").strip())\n",
    "\n",
    "    # --------------------- End of your second blank -----------------------------------\n",
    "    #########################################################################################\n",
    "    # Randomly generate the pot the stone is in\n",
    "    stone_pot = random.randint(1, 3)\n",
    "    print(\"It is under pot \", stone_pot)\n",
    "    #########################################################################################\n",
    "    # Use if statement to check if the guess is correct. If so, add 2 times the bet to the total\n",
    "    # Otherwise, subtract the bet from the total. Note the reassignment to total\n",
    "    # --------------- Your code below. Insert lines as needed --------------------------\n",
    "    if stone_pot == guess:\n",
    "        total += bet * 2\n",
    "        print(\n",
    "            f\"Congratulations you guessed right!, you bet ({bet}) and won ({2 * bet})\")\n",
    "        print(f\"Your total went from ({previous_total}) -> ({total})\")\n",
    "    else:\n",
    "        # Not subracting bet in this statement, if bet isn't taken away at the start,\n",
    "        # then when you win you get 3x bet instead of 2x bet.\n",
    "        print(f\"OH NO! I'm sorry., you lost ({bet}) gold\")\n",
    "        print(f\"Your total went from ({previous_total}) -> {total}\")\n",
    "    # --------------------- End of your third blank -----------------------------------\n",
    "    if total <= 0:\n",
    "        input(\"Go home you have no more gold left, press enter to escape \")\n",
    "        break        # Automatically break the while loop hence ending the game\n",
    "    # At the end of each game will ask if player want to play again\n",
    "    game = input(\"Play again? (Y/N)\")\n",
    "    game = game.upper()\n",
    "\n",
    "    # If player answers anything other than Y, it will break the loop and end the game\n",
    "\n",
    "width = \"@@@@@@@@@@@@@@@@@@@@@@@@@@@@@@@@@@@@@@@@@@@@@@@@@@\"\n",
    "print(width)\n",
    "print(\"@\", \" \"*(len(width)-4), \"@\")\n",
    "line1 = \"Now You have \" + str(total)+\" Gold\"\n",
    "print(\"@\", line1.center(len(width)-4), \"@\")\n",
    "line2 = \"Game Over!\"\n",
    "print(\"@\", line2.center(len(width)-4), \"@\")\n",
    "print(\"@\", \" \"*(len(width)-4), \"@\")\n",
    "print(width)"
   ]
  },
  {
   "cell_type": "code",
   "execution_count": null,
   "id": "ed1c0c5f",
   "metadata": {},
   "outputs": [],
   "source": []
  }
 ],
 "metadata": {
  "kernelspec": {
   "display_name": "Python 3",
   "language": "python",
   "name": "python3"
  },
  "language_info": {
   "codemirror_mode": {
    "name": "ipython",
    "version": 3
   },
   "file_extension": ".py",
   "mimetype": "text/x-python",
   "name": "python",
   "nbconvert_exporter": "python",
   "pygments_lexer": "ipython3",
   "version": "3.11.4"
  }
 },
 "nbformat": 4,
 "nbformat_minor": 5
}
