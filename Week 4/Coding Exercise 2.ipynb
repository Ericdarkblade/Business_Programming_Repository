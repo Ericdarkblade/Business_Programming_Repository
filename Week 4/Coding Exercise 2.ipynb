{
 "cells": [
  {
   "cell_type": "markdown",
   "metadata": {},
   "source": [
    "# Coding Exercise 2\n",
    "<font color='red'><b>\n",
    "After you complete the assignment, before submission, restart the kernel and re-execute the code. Do this for each code cell. This is to reset all the variables and ensure the execution order will be the same as that in the grader. It is very important to do this for every assignment before submission.\n",
    "    \n",
    "- Don't add/remove any cell in the notebook for the autograder to work. Don't remove any existing code (importing libraries, for example) in the provided template.\n",
    "- Follow the instruction closely. For example, use the exact same file names (to read from or write to) in the instruction. If you download a file more than once, your computer will add numbers to the file name. You should remove the numbers to make sure the file name is not altered.\n",
    "- All or part of your output must be exactly like the provided examples (follow the instruction of each question).\n",
    "- If you are using any packages or libraries not provided in the template, you MUST import them to every cell using the libraries.\n",
    "- Ask for clarification for anything unclear.</b></font>"
   ]
  },
  {
   "cell_type": "markdown",
   "metadata": {},
   "source": [
    "## Question 1: Get power of 2 <= 5000 using while loop\n",
    "Find all the numbers that are power of 2 (such as 4, 8, 16, etc.) using a while loop. The numbers found should be less than or equal to 5000. Print all the numbers out. The numbers displayed should be exactly like the following in <ins>one line</ins>: <pre> 2 4 8 16 32 64 128 256 512 1024 2048 4096 </pre> \n",
    "Tips:\n",
    "- Use a while loop\n",
    "- Define two variables outside of the loop. One accumulator (it accumulates by multiplication) and one string to hold all the powers of 2 to be displayed\n",
    "- Need to do string concatenation (+ operator) for have all numbers displayed on one line."
   ]
  },
  {
   "cell_type": "code",
   "execution_count": null,
   "metadata": {},
   "outputs": [],
   "source": [
    "### Enter your code for Question 1 in this cell ONLY ###\n"
   ]
  },
  {
   "cell_type": "markdown",
   "metadata": {},
   "source": [
    "## Question 2: Payment calculation. \n",
    "- Set the pay rate to be a constant of 20\n",
    "- Ask for user input of hours worked using input()\n",
    "- Convert the input to float. Handle the exception if the user entered something other than a number\n",
    "- Keep asking until the user enters a negative number (sentinal value to stop the program)\n",
    "    - If the user enters a negative number for the hour, exit the program\n",
    "- Set the pay rate to be a constant of 20\n",
    "- If the hours is at or under 40, pay with the constant hourly rate\n",
    "- For hours more than 40, the part **exceeding 40** must be paid 1.5 of the rate.\n",
    "- Use a while loop. A combination of break and continue statement can make the code easy to write\n",
    "    - Use break to exit the loop when the user enters a negative number\n",
    "    - Use continue to skip further processing if the user input is not a number. Based on how your code is implemented, it might not be necessary to use continue. As long as you get the correct answer, it is OK not to use continue.\n",
    "- After the user exit the loop, print out \"Thanks for using my pay calculator\" before terminate the program\n",
    "- Enter the following values and make sure you get the following execution result EXACTLY for credits:\n",
    "<pre>\n",
    "Enter hours: 30\n",
    "Pay:  600.0\n",
    "Enter hours: 50\n",
    "Pay:  1100.0\n",
    "Enter hours: Not a number\n",
    "Error! Please enter a number.\n",
    "Enter hours: -1\n",
    "Thanks for using my pay calculator</pre>"
   ]
  },
  {
   "cell_type": "code",
   "execution_count": 1,
   "metadata": {},
   "outputs": [],
   "source": [
    "### Enter your code for Question 2 in this cell ONLY ###\n"
   ]
  }
 ],
 "metadata": {
  "kernelspec": {
   "display_name": "Python 3",
   "language": "python",
   "name": "python3"
  },
  "language_info": {
   "codemirror_mode": {
    "name": "ipython",
    "version": 3
   },
   "file_extension": ".py",
   "mimetype": "text/x-python",
   "name": "python",
   "nbconvert_exporter": "python",
   "pygments_lexer": "ipython3",
   "version": "3.8.8"
  }
 },
 "nbformat": 4,
 "nbformat_minor": 4
}
