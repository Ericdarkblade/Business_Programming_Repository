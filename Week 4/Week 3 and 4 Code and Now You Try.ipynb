{
 "cells": [
  {
   "cell_type": "markdown",
   "metadata": {},
   "source": [
    "# Week 3 &4 Code and Now You Try - Loops and Exception Handling"
   ]
  },
  {
   "cell_type": "code",
   "execution_count": 1,
   "metadata": {},
   "outputs": [
    {
     "data": {
      "text/html": [
       "<style>.container { width:100% !important; }</style>"
      ],
      "text/plain": [
       "<IPython.core.display.HTML object>"
      ]
     },
     "metadata": {},
     "output_type": "display_data"
    }
   ],
   "source": [
    "# This cell is for wide display and better use of screen space\n",
    "from IPython.core.display import display, HTML\n",
    "display(HTML(\"<style>.container { width:100% !important; }</style>\"))"
   ]
  },
  {
   "cell_type": "markdown",
   "metadata": {},
   "source": [
    "## While Loop - Condition-Controlled Loop"
   ]
  },
  {
   "cell_type": "code",
   "execution_count": 14,
   "metadata": {},
   "outputs": [],
   "source": [
    "# Write a while loop to count numbers from 1 to 10\n"
   ]
  },
  {
   "cell_type": "code",
   "execution_count": null,
   "metadata": {},
   "outputs": [],
   "source": [
    "# Copy the loop we just created here. Remove one line to make it run forever\n",
    "# This is an infinite loop. How to deal with it? What have you learned?\n",
    "\n"
   ]
  },
  {
   "cell_type": "code",
   "execution_count": 15,
   "metadata": {},
   "outputs": [],
   "source": [
    "# Write a program to calculate sales commission. Ask the user for sales and commission rate\n",
    "# Calculate the commission by multiply sales by commission rate. Display commission. \n",
    "# Ask the user whether she wants to continue. Keep repeating until the user answers no.\n",
    "# while loop should be used. Think about what the condition should be\n",
    "\n",
    "# Declare a variable so it can be used in the condition\n"
   ]
  },
  {
   "cell_type": "code",
   "execution_count": 6,
   "metadata": {},
   "outputs": [
    {
     "name": "stdout",
     "output_type": "stream",
     "text": [
      "What is your sales? 500\n",
      "What is your commission rate? 0.1\n",
      "Your commission is 50.0\n",
      "Enter quit to stop. Anything else to continue \n",
      "What is your sales? 600\n",
      "What is your commission rate? 0.1\n",
      "Your commission is 60.0\n",
      "Enter quit to stop. Anything else to continue quit\n",
      "Done!\n"
     ]
    }
   ],
   "source": [
    "# Note that the program instruction for quit is not clear in the previous example.\n",
    "# Can you modify the code so that the prompt states: 'Enter quit to stop. Anything \n",
    "# else to continue'. You probably need to modify the condition to get it work. Copy and \n",
    "# paste the code from the above cell here and make modifications. See how flexible a loop can be\n"
   ]
  },
  {
   "cell_type": "markdown",
   "metadata": {},
   "source": [
    "### Now You Try 1"
   ]
  },
  {
   "cell_type": "code",
   "execution_count": 8,
   "metadata": {},
   "outputs": [
    {
     "name": "stdout",
     "output_type": "stream",
     "text": [
      "Enter a multiple of 5: 3\n",
      "The number entered is incorrect. Enter a multiple of 5: 10\n",
      "The multiple of 5 you entered is 10\n"
     ]
    }
   ],
   "source": [
    "# Ask the user to enter an integer using input(). Convert it to int and save to variable 'number'\n",
    "number = int(input(\"Enter a multiple of 5: \"))\n",
    "# using while loop. Check whether number is a mutliple of 5. (Check the remainder of dividing the number \n",
    "# by 5, if the remainder is not 0, it is not a multiple of 5. Use %) Use this as the condition. most of\n",
    "# the code is written for you except for the condition. Fill it out below\n",
    "while  \n",
    "\n",
    "    # As long as number is not a multiple of 5, keep asking for new input. \n",
    "    # The loop stops once a multiple of 5 is entered.\n",
    "    number = int(input(\"The number entered is incorrect. Enter a multiple of 5: \"))\n",
    "# Print out the number after the loop. \n",
    "print(\"The multiple of 5 you entered is\", number)"
   ]
  },
  {
   "cell_type": "markdown",
   "metadata": {},
   "source": [
    "### Sentinal Value"
   ]
  },
  {
   "cell_type": "code",
   "execution_count": 11,
   "metadata": {},
   "outputs": [
    {
     "name": "stdout",
     "output_type": "stream",
     "text": [
      "What is your sales? 500\n",
      "What is your commission rate? 0.1\n",
      "Your commission is 50.0\n",
      "What is your sales? 600\n",
      "What is your commission rate? 0.1\n",
      "Your commission is 60.0\n",
      "What is your sales? -1\n",
      "What is your commission rate? -1\n",
      "Done!\n"
     ]
    }
   ],
   "source": [
    "# Rewrite the previous program using a sentinal value\n",
    "# This can make your program more compact and user-friendly\n",
    "\n"
   ]
  },
  {
   "cell_type": "markdown",
   "metadata": {},
   "source": [
    "### while True and break statement"
   ]
  },
  {
   "cell_type": "code",
   "execution_count": 16,
   "metadata": {},
   "outputs": [],
   "source": [
    "# Implement the code using while True and break statement\n",
    "\n",
    "\n",
    "\n"
   ]
  },
  {
   "cell_type": "markdown",
   "metadata": {},
   "source": [
    "### Calculate running total\n",
    "Learn the following:\n",
    "1. Accumulator variable\n",
    "1. Augmented assignment: x+=5 is the same as x=x+5"
   ]
  },
  {
   "cell_type": "code",
   "execution_count": 13,
   "metadata": {},
   "outputs": [
    {
     "name": "stdout",
     "output_type": "stream",
     "text": [
      "Please enter the number to be added: 1\n",
      "Please enter the number to be added: 2\n",
      "Please enter the number to be added: 3\n",
      "Please enter the number to be added: -1\n",
      "The sum of all the numbers enter is 6\n"
     ]
    }
   ],
   "source": [
    "# Calculate the running total of positive numbers entered by the user\n",
    "# Set a cumulating variable sum to be 0\n",
    "\n",
    "# Set the initial variable n to be 0\n",
    "\n",
    "# Use negative values as sentinel values. Write a condition to check whether n is negative\n"
   ]
  },
  {
   "cell_type": "markdown",
   "metadata": {},
   "source": [
    "### Now you try 2"
   ]
  },
  {
   "cell_type": "code",
   "execution_count": 1,
   "metadata": {},
   "outputs": [],
   "source": [
    "# Modify the example we used above to record and print the number of \n",
    "# transactions processed after all transactions are entered\n",
    "\n",
    "\n"
   ]
  },
  {
   "cell_type": "markdown",
   "metadata": {},
   "source": [
    "## for loop - Counter-controlled loop"
   ]
  },
  {
   "cell_type": "code",
   "execution_count": 11,
   "metadata": {},
   "outputs": [
    {
     "name": "stdout",
     "output_type": "stream",
     "text": [
      "Hello World!\n",
      "Hello World!\n",
      "Hello World!\n",
      "Hello World!\n",
      "Hello World!\n"
     ]
    }
   ],
   "source": [
    "# Write a loop to print out “Hello World” 10 times\n"
   ]
  },
  {
   "cell_type": "code",
   "execution_count": 12,
   "metadata": {},
   "outputs": [
    {
     "name": "stdout",
     "output_type": "stream",
     "text": [
      "Hello World\n",
      "Hello World\n",
      "Hello World\n",
      "Hello World\n",
      "Hello World\n"
     ]
    }
   ],
   "source": [
    "# Simplify it with for loop. Compare the code to see the differences \n"
   ]
  },
  {
   "cell_type": "code",
   "execution_count": 2,
   "metadata": {},
   "outputs": [],
   "source": [
    "# for x in range(5, 0, 1):\n",
    "# # for x in range(1, 5, 2):\n",
    "for x in range(0, 51, 10):\n",
    "    print('Hello world!')"
   ]
  },
  {
   "cell_type": "code",
   "execution_count": 14,
   "metadata": {},
   "outputs": [
    {
     "name": "stdout",
     "output_type": "stream",
     "text": [
      "5\n",
      "4\n",
      "3\n",
      "2\n",
      "1\n"
     ]
    }
   ],
   "source": [
    "# Write a for loop to count down from 5 to 1. Use i as the target variable\n"
   ]
  },
  {
   "cell_type": "markdown",
   "metadata": {},
   "source": [
    "### Now You Try 3"
   ]
  },
  {
   "cell_type": "code",
   "execution_count": 13,
   "metadata": {},
   "outputs": [
    {
     "name": "stdout",
     "output_type": "stream",
     "text": [
      "1\n",
      "3\n",
      "5\n",
      "7\n",
      "9\n",
      "11\n",
      "13\n",
      "15\n",
      "17\n",
      "19\n"
     ]
    }
   ],
   "source": [
    "# Create a for loop that prints out the odd numbers between 1 and 20\n",
    "# Numbers 1, 3, 5, 7, 9, 11, 13, 15, 17 and 19 should be displayed\n",
    "\n"
   ]
  },
  {
   "cell_type": "code",
   "execution_count": 17,
   "metadata": {},
   "outputs": [
    {
     "name": "stdout",
     "output_type": "stream",
     "text": [
      "100\n",
      "81\n",
      "64\n",
      "49\n",
      "36\n",
      "25\n",
      "16\n",
      "9\n",
      "4\n",
      "1\n"
     ]
    }
   ],
   "source": [
    "# Use a for loop to display the squares of integers from 10 to 1\n",
    "# The display should be in reverse order starting from 100 to 1\n",
    "# use the ** operator to get the squares\n",
    "# Write it with 2 arguments in range()\n",
    "\n"
   ]
  },
  {
   "cell_type": "markdown",
   "metadata": {},
   "source": [
    "### Continue statement\n",
    "A way to skip the rest of the loop body to end the iteration prematurely. The loop will start the next iteration"
   ]
  },
  {
   "cell_type": "code",
   "execution_count": 33,
   "metadata": {},
   "outputs": [
    {
     "name": "stdout",
     "output_type": "stream",
     "text": [
      "1\n",
      "2\n",
      "3\n",
      "4\n",
      "5\n",
      "7\n",
      "8\n",
      "9\n",
      "10\n"
     ]
    }
   ],
   "source": [
    "# Print out all numbers between 1 and 10 except for 6\n",
    ": \n",
    "# If i is equals to 6, continue to next iteration without printing  \n",
    "   \n",
    "    "
   ]
  },
  {
   "cell_type": "markdown",
   "metadata": {},
   "source": [
    "### Nested Loops\n",
    "Loop inside other loops just like nesting Russian dolls"
   ]
  },
  {
   "cell_type": "code",
   "execution_count": 11,
   "metadata": {},
   "outputs": [
    {
     "name": "stdout",
     "output_type": "stream",
     "text": [
      "Outer iteration 1\n",
      "Inner iteration 1\n",
      "Inner iteration 2\n",
      "Outer iteration 2\n",
      "Inner iteration 1\n",
      "Inner iteration 2\n"
     ]
    }
   ],
   "source": [
    "# Write a 2-level loop with inner and outer levels. Each one iterates only twice. \n",
    "# Print out some text so it is clear where which printed text is produced\n",
    "\n"
   ]
  },
  {
   "cell_type": "code",
   "execution_count": 36,
   "metadata": {},
   "outputs": [
    {
     "name": "stdout",
     "output_type": "stream",
     "text": [
      "Outer iteration 1\n",
      "\t Inner iteration 1\n",
      "\t Inner iteration 2\n",
      "Outer iteration 2\n",
      "\t Inner iteration 1\n",
      "\t Inner iteration 2\n"
     ]
    }
   ],
   "source": [
    "# Modify the example above to have the result displayed below\n",
    "# Note that only one line of code needs to be modifed. Use \"\\t\" to add space in front of a line\n",
    "\n"
   ]
  },
  {
   "cell_type": "code",
   "execution_count": 37,
   "metadata": {},
   "outputs": [
    {
     "name": "stdout",
     "output_type": "stream",
     "text": [
      "Outer iteration 1\n",
      "Inner iteration 1, \n",
      "Inner iteration 1, 2, \n",
      "Outer iteration 2\n",
      "Inner iteration 1, \n",
      "Inner iteration 1, 2, \n"
     ]
    }
   ],
   "source": [
    "# Modify the example above to have the result displayed below\n",
    "# You need to initiate a string as an accumulator before each inner loop. \n",
    "# After all the inner loop iterations, print out the string. Note that you need\n",
    "# to convert numbers to strings before concatenate them. \n",
    "\n",
    "\n",
    "    # initiate a string as an accumulator. One line of code\n",
    "   \n",
    "        # concatenate the loop number to the string and print it. Two lines of code\n",
    "    \n",
    "    "
   ]
  },
  {
   "cell_type": "markdown",
   "metadata": {},
   "source": [
    "### Now You Try 4"
   ]
  },
  {
   "cell_type": "code",
   "execution_count": 2,
   "metadata": {},
   "outputs": [],
   "source": [
    "# Print out time in the format of hour:minute:second using a 3-level loop. \n",
    "# Only print out the hour of 0 and 1 (otherwise it will take a long time)\n",
    "# For minutes go through the first 10 minutes. However, don't print out minute 5\n",
    "# The time printed would be like: 0 : 9 : 56 for 12am at 9 minutes and 56 seconds\n",
    "# There should not be x : 5 : x since minute 5 should not be printed. Use continue\n"
   ]
  },
  {
   "cell_type": "markdown",
   "metadata": {},
   "source": [
    "## Exception Handling"
   ]
  },
  {
   "cell_type": "code",
   "execution_count": 12,
   "metadata": {},
   "outputs": [
    {
     "name": "stdout",
     "output_type": "stream",
     "text": [
      "Enter a string we\n",
      "Hello\n",
      "Success\n",
      "Done -1\n"
     ]
    }
   ],
   "source": [
    "# An example of exception handling\n",
    "astr = input(\"Enter a string \")\n",
    "print('Hello') \n",
    "try:\n",
    "    int_str = int(astr)\n",
    "    print('Success') \n",
    "except:\n",
    "    int_str = -1\n",
    "print('Done', int_str) "
   ]
  },
  {
   "cell_type": "code",
   "execution_count": 6,
   "metadata": {},
   "outputs": [],
   "source": [
    "# Write a simple calculator to calculate division\n",
    "# First ask for 2 numbers and convert them to integers\n",
    "# Then divide the numbers to get the quotient\n",
    "# Finally print out the calculation result\n",
    "# What could go wrong in the code? Add exception handling\n",
    "\n",
    "\n"
   ]
  },
  {
   "cell_type": "code",
   "execution_count": 1,
   "metadata": {
    "code_folding": []
   },
   "outputs": [
    {
     "name": "stdout",
     "output_type": "stream",
     "text": [
      "Enter an integer: er\n",
      "You did not enter an integer\n",
      "Enter an integer: er\n",
      "You did not enter an integer\n",
      "Enter an integer: hfgh\n",
      "You did not enter an integer\n",
      "Enter an integer: rtr\n",
      "You did not enter an integer\n",
      "Enter an integer: 5\n",
      "5\n",
      "Done\n"
     ]
    }
   ],
   "source": [
    "# How to keep asking the user for a valid value until you get it. Take the following steps\n",
    "# 1. Ask for an integer from the user using input(). Convert the input to integer using int()\n",
    "#    and assign it to a variable \"var\". Print out the integer and print out \"Done\"\n",
    "# 2. Use try and except to handle the case when the user enters something other than an integer\n",
    "#    If the user did not enter an integer, print \"You did not enter an integer\".\n",
    "# 3. Once you get this work, add a while loop to the code so the program will keep asking for\n",
    "#    An integer until one is entered. You can use while True and break to make the code easy\n",
    "\n"
   ]
  },
  {
   "cell_type": "markdown",
   "metadata": {},
   "source": [
    "### Hande errors more specifcally"
   ]
  },
  {
   "cell_type": "code",
   "execution_count": 7,
   "metadata": {},
   "outputs": [
    {
     "name": "stdout",
     "output_type": "stream",
     "text": [
      "Enter numerator 23\n",
      "Enter denominator 12\n",
      "Check your variable name\n",
      "Done!\n"
     ]
    }
   ],
   "source": [
    "# Add multiple except clause to handle different errors to provide different feedback to the user\n",
    "# Note that to do this, you need to know the error names/types\n",
    "\n",
    "\n"
   ]
  },
  {
   "cell_type": "markdown",
   "metadata": {},
   "source": [
    "### Now You Try 5"
   ]
  },
  {
   "cell_type": "code",
   "execution_count": 3,
   "metadata": {},
   "outputs": [],
   "source": [
    "# Ask a user to enter a valid assignment grade score between 0 and 100 using input.\n",
    "# If the user enters a value that is not a number, print out a proper message.\n",
    "# If the user enters a number but the value is outside of the range 0 and 100,\n",
    "# print out the proper message. Keep asking until the value entered is correct using\n",
    "# a while True loop. When the value is valid, print out the value:\n",
    "\n"
   ]
  }
 ],
 "metadata": {
  "kernelspec": {
   "display_name": "Python 3",
   "language": "python",
   "name": "python3"
  },
  "language_info": {
   "codemirror_mode": {
    "name": "ipython",
    "version": 3
   },
   "file_extension": ".py",
   "mimetype": "text/x-python",
   "name": "python",
   "nbconvert_exporter": "python",
   "pygments_lexer": "ipython3",
   "version": "3.8.8"
  }
 },
 "nbformat": 4,
 "nbformat_minor": 4
}
