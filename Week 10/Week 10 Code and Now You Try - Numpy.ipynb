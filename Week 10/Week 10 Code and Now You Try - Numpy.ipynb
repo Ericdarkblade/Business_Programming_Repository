{
 "cells": [
  {
   "cell_type": "markdown",
   "metadata": {},
   "source": [
    "# Introduction to Numpy\n",
    "- NumPy stands for <u>Num</u>erical <u>Py</u>thon. It is the most important library or package in Python numerical computation environment\n",
    "- Numpy has a powerful multi-dimensional array object (ndarray) that stores data efficiently for quick, easy access and manipulation\n",
    "- Numpy performs complex array calculations by treating arrays as individual units to avoid using loops and greatly increase speed\n",
    "- Numpy implements sophisticated math calculation functions efficiently\n",
    "- Has a C API to connect to libraries written in C, C++, etc.\n",
    "- ndarray is usually the default or underlying data object in other computational packages"
   ]
  },
  {
   "cell_type": "code",
   "execution_count": 32,
   "metadata": {},
   "outputs": [
    {
     "data": {
      "text/html": [
       "<style>.container { width:100% !important; }</style>"
      ],
      "text/plain": [
       "<IPython.core.display.HTML object>"
      ]
     },
     "metadata": {},
     "output_type": "display_data"
    },
    {
     "data": {
      "text/plain": [
       "'%.3f'"
      ]
     },
     "execution_count": 32,
     "metadata": {},
     "output_type": "execute_result"
    }
   ],
   "source": [
    "# This cell is for wide display and better use of screen space\n",
    "from IPython.core.display import display, HTML\n",
    "display(HTML(\"<style>.container { width:100% !important; }</style>\"))\n",
    "import numpy as np\n",
    "# When printing out the floating numbers, only keep 3 decimal places \n",
    "# This works for all numpy arrays\n",
    "# np.set_printoptions(precision=3)\n",
    "# This is for all print outs objects\n",
    "%precision 3"
   ]
  },
  {
   "cell_type": "markdown",
   "metadata": {},
   "source": [
    "## Motivating Example\n",
    "Add elements of the following 2 lists to calculate total expenses for each store and save the result in a list named \"total_exp\".  "
   ]
  },
  {
   "cell_type": "code",
   "execution_count": 2,
   "metadata": {},
   "outputs": [],
   "source": [
    "admin_exp = [1224, 1240, 1906, 1303, 1363, 1145, 1237, 1296, 1194, 1231,1253, 1119]\n",
    "payroll_exp = [42370.47, 38889.7, 41396.37, 40941.33, 41056.7, 42307.05, 44232.53, 45152.42, \n",
    "               46897.79, 44157.78, 44307.4, 43398.66]"
   ]
  },
  {
   "cell_type": "markdown",
   "metadata": {},
   "source": [
    "### Now You Try 1"
   ]
  },
  {
   "cell_type": "code",
   "execution_count": 1,
   "metadata": {},
   "outputs": [],
   "source": [
    "# Try to add the two lists directly using \"admin_exp + payroll_exp\". Can you get total expenses of each store?\n"
   ]
  },
  {
   "cell_type": "code",
   "execution_count": 2,
   "metadata": {},
   "outputs": [],
   "source": [
    "# Write a loop to add the corresponding elements in the two lists to get total_exp\n",
    "# You need to create an empty list named 'total_exp' first. Print out the result\n",
    "# Did you get the correct result this time?\n",
    "total_exp = []\n"
   ]
  },
  {
   "cell_type": "markdown",
   "metadata": {},
   "source": [
    "## Numpy Array Calculation is Much Faster Than Python List\n",
    "%time is a magic command in Jupyter Notebook which times the execution of a Python statement. Magic commands are additional functions outside of normal Python syntax. They all start with \"%\". Wall time measures how much time elapsed between the start and completion of the execution which is not necessarily the real time used to execute the command. However, when both wall times are compared, the comparsion is fair. "
   ]
  },
  {
   "cell_type": "code",
   "execution_count": 3,
   "metadata": {},
   "outputs": [],
   "source": [
    "# Create a numpy array with 1 million integers. Create a list with 1 million integers. The two data structures have the same contents.\n",
    "my_arr = np.arange(1000000)\n",
    "my_list = list(range(1000000))"
   ]
  },
  {
   "cell_type": "code",
   "execution_count": 4,
   "metadata": {},
   "outputs": [
    {
     "name": "stdout",
     "output_type": "stream",
     "text": [
      "Wall time: 2 ms\n"
     ]
    }
   ],
   "source": [
    "# %time is a magic command that times the execution of one line of code\n",
    "# Execute this cell and the next. Your time will be different from mine since we are using \n",
    "# different computers. The code multiplies each number in the array with 2.\n",
    "%time my_arr2 = my_arr * 2"
   ]
  },
  {
   "cell_type": "code",
   "execution_count": 5,
   "metadata": {},
   "outputs": [
    {
     "name": "stdout",
     "output_type": "stream",
     "text": [
      "Wall time: 104 ms\n"
     ]
    }
   ],
   "source": [
    "# %%time is a magic command that times the execution of all code in a cell\n",
    "# The code multiplies each number in the list with 2.\n",
    "%%time \n",
    "my_list2 = []\n",
    "for i in my_list:\n",
    "    my_list2.append(i*2) "
   ]
  },
  {
   "cell_type": "code",
   "execution_count": 3,
   "metadata": {},
   "outputs": [],
   "source": [
    "# Calculate how much faster it is to use Numpy array instead of Python list based on the Wall Time outputs\n"
   ]
  },
  {
   "cell_type": "markdown",
   "metadata": {},
   "source": [
    "## Create Numpy Arrays \n",
    "1. Numpy arrays can be created by using the array() function. It takes lists, tuples, ndarrays, etc. as arguments. dtpye is an optional argument. The dtype of the array will be inferred if not passed in.\n",
    "1. Special arrays can be created with functions such as zeros(), ones() etc.\n",
    "1. Arrays can also be created using arange() and linspace() functions\n",
    "    - arange() works similar to range() function in Pythob\n",
    "    - linspace() takes 3 arguments: start value, stop value and number of elements to generate between start and stop values.\n",
    "1. full() function creates an array with same-value elements. The required arguments are the shape of the new array and the value for the elements.\n",
    "\n",
    "### Use np.array()"
   ]
  },
  {
   "cell_type": "code",
   "execution_count": 4,
   "metadata": {},
   "outputs": [],
   "source": [
    "# Create a one-dimensional array from a list [6, 7.5, 8, 8, 1]. Store the result in variable arr1\n",
    "# Print out the array and the type of the array\n",
    "# Note the change of element data types in the array\n",
    "list1 = [6, 7.5, 8, 8, 1]\n",
    "\n"
   ]
  },
  {
   "cell_type": "code",
   "execution_count": 5,
   "metadata": {},
   "outputs": [],
   "source": [
    "# Print out list1 and type of list 1. Can you see the difference of the printed results of the array and the list?\n"
   ]
  },
  {
   "cell_type": "markdown",
   "metadata": {},
   "source": [
    "#### Write down the difference betweent the display of a Numpy array and a list:\n",
    "1. \n",
    "1."
   ]
  },
  {
   "cell_type": "code",
   "execution_count": 6,
   "metadata": {},
   "outputs": [],
   "source": [
    "# Execute the code in this cell. Note the change of the data type of elements in the array \n",
    "# dtype \"<U32\" represent a unicode string of 32 characters. \n",
    "# Without using print(), is it easier to differentiate list from array?\n",
    "np.array([6, 7.5, 8, 8, 1, 'one'])"
   ]
  },
  {
   "cell_type": "code",
   "execution_count": 7,
   "metadata": {},
   "outputs": [],
   "source": [
    "# Create a two-dimensional array based on the two dimensional list \"data\". Set dtype to be float. \n",
    "# Save the result to variable arr2. Print arr2. Note how the numbers are represented\n",
    "data = [[1, 2, 3, 4], [5, 6, 7, 8]]\n"
   ]
  },
  {
   "cell_type": "code",
   "execution_count": 8,
   "metadata": {},
   "outputs": [],
   "source": [
    "# Create a numpy array based on arr2 just created. Set the dtype to be int. No need to save the array,\n",
    "# Pay attention to the type of the elements in the new array.\n"
   ]
  },
  {
   "cell_type": "code",
   "execution_count": 9,
   "metadata": {},
   "outputs": [],
   "source": [
    "# Create a three-dimensional array using nested list of tuples: [[(1, 2), (3, 4)], [(5, 6), (7, 8)]]\n",
    "# You can copy and paste the list. Save the result to arr3 and display it.\n",
    "\n"
   ]
  },
  {
   "cell_type": "markdown",
   "metadata": {},
   "source": [
    "### Use np.zeros(), ones(), arange(), linspace() and full() to create arrays"
   ]
  },
  {
   "cell_type": "code",
   "execution_count": 10,
   "metadata": {},
   "outputs": [],
   "source": [
    "# The function zeros() takes only 1 argument: an integer or a tuple\n",
    "# The default dtype is float. It can be set as integer. Create an one-dimensional\n",
    "# array with 5 zeros\n"
   ]
  },
  {
   "cell_type": "code",
   "execution_count": 11,
   "metadata": {},
   "outputs": [],
   "source": [
    "# Create a 3X4 array with ones using np.ones(). Passing in a tuple to specify the dimension\n"
   ]
  },
  {
   "cell_type": "code",
   "execution_count": 12,
   "metadata": {},
   "outputs": [],
   "source": [
    "# np.arange() works like range() in Python. It takes up to 3 arguments to create a 1-dimensional array\n",
    "# start value, stop value (not included) and step (increment). \n",
    "# Start value is optional, default is 0\n",
    "# Step value is optional, default is 1 \n",
    "\n",
    "# Create an array of even numbers starting with 20 and ending with 38\n"
   ]
  },
  {
   "cell_type": "code",
   "execution_count": 13,
   "metadata": {},
   "outputs": [],
   "source": [
    "# np.linspace() creates a 1-dimensional array. 3 arguments: start, stop and number of elements\n",
    "# Elements are evenly spaced between start and stop (both included). The number of elements\n",
    "# is specified in the 3rd argument\n",
    "\n",
    "# Create an array starting with 0, ending with 2 containing 9 elements. \n"
   ]
  },
  {
   "cell_type": "code",
   "execution_count": 14,
   "metadata": {},
   "outputs": [],
   "source": [
    "# np.full(dimension, value) allows you to create an array with the specified value in all elements\n",
    "# The first argument is the dimension, usually a tuple. The second is the value.\n",
    "# Create a 2X3 array in variable full with integer 5. No need to save the array to a variable\n"
   ]
  },
  {
   "cell_type": "markdown",
   "metadata": {},
   "source": [
    "### Now You Try 2"
   ]
  },
  {
   "cell_type": "code",
   "execution_count": 15,
   "metadata": {},
   "outputs": [],
   "source": [
    "# Create a 2-dimensional numpy array with a nested list below\n",
    "# without dtype argument. Name it array1. Display it\n",
    "nested_list = [[34, 45, 12], [9, 10, 5], [33, 80, 65]]\n"
   ]
  },
  {
   "cell_type": "code",
   "execution_count": 16,
   "metadata": {},
   "outputs": [],
   "source": [
    "# Create a 2-dimensional numpy array array2 using the same nested\n",
    "# list with dtype = 'str'. Display it\n"
   ]
  },
  {
   "cell_type": "code",
   "execution_count": 17,
   "metadata": {},
   "outputs": [],
   "source": [
    "# Create a 2-dimension array 'array3' of shape (2, 3) full of ones\n",
    "# Display it\n"
   ]
  },
  {
   "cell_type": "code",
   "execution_count": 18,
   "metadata": {},
   "outputs": [],
   "source": [
    "# Create an array 'array4' using np.arange() that starts with 100\n",
    "# end with 201 and take 20 as the step. Display it\n"
   ]
  },
  {
   "cell_type": "code",
   "execution_count": 19,
   "metadata": {},
   "outputs": [],
   "source": [
    "# Create an array 'array5' using np.linspace() that starts with 0\n",
    "# ends with 1 and generate 10 values. Display it\n"
   ]
  },
  {
   "cell_type": "markdown",
   "metadata": {},
   "source": [
    "## Array Attributes and Methods\n",
    "### Array attributes\n",
    "1. dtype: returns the data type of the elements\n",
    "1. shape: returns a tuple with the number of elements in each dimension\n",
    "1. ndim: returns the number of dimensions in an array\n",
    "1. size: returns the total number of elements in an array"
   ]
  },
  {
   "cell_type": "code",
   "execution_count": 20,
   "metadata": {},
   "outputs": [],
   "source": [
    "# Execute the code to create the array and store it in 'arr'\n",
    "arr = np.array([[2.3, 4.5, 2.7, 9.1], [12, 0.9, 7.8, 2.1], \n",
    "                [8.5, 71, 3.6, 8.8]])\n",
    "arr"
   ]
  },
  {
   "cell_type": "code",
   "execution_count": 21,
   "metadata": {},
   "outputs": [],
   "source": [
    "# Execute the code to create the array and store it in 'arr0'\n",
    "arr0 = np.zeros(5, dtype=int)\n",
    "arr0"
   ]
  },
  {
   "cell_type": "code",
   "execution_count": 22,
   "metadata": {},
   "outputs": [],
   "source": [
    "# Get the data type of arr\n"
   ]
  },
  {
   "cell_type": "code",
   "execution_count": 23,
   "metadata": {},
   "outputs": [],
   "source": [
    "# Get the data type of arr0\n"
   ]
  },
  {
   "cell_type": "code",
   "execution_count": 24,
   "metadata": {},
   "outputs": [],
   "source": [
    "# Get the shape of the arr\n"
   ]
  },
  {
   "cell_type": "code",
   "execution_count": 26,
   "metadata": {},
   "outputs": [],
   "source": [
    "# Get the shape of the arr0\n"
   ]
  },
  {
   "cell_type": "code",
   "execution_count": 27,
   "metadata": {},
   "outputs": [],
   "source": [
    "# Get the number of dimensions of arr\n"
   ]
  },
  {
   "cell_type": "code",
   "execution_count": 28,
   "metadata": {},
   "outputs": [],
   "source": [
    "# Get the number of dimensions of arr0\n"
   ]
  },
  {
   "cell_type": "code",
   "execution_count": 29,
   "metadata": {},
   "outputs": [],
   "source": [
    "# Get the number of elements in arr\n"
   ]
  },
  {
   "cell_type": "markdown",
   "metadata": {},
   "source": [
    "### Array methods\n",
    "1. reshape(): change the dimension of an array. Takes one argument: the shape of the new array as a tuple. The shape of the new array must be compatabile with the old one\n",
    "1. sort(): sort the elements of the array by the specified axis. By default, the sort is along the innermost axis, which is axis=1 for a 2-dimensional array."
   ]
  },
  {
   "cell_type": "code",
   "execution_count": 32,
   "metadata": {},
   "outputs": [
    {
     "data": {
      "text/plain": [
       "array([20, 22, 24, 26, 28, 30, 32, 34, 36, 38])"
      ]
     },
     "execution_count": 32,
     "metadata": {},
     "output_type": "execute_result"
    }
   ],
   "source": [
    "d = np.arange(20, 40, 2)\n",
    "d"
   ]
  },
  {
   "cell_type": "code",
   "execution_count": 33,
   "metadata": {},
   "outputs": [
    {
     "data": {
      "text/plain": [
       "array([[20, 22, 24, 26, 28],\n",
       "       [30, 32, 34, 36, 38]])"
      ]
     },
     "execution_count": 33,
     "metadata": {},
     "output_type": "execute_result"
    }
   ],
   "source": [
    "# Change the array d to be a 2 X 5 array using reshape()\n",
    "d = d.reshape((2, 5))\n",
    "d"
   ]
  },
  {
   "cell_type": "code",
   "execution_count": 34,
   "metadata": {},
   "outputs": [
    {
     "data": {
      "text/plain": [
       "array([[0.   , 0.053, 0.105, 0.158],\n",
       "       [0.211, 0.263, 0.316, 0.368],\n",
       "       [0.421, 0.474, 0.526, 0.579],\n",
       "       [0.632, 0.684, 0.737, 0.789],\n",
       "       [0.842, 0.895, 0.947, 1.   ]])"
      ]
     },
     "execution_count": 34,
     "metadata": {},
     "output_type": "execute_result"
    }
   ],
   "source": [
    "# create an array of 20 values between 0 and 1 using linspace(). Reshape it to be 5X4\n",
    "np.linspace(0, 1, 20).reshape((5, 4))"
   ]
  },
  {
   "cell_type": "markdown",
   "metadata": {},
   "source": [
    "### ndarray Axes: many calculations need to specify the axis calculation happens\n",
    "- Dimensions of ndarrays are called axes, starting with 0\n",
    "- One-dimensional array has one axis: axis 0\n",
    "- Two-dimensional array has two axes: axis 0 and 1\n",
    "- Threee-dimensional array has three axes: axis 0, 1, and 2"
   ]
  },
  {
   "cell_type": "code",
   "execution_count": 19,
   "metadata": {},
   "outputs": [
    {
     "data": {
      "text/plain": [
       "array([[ 2.3,  4.5,  2.7,  9.1],\n",
       "       [12. ,  0.9,  7.8,  2.1],\n",
       "       [ 8.5, 71. ,  3.6,  8.8]])"
      ]
     },
     "execution_count": 19,
     "metadata": {},
     "output_type": "execute_result"
    }
   ],
   "source": [
    "arr = np.array([[2.3, 4.5, 2.7, 9.1], [12, 0.9, 7.8, 2.1], \n",
    "                [8.5, 71, 3.6, 8.8]])\n",
    "arr"
   ]
  },
  {
   "cell_type": "code",
   "execution_count": 30,
   "metadata": {},
   "outputs": [],
   "source": [
    "# Call sort() on arr without using any argument. Display the array. Along which axis is the sort done?\n"
   ]
  },
  {
   "cell_type": "code",
   "execution_count": 31,
   "metadata": {},
   "outputs": [],
   "source": [
    "# Call sort again with argument axis=0. Display the array, What axis does the sort happen?\n"
   ]
  },
  {
   "cell_type": "markdown",
   "metadata": {},
   "source": [
    "### Now You Try 3"
   ]
  },
  {
   "cell_type": "code",
   "execution_count": 33,
   "metadata": {},
   "outputs": [],
   "source": [
    "# Create a ndarray using np.arange(). Start value should be 50 \n",
    "# and stop value should be 550. Use 5 as the step value. Save it in array1 and display it\n"
   ]
  },
  {
   "cell_type": "code",
   "execution_count": 32,
   "metadata": {},
   "outputs": [],
   "source": [
    "# Print out the shape and dimension of the array\n"
   ]
  },
  {
   "cell_type": "code",
   "execution_count": 34,
   "metadata": {},
   "outputs": [],
   "source": [
    "# reshape array1 into a 2-dimensional 10x10 array using reshape(). Display it\n"
   ]
  },
  {
   "cell_type": "code",
   "execution_count": 35,
   "metadata": {},
   "outputs": [],
   "source": [
    "# Create a ndarray using np.linspace() between 0 and 1 with 9 values\n",
    "# reshape it into a 3X3 array. name it array2. Display it\n"
   ]
  },
  {
   "cell_type": "code",
   "execution_count": 36,
   "metadata": {},
   "outputs": [],
   "source": [
    "# Display the data type of array2\n"
   ]
  },
  {
   "cell_type": "markdown",
   "metadata": {},
   "source": [
    "## Random Number Generation\n",
    "1. random is a module in np. All the functions must be called using prefix np.random.\n",
    "1. Generate a float or an array of floats between 0 and 1: \\[0, 1) using rand()\n",
    "    - With no arguments, a random float number in the range is generated. \n",
    "    - With integers indicating number of elements in each dimension, an array with random floats is generated\n",
    "1. Generate random integers with randint(). All numbers in the range have equal chance to be returned. It can be considered a uniform probability distribution.\n",
    "    - In the range \\[0, n) by passing in one integer n\n",
    "    - In the range \\[low, high) by passing in two integers\n",
    "    - The shape of the array can be passed in as a tuple to the size argument. If it is omitted, only one number will be generated.\n",
    "1. Generate random floats from a normal distribution using normal(mean, stdev, size)\n",
    "    - First argument is mean\n",
    "    - Second argument is standard deviation\n",
    "    - Third argument size specifies the shape of the array to be generated\n",
    "    - If no argument is passed, a float will be randomly generated from a normal distribution with mean=0 and std=1.\n",
    "1. Generate random floats from a binomial distribution using binomial()\n",
    "    - First argument is number of trials \n",
    "    - Second argument is probability of success\n",
    "    - Third argument is number of random samples to draw or the shape of the array that will be created. \n",
    "1. Generate random floats from a uniform distribution with uniform()\n",
    "    - low: the lower boundary with default value 0, inclusive\n",
    "    - high: the higher boundary with default value 1, not inclusive\n",
    "    - size can be an integer or a tuple indicating the shape of the array generated\n",
    "1. seed(): specify the seed of the random number generator. If an integer is passed in, the random number generated can be replicated."
   ]
  },
  {
   "cell_type": "code",
   "execution_count": 37,
   "metadata": {},
   "outputs": [],
   "source": [
    "# Generate a Random Float number in the Range: [0, 1). Execute the cell a few times to see the randomness\n",
    "# Using rand() until you see another function must be used\n"
   ]
  },
  {
   "cell_type": "code",
   "execution_count": 38,
   "metadata": {},
   "outputs": [],
   "source": [
    "# Generate a 1-dimensional array of 4 random floats in the Range: [0, 1)\n"
   ]
  },
  {
   "cell_type": "code",
   "execution_count": 39,
   "metadata": {},
   "outputs": [],
   "source": [
    "# Generate a 2 X 3 array with random floats between 0 and 1. \n"
   ]
  },
  {
   "cell_type": "code",
   "execution_count": 40,
   "metadata": {},
   "outputs": [],
   "source": [
    "# Generate a 2X3 array with random numbers between 5 and 15. \n"
   ]
  },
  {
   "cell_type": "code",
   "execution_count": 41,
   "metadata": {},
   "outputs": [],
   "source": [
    "# Generate a random integer between [0, n) where n=10. Execute the cell a few times to see the randomness\n",
    "# Use randint()"
   ]
  },
  {
   "cell_type": "code",
   "execution_count": 42,
   "metadata": {},
   "outputs": [],
   "source": [
    "# Generate a random integer between 10 and 100\n"
   ]
  },
  {
   "cell_type": "code",
   "execution_count": 43,
   "metadata": {},
   "outputs": [],
   "source": [
    "# use random number generator to simulate tossing a coin 100 times. Save the result in a 10X10 array\n"
   ]
  },
  {
   "cell_type": "code",
   "execution_count": 45,
   "metadata": {},
   "outputs": [],
   "source": [
    "# generate a random float from a normal distribution with mean 0 and standard deviation 1\n",
    "# Use normal()\n"
   ]
  },
  {
   "cell_type": "code",
   "execution_count": 44,
   "metadata": {},
   "outputs": [],
   "source": [
    "# generate a random float from a normal distribution with mean 150 and standard deviation 30\n"
   ]
  },
  {
   "cell_type": "code",
   "execution_count": 46,
   "metadata": {},
   "outputs": [],
   "source": [
    "# generate a 2x2 array of random float from a normal distribution with mean 150 and standard deviation 30\n"
   ]
  },
  {
   "cell_type": "code",
   "execution_count": 47,
   "metadata": {},
   "outputs": [],
   "source": [
    "# Use set the random seed to be 123 to ensure the output reproducibility in this cell.\n",
    "# Get 5 numbers from a normal distribution with mean of 10 and standard deviation 1. \n",
    "# Execute the cell a few times to see whether the output changes\n"
   ]
  },
  {
   "cell_type": "markdown",
   "metadata": {},
   "source": [
    "### Now You Try 4"
   ]
  },
  {
   "cell_type": "code",
   "execution_count": 48,
   "metadata": {},
   "outputs": [],
   "source": [
    "# Create a ndarray with 3 rows and 4 columns filled with random numbers \n",
    "# from the standard normal distribution. Store it to 'normal_array' and display it\n",
    "# Note that a standard normal distribution has mean 0 and stdev 1\n",
    "# Run the code a couple times. Does the values in the array change?\n"
   ]
  },
  {
   "cell_type": "code",
   "execution_count": 49,
   "metadata": {},
   "outputs": [],
   "source": [
    "# Set the random seed to be 123. Create another ndarray (5X6) with random \n",
    "# integers between 300 and 500 named int_array. Display it\n",
    "# Run the code a couple times. Does the values in the array change?\n"
   ]
  },
  {
   "cell_type": "code",
   "execution_count": 50,
   "metadata": {},
   "outputs": [],
   "source": [
    "# Sort int_array by row and display it\n"
   ]
  },
  {
   "cell_type": "code",
   "execution_count": 51,
   "metadata": {},
   "outputs": [],
   "source": [
    "# Sort int_array by column and display it\n"
   ]
  },
  {
   "cell_type": "markdown",
   "metadata": {},
   "source": [
    "## Array Indexing and Slicing\n",
    "Use array indexing and slicing to get or set individual elements or a subset of elements from arrays. <b>Array slices are views, not copies. Any changes to the slice are done in the source array</b>.\n",
    "### One-dimensional array indexing and slicing\n",
    "Indexing and slicing for one-dimensional arrays work very similar to those of Python lists."
   ]
  },
  {
   "cell_type": "code",
   "execution_count": 58,
   "metadata": {},
   "outputs": [
    {
     "data": {
      "text/plain": [
       "array([6. , 7.5, 8. , 8. , 1. ])"
      ]
     },
     "execution_count": 58,
     "metadata": {},
     "output_type": "execute_result"
    }
   ],
   "source": [
    "# Create an one-dimensional array 'arr1' and have it displayed\n",
    "arr1 = np.array([6, 7.5, 8, 8, 1])\n",
    "arr1"
   ]
  },
  {
   "cell_type": "code",
   "execution_count": 52,
   "metadata": {},
   "outputs": [],
   "source": [
    "# Get the element at index 0\n"
   ]
  },
  {
   "cell_type": "code",
   "execution_count": 53,
   "metadata": {},
   "outputs": [],
   "source": [
    "# Get an array with elements at index 1 and 2 using slicing [start:stop:step] just like list slicing\n",
    "# Note that the ending index value is not included in the returned value\n"
   ]
  },
  {
   "cell_type": "code",
   "execution_count": 54,
   "metadata": {},
   "outputs": [],
   "source": [
    "# Get an array with items from index 2 on using slicing\n"
   ]
  },
  {
   "cell_type": "code",
   "execution_count": 55,
   "metadata": {},
   "outputs": [],
   "source": [
    "# Get an array with items from the first to the one before the end using slicing\n"
   ]
  },
  {
   "cell_type": "code",
   "execution_count": 56,
   "metadata": {},
   "outputs": [],
   "source": [
    "# Get an array with every other item using slicing\n"
   ]
  },
  {
   "cell_type": "code",
   "execution_count": 57,
   "metadata": {},
   "outputs": [],
   "source": [
    "# Get an array in reverse order of arr1 using slicing\n"
   ]
  },
  {
   "cell_type": "code",
   "execution_count": 58,
   "metadata": {},
   "outputs": [],
   "source": [
    "# Get an array with all the items using slicing\n"
   ]
  },
  {
   "cell_type": "code",
   "execution_count": 59,
   "metadata": {},
   "outputs": [],
   "source": [
    "# Set the values of the 3rd and 4th to 100\n"
   ]
  },
  {
   "cell_type": "markdown",
   "metadata": {},
   "source": [
    "### Two-dimensional array indexing and slicing\n",
    "Similar to that of nested lists. Two indexing or slicing expressions are needed to specify rows and columns respectively seperated by comma"
   ]
  },
  {
   "cell_type": "code",
   "execution_count": 67,
   "metadata": {},
   "outputs": [
    {
     "data": {
      "text/plain": [
       "array([[122.074, 105.227, 104.656, 107.249],\n",
       "       [114.958, 107.466,  88.99 ,  85.897],\n",
       "       [ 92.523,  90.151,  92.514, 102.404],\n",
       "       [ 81.444,  82.205,  72.498,  97.658],\n",
       "       [ 93.04 ,  82.259, 123.616, 100.35 ]])"
      ]
     },
     "execution_count": 67,
     "metadata": {},
     "output_type": "execute_result"
    }
   ],
   "source": [
    "# Work on 2-dimensional arrays. Create a 5X4 array with random values from \n",
    "# a normal distribution with mean 100 and std 10. Save it to 'arr2d' and display it\n",
    "arr2d = np.random.normal(100, 10, size=(5, 4))\n",
    "arr2d"
   ]
  },
  {
   "cell_type": "code",
   "execution_count": 60,
   "metadata": {},
   "outputs": [],
   "source": [
    "# get the third row of arr2d using indexing\n"
   ]
  },
  {
   "cell_type": "code",
   "execution_count": 62,
   "metadata": {},
   "outputs": [],
   "source": [
    "# get the first 3 rows of arr2d using slicing\n"
   ]
  },
  {
   "cell_type": "code",
   "execution_count": 63,
   "metadata": {},
   "outputs": [],
   "source": [
    "# get the 3rd and 4th rows using slicing\n"
   ]
  },
  {
   "cell_type": "code",
   "execution_count": 64,
   "metadata": {},
   "outputs": [],
   "source": [
    "# get the element in the third row and 3rd column of arr2d using indexing\n"
   ]
  },
  {
   "cell_type": "code",
   "execution_count": 65,
   "metadata": {},
   "outputs": [],
   "source": [
    "# get the second column of arr2d. Note that rows returned must be specified before the column is specified\n"
   ]
  },
  {
   "cell_type": "code",
   "execution_count": 66,
   "metadata": {},
   "outputs": [],
   "source": [
    "# get the middle 6 elements using slicing. Find out what rows and columns are needed first\n"
   ]
  },
  {
   "cell_type": "code",
   "execution_count": 67,
   "metadata": {},
   "outputs": [],
   "source": [
    "# set the middle 2 elements of the last row to be 5 and display it. First decide the indexes for rows and columns\n"
   ]
  },
  {
   "cell_type": "markdown",
   "metadata": {},
   "source": [
    "### Now You Try 5\n",
    "Complete the questions on the PPT first"
   ]
  },
  {
   "cell_type": "code",
   "execution_count": 68,
   "metadata": {},
   "outputs": [],
   "source": [
    "# Get the first row in arr2d\n"
   ]
  },
  {
   "cell_type": "code",
   "execution_count": 69,
   "metadata": {},
   "outputs": [],
   "source": [
    "# Get the first row as a two-dimensional array with shape (1, 4)\n"
   ]
  },
  {
   "cell_type": "code",
   "execution_count": 70,
   "metadata": {},
   "outputs": [],
   "source": [
    "# Get the first column of arr2d\n"
   ]
  },
  {
   "cell_type": "markdown",
   "metadata": {},
   "source": [
    "### Boolean Indexing\n",
    "Use a Boolean array as a mask to filter out the elements to be returned. <b> A copy, instead of a view of the array is returned. </b>\n",
    "\n",
    "    - Boolean array should be passed in the index operator [] when indexing the array\n",
    "    - The Boolean array must be of the same length of the axis it is indexing\n",
    "    - The Boolean array indexing can also be mixed with slicers or indexers\n",
    "    - == means equal to\n",
    "    - != means not equal to\n",
    "    - ~ means not\n",
    "    - & means and\n",
    "    - | means or\n",
    "    - When linking conditions with &, ~, or |, conditions on both sides must be included in ()."
   ]
  },
  {
   "cell_type": "code",
   "execution_count": 14,
   "metadata": {},
   "outputs": [],
   "source": [
    "# 3 arrays are created from Python lists\n",
    "names = np.array(['John', 'Christine', 'Joy', 'Grace', 'Tom'])\n",
    "colors = np.array(['red', 'blue', 'green', 'red', 'white'])\n",
    "genders = np.array(['male', 'female', 'female', 'female', 'male'])"
   ]
  },
  {
   "cell_type": "code",
   "execution_count": 71,
   "metadata": {},
   "outputs": [],
   "source": [
    "# get a boolean array for colors not white using !=\n"
   ]
  },
  {
   "cell_type": "code",
   "execution_count": 72,
   "metadata": {},
   "outputs": [],
   "source": [
    "# get a boolean array for colors red or green using == and |\n"
   ]
  },
  {
   "cell_type": "code",
   "execution_count": 73,
   "metadata": {},
   "outputs": [],
   "source": [
    "# get a boolean array for colors blue and black using == and &\n"
   ]
  },
  {
   "cell_type": "code",
   "execution_count": 74,
   "metadata": {},
   "outputs": [],
   "source": [
    "# get a boolean array for colors not red using == and ~\n"
   ]
  },
  {
   "cell_type": "code",
   "execution_count": 75,
   "metadata": {},
   "outputs": [],
   "source": [
    "# Get the names whose favorite color is red by passing the boolean array to []\n"
   ]
  },
  {
   "cell_type": "code",
   "execution_count": 76,
   "metadata": {},
   "outputs": [],
   "source": [
    "# Get the names of females who don't like green. In [], you should have 2 conditions\n"
   ]
  },
  {
   "cell_type": "code",
   "execution_count": 77,
   "metadata": {},
   "outputs": [],
   "source": [
    "# Generate a 5x4 2-dimensional array for further indexing example\n"
   ]
  },
  {
   "cell_type": "code",
   "execution_count": 78,
   "metadata": {},
   "outputs": [],
   "source": [
    "# get rows corresponding to color red. This is possible because the array has 5 rows and there are 5 items in colors \n"
   ]
  },
  {
   "cell_type": "code",
   "execution_count": 79,
   "metadata": {},
   "outputs": [],
   "source": [
    "# Get the data that matches color blue and returns only the first 3 columns. Combine boolean indexing and slicing\n"
   ]
  },
  {
   "cell_type": "code",
   "execution_count": 80,
   "metadata": {},
   "outputs": [],
   "source": [
    "# Get a boolean array by checking elements in color_data > 2. Save it to bool_arr and display\n",
    "\n"
   ]
  },
  {
   "cell_type": "code",
   "execution_count": 81,
   "metadata": {},
   "outputs": [],
   "source": [
    "# Set the elements of color_data to be 0 when the value is < 10 using boolean indexing\n"
   ]
  },
  {
   "cell_type": "markdown",
   "metadata": {},
   "source": [
    "### Now You Try 6"
   ]
  },
  {
   "cell_type": "code",
   "execution_count": 82,
   "metadata": {},
   "outputs": [],
   "source": [
    "# Use the names, colors and genders arrays created above, get\n",
    "# names that are male and favors either red or green\n"
   ]
  },
  {
   "cell_type": "code",
   "execution_count": 83,
   "metadata": {},
   "outputs": [],
   "source": [
    "# Create an array with random numbers and display it. It's possible that the random generated array has no values\n",
    "# between -0.5 and 0. Run the code a few times to get values in the range\n"
   ]
  },
  {
   "cell_type": "code",
   "execution_count": 84,
   "metadata": {},
   "outputs": [],
   "source": [
    "# Set all values less than 0 and greater than or equalto -0.5 to be 0 using Boolean index. Print the array \n"
   ]
  },
  {
   "cell_type": "markdown",
   "metadata": {},
   "source": [
    "## Math and Stats in Numpy\n",
    "1. Arithematic calculations such as +, -, *, and / etc. between arrays with the same shape are done element-wise\n",
    "    - element-wise: the operation is conducted on elements of the arrays in the same position. The result is placed at the position in the new array.\n",
    "1. Calculation between array and a scalar (a number) is element-wise\n",
    "1. No loops are needed for this type of calculation. This is called vectorization\n",
    "1. Calculation using math functions is conducted element-wise without the need to loop, in a vectorized way. Treat arrays like numbers using these functions: abs, exp, log, log10, ceil, floor, add, multiply, minimum, modf, etc. More about ufuncs can be found here: https://numpy.org/doc/stable/reference/ufuncs.html#math-operations\n",
    "1. Stats functions: sum(), mean(), std(), min(), max(), cumprod(), etc.\n",
    "    - Can be done for all elements in an array when no argument is passed in\n",
    "    - Can be done along an axis. If the axis = 0, the summary stats by columns is returned. To get row statistics, pass in axis = 1."
   ]
  },
  {
   "cell_type": "code",
   "execution_count": 137,
   "metadata": {},
   "outputs": [
    {
     "data": {
      "text/plain": [
       "array([[201.662, 198.408, 204.132, 199.57 ],\n",
       "       [200.061, 199.418, 200.402, 202.113],\n",
       "       [201.997, 197.305, 204.571, 196.715]])"
      ]
     },
     "execution_count": 137,
     "metadata": {},
     "output_type": "execute_result"
    }
   ],
   "source": [
    "arr = np.random.normal(200, 3, size=(3, 4))\n",
    "arr"
   ]
  },
  {
   "cell_type": "code",
   "execution_count": 93,
   "metadata": {},
   "outputs": [
    {
     "data": {
      "text/plain": [
       "array([[ 0.,  1.,  2.,  3.],\n",
       "       [ 4.,  5.,  6.,  7.],\n",
       "       [ 8.,  9., 10., 11.]])"
      ]
     },
     "execution_count": 93,
     "metadata": {},
     "output_type": "execute_result"
    }
   ],
   "source": [
    "arr2 = np.linspace(0, 11, 12).reshape(3, 4)\n",
    "arr2"
   ]
  },
  {
   "cell_type": "code",
   "execution_count": 87,
   "metadata": {},
   "outputs": [],
   "source": [
    "# Multiple the corresponding elements of arr and arr2 and have a new 3X4 array \n"
   ]
  },
  {
   "cell_type": "code",
   "execution_count": 86,
   "metadata": {},
   "outputs": [],
   "source": [
    "# Add 5 to each element of arr2\n"
   ]
  },
  {
   "cell_type": "code",
   "execution_count": 85,
   "metadata": {},
   "outputs": [],
   "source": [
    "# Calculate log10 of the elements in arr using np.log10()\n"
   ]
  },
  {
   "cell_type": "code",
   "execution_count": 88,
   "metadata": {},
   "outputs": [],
   "source": [
    "# Get the quotient and remainder of the arr using np.modf(), which returns 2 values\n"
   ]
  },
  {
   "cell_type": "code",
   "execution_count": 89,
   "metadata": {},
   "outputs": [],
   "source": [
    "# Use np.add() to add corresponding elements of arr and arr2 \n"
   ]
  },
  {
   "cell_type": "code",
   "execution_count": 90,
   "metadata": {},
   "outputs": [],
   "source": [
    "# Get the mean of arr. Note the difference using an axis argument or not and the values axis argument takes\n"
   ]
  },
  {
   "cell_type": "code",
   "execution_count": 91,
   "metadata": {},
   "outputs": [],
   "source": [
    "# Get the means of arr by columns\n"
   ]
  },
  {
   "cell_type": "code",
   "execution_count": 92,
   "metadata": {},
   "outputs": [],
   "source": [
    "# Get the means of arr by rows\n"
   ]
  },
  {
   "cell_type": "code",
   "execution_count": 93,
   "metadata": {},
   "outputs": [],
   "source": [
    "# Get min of arr by rows\n"
   ]
  },
  {
   "cell_type": "code",
   "execution_count": 94,
   "metadata": {},
   "outputs": [],
   "source": [
    "# Get the cumulative sum or arr along columns using cumsum()\n"
   ]
  },
  {
   "cell_type": "markdown",
   "metadata": {},
   "source": [
    "### Now You Try 7"
   ]
  },
  {
   "cell_type": "code",
   "execution_count": 95,
   "metadata": {},
   "outputs": [],
   "source": [
    "# Create a ndarray with 20 random integers from 1 to 10. Set the shape \n",
    "# to be 4X5. Name it my_array and display it\n"
   ]
  },
  {
   "cell_type": "code",
   "execution_count": 96,
   "metadata": {},
   "outputs": [],
   "source": [
    "# Multiply all elements of my_array by 2\n"
   ]
  },
  {
   "cell_type": "code",
   "execution_count": 97,
   "metadata": {},
   "outputs": [],
   "source": [
    "# Get the mean and standard deviation of all the values in my_array and print them out\n"
   ]
  },
  {
   "cell_type": "code",
   "execution_count": 98,
   "metadata": {},
   "outputs": [],
   "source": [
    "# Get the row means and column means of my_array and print them out respectively\n"
   ]
  },
  {
   "cell_type": "code",
   "execution_count": 99,
   "metadata": {},
   "outputs": [],
   "source": [
    "# Get the square root of each element, save the result to sqrt_array and display it\n"
   ]
  },
  {
   "cell_type": "code",
   "execution_count": 100,
   "metadata": {},
   "outputs": [],
   "source": [
    "# Add my_array and sqrt_array\n"
   ]
  },
  {
   "cell_type": "markdown",
   "metadata": {},
   "source": [
    "## Numpy where\n",
    "np.where(condition, x, y) can be used to modify an array based on a condition. The condition is checked on each element, the element will be set as x if the condition is true and y otherwise. It takes 3 arguments: condition, x and y. "
   ]
  },
  {
   "cell_type": "code",
   "execution_count": 143,
   "metadata": {},
   "outputs": [
    {
     "data": {
      "text/plain": [
       "array([[-0.611, -0.392,  0.14 ],\n",
       "       [ 0.093,  1.46 ,  1.395],\n",
       "       [-0.359, -0.549, -2.557]])"
      ]
     },
     "execution_count": 143,
     "metadata": {},
     "output_type": "execute_result"
    }
   ],
   "source": [
    "# Create a random array to be used \n",
    "arr = np.random.normal(0, 1, (3, 3))\n",
    "arr"
   ]
  },
  {
   "cell_type": "code",
   "execution_count": 101,
   "metadata": {},
   "outputs": [],
   "source": [
    "# Set the element to be 2 if it is greater than 0. Otherwise, set it to -2\n"
   ]
  },
  {
   "cell_type": "code",
   "execution_count": 102,
   "metadata": {},
   "outputs": [],
   "source": [
    "# Set the element to be 2 if it is greater than 0. Otherwise, don't change it's value\n"
   ]
  },
  {
   "cell_type": "markdown",
   "metadata": {},
   "source": [
    "### Now You Try 8"
   ]
  },
  {
   "cell_type": "code",
   "execution_count": 103,
   "metadata": {},
   "outputs": [],
   "source": [
    "# Create a 3 X 6 array 'temp1' with values from a normal distribution where\n",
    "# the mean is 10 and standard dev is 5. \n"
   ]
  },
  {
   "cell_type": "code",
   "execution_count": 104,
   "metadata": {},
   "outputs": [],
   "source": [
    "# Create another 3 X 6 array temp2 with values of random integers from 0 to 10. \n"
   ]
  },
  {
   "cell_type": "code",
   "execution_count": 105,
   "metadata": {},
   "outputs": [],
   "source": [
    "# Use np.where to set values of temp1 to be corresponding values of temp2 if those \n",
    "# in temp1 are greater than the mean of temp1. Otherwise, keep the value unchanged\n"
   ]
  }
 ],
 "metadata": {
  "kernelspec": {
   "display_name": "Python 3",
   "language": "python",
   "name": "python3"
  },
  "language_info": {
   "codemirror_mode": {
    "name": "ipython",
    "version": 3
   },
   "file_extension": ".py",
   "mimetype": "text/x-python",
   "name": "python",
   "nbconvert_exporter": "python",
   "pygments_lexer": "ipython3",
   "version": "3.8.8"
  }
 },
 "nbformat": 4,
 "nbformat_minor": 2
}
