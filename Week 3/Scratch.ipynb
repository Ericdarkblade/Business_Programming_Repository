{
 "cells": [
  {
   "cell_type": "code",
   "execution_count": 7,
   "metadata": {},
   "outputs": [
    {
     "ename": "AttributeError",
     "evalue": "module 'math' has no attribute 'abs'",
     "output_type": "error",
     "traceback": [
      "\u001b[1;31m---------------------------------------------------------------------------\u001b[0m",
      "\u001b[1;31mAttributeError\u001b[0m                            Traceback (most recent call last)",
      "Cell \u001b[1;32mIn[7], line 35\u001b[0m\n\u001b[0;32m     31\u001b[0m     \u001b[39mprint\u001b[39m(\u001b[39mf\u001b[39m\u001b[39m\"\u001b[39m\u001b[39mThe change in elevation is \u001b[39m\u001b[39m{\u001b[39;00mElevationChangeFeet\u001b[39m:\u001b[39;00m\u001b[39m.1f\u001b[39m\u001b[39m}\u001b[39;00m\u001b[39m feet.\u001b[39m\u001b[39m\"\u001b[39m)\n\u001b[0;32m     34\u001b[0m \u001b[39mif\u001b[39;00m \u001b[39m__name__\u001b[39m \u001b[39m==\u001b[39m \u001b[39m'\u001b[39m\u001b[39m__main__\u001b[39m\u001b[39m'\u001b[39m:\n\u001b[1;32m---> 35\u001b[0m     main()\n",
      "Cell \u001b[1;32mIn[7], line 15\u001b[0m, in \u001b[0;36mmain\u001b[1;34m()\u001b[0m\n\u001b[0;32m     11\u001b[0m LongitudeTwo \u001b[39m=\u001b[39m \u001b[39mfloat\u001b[39m(\n\u001b[0;32m     12\u001b[0m     \u001b[39minput\u001b[39m(\u001b[39m\"\u001b[39m\u001b[39mEnter the longitude of the second location: \u001b[39m\u001b[39m\"\u001b[39m)\u001b[39m.\u001b[39mstrip())\n\u001b[0;32m     13\u001b[0m Angle \u001b[39m=\u001b[39m \u001b[39mfloat\u001b[39m(\u001b[39minput\u001b[39m(\u001b[39m\"\u001b[39m\u001b[39mEnter the angle measure in degrees: \u001b[39m\u001b[39m\"\u001b[39m)\u001b[39m.\u001b[39mstrip())\n\u001b[1;32m---> 15\u001b[0m LatitudeDifference \u001b[39m=\u001b[39m m\u001b[39m.\u001b[39mabs(LatitudeTwo\u001b[39m-\u001b[39mLatitudeOne)\n\u001b[0;32m     16\u001b[0m LongitudeDiffernce \u001b[39m=\u001b[39m m\u001b[39m.\u001b[39mabs(LongitudeTwo\u001b[39m-\u001b[39mLongitudeOne)\n\u001b[0;32m     17\u001b[0m \u001b[39m# Converts longitude to miles\u001b[39;00m\n",
      "\u001b[1;31mAttributeError\u001b[0m: module 'math' has no attribute 'abs'"
     ]
    }
   ],
   "source": [
    "def main():\n",
    "    import math as m\n",
    "\n",
    "    LatitudeOne = float(\n",
    "        input(\"Enter the latitude of the first location: \").strip())\n",
    "    LongitudeOne = float(\n",
    "        input(\"Enter the longitude of the first location: \").strip())\n",
    "    # Longitude and Latitude inputs and angle of elevation\n",
    "    LatitudeTwo = float(\n",
    "        input(\"Enter the latitude of the second location: \").strip())\n",
    "    LongitudeTwo = float(\n",
    "        input(\"Enter the longitude of the second location: \").strip())\n",
    "    Angle = float(input(\"Enter the angle measure in degrees: \").strip())\n",
    "\n",
    "    LatitudeDifference = m.abs(LatitudeTwo-LatitudeOne)\n",
    "    LongitudeDiffernce = m.abs(LongitudeTwo-LongitudeOne)\n",
    "    # Converts longitude to miles\n",
    "    LongitudeConversion = 69.172 * \\\n",
    "        m.cos(m.radians((LatitudeTwo*.5+LatitudeOne*.5)))\n",
    "\n",
    "    # Latitude*69 converts latitude to miles    #Calculates the slope distance\n",
    "    SlopeDistanceMiles = m.sqrt(\n",
    "        (LatitudeDifference*69)**2+(LongitudeDiffernce*LongitudeConversion)**2)\n",
    "    # Converts slope distance from miles to feet\n",
    "    SlopeDistanceFeet = SlopeDistanceMiles*5280\n",
    "    ElevationChangeFeet = SlopeDistanceFeet * \\\n",
    "        m.tan(m.radians(Angle))  # Calculates elevation change in feet\n",
    "\n",
    "    print(f\"The slope distance is {SlopeDistanceFeet:.1f} feet.\")\n",
    "    # Prints outputs\n",
    "    print(f\"The change in elevation is {ElevationChangeFeet:.1f} feet.\")\n",
    "\n",
    "\n",
    "if __name__ == '__main__':\n",
    "    main()"
   ]
  },
  {
   "cell_type": "code",
   "execution_count": 12,
   "metadata": {},
   "outputs": [
    {
     "name": "stdout",
     "output_type": "stream",
     "text": [
      "The slope distance is 347.4 feet.\n",
      "The change in elevation is 30.0 feet.\n",
      "\n"
     ]
    }
   ],
   "source": [
    "def main_test():\n",
    "    import math as m\n",
    "\n",
    "    LatitudeOne = 40.431968\n",
    "    LongitudeOne = -86.922644\n",
    "    # Longitude and Latitude inputs and angle of elevation\n",
    "    LatitudeTwo = 40.432703\n",
    "    LongitudeTwo = -86.92344\n",
    "    Angle = 4.93\n",
    "\n",
    "    LatitudeDifference = abs(LatitudeTwo-LatitudeOne)\n",
    "    LongitudeDiffernce = abs(LongitudeTwo-LongitudeOne)\n",
    "    # Converts longitude to miles\n",
    "    LongitudeConversion = 69.172 * \\\n",
    "        m.cos(m.radians((LatitudeTwo*.5+LatitudeOne*.5)))\n",
    "\n",
    "    # Latitude*69 converts latitude to miles    #Calculates the slope distance\n",
    "    SlopeDistanceMiles = m.sqrt(\n",
    "        (LatitudeDifference*69)**2+(LongitudeDiffernce*LongitudeConversion)**2)\n",
    "    # Converts slope distance from miles to feet\n",
    "    SlopeDistanceFeet = SlopeDistanceMiles*5280\n",
    "    ElevationChangeFeet = SlopeDistanceFeet * \\\n",
    "        m.tan(m.radians(Angle))  # Calculates elevation change in feet\n",
    "\n",
    "    print(f\"The slope distance is {SlopeDistanceFeet:.1f} feet.\")\n",
    "    # Prints outputs\n",
    "    print(f\"The change in elevation is {ElevationChangeFeet:.1f} feet.\")\n",
    "\n",
    "\n",
    "if __name__ == '__main__':\n",
    "    main_test()\n",
    "print(\"\")"
   ]
  },
  {
   "cell_type": "markdown",
   "metadata": {},
   "source": [
    "Enter the latitude of the first location:  40.431968\n",
    "Enter the longitude of the first location: -86.922644\n",
    "Enter the latitude of the second location:  40.432703\n",
    "Enter the longitude of the second location: -86.92344\n",
    "Enter the angle measure in degrees: 4.93\n",
    "The slope distance is 347.4 feet. //348.7\n",
    "The change in elevation is 30.0 feet. //30.00\n"
   ]
  }
 ],
 "metadata": {
  "kernelspec": {
   "display_name": "base",
   "language": "python",
   "name": "python3"
  },
  "language_info": {
   "codemirror_mode": {
    "name": "ipython",
    "version": 3
   },
   "file_extension": ".py",
   "mimetype": "text/x-python",
   "name": "python",
   "nbconvert_exporter": "python",
   "pygments_lexer": "ipython3",
   "version": "3.11.3"
  },
  "orig_nbformat": 4
 },
 "nbformat": 4,
 "nbformat_minor": 2
}
