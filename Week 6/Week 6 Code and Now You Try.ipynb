{
 "cells": [
  {
   "cell_type": "markdown",
   "metadata": {},
   "source": [
    "# Week 6 Code and Now You Try - String and Datetime\n",
    "## String"
   ]
  },
  {
   "cell_type": "code",
   "execution_count": 260,
   "metadata": {},
   "outputs": [
    {
     "name": "stderr",
     "output_type": "stream",
     "text": [
      "C:\\Users\\ezmos\\AppData\\Local\\Temp\\ipykernel_27112\\2720815156.py:2: DeprecationWarning: Importing display from IPython.core.display is deprecated since IPython 7.14, please import from IPython display\n",
      "  from IPython.core.display import display, HTML\n"
     ]
    },
    {
     "data": {
      "text/html": [
       "<style>.container { width:100% !important; }</style>"
      ],
      "text/plain": [
       "<IPython.core.display.HTML object>"
      ]
     },
     "metadata": {},
     "output_type": "display_data"
    }
   ],
   "source": [
    "# This cell is for wide display and better use of screen space\n",
    "from IPython.core.display import display, HTML\n",
    "display(HTML(\"<style>.container { width:100% !important; }</style>\"))"
   ]
  },
  {
   "cell_type": "markdown",
   "metadata": {},
   "source": [
    "### String indexing and slicing"
   ]
  },
  {
   "cell_type": "code",
   "execution_count": 261,
   "metadata": {},
   "outputs": [
    {
     "data": {
      "text/plain": [
       "'a'"
      ]
     },
     "execution_count": 261,
     "metadata": {},
     "output_type": "execute_result"
    }
   ],
   "source": [
    "# Declare a variable fruit with value \"banana\"\n",
    "fruit = 'banana'\n",
    "# get the letter with index 1 and save it to variable letter. print it out\n",
    "# Think about how the characters in a string are labelled and accessed through the labels\n",
    "letter = fruit[1]\n",
    "letter"
   ]
  },
  {
   "cell_type": "code",
   "execution_count": 262,
   "metadata": {},
   "outputs": [
    {
     "data": {
      "text/plain": [
       "'n'"
      ]
     },
     "execution_count": 262,
     "metadata": {},
     "output_type": "execute_result"
    }
   ],
   "source": [
    "# set a variable x to be 3. Set another variable w to be the char at index x subtract 1\n",
    "# Print w. Know tha index could be a literal, variable and expression\n",
    "\n",
    "x = 3\n",
    "w = fruit[x - 1]\n",
    "w"
   ]
  },
  {
   "cell_type": "code",
   "execution_count": 263,
   "metadata": {},
   "outputs": [
    {
     "name": "stdout",
     "output_type": "stream",
     "text": [
      "s[6:7]   =  P\n",
      "s[0:4]   =  Mont\n",
      "s[6:20]  =  Python\n",
      "s[:]     =  Monty Python\n",
      "s[::2]   =  MnyPto\n",
      "s[-6:-2] =  Pyth\n"
     ]
    }
   ],
   "source": [
    "# Practice string slicing by uncommenting each line below\n",
    "s = 'Monty Python'\n",
    "print(\"s[6:7]   = \", s[6:7])\n",
    "print(\"s[0:4]   = \", s[0:4])\n",
    "print(\"s[6:20]  = \", s[6:20])\n",
    "print(\"s[:]     = \", s[:])\n",
    "print(\"s[::2]   = \", s[::2])\n",
    "print(\"s[-6:-2] = \", s[-6:-2])"
   ]
  },
  {
   "cell_type": "markdown",
   "metadata": {},
   "source": [
    "### String length and \"in\" operator"
   ]
  },
  {
   "cell_type": "code",
   "execution_count": 264,
   "metadata": {},
   "outputs": [],
   "source": [
    "string = \"Hello\""
   ]
  },
  {
   "cell_type": "code",
   "execution_count": 265,
   "metadata": {},
   "outputs": [
    {
     "data": {
      "text/plain": [
       "5"
      ]
     },
     "execution_count": 265,
     "metadata": {},
     "output_type": "execute_result"
    }
   ],
   "source": [
    "# Get the number of characters in string\n",
    "len(string)"
   ]
  },
  {
   "cell_type": "code",
   "execution_count": 266,
   "metadata": {},
   "outputs": [],
   "source": [
    "# Get the value at index -6\n",
    "# string[-6]\n",
    "# Commenting out so run all works\n",
    "\n",
    "# Index out of bounds, which makes sense, but this may be different from previous versions of python."
   ]
  },
  {
   "cell_type": "code",
   "execution_count": 267,
   "metadata": {},
   "outputs": [
    {
     "data": {
      "text/plain": [
       "True"
      ]
     },
     "execution_count": 267,
     "metadata": {},
     "output_type": "execute_result"
    }
   ],
   "source": [
    "# Given the string fruit, check if character 'n' is in fruit\n",
    "fruit = 'banana'\n",
    "\n",
    "\"n\" in fruit"
   ]
  },
  {
   "cell_type": "code",
   "execution_count": 268,
   "metadata": {},
   "outputs": [
    {
     "data": {
      "text/plain": [
       "False"
      ]
     },
     "execution_count": 268,
     "metadata": {},
     "output_type": "execute_result"
    }
   ],
   "source": [
    "# check if character 'm' is in fruit\n",
    "\"m\" in fruit"
   ]
  },
  {
   "cell_type": "code",
   "execution_count": 269,
   "metadata": {},
   "outputs": [
    {
     "data": {
      "text/plain": [
       "True"
      ]
     },
     "execution_count": 269,
     "metadata": {},
     "output_type": "execute_result"
    }
   ],
   "source": [
    "# Check if 'nan' is in fruit\n",
    "\n",
    "\"nan\" in fruit"
   ]
  },
  {
   "cell_type": "code",
   "execution_count": 270,
   "metadata": {},
   "outputs": [
    {
     "name": "stdout",
     "output_type": "stream",
     "text": [
      "Found it\n"
     ]
    }
   ],
   "source": [
    "# Use in to check if letter 'a' is in fruit, if so, print: Found it\n",
    "# This is the show you how in can be used to form a condition in if\n",
    "if 'a' in fruit:\n",
    "    print(\"Found it\")"
   ]
  },
  {
   "cell_type": "markdown",
   "metadata": {},
   "source": [
    "### String comparision"
   ]
  },
  {
   "cell_type": "code",
   "execution_count": 271,
   "metadata": {},
   "outputs": [
    {
     "name": "stdout",
     "output_type": "stream",
     "text": [
      "Your word, j, comes after banana.\n"
     ]
    }
   ],
   "source": [
    "# Run the following code, Use Banana as input. What do you get?\n",
    "word = input(\"Enter a word \")\n",
    "if word == 'banana':\n",
    "    print('All right, bananas.')\n",
    "elif word < 'banana':\n",
    "    print('Your word, ' + word + ', comes before banana.')\n",
    "else:\n",
    "    print('Your word, ' + word + ', comes after banana.')"
   ]
  },
  {
   "cell_type": "code",
   "execution_count": 272,
   "metadata": {},
   "outputs": [
    {
     "data": {
      "text/plain": [
       "False"
      ]
     },
     "execution_count": 272,
     "metadata": {},
     "output_type": "execute_result"
    }
   ],
   "source": [
    "# What do you get with the following?\n",
    "\"11\" > \"2\""
   ]
  },
  {
   "cell_type": "code",
   "execution_count": 273,
   "metadata": {},
   "outputs": [
    {
     "name": "stdout",
     "output_type": "stream",
     "text": [
      "! =  33\n",
      "* =  42\n"
     ]
    },
    {
     "data": {
      "text/plain": [
       "False"
      ]
     },
     "execution_count": 273,
     "metadata": {},
     "output_type": "execute_result"
    }
   ],
   "source": [
    "# What do you get with this line of code? How does Python make such decision?\n",
    "\n",
    "# is a comparison of the ascii characters\n",
    "\n",
    "print('! = ', ord('!'))\n",
    "print('* = ', ord('*'))\n",
    "\"!\" > \"*\""
   ]
  },
  {
   "cell_type": "markdown",
   "metadata": {},
   "source": [
    "### Methods checking string characteristics"
   ]
  },
  {
   "cell_type": "code",
   "execution_count": 274,
   "metadata": {},
   "outputs": [
    {
     "data": {
      "text/plain": [
       "True"
      ]
     },
     "execution_count": 274,
     "metadata": {},
     "output_type": "execute_result"
    }
   ],
   "source": [
    "# find a method from Slide 14 to check whether \"\\n\" is a space.\n",
    "'\\n'.isspace()"
   ]
  },
  {
   "cell_type": "code",
   "execution_count": 275,
   "metadata": {},
   "outputs": [
    {
     "data": {
      "text/plain": [
       "True"
      ]
     },
     "execution_count": 275,
     "metadata": {},
     "output_type": "execute_result"
    }
   ],
   "source": [
    "# find a method from Slide 14 to check whether \"abc\" is a string with letters and digits only.\n",
    "'abc'.isalnum()"
   ]
  },
  {
   "cell_type": "code",
   "execution_count": 276,
   "metadata": {},
   "outputs": [
    {
     "data": {
      "text/plain": [
       "False"
      ]
     },
     "execution_count": 276,
     "metadata": {},
     "output_type": "execute_result"
    }
   ],
   "source": [
    "# find a method from Slide 14 to check whether \" \" (a space) is a string with letters and digits only.\n",
    "' '.isalnum()"
   ]
  },
  {
   "cell_type": "code",
   "execution_count": 277,
   "metadata": {},
   "outputs": [
    {
     "data": {
      "text/plain": [
       "False"
      ]
     },
     "execution_count": 277,
     "metadata": {},
     "output_type": "execute_result"
    }
   ],
   "source": [
    "# find a method from Slide 14 to check whether \"111\" is a string with letters only.\n",
    "'111'.isalpha()"
   ]
  },
  {
   "cell_type": "code",
   "execution_count": 278,
   "metadata": {},
   "outputs": [
    {
     "data": {
      "text/plain": [
       "True"
      ]
     },
     "execution_count": 278,
     "metadata": {},
     "output_type": "execute_result"
    }
   ],
   "source": [
    "# find a method from Slide 14 to check whether \"111\" is a string with digits only.\n",
    "'111'.isdigit()"
   ]
  },
  {
   "cell_type": "code",
   "execution_count": 279,
   "metadata": {},
   "outputs": [
    {
     "data": {
      "text/plain": [
       "True"
      ]
     },
     "execution_count": 279,
     "metadata": {},
     "output_type": "execute_result"
    }
   ],
   "source": [
    "# find a method from Slide 14 to check whether \"ABC\" is a string with upper case letters only.\n",
    "\"ABC\".isupper()"
   ]
  },
  {
   "cell_type": "code",
   "execution_count": 280,
   "metadata": {},
   "outputs": [
    {
     "data": {
      "text/plain": [
       "True"
      ]
     },
     "execution_count": 280,
     "metadata": {},
     "output_type": "execute_result"
    }
   ],
   "source": [
    "# find a method from Slide 14 to check whether string \"\\n\\t\" is a space.\n",
    "\"\\n\\t\".isspace()"
   ]
  },
  {
   "cell_type": "markdown",
   "metadata": {},
   "source": [
    "### Methods transforming strings"
   ]
  },
  {
   "cell_type": "code",
   "execution_count": 281,
   "metadata": {},
   "outputs": [
    {
     "name": "stdout",
     "output_type": "stream",
     "text": [
      "    It's up the stairs to the right around the corner  \n"
     ]
    }
   ],
   "source": [
    "# Declare a variable containing a string with leading and trailing spaces\n",
    "poem = \"    It's up the stairs to the right around the corner  \"\n",
    "print(poem)"
   ]
  },
  {
   "cell_type": "code",
   "execution_count": 282,
   "metadata": {},
   "outputs": [
    {
     "data": {
      "text/plain": [
       "\"It's up the stairs to the right around the corner  \""
      ]
     },
     "execution_count": 282,
     "metadata": {},
     "output_type": "execute_result"
    }
   ],
   "source": [
    "# find a method from Slide 16 to remove spaces from the left\n",
    "\n",
    "poem.lstrip()"
   ]
  },
  {
   "cell_type": "code",
   "execution_count": 283,
   "metadata": {},
   "outputs": [
    {
     "data": {
      "text/plain": [
       "\"It's up the stairs to the right around the corner\""
      ]
     },
     "execution_count": 283,
     "metadata": {},
     "output_type": "execute_result"
    }
   ],
   "source": [
    "# find a method from Slide 16 to remove both the leading and trailing spaces and\n",
    "# turn the results to be upper case. Do it in one line of code\n",
    "\n",
    "poem.strip()"
   ]
  },
  {
   "cell_type": "code",
   "execution_count": 284,
   "metadata": {},
   "outputs": [
    {
     "data": {
      "text/plain": [
       "\"    It's up the stairs to the right around the corner  \""
      ]
     },
     "execution_count": 284,
     "metadata": {},
     "output_type": "execute_result"
    }
   ],
   "source": [
    "# Check whether the string poem has changed or not\n",
    "poem"
   ]
  },
  {
   "cell_type": "code",
   "execution_count": 285,
   "metadata": {},
   "outputs": [
    {
     "data": {
      "text/plain": [
       "\"It's up the stairs to the right around the corner\""
      ]
     },
     "execution_count": 285,
     "metadata": {},
     "output_type": "execute_result"
    }
   ],
   "source": [
    "# Remove both the leading and trailing spaces and save the result to a new variable poem_clean\n",
    "\n",
    "# print out poem_clean to comform it has no leading and training spaces\n",
    "\n",
    "poem_clean = poem.strip()\n",
    "poem_clean"
   ]
  },
  {
   "cell_type": "code",
   "execution_count": 286,
   "metadata": {},
   "outputs": [
    {
     "data": {
      "text/plain": [
       "'This strings has meaningless characters on both ends '"
      ]
     },
     "execution_count": 286,
     "metadata": {},
     "output_type": "execute_result"
    }
   ],
   "source": [
    "# Remove # at the beginning and end of the following string.\n",
    "test_str = '####This strings has meaningless characters on both ends #######'\n",
    "\n",
    "test_str.strip('#')"
   ]
  },
  {
   "cell_type": "code",
   "execution_count": 287,
   "metadata": {},
   "outputs": [
    {
     "data": {
      "text/plain": [
       "'####This strings has meaningless characters on both ends '"
      ]
     },
     "execution_count": 287,
     "metadata": {},
     "output_type": "execute_result"
    }
   ],
   "source": [
    "# Remove # at the end of test_str.\n",
    "test_str.rstrip('#')"
   ]
  },
  {
   "cell_type": "markdown",
   "metadata": {},
   "source": [
    "### Now You Try 1"
   ]
  },
  {
   "cell_type": "code",
   "execution_count": 288,
   "metadata": {},
   "outputs": [
    {
     "name": "stdout",
     "output_type": "stream",
     "text": [
      "55\n"
     ]
    }
   ],
   "source": [
    "poem = \"    It's up the stairs to the right around the corner  \"\n",
    "# Get the length of poem and print it out\n",
    "print(len(poem))"
   ]
  },
  {
   "cell_type": "code",
   "execution_count": 289,
   "metadata": {},
   "outputs": [
    {
     "data": {
      "text/plain": [
       "\"It's up the stairs to the right around the corner\""
      ]
     },
     "execution_count": 289,
     "metadata": {},
     "output_type": "execute_result"
    }
   ],
   "source": [
    "# Use string slicing to get rid of the leading and trailing spaces in poem\n",
    "# You can count to get the indexes\n",
    "poem[4:53]"
   ]
  },
  {
   "cell_type": "code",
   "execution_count": 290,
   "metadata": {},
   "outputs": [
    {
     "data": {
      "text/plain": [
       "False"
      ]
     },
     "execution_count": 290,
     "metadata": {},
     "output_type": "execute_result"
    }
   ],
   "source": [
    "# Check if poem has only characters of letters and digits\n",
    "poem.isalnum()"
   ]
  },
  {
   "cell_type": "markdown",
   "metadata": {},
   "source": [
    "### Methods working with substrings"
   ]
  },
  {
   "cell_type": "code",
   "execution_count": 291,
   "metadata": {},
   "outputs": [
    {
     "data": {
      "text/plain": [
       "True"
      ]
     },
     "execution_count": 291,
     "metadata": {},
     "output_type": "execute_result"
    }
   ],
   "source": [
    "# Use a method on slide 20 to check whether string starts with letter \"H\"\n",
    "string = \"Hello\"\n",
    "\n",
    "string.startswith('H')"
   ]
  },
  {
   "cell_type": "code",
   "execution_count": 292,
   "metadata": {},
   "outputs": [
    {
     "data": {
      "text/plain": [
       "False"
      ]
     },
     "execution_count": 292,
     "metadata": {},
     "output_type": "execute_result"
    }
   ],
   "source": [
    "# Use a method on slide 20 to check whether string ends with letter \"o\"\n",
    "\n",
    "string.endswith('O')"
   ]
  },
  {
   "cell_type": "code",
   "execution_count": 293,
   "metadata": {},
   "outputs": [
    {
     "data": {
      "text/plain": [
       "-1"
      ]
     },
     "execution_count": 293,
     "metadata": {},
     "output_type": "execute_result"
    }
   ],
   "source": [
    "# Use a method on slide 20 to find the index of word \"stairs\" in string 'poem'.\n",
    "# What does that number mean?\n",
    "\n",
    "'poem'.find('stairs')\n",
    "\n",
    "# number means that the substring doesn't exist"
   ]
  },
  {
   "cell_type": "code",
   "execution_count": 294,
   "metadata": {},
   "outputs": [
    {
     "data": {
      "text/plain": [
       "-1"
      ]
     },
     "execution_count": 294,
     "metadata": {},
     "output_type": "execute_result"
    }
   ],
   "source": [
    "# Use a method on slide 20 to find the index of word \"elevator\" in string 'poem'.\n",
    "# What does that number mean?\n",
    "\n",
    "'poem'.find('elevator')\n",
    "\n",
    "# -1 means substring dne"
   ]
  },
  {
   "cell_type": "code",
   "execution_count": 295,
   "metadata": {},
   "outputs": [
    {
     "data": {
      "text/plain": [
       "'Heppo'"
      ]
     },
     "execution_count": 295,
     "metadata": {},
     "output_type": "execute_result"
    }
   ],
   "source": [
    "string = \"Hello\"\n",
    "# Use a method on slide 20 to replace the letters l with p in the string\n",
    "string.replace('l', 'p')"
   ]
  },
  {
   "cell_type": "code",
   "execution_count": 296,
   "metadata": {},
   "outputs": [
    {
     "data": {
      "text/plain": [
       "\"Some say the world will end in fire, Some say in ice.   From what I've tasted of desire\""
      ]
     },
     "execution_count": 296,
     "metadata": {},
     "output_type": "execute_result"
    }
   ],
   "source": [
    "# In the following string, backslash \\ is used for two purposes:\n",
    "# 1. use \\ to write a string in multiple lines.\n",
    "# 2. use \\ as an escape character so you can use single quote in a string enclosed in single quotes\n",
    "frost = 'Some say the world will end in fire, \\\n",
    "Some say in ice. \\\n",
    "  From what I\\'ve tasted of desire'\n",
    "frost"
   ]
  },
  {
   "cell_type": "code",
   "execution_count": 297,
   "metadata": {},
   "outputs": [
    {
     "data": {
      "text/plain": [
       "2"
      ]
     },
     "execution_count": 297,
     "metadata": {},
     "output_type": "execute_result"
    }
   ],
   "source": [
    "# count the number of 'some' in frost no matter the case\n",
    "\n",
    "frost.lower().count('some')"
   ]
  },
  {
   "cell_type": "markdown",
   "metadata": {},
   "source": [
    "### Now You Try 2"
   ]
  },
  {
   "cell_type": "code",
   "execution_count": 298,
   "metadata": {},
   "outputs": [
    {
     "data": {
      "text/plain": [
       "49"
      ]
     },
     "execution_count": 298,
     "metadata": {},
     "output_type": "execute_result"
    }
   ],
   "source": [
    "# For the following variable string,\n",
    "string = 'Return-Path: <postmaster@collab.sakaiproject.org>'\n",
    "# Get the length of the string\n",
    "len(string)"
   ]
  },
  {
   "cell_type": "code",
   "execution_count": 299,
   "metadata": {},
   "outputs": [
    {
     "data": {
      "text/plain": [
       "24"
      ]
     },
     "execution_count": 299,
     "metadata": {},
     "output_type": "execute_result"
    }
   ],
   "source": [
    "# Find the index of “@”\n",
    "string.find('@')"
   ]
  },
  {
   "cell_type": "code",
   "execution_count": 300,
   "metadata": {},
   "outputs": [
    {
     "data": {
      "text/plain": [
       "'Return-Path'"
      ]
     },
     "execution_count": 300,
     "metadata": {},
     "output_type": "execute_result"
    }
   ],
   "source": [
    "# Use slicing to get the part before “:” (Do it by finding the index of “:” as the end of slicing)\n",
    "string[:string.find(':')]"
   ]
  },
  {
   "cell_type": "code",
   "execution_count": 301,
   "metadata": {},
   "outputs": [
    {
     "data": {
      "text/plain": [
       "'Return-Path: <postmaster@collab_sakaiproject_org>'"
      ]
     },
     "execution_count": 301,
     "metadata": {},
     "output_type": "execute_result"
    }
   ],
   "source": [
    "# Replace “.” with “_”\n",
    "string.replace('.', '_')"
   ]
  },
  {
   "cell_type": "code",
   "execution_count": 302,
   "metadata": {},
   "outputs": [
    {
     "data": {
      "text/plain": [
       "'POSTMASTER@COLLAB.SAKAIPROJECT.ORG'"
      ]
     },
     "execution_count": 302,
     "metadata": {},
     "output_type": "execute_result"
    }
   ],
   "source": [
    "# Get the email address using lstrip() and rstrip().Turn the result to uppercase.\n",
    "# string.lstrip(':<').rstrip('>').upper()\n",
    "# Output:\n",
    "# 'RETURN-PATH: <POSTMASTER@COLLAB.SAKAIPROJECT.ORG'\n",
    "# I don't think lstrip can slice the string like requested.\n",
    "\n",
    "string[string.index('<') + 1:].rstrip('>').upper()"
   ]
  },
  {
   "cell_type": "code",
   "execution_count": 303,
   "metadata": {},
   "outputs": [
    {
     "data": {
      "text/plain": [
       "\"Your time is limited, so don't waste it living someone else's life.        Don't be trapped by dogma – which is living with the results of         other people's thinking.\""
      ]
     },
     "execution_count": 303,
     "metadata": {},
     "output_type": "execute_result"
    }
   ],
   "source": [
    "# Use this string for the following exercise\n",
    "quote = 'Your time is limited, so don\\'t waste it living someone else\\'s life.\\\n",
    "        Don\\'t be trapped by dogma – which is living with the results of \\\n",
    "        other people\\'s thinking.'\n",
    "quote"
   ]
  },
  {
   "cell_type": "code",
   "execution_count": 304,
   "metadata": {},
   "outputs": [
    {
     "data": {
      "text/plain": [
       "\"Your time is limited, so don't waste it living someone else's life. Don't be trapped by dogma – which is living with the results of  other people's thinking.\""
      ]
     },
     "execution_count": 304,
     "metadata": {},
     "output_type": "execute_result"
    }
   ],
   "source": [
    "# can you remove the extra spaces in the middle using replace()?\n",
    "# Save the result in variable new_quote. Display it\n",
    "\n",
    "import re\n",
    "new_quote = quote.replace('        ', ' ')\n",
    "# I didn't like the hardcoded space requirement, so I spent an hour learning regex @\n",
    "# https://regexone.com/\n",
    "# Appreciate the new skill I just picked up\n",
    "# new_quote = re.sub('\\s\\s+', ' ', quote) #Replaces 2+ whitespace characters with 1 ' ' (space)\n",
    "new_quote"
   ]
  },
  {
   "cell_type": "code",
   "execution_count": 305,
   "metadata": {},
   "outputs": [
    {
     "data": {
      "text/plain": [
       "\"Your time is limited, so don't waste it living someone else's life. Don't be trapped by dogma – which is living with the results of other people's thinking.\""
      ]
     },
     "execution_count": 305,
     "metadata": {},
     "output_type": "execute_result"
    }
   ],
   "source": [
    "# You can use while loop and replace() to remove spaces in the middle of a string in a more generic case.\n",
    "# Try it and it's OK to not find a solution. This is just for fun\n",
    "\n",
    "# Replaces 2+ whitespace characters with 1 ' ' (space)\n",
    "new_quote = re.sub('\\s\\s+', ' ', quote)\n",
    "new_quote"
   ]
  },
  {
   "cell_type": "code",
   "execution_count": 306,
   "metadata": {},
   "outputs": [
    {
     "name": "stdout",
     "output_type": "stream",
     "text": [
      "Your time is limited, so don't waste it living someone else's life.\n",
      "Don't be trapped by dogma – which is living with the results of other people's thinking.\n"
     ]
    }
   ],
   "source": [
    "# find out how many sentences are there in the new_quote. Can yu extract out each sentence?\n",
    "# No need to use loop since there are only a few sentences\n",
    "\n",
    "quote.count('.')\n",
    "\n",
    "sentences = re.findall(' ?([^\\.\\?!]*[\\.\\?!])', new_quote)\n",
    "# This is so cool!!!!\n",
    "# ? #Is an optional leading space character\n",
    "# ( # Start capture group // this is important since find all returns a list of what is captured not matched,\n",
    "# [^\\.\\?!]* stream of 0 or more characters that are not: '.','?', or '!'\n",
    "# [\\.\\?!] a single character of '.','?', or '!'\n",
    "# )\n",
    "\n",
    "# In essence anything that falls within the range from an optional space character to an ending character gets captured.\n",
    "# This regex captures '\\n' as a part of the sentence, so any multi lines sentence would be split up.\n",
    "# This still works incredibly well if you just replace new lines with a space character.\n",
    "for sentence in sentences:\n",
    "    print(sentence)"
   ]
  },
  {
   "cell_type": "code",
   "execution_count": 307,
   "metadata": {},
   "outputs": [],
   "source": [
    "# You can use a while loop to get all the sentences in a string. This is just for fun\n",
    "\n",
    "# This was very fun, thank you."
   ]
  },
  {
   "cell_type": "markdown",
   "metadata": {},
   "source": [
    "## Datetime"
   ]
  },
  {
   "cell_type": "code",
   "execution_count": 363,
   "metadata": {},
   "outputs": [],
   "source": [
    "# Import the modules when using datetime in Python\n",
    "from datetime import date, time, datetime, timedelta"
   ]
  },
  {
   "cell_type": "code",
   "execution_count": 309,
   "metadata": {},
   "outputs": [
    {
     "data": {
      "text/plain": [
       "datetime.date(1969, 12, 31)"
      ]
     },
     "execution_count": 309,
     "metadata": {},
     "output_type": "execute_result"
    }
   ],
   "source": [
    "# Get the earliest date in Python\n",
    "\n",
    "# date.min\n",
    "# The epoch\n",
    "date.fromtimestamp(0)"
   ]
  },
  {
   "cell_type": "code",
   "execution_count": 310,
   "metadata": {},
   "outputs": [
    {
     "data": {
      "text/plain": [
       "datetime.time(0, 0)"
      ]
     },
     "execution_count": 310,
     "metadata": {},
     "output_type": "execute_result"
    }
   ],
   "source": [
    "# Get the earliest time in Python\n",
    "\n",
    "time.min"
   ]
  },
  {
   "cell_type": "code",
   "execution_count": 311,
   "metadata": {},
   "outputs": [
    {
     "data": {
      "text/plain": [
       "datetime.datetime(1969, 12, 31, 19, 0)"
      ]
     },
     "execution_count": 311,
     "metadata": {},
     "output_type": "execute_result"
    }
   ],
   "source": [
    "# Get the earliest date and time in Python\n",
    "\n",
    "datetime.fromtimestamp(0)"
   ]
  },
  {
   "cell_type": "code",
   "execution_count": 312,
   "metadata": {},
   "outputs": [
    {
     "data": {
      "text/plain": [
       "datetime.date(2020, 1, 31)"
      ]
     },
     "execution_count": 312,
     "metadata": {},
     "output_type": "execute_result"
    }
   ],
   "source": [
    "# create a date of 1/31/2020 using date()\n",
    "\n",
    "make_date = date(2020, 1, 31)\n",
    "make_date"
   ]
  },
  {
   "cell_type": "code",
   "execution_count": 313,
   "metadata": {},
   "outputs": [
    {
     "data": {
      "text/plain": [
       "4"
      ]
     },
     "execution_count": 313,
     "metadata": {},
     "output_type": "execute_result"
    }
   ],
   "source": [
    "# Get the weekday. What does this returned number stand for?\n",
    "\n",
    "make_date.weekday()\n",
    "\n",
    "# index of week\n",
    "# monday == 0\n",
    "# returns 4\n",
    "# 4 == Friday"
   ]
  },
  {
   "cell_type": "code",
   "execution_count": 314,
   "metadata": {},
   "outputs": [
    {
     "data": {
      "text/plain": [
       "5"
      ]
     },
     "execution_count": 314,
     "metadata": {},
     "output_type": "execute_result"
    }
   ],
   "source": [
    "# Get the weekday using isoweekday()\n",
    "\n",
    "make_date.isoweekday()\n",
    "\n",
    "# iso weekday is 1 based"
   ]
  },
  {
   "cell_type": "code",
   "execution_count": 315,
   "metadata": {},
   "outputs": [
    {
     "data": {
      "text/plain": [
       "datetime.time(13, 14, 31)"
      ]
     },
     "execution_count": 315,
     "metadata": {},
     "output_type": "execute_result"
    }
   ],
   "source": [
    "# Create time of 13:14:31\n",
    "sometime = time(13, 14, 31)\n",
    "sometime"
   ]
  },
  {
   "cell_type": "code",
   "execution_count": 316,
   "metadata": {},
   "outputs": [
    {
     "data": {
      "text/plain": [
       "13"
      ]
     },
     "execution_count": 316,
     "metadata": {},
     "output_type": "execute_result"
    }
   ],
   "source": [
    "# Get the hour from the time just created\n",
    "\n",
    "sometime.hour"
   ]
  },
  {
   "cell_type": "code",
   "execution_count": 317,
   "metadata": {},
   "outputs": [
    {
     "data": {
      "text/plain": [
       "31"
      ]
     },
     "execution_count": 317,
     "metadata": {},
     "output_type": "execute_result"
    }
   ],
   "source": [
    "# Get the seconds from the time just created\n",
    "\n",
    "sometime.second"
   ]
  },
  {
   "cell_type": "code",
   "execution_count": 318,
   "metadata": {},
   "outputs": [],
   "source": [
    "# Create the current datetime using now(). Save it to variable dt_now\n",
    "\n",
    "dt_now = datetime.now()"
   ]
  },
  {
   "cell_type": "code",
   "execution_count": 319,
   "metadata": {},
   "outputs": [
    {
     "data": {
      "text/plain": [
       "351589"
      ]
     },
     "execution_count": 319,
     "metadata": {},
     "output_type": "execute_result"
    }
   ],
   "source": [
    "# Get the number of microsecond in dt_now. You can also get year, month, day, etc.\n",
    "\n",
    "dt_now.microsecond"
   ]
  },
  {
   "cell_type": "code",
   "execution_count": 320,
   "metadata": {},
   "outputs": [
    {
     "data": {
      "text/plain": [
       "4"
      ]
     },
     "execution_count": 320,
     "metadata": {},
     "output_type": "execute_result"
    }
   ],
   "source": [
    "# Get the weekday of dt_now\n",
    "\n",
    "dt_now.weekday()"
   ]
  },
  {
   "cell_type": "code",
   "execution_count": 321,
   "metadata": {},
   "outputs": [],
   "source": [
    "# Create a time delta of 1 day, 1.5 hours and 3 minutes. Use keyword arguments. Store it to td\n",
    "\n",
    "td = timedelta(days=1, hours=1.5, minutes=3)"
   ]
  },
  {
   "cell_type": "code",
   "execution_count": 322,
   "metadata": {},
   "outputs": [
    {
     "data": {
      "text/plain": [
       "datetime.datetime(2023, 9, 30, 13, 45, 51, 351589)"
      ]
     },
     "execution_count": 322,
     "metadata": {},
     "output_type": "execute_result"
    }
   ],
   "source": [
    "# Add the timedelta to dt_now\n",
    "dt_now + td"
   ]
  },
  {
   "cell_type": "code",
   "execution_count": 323,
   "metadata": {},
   "outputs": [
    {
     "data": {
      "text/plain": [
       "datetime.timedelta(days=1002, seconds=43971, microseconds=351589)"
      ]
     },
     "execution_count": 323,
     "metadata": {},
     "output_type": "execute_result"
    }
   ],
   "source": [
    "# Find the difference between 12/31/2020 and dt_now. Save it to variable diff\n",
    "\n",
    "diff = dt_now - datetime(2020, 12, 31)\n",
    "diff"
   ]
  },
  {
   "cell_type": "code",
   "execution_count": 324,
   "metadata": {},
   "outputs": [
    {
     "data": {
      "text/plain": [
       "datetime.timedelta(days=1003, seconds=49551, microseconds=351589)"
      ]
     },
     "execution_count": 324,
     "metadata": {},
     "output_type": "execute_result"
    }
   ],
   "source": [
    "# Add diff and td. What do you get?\n",
    "\n",
    "diff + td"
   ]
  },
  {
   "cell_type": "markdown",
   "metadata": {},
   "source": [
    "### Now You Try 3"
   ]
  },
  {
   "cell_type": "code",
   "execution_count": 325,
   "metadata": {},
   "outputs": [
    {
     "data": {
      "text/plain": [
       "datetime.datetime(2023, 10, 22, 12, 22, 55, 404752)"
      ]
     },
     "execution_count": 325,
     "metadata": {},
     "output_type": "execute_result"
    }
   ],
   "source": [
    "# Get the current time. Add 23 days 10 minutes 4 seconds to it.\n",
    "# and save the result to a variable “later”. Display later\n",
    "\n",
    "later = datetime.now() + timedelta(days=23, minutes=10, seconds=4)\n",
    "later"
   ]
  },
  {
   "cell_type": "code",
   "execution_count": 326,
   "metadata": {},
   "outputs": [],
   "source": [
    "# Create a function named get_weekday_name(). It takes an integer argument from 0 to 6 and returns\n",
    "# Monday for 0, Tuesday for 1, and so on for all 7 days in a week.\n",
    "\n",
    "def get_weekday_name(weekday):\n",
    "    weekdays = [\"Monday\", \"Tuesday\", \"Wednesday\",\n",
    "                \"Thursday\", \"Friday\", \"Saturday\", \"Sunday\"]\n",
    "    if weekday >= len(weekdays):\n",
    "        return None\n",
    "\n",
    "    return weekdays[weekday]"
   ]
  },
  {
   "cell_type": "code",
   "execution_count": 327,
   "metadata": {},
   "outputs": [
    {
     "data": {
      "text/plain": [
       "'Sunday'"
      ]
     },
     "execution_count": 327,
     "metadata": {},
     "output_type": "execute_result"
    }
   ],
   "source": [
    "# Get the weekday of “later” using weekday(), pass it to the function\n",
    "# get_weekday_name to print out the weekday name\n",
    "\n",
    "get_weekday_name(later.weekday())"
   ]
  },
  {
   "cell_type": "code",
   "execution_count": 328,
   "metadata": {},
   "outputs": [
    {
     "data": {
      "text/plain": [
       "86"
      ]
     },
     "execution_count": 328,
     "metadata": {},
     "output_type": "execute_result"
    }
   ],
   "source": [
    "# Get the number of days from now to Christmas 2023\n",
    "\n",
    "christmas = datetime(2023, 12, 25)\n",
    "\n",
    "(christmas - datetime.now()).days"
   ]
  },
  {
   "cell_type": "markdown",
   "metadata": {},
   "source": [
    "## Datetime and string representation\n",
    "### Datetime to String"
   ]
  },
  {
   "cell_type": "code",
   "execution_count": 329,
   "metadata": {},
   "outputs": [
    {
     "data": {
      "text/plain": [
       "'Friday'"
      ]
     },
     "execution_count": 329,
     "metadata": {},
     "output_type": "execute_result"
    }
   ],
   "source": [
    "# Use the format strings displayed on this page\n",
    "# https://docs.python.org/3/library/datetime.html#strftime-and-strptime-behavior\n",
    "# Get the full name of the weekday of dt_now\n",
    "dt_now.strftime('%A')  # Get full name of a weekday"
   ]
  },
  {
   "cell_type": "code",
   "execution_count": 330,
   "metadata": {},
   "outputs": [
    {
     "data": {
      "text/plain": [
       "'September'"
      ]
     },
     "execution_count": 330,
     "metadata": {},
     "output_type": "execute_result"
    }
   ],
   "source": [
    "# Get the full month name\n",
    "dt_now.strftime(\"%B\")"
   ]
  },
  {
   "cell_type": "code",
   "execution_count": 331,
   "metadata": {},
   "outputs": [
    {
     "data": {
      "text/plain": [
       "'2023'"
      ]
     },
     "execution_count": 331,
     "metadata": {},
     "output_type": "execute_result"
    }
   ],
   "source": [
    "# Get the 4-digit year\n",
    "dt_now.strftime(\"%Y\")"
   ]
  },
  {
   "cell_type": "code",
   "execution_count": 332,
   "metadata": {},
   "outputs": [
    {
     "data": {
      "text/plain": [
       "'PM'"
      ]
     },
     "execution_count": 332,
     "metadata": {},
     "output_type": "execute_result"
    }
   ],
   "source": [
    "# Get AM or PM of the time\n",
    "\n",
    "dt_now.strftime(\"%p\")"
   ]
  },
  {
   "cell_type": "code",
   "execution_count": 333,
   "metadata": {},
   "outputs": [
    {
     "data": {
      "text/plain": [
       "'12'"
      ]
     },
     "execution_count": 333,
     "metadata": {},
     "output_type": "execute_result"
    }
   ],
   "source": [
    "# Get hour in the scale from 0 to 23\n",
    "\n",
    "dt_now.strftime(\"%H\")"
   ]
  },
  {
   "cell_type": "code",
   "execution_count": 334,
   "metadata": {},
   "outputs": [
    {
     "data": {
      "text/plain": [
       "'09/29/2023 12:12:51'"
      ]
     },
     "execution_count": 334,
     "metadata": {},
     "output_type": "execute_result"
    }
   ],
   "source": [
    "# Convert the entire dt_now to string representation like 01/01/2000 23:00:01\n",
    "# When building the format string, keep characters such as /, : and space.\n",
    "dt_now.strftime('%m/%d/%Y %H:%M:%S')"
   ]
  },
  {
   "cell_type": "code",
   "execution_count": 335,
   "metadata": {},
   "outputs": [
    {
     "data": {
      "text/plain": [
       "'09-29-2023 12:12:51'"
      ]
     },
     "execution_count": 335,
     "metadata": {},
     "output_type": "execute_result"
    }
   ],
   "source": [
    "# Convert the entire dt_now to string representation like 01-01-2000 23:00:01\n",
    "dt_now.strftime('%m-%d-%Y %H:%M:%S')"
   ]
  },
  {
   "cell_type": "code",
   "execution_count": 336,
   "metadata": {},
   "outputs": [
    {
     "data": {
      "text/plain": [
       "'29/09/2023 12:12:51'"
      ]
     },
     "execution_count": 336,
     "metadata": {},
     "output_type": "execute_result"
    }
   ],
   "source": [
    "# Convert the entire dt_now to string representation like 01/01/00 23:00:01 (day-month-year)\n",
    "\n",
    "dt_now.strftime('%d/%m/%Y %H:%M:%S')"
   ]
  },
  {
   "cell_type": "code",
   "execution_count": 345,
   "metadata": {},
   "outputs": [
    {
     "data": {
      "text/plain": [
       "'September 29, 2023 Fri 12:12:51 PM'"
      ]
     },
     "execution_count": 345,
     "metadata": {},
     "output_type": "execute_result"
    }
   ],
   "source": [
    "# Convert the entire dt_now to string representation like January 01, 2000 Sat 23:00:01 PM\n",
    "\n",
    "dt_now.strftime('%B %d, %Y %a %H:%M:%S %p')"
   ]
  },
  {
   "cell_type": "markdown",
   "metadata": {},
   "source": [
    "### String to DateTime"
   ]
  },
  {
   "cell_type": "code",
   "execution_count": 346,
   "metadata": {},
   "outputs": [
    {
     "data": {
      "text/plain": [
       "datetime.datetime(2020, 8, 4, 14, 45, 37)"
      ]
     },
     "execution_count": 346,
     "metadata": {},
     "output_type": "execute_result"
    }
   ],
   "source": [
    "# Convert a datetime in string format to a datetime object\n",
    "# With the following date_string, create a format string to match its format in format_string\n",
    "# Carefully represent each element in the date_string with a format string. Keep characters\n",
    "# such as -, : and space\n",
    "date_string = \"2020-08-04 14:45:37\"\n",
    "format_string = \"%Y-%m-%d %H:%M:%S\"\n",
    "\n",
    "# pass both the date_string and format_string to strptime to convert it to a datetime object\n",
    "datetime.strptime(date_string, format_string)"
   ]
  },
  {
   "cell_type": "code",
   "execution_count": 354,
   "metadata": {},
   "outputs": [
    {
     "data": {
      "text/plain": [
       "datetime.datetime(2020, 12, 30, 10, 33)"
      ]
     },
     "execution_count": 354,
     "metadata": {},
     "output_type": "execute_result"
    }
   ],
   "source": [
    "# Conver the following date string to a datetime object\n",
    "date_string2 = 'Wednesday, December 30, 2020 10:33'\n",
    "format_string2 = '%A, %B %d, %Y %H:%M'\n",
    "\n",
    "datetime.strptime(date_string2, format_string2)"
   ]
  },
  {
   "cell_type": "markdown",
   "metadata": {},
   "source": [
    "### Now You Try 4"
   ]
  },
  {
   "cell_type": "code",
   "execution_count": 355,
   "metadata": {},
   "outputs": [
    {
     "data": {
      "text/plain": [
       "'2023/10/22, Oct, 22, Sunday, 12|22|55|PM'"
      ]
     },
     "execution_count": 355,
     "metadata": {},
     "output_type": "execute_result"
    }
   ],
   "source": [
    "# Use the datetime object 'later' created before, print it out as a string like this:\n",
    "# '2021/03/29, Mar, 29, Monday, 23|29|41|PM' using strftime(). Use the URL:\n",
    "# https://docs.python.org/3/library/datetime.html#strftime-and-strptime-behavior\n",
    "\n",
    "later.strftime('%Y/%m/%d, %b, %d, %A, %H|%M|%S|%p')"
   ]
  },
  {
   "cell_type": "code",
   "execution_count": 357,
   "metadata": {},
   "outputs": [
    {
     "data": {
      "text/plain": [
       "datetime.datetime(1968, 8, 19, 11, 25, 16)"
      ]
     },
     "execution_count": 357,
     "metadata": {},
     "output_type": "execute_result"
    }
   ],
   "source": [
    "# Convert the following string to a datetime object use strptime()\n",
    "date_str = '1968/8/19 11:25:16'\n",
    "f_string = ('%Y/%m/%d %H:%M:%S')\n",
    "\n",
    "datetime.strptime(date_str, f_string)"
   ]
  },
  {
   "cell_type": "code",
   "execution_count": 374,
   "metadata": {},
   "outputs": [
    {
     "data": {
      "text/plain": [
       "3"
      ]
     },
     "execution_count": 374,
     "metadata": {},
     "output_type": "execute_result"
    }
   ],
   "source": [
    "# Write a function to count the number of Mondays of the 1st day of the month\n",
    "# any year passed in as a integer. Make 2021 as the default value of the parameter\n",
    "# How many are there for 2019, 2020 and 2021?\n",
    "def count_mondays(year=2021):\n",
    "    mondays = 0\n",
    "    dates = []\n",
    "    for month in range(1, 13):\n",
    "        dates.append(date(year, month=month, day=1))\n",
    "    for day in dates:\n",
    "        if day.weekday() == 0:\n",
    "            mondays += 1\n",
    "\n",
    "    return mondays\n",
    "\n",
    "\n",
    "count_mondays()"
   ]
  }
 ],
 "metadata": {
  "kernelspec": {
   "display_name": "Python 3",
   "language": "python",
   "name": "python3"
  },
  "language_info": {
   "codemirror_mode": {
    "name": "ipython",
    "version": 3
   },
   "file_extension": ".py",
   "mimetype": "text/x-python",
   "name": "python",
   "nbconvert_exporter": "python",
   "pygments_lexer": "ipython3",
   "version": "3.11.3"
  }
 },
 "nbformat": 4,
 "nbformat_minor": 4
}
